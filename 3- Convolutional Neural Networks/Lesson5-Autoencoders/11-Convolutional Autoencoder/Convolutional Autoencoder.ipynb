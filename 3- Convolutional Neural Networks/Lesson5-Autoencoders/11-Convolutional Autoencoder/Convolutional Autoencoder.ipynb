{
 "cells": [
  {
   "cell_type": "markdown",
   "metadata": {},
   "source": [
    "##### Convolutional Autoencoder\n",
    "Sticking with the MNIST dataset, let's improve our autoencoder's performance using convolutional layers. We'll build a convolutional autoencoder to compress the MNIST dataset. \n",
    "\n",
    ">The encoder portion will be made of convolutional and pooling layers and the decoder will be made of **transpose convolutional layers** that learn to \"upsample\" a compressed representation.\n",
    "\n",
    "##### Compressed Representation\n",
    "\n",
    "A compressed representation can be great for saving and sharing any kind of data in a way that is more efficient than storing raw data. In practice, the compressed representation often holds key information about an input image and we can use it for denoising images or other kinds of reconstruction and transformation!\n",
    "\n",
    "Let's get started by importing our libraries and getting the dataset."
   ]
  },
  {
   "cell_type": "code",
   "execution_count": 1,
   "metadata": {},
   "outputs": [],
   "source": [
    "#Import Libraries\n",
    "import torch\n",
    "import numpy as np\n",
    "from torchvision import datasets\n",
    "import torchvision.transforms as transforms\n",
    "\n",
    "#Convert data to torch.FloatTensor\n",
    "transform=transforms.ToTensor()\n",
    "\n",
    "#Load the training and test datasets\n",
    "train_data=datasets.MNIST(root='data',train=True,download=True,transform=transform)\n",
    "test_data=datasets.MNIST(root='data',train=False,download=True,transform=transform)"
   ]
  },
  {
   "cell_type": "code",
   "execution_count": 2,
   "metadata": {},
   "outputs": [],
   "source": [
    "#Create training and test dataloaders\n",
    "\n",
    "num_workers=0\n",
    "#How many samples per batch to load\n",
    "batch_size=20\n",
    "\n",
    "#Prepare data loaders\n",
    "train_loader=torch.utils.data.DataLoader(train_data,batch_size=batch_size,num_workers=num_workers)\n",
    "test_loader=torch.utils.data.DataLoader(test_data,batch_size=batch_size,num_workers=num_workers)"
   ]
  },
  {
   "cell_type": "markdown",
   "metadata": {},
   "source": [
    "##### Visualize the Data"
   ]
  },
  {
   "cell_type": "code",
   "execution_count": 3,
   "metadata": {},
   "outputs": [
    {
     "data": {
      "text/plain": [
       "<matplotlib.image.AxesImage at 0x11f52be10>"
      ]
     },
     "execution_count": 3,
     "metadata": {},
     "output_type": "execute_result"
    },
    {
     "data": {
      "image/png": "[encoded data removed]",
      "text/plain": [
       "<Figure size 360x360 with 1 Axes>"
      ]
     },
     "metadata": {
      "needs_background": "light"
     },
     "output_type": "display_data"
    }
   ],
   "source": [
    "import matplotlib.pyplot as plt\n",
    "%matplotlib inline\n",
    "    \n",
    "#obtain one batch of training images\n",
    "dataiter=iter(train_loader)\n",
    "images,labels=dataiter.next()\n",
    "images=images.numpy()\n",
    "\n",
    "#Get one image from the batch\n",
    "img=np.squeeze(images[0])\n",
    "\n",
    "fig=plt.figure(figsize=(5,5)) \n",
    "ax=fig.add_subplot(111)\n",
    "ax.imshow(img,cmap='gray')"
   ]
  },
  {
   "cell_type": "markdown",
   "metadata": {},
   "source": [
    "##### Convolutional  Autoencoder\n",
    "\n",
    "##### Encoder\n",
    "The encoder part of the network will be a typical convolutional pyramid. Each convolutional layer will be followed by a max-pooling layer to reduce the dimensions of the layers. \n",
    "\n",
    "##### Decoder\n",
    "\n",
    "The decoder though might be something new to you. The decoder needs to convert from a narrow representation to a wide, reconstructed image. For example, the representation could be a 7x7x4 max-pool layer. This is the output of the encoder, but also the input to the decoder. We want to get a 28x28x1 image out from the decoder so we need to work our way back up from the compressed representation. A schematic of the network is shown below.\n",
    "\n",
    "\n",
    "Here our final encoder layer has size 7x7x4 = 196. The original images have size 28x28 = 784, so the encoded vector is 25% the size of the original image. These are just suggested sizes for each of the layers. Feel free to change the depths and sizes, in fact, you're encouraged to add additional layers to make this representation even smaller! Remember our goal here is to find a small representation of the input data.\n",
    "\n",
    "##### Transpose Convolutions, Decoder\n",
    "\n",
    "This decoder uses **transposed convolutional** layers to increase the width and height of the input layers. They work almost exactly the same as convolutional layers, but in reverse. A stride in the input layer results in a larger stride in the transposed convolution layer. For example, if you have a 3x3 kernel, a 3x3 patch in the input layer will be reduced to one unit in a convolutional layer. Comparatively, one unit in the input layer will be expanded to a 3x3 path in a transposed convolution layer. PyTorch provides us with an easy way to create the layers, [`nn.ConvTranspose2d`](https://pytorch.org/docs/stable/nn.html#convtranspose2d). \n",
    "\n",
    "It is important to note that transpose convolution layers can lead to artifacts in the final images, such as checkerboard patterns. This is due to overlap in the kernels which can be avoided by setting the stride and kernel size equal. In [this Distill article](http://distill.pub/2016/deconv-checkerboard/) from Augustus Odena, *et al*, the authors show that these checkerboard artifacts can be avoided by resizing the layers using nearest neighbor or bilinear interpolation (upsampling) followed by a convolutional layer. \n",
    "\n",
    "> We'll show this approach in another notebook, so you can experiment with it and see the difference.\n",
    "\n",
    "#### TODO: Build the network shown above. \n",
    "> Build the encoder out of a series of convolutional and pooling layers. \n",
    "> When building the decoder, recall that transpose convolutional layers can upsample an input by a factor of 2 using a stride and kernel_size of 2. "
   ]
  },
  {
   "cell_type": "code",
   "execution_count": 14,
   "metadata": {},
   "outputs": [
    {
     "name": "stdout",
     "output_type": "stream",
     "text": [
      "ConvAutoencoder(\n",
      "  (conv1): Conv2d(1, 16, kernel_size=(3, 3), stride=(1, 1), padding=(1, 1))\n",
      "  (conv2): Conv2d(16, 4, kernel_size=(3, 3), stride=(1, 1), padding=(1, 1))\n",
      "  (pool): MaxPool2d(kernel_size=2, stride=2, padding=0, dilation=1, ceil_mode=False)\n",
      "  (t_conv1): ConvTranspose2d(4, 16, kernel_size=(2, 2), stride=(2, 2))\n",
      "  (t_conv2): ConvTranspose2d(16, 1, kernel_size=(2, 2), stride=(2, 2))\n",
      ")\n"
     ]
    }
   ],
   "source": [
    "import torch.nn as nn\n",
    "import torch.nn.functional as F\n",
    "\n",
    "#Define the NN architecture\n",
    "class ConvAutoencoder(nn.Module):\n",
    "    def __init__(self):\n",
    "        super(ConvAutoencoder,self).__init__()\n",
    "        ##Encoder layers ##\n",
    "        self.conv1=nn.Conv2d(1,16,3,padding=1)\n",
    "        self.conv2=nn.Conv2d(16,4,3,padding=1)\n",
    "        self.pool=nn.MaxPool2d(2,2)\n",
    "        ##Decoder layers ##\n",
    "        ##A kernel of 2 and a stride of 2 will increase the spatial dims by 2\n",
    "        self.t_conv1=nn.ConvTranspose2d(4,16,2,stride=2)\n",
    "        self.t_conv2=nn.ConvTranspose2d(16,1,2,stride=2)\n",
    "\n",
    "    def forward(self, x):\n",
    "        ##Encode ##\n",
    "        x=F.relu(self.conv1(x))\n",
    "        x=self.pool(x)\n",
    "        x=F.relu(self.conv2(x))\n",
    "        x=self.pool(x)\n",
    "        ##Decode ##\n",
    "        ##Apply ReLu to all hidden layers *except for the output layer\n",
    "        x=F.relu(self.t_conv1(x))\n",
    "        ##Apply a sigmoid to the output layer\n",
    "        x=F.sigmoid(self.t_conv2(x))               \n",
    "        return x\n",
    "\n",
    "#Initialize the NN\n",
    "model=ConvAutoencoder()\n",
    "print(model)"
   ]
  },
  {
   "cell_type": "markdown",
   "metadata": {},
   "source": [
    "##### Training\n",
    "\n",
    "Here I'll write a bit of code to train the network. I'm not too interested in validation here, so I'll just monitor the training loss and the test loss afterwards. \n",
    "\n",
    "We are not concerned with labels in this case, just images, which we can get from the `train_loader`. Because we're comparing pixel values in input and output images, it will be best to use a loss that is meant for a regression task. Regression is all about comparing quantities rather than probabilistic values. So, in this case, I'll use `MSELoss`. And compare output images and input images as follows:\n",
    "```\n",
    "loss = criterion(outputs, images)\n",
    "```\n",
    "\n",
    "Otherwise, this is pretty straightfoward training with PyTorch. Since this is a convlutional autoencoder, our images _do not_ need to be flattened before being passed in an input to our model."
   ]
  },
  {
   "cell_type": "code",
   "execution_count": 15,
   "metadata": {},
   "outputs": [],
   "source": [
    "#Specify loss function\n",
    "criterion=nn.MSELoss()\n",
    "\n",
    "#Specify loss function\n",
    "optimizer=torch.optim.Adam(model.parameters(),lr=0.001)"
   ]
  },
  {
   "cell_type": "code",
   "execution_count": 16,
   "metadata": {},
   "outputs": [
    {
     "name": "stdout",
     "output_type": "stream",
     "text": [
      "Epoch: 1 \tTraining Loss: 0.561930\n",
      "Epoch: 2 \tTraining Loss: 0.278407\n",
      "Epoch: 3 \tTraining Loss: 0.222355\n",
      "Epoch: 4 \tTraining Loss: 0.189423\n",
      "Epoch: 5 \tTraining Loss: 0.180519\n",
      "Epoch: 6 \tTraining Loss: 0.175495\n",
      "Epoch: 7 \tTraining Loss: 0.171554\n",
      "Epoch: 8 \tTraining Loss: 0.168331\n",
      "Epoch: 9 \tTraining Loss: 0.165817\n",
      "Epoch: 10 \tTraining Loss: 0.163561\n",
      "Epoch: 11 \tTraining Loss: 0.161958\n",
      "Epoch: 12 \tTraining Loss: 0.160852\n",
      "Epoch: 13 \tTraining Loss: 0.159957\n",
      "Epoch: 14 \tTraining Loss: 0.159103\n",
      "Epoch: 15 \tTraining Loss: 0.158307\n",
      "Epoch: 16 \tTraining Loss: 0.157619\n",
      "Epoch: 17 \tTraining Loss: 0.157045\n",
      "Epoch: 18 \tTraining Loss: 0.156561\n",
      "Epoch: 19 \tTraining Loss: 0.156109\n",
      "Epoch: 20 \tTraining Loss: 0.155673\n",
      "Epoch: 21 \tTraining Loss: 0.155340\n",
      "Epoch: 22 \tTraining Loss: 0.155070\n",
      "Epoch: 23 \tTraining Loss: 0.154811\n",
      "Epoch: 24 \tTraining Loss: 0.154564\n",
      "Epoch: 25 \tTraining Loss: 0.154329\n",
      "Epoch: 26 \tTraining Loss: 0.154112\n",
      "Epoch: 27 \tTraining Loss: 0.153866\n",
      "Epoch: 28 \tTraining Loss: 0.153539\n",
      "Epoch: 29 \tTraining Loss: 0.153305\n",
      "Epoch: 30 \tTraining Loss: 0.153105\n"
     ]
    }
   ],
   "source": [
    "#Number of epochs to train the model\n",
    "n_epochs=30\n",
    "\n",
    "for epoch in range(1, n_epochs+1):\n",
    "    #Monitor training loss\n",
    "    train_loss=0.0\n",
    "    \n",
    "    #Train the model #\n",
    "    for data in train_loader:\n",
    "        # _ stands in for labels, here\n",
    "        #No need to flatten images\n",
    "        images,_=data\n",
    "        #Clear the gradients of all optimized variables\n",
    "        optimizer.zero_grad()\n",
    "        #Forward pass: compute predicted outputs by passing inputs to the model\n",
    "        outputs=model(images)\n",
    "        #Calculate the loss\n",
    "        loss=criterion(outputs,images)\n",
    "        #Backward pass: compute gradient of the loss with respect to model parameters\n",
    "        loss.backward()\n",
    "        #Perform a single optimization step (parameter update)\n",
    "        optimizer.step()\n",
    "        # update running training loss\n",
    "        train_loss+=loss.item()*images.size(0)\n",
    "            \n",
    "    #Print avg training statistics \n",
    "    train_loss=train_loss/len(train_loader)\n",
    "    print('Epoch: {} \\tTraining Loss: {:.6f}'.format(\n",
    "        epoch, \n",
    "        train_loss\n",
    "        ))"
   ]
  },
  {
   "cell_type": "markdown",
   "metadata": {},
   "source": [
    "##### Checking out the results\n",
    "\n",
    "Below I've plotted some of the test images along with their reconstructions. These look a little rough around the edges, likely due to the checkerboard effect we mentioned above that tends to happen with transpose layers."
   ]
  },
  {
   "cell_type": "code",
   "execution_count": 17,
   "metadata": {},
   "outputs": [
    {
     "data": {
      "image/png": "[encoded data removed]",
      "text/plain": [
       "<Figure size 1800x288 with 20 Axes>"
      ]
     },
     "metadata": {
      "needs_background": "light"
     },
     "output_type": "display_data"
    }
   ],
   "source": [
    "#Obtain one batch of test images\n",
    "dataiter=iter(test_loader)\n",
    "images,labels=dataiter.next()\n",
    "\n",
    "#Get sample outputs\n",
    "output=model(images)\n",
    "#Prep images for display\n",
    "images=images.numpy()\n",
    "\n",
    "#Output is resized into a batch of iages\n",
    "output=output.view(batch_size, 1, 28, 28)\n",
    "#Use detach when it's an output that requires_grad\n",
    "output=output.detach().numpy()\n",
    "\n",
    "#Plot the first ten input images and then reconstructed images\n",
    "fig,axes=plt.subplots(nrows=2,ncols=10,sharex=True,sharey=True,figsize=(25,4))\n",
    "\n",
    "#Input images on top row, reconstructions on bottom\n",
    "for images,row in zip([images,output],axes):\n",
    "    for img, ax in zip(images,row):\n",
    "        ax.imshow(np.squeeze(img), cmap='gray')\n",
    "        ax.get_xaxis().set_visible(False)\n",
    "        ax.get_yaxis().set_visible(False)"
   ]
  },
  {
   "cell_type": "code",
   "execution_count": null,
   "metadata": {},
   "outputs": [],
   "source": []
  }
 ],
 "metadata": {
  "kernelspec": {
   "display_name": "Python 3",
   "language": "python",
   "name": "python3"
  },
  "language_info": {
   "codemirror_mode": {
    "name": "ipython",
    "version": 3
   },
   "file_extension": ".py",
   "mimetype": "text/x-python",
   "name": "python",
   "nbconvert_exporter": "python",
   "pygments_lexer": "ipython3",
   "version": "3.7.4"
  }
 },
 "nbformat": 4,
 "nbformat_minor": 2
}
