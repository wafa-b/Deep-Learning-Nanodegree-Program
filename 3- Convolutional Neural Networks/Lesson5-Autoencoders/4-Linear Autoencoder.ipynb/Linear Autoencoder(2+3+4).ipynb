{
 "cells": [
  {
   "cell_type": "markdown",
   "metadata": {},
   "source": [
    "##### A Simple Autoencoder\n",
    "We'll start off by building a simple autoencoder to compress the MNIST dataset. With autoencoders, we pass input data through an encoder that makes a compressed representation of the input. Then, this representation is passed through a decoder to reconstruct the input data. Generally the encoder and decoder will be built with neural networks, then trained on example data.\n",
    "\n",
    "##### Compressed Representation\n",
    "A compressed representation can be great for saving and sharing any kind of data in a way that is more efficient than storing raw data. In practice, the compressed representation often holds key information about an input image and we can use it for denoising images or oher kinds of reconstruction and transformation!\n",
    "\n",
    "In this notebook, we'll be build a simple network architecture for the encoder and decoder. Let's get started by importing our libraries and getting the dataset."
   ]
  },
  {
   "cell_type": "code",
   "execution_count": 1,
   "metadata": {},
   "outputs": [
    {
     "name": "stderr",
     "output_type": "stream",
     "text": [
      "\r",
      "0it [00:00, ?it/s]"
     ]
    },
    {
     "name": "stdout",
     "output_type": "stream",
     "text": [
      "Downloading http://yann.lecun.com/exdb/mnist/train-images-idx3-ubyte.gz to data/MNIST/raw/train-images-idx3-ubyte.gz\n"
     ]
    },
    {
     "name": "stderr",
     "output_type": "stream",
     "text": [
      "100%|█████████▉| 9904128/9912422 [00:10<00:00, 1007793.03it/s]"
     ]
    },
    {
     "name": "stdout",
     "output_type": "stream",
     "text": [
      "Extracting data/MNIST/raw/train-images-idx3-ubyte.gz to data/MNIST/raw\n"
     ]
    },
    {
     "name": "stderr",
     "output_type": "stream",
     "text": [
      "\n",
      "0it [00:00, ?it/s]\u001b[A"
     ]
    },
    {
     "name": "stdout",
     "output_type": "stream",
     "text": [
      "Downloading http://yann.lecun.com/exdb/mnist/train-labels-idx1-ubyte.gz to data/MNIST/raw/train-labels-idx1-ubyte.gz\n"
     ]
    },
    {
     "name": "stderr",
     "output_type": "stream",
     "text": [
      "\n",
      "  0%|          | 0/28881 [00:00<?, ?it/s]\u001b[A\n",
      "32768it [00:00, 62056.61it/s]                            \u001b[A\n",
      "\n",
      "0it [00:00, ?it/s]\u001b[A"
     ]
    },
    {
     "name": "stdout",
     "output_type": "stream",
     "text": [
      "Extracting data/MNIST/raw/train-labels-idx1-ubyte.gz to data/MNIST/raw\n",
      "Downloading http://yann.lecun.com/exdb/mnist/t10k-images-idx3-ubyte.gz to data/MNIST/raw/t10k-images-idx3-ubyte.gz\n"
     ]
    },
    {
     "name": "stderr",
     "output_type": "stream",
     "text": [
      "\n",
      "  0%|          | 0/1648877 [00:00<?, ?it/s]\u001b[A\n",
      "  1%|          | 16384/1648877 [00:00<00:10, 154474.39it/s]\u001b[A\n",
      "  3%|▎         | 49152/1648877 [00:00<00:08, 180166.46it/s]\u001b[A\n",
      "  7%|▋         | 114688/1648877 [00:00<00:06, 229482.00it/s]\u001b[A\n",
      " 12%|█▏        | 204800/1648877 [00:00<00:04, 293376.48it/s]\u001b[A\n",
      " 15%|█▌        | 253952/1648877 [00:01<00:05, 278883.97it/s]\u001b[A\n",
      " 27%|██▋       | 442368/1648877 [00:01<00:03, 373824.88it/s]\u001b[A\n",
      " 34%|███▍      | 557056/1648877 [00:01<00:02, 410093.29it/s]\u001b[A\n",
      " 38%|███▊      | 630784/1648877 [00:01<00:02, 434772.75it/s]\u001b[A\n",
      " 50%|█████     | 827392/1648877 [00:01<00:01, 557077.30it/s]\u001b[A\n",
      " 56%|█████▌    | 925696/1648877 [00:01<00:01, 514288.56it/s]\u001b[A\n",
      " 65%|██████▌   | 1073152/1648877 [00:01<00:00, 637096.12it/s]\u001b[A\n",
      " 75%|███████▌  | 1236992/1648877 [00:02<00:00, 655727.74it/s]\u001b[A\n",
      " 90%|████████▉ | 1482752/1648877 [00:02<00:00, 838120.52it/s]\u001b[A\n",
      "1654784it [00:02, 662767.52it/s]                             \u001b[A\n",
      "\n",
      "0it [00:00, ?it/s]\u001b[A"
     ]
    },
    {
     "name": "stdout",
     "output_type": "stream",
     "text": [
      "Extracting data/MNIST/raw/t10k-images-idx3-ubyte.gz to data/MNIST/raw\n",
      "Downloading http://yann.lecun.com/exdb/mnist/t10k-labels-idx1-ubyte.gz to data/MNIST/raw/t10k-labels-idx1-ubyte.gz\n"
     ]
    },
    {
     "name": "stderr",
     "output_type": "stream",
     "text": [
      "\n",
      "8192it [00:00, 18831.89it/s]            \u001b[A\n"
     ]
    },
    {
     "name": "stdout",
     "output_type": "stream",
     "text": [
      "Extracting data/MNIST/raw/t10k-labels-idx1-ubyte.gz to data/MNIST/raw\n",
      "Processing...\n",
      "Done!\n"
     ]
    },
    {
     "name": "stderr",
     "output_type": "stream",
     "text": [
      "\r",
      "9920512it [00:30, 1007793.03it/s]                             "
     ]
    }
   ],
   "source": [
    "#Import Libraries\n",
    "import torch\n",
    "import numpy as np\n",
    "from torchvision import datasets\n",
    "import torchvision.transforms as transforms\n",
    "\n",
    "#Convert data to torch.FloatTensor\n",
    "transform=transforms.ToTensor()\n",
    "\n",
    "#Load the training and test datasets\n",
    "train_data=datasets.MNIST(root='data',train=True,download=True,transform=transform)\n",
    "test_data=datasets.MNIST(root='data',train=False,download=True,transform=transform)"
   ]
  },
  {
   "cell_type": "code",
   "execution_count": 2,
   "metadata": {},
   "outputs": [],
   "source": [
    "#Create training and test dataloaders\n",
    "\n",
    "#Number of subprocesses to use for data loading\n",
    "num_workers=0\n",
    "#How many samples per batch to load\n",
    "batch_size=20\n",
    "\n",
    "#Prepare data loaders\n",
    "train_loader=torch.utils.data.DataLoader(train_data,batch_size=batch_size,num_workers=num_workers)\n",
    "test_loader=torch.utils.data.DataLoader(test_data,batch_size=batch_size,num_workers=num_workers)"
   ]
  },
  {
   "cell_type": "markdown",
   "metadata": {},
   "source": [
    "##### Visualize the Data"
   ]
  },
  {
   "cell_type": "code",
   "execution_count": 3,
   "metadata": {},
   "outputs": [
    {
     "data": {
      "text/plain": [
       "<matplotlib.image.AxesImage at 0x12b2f2650>"
      ]
     },
     "execution_count": 3,
     "metadata": {},
     "output_type": "execute_result"
    },
    {
     "data": {
      "image/png": "[encoded data removed]",
      "text/plain": [
       "<Figure size 360x360 with 1 Axes>"
      ]
     },
     "metadata": {
      "needs_background": "light"
     },
     "output_type": "display_data"
    }
   ],
   "source": [
    "import matplotlib.pyplot as plt\n",
    "%matplotlib inline\n",
    "    \n",
    "#Obtain one batch of training images\n",
    "dataiter=iter(train_loader)\n",
    "images,labels=dataiter.next()\n",
    "images=images.numpy()\n",
    "\n",
    "#Get one image from the batch\n",
    "img=np.squeeze(images[0])\n",
    "\n",
    "fig=plt.figure(figsize=(5,5)) \n",
    "ax=fig.add_subplot(111)\n",
    "ax.imshow(img,cmap='gray')"
   ]
  },
  {
   "cell_type": "markdown",
   "metadata": {},
   "source": [
    "##### Linear Autoencoder\n",
    "\n",
    "We'll train an autoencoder with these images by flattening them into 784 length vectors. The images from this dataset are already normalized such that the values are between 0 and 1. Let's start by building a simple autoencoder. The encoder and decoder should be made of **one linear layer**. The units that connect the encoder and decoder will be the _compressed representation_.\n",
    "\n",
    "Since the images are normalized between 0 and 1, we need to use a **sigmoid activation on the output layer** to get values that match this input value range.\n",
    "\n",
    "##### TODO: Build the graph for the autoencoder in the cell below. \n",
    "> The input images will be flattened into 784 length vectors. The targets are the same as the inputs. \n",
    "> The encoder and decoder will be made of two linear layers, each.\n",
    "> The depth dimensions should change as follows: 784 inputs > **encoding_dim** > 784 outputs.\n",
    "> All layers will have ReLu activations applied except for the final output layer, which has a sigmoid activation.\n",
    "\n",
    "**The compressed representation should be a vector with dimension `encoding_dim=32`.**"
   ]
  },
  {
   "cell_type": "code",
   "execution_count": 11,
   "metadata": {},
   "outputs": [
    {
     "name": "stdout",
     "output_type": "stream",
     "text": [
      "Autoencoder(\n",
      "  (fc1): Linear(in_features=784, out_features=32, bias=True)\n",
      "  (fc2): Linear(in_features=32, out_features=784, bias=True)\n",
      ")\n"
     ]
    }
   ],
   "source": [
    "import torch.nn as nn\n",
    "import torch.nn.functional as F\n",
    "\n",
    "#Define the NN architecture\n",
    "class Autoencoder(nn.Module):\n",
    "    def __init__(self, encoding_dim):\n",
    "        super(Autoencoder, self).__init__()\n",
    "        ##Encoder ##\n",
    "        self.fc1=nn.Linear(28*28,encoding_dim)\n",
    "        ##Decoder ##\n",
    "        self.fc2=nn.Linear(encoding_dim,28*28)\n",
    "        \n",
    "\n",
    "    def forward(self, x):\n",
    "        #Define feedforward behavior \n",
    "        x=F.relu(self.fc1(x))\n",
    "        #and scale the *output* layer with a sigmoid activation function\n",
    "        x=F.sigmoid(self.fc2(x))\n",
    "        return x\n",
    "\n",
    "#Initialize the NN\n",
    "encoding_dim = 32\n",
    "model = Autoencoder(encoding_dim)\n",
    "print(model)"
   ]
  },
  {
   "cell_type": "markdown",
   "metadata": {},
   "source": [
    "##### Training\n",
    "\n",
    "Here I'll write a bit of code to train the network. I'm not too interested in validation here, so I'll just monitor the training loss and the test loss afterwards. \n",
    "\n",
    "We are not concerned with labels in this case, just images, which we can get from the `train_loader`. Because we're comparing pixel values in input and output images, it will be best to use a loss that is meant for a regression task. Regression is all about comparing _quantities_ rather than probabilistic values. So, in this case, I'll use `MSELoss`. And compare output images and input images as follows:\n",
    "```\n",
    "loss = criterion(outputs, images)\n",
    "```\n",
    "Otherwise, this is pretty straightfoward training with PyTorch. We flatten our images, pass them into the autoencoder, and record the training loss as we go."
   ]
  },
  {
   "cell_type": "code",
   "execution_count": 9,
   "metadata": {},
   "outputs": [],
   "source": [
    "#Specify loss function\n",
    "criterion=nn.MSELoss()\n",
    "\n",
    "#Specify loss function\n",
    "optimizer=torch.optim.Adam(model.parameters(),lr=0.001)"
   ]
  },
  {
   "cell_type": "code",
   "execution_count": 10,
   "metadata": {},
   "outputs": [
    {
     "name": "stderr",
     "output_type": "stream",
     "text": [
      "/Users/wafa/opt/anaconda3/lib/python3.7/site-packages/torch/nn/functional.py:1351: UserWarning: nn.functional.sigmoid is deprecated. Use torch.sigmoid instead.\n",
      "  warnings.warn(\"nn.functional.sigmoid is deprecated. Use torch.sigmoid instead.\")\n"
     ]
    },
    {
     "name": "stdout",
     "output_type": "stream",
     "text": [
      "Epoch: 1 \tTraining Loss: 0.661337\n",
      "Epoch: 2 \tTraining Loss: 0.322050\n",
      "Epoch: 3 \tTraining Loss: 0.290575\n",
      "Epoch: 4 \tTraining Loss: 0.283837\n",
      "Epoch: 5 \tTraining Loss: 0.281185\n",
      "Epoch: 6 \tTraining Loss: 0.279506\n",
      "Epoch: 7 \tTraining Loss: 0.278240\n",
      "Epoch: 8 \tTraining Loss: 0.277360\n",
      "Epoch: 9 \tTraining Loss: 0.276690\n",
      "Epoch: 10 \tTraining Loss: 0.276116\n",
      "Epoch: 11 \tTraining Loss: 0.275581\n",
      "Epoch: 12 \tTraining Loss: 0.275117\n",
      "Epoch: 13 \tTraining Loss: 0.274530\n",
      "Epoch: 14 \tTraining Loss: 0.273922\n",
      "Epoch: 15 \tTraining Loss: 0.273538\n",
      "Epoch: 16 \tTraining Loss: 0.273187\n",
      "Epoch: 17 \tTraining Loss: 0.272762\n",
      "Epoch: 18 \tTraining Loss: 0.272288\n",
      "Epoch: 19 \tTraining Loss: 0.271949\n",
      "Epoch: 20 \tTraining Loss: 0.271636\n"
     ]
    }
   ],
   "source": [
    "#Number of epochs to train the model\n",
    "n_epochs=20\n",
    "\n",
    "for epoch in range(1, n_epochs+1):\n",
    "    # monitor training loss\n",
    "    train_loss=0.0\n",
    "    \n",
    "    #Train the model #\n",
    "    for data in train_loader:\n",
    "        #_Stands in for labels, here\n",
    "        images,_=data\n",
    "        #Flatten images\n",
    "        images=images.view(images.size(0),-1)\n",
    "        #Clear the gradients of all optimized variables\n",
    "        optimizer.zero_grad()\n",
    "        #Forward pass: compute predicted outputs by passing inputs to the model\n",
    "        outputs=model(images)\n",
    "        #Calculate the loss\n",
    "        loss=criterion(outputs,images)\n",
    "        #Backward pass:compute gradient of the loss with respect to model parameters\n",
    "        loss.backward()\n",
    "        #Perform a single optimization step (parameter update)\n",
    "        optimizer.step()\n",
    "        #Update running training loss\n",
    "        train_loss+=loss.item()*images.size(0)\n",
    "            \n",
    "    #Print avg training statistics \n",
    "    train_loss=train_loss/len(train_loader)\n",
    "    print('Epoch: {} \\tTraining Loss: {:.6f}'.format(\n",
    "        epoch, \n",
    "        train_loss\n",
    "        ))"
   ]
  },
  {
   "cell_type": "markdown",
   "metadata": {},
   "source": [
    "##### Checking out the results\n",
    "\n",
    "Below I've plotted some of the test images along with their reconstructions. For the most part these look pretty good except for some blurriness in some parts."
   ]
  },
  {
   "cell_type": "code",
   "execution_count": 14,
   "metadata": {},
   "outputs": [
    {
     "data": {
      "image/png": "[encoded data removed]",
      "text/plain": [
       "<Figure size 1800x288 with 20 Axes>"
      ]
     },
     "metadata": {
      "needs_background": "light"
     },
     "output_type": "display_data"
    }
   ],
   "source": [
    "#Obtain one batch of test images\n",
    "dataiter=iter(test_loader)\n",
    "images,labels=dataiter.next()\n",
    "\n",
    "images_flatten=images.view(images.size(0),-1)\n",
    "#Get sample outputs\n",
    "output=model(images_flatten)\n",
    "#Prep images for display\n",
    "images=images.numpy()\n",
    "\n",
    "#Output is resized into a batch of images\n",
    "output=output.view(batch_size, 1, 28, 28)\n",
    "#Use detach when it's an output that requires_grad\n",
    "output=output.detach().numpy()\n",
    "\n",
    "#Plot the first ten input images and then reconstructed images\n",
    "fig,axes=plt.subplots(nrows=2,ncols=10,sharex=True,sharey=True,figsize=(25,4))\n",
    "\n",
    "#Input images on top row, reconstructions on bottom\n",
    "for images,row in zip([images,output],axes):\n",
    "    for img, ax in zip(images,row):\n",
    "        ax.imshow(np.squeeze(img), cmap='gray')\n",
    "        ax.get_xaxis().set_visible(False)\n",
    "        ax.get_yaxis().set_visible(False)"
   ]
  },
  {
   "cell_type": "code",
   "execution_count": null,
   "metadata": {},
   "outputs": [],
   "source": []
  }
 ],
 "metadata": {
  "kernelspec": {
   "display_name": "Python 3",
   "language": "python",
   "name": "python3"
  },
  "language_info": {
   "codemirror_mode": {
    "name": "ipython",
    "version": 3
   },
   "file_extension": ".py",
   "mimetype": "text/x-python",
   "name": "python",
   "nbconvert_exporter": "python",
   "pygments_lexer": "ipython3",
   "version": "3.7.4"
  }
 },
 "nbformat": 4,
 "nbformat_minor": 2
}
