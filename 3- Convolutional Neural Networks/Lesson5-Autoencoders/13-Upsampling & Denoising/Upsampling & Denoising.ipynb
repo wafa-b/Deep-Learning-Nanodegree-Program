{
 "cells": [
  {
   "cell_type": "markdown",
   "metadata": {},
   "source": [
    "##### Convolutional Autoencoder\n",
    "\n",
    "Sticking with the MNIST dataset, let's improve our autoencoder's performance using convolutional layers. We'll build a convolutional autoencoder to compress the MNIST dataset. \n",
    "\n",
    ">The encoder portion will be made of convolutional and pooling layers and the decoder will be made of **upsampling and convolutional layers**.\n",
    "\n",
    "##### Compressed Representation\n",
    "\n",
    "A compressed representation can be great for saving and sharing any kind of data in a way that is more efficient than storing raw data. In practice, the compressed representation often holds key information about an input image and we can use it for denoising images or oher kinds of reconstruction and transformation!\n",
    "\n",
    "Let's get started by importing our libraries and getting the dataset."
   ]
  },
  {
   "cell_type": "code",
   "execution_count": 1,
   "metadata": {},
   "outputs": [],
   "source": [
    "#Import Libraries\n",
    "import torch\n",
    "import numpy as np\n",
    "from torchvision import datasets\n",
    "import torchvision.transforms as transforms\n",
    "\n",
    "#Convert data to torch.FloatTensor\n",
    "transform=transforms.ToTensor()\n",
    "\n",
    "#Load the training and test datasets\n",
    "train_data=datasets.MNIST(root='data',train=True,download=True,transform=transform)\n",
    "test_data=datasets.MNIST(root='data',train=False,download=True,transform=transform)"
   ]
  },
  {
   "cell_type": "code",
   "execution_count": 2,
   "metadata": {},
   "outputs": [],
   "source": [
    "#Create training and test dataloaders\n",
    "num_workers=0\n",
    "#How many samples per batch to load\n",
    "batch_size=20\n",
    "\n",
    "#Prepare data loaders\n",
    "train_loader=torch.utils.data.DataLoader(train_data, batch_size=batch_size, num_workers=num_workers)\n",
    "test_loader=torch.utils.data.DataLoader(test_data, batch_size=batch_size, num_workers=num_workers)"
   ]
  },
  {
   "cell_type": "markdown",
   "metadata": {},
   "source": [
    "##### Visualize the Data"
   ]
  },
  {
   "cell_type": "code",
   "execution_count": 3,
   "metadata": {},
   "outputs": [
    {
     "data": {
      "text/plain": [
       "<matplotlib.image.AxesImage at 0x12a57e950>"
      ]
     },
     "execution_count": 3,
     "metadata": {},
     "output_type": "execute_result"
    },
    {
     "data": {
      "image/png": "[encoded data removed]",
      "text/plain": [
       "<Figure size 360x360 with 1 Axes>"
      ]
     },
     "metadata": {
      "needs_background": "light"
     },
     "output_type": "display_data"
    }
   ],
   "source": [
    "import matplotlib.pyplot as plt\n",
    "%matplotlib inline\n",
    "    \n",
    "#Obtain one batch of training images\n",
    "dataiter=iter(train_loader)\n",
    "images,labels=dataiter.next()\n",
    "images=images.numpy()\n",
    "\n",
    "#Get one image from the batch\n",
    "img=np.squeeze(images[0])\n",
    "\n",
    "fig=plt.figure(figsize=(5,5)) \n",
    "ax=fig.add_subplot(111)\n",
    "ax.imshow(img,cmap='gray')"
   ]
  },
  {
   "cell_type": "markdown",
   "metadata": {},
   "source": [
    "##### Convolutional  Autoencoder\n",
    "\n",
    "The encoder part of the network will be a typical convolutional pyramid. Each convolutional layer will be followed by a max-pooling layer to reduce the dimensions of the layers. The decoder though might be something new to you. The decoder needs to convert from a narrow representation to a wide reconstructed image. For example, the representation could be a 4x4x8 max-pool layer. This is the output of the encoder, but also the input to the decoder. We want to get a 28x28x1 image out from the decoder so we need to work our way back up from the narrow decoder input layer. A schematic of the network is shown below.\n",
    "\n",
    "##### Upsampling + Convolutions, Decoder\n",
    "\n",
    "This decoder uses a combination of nearest-neighbor **upsampling and normal convolutional layers** to increase the width and height of the input layers.\n",
    "\n",
    "It is important to note that transpose convolution layers can lead to artifacts in the final images, such as checkerboard patterns. This is due to overlap in the kernels which can be avoided by setting the stride and kernel size equal. In [this Distill article](http://distill.pub/2016/deconv-checkerboard/) from Augustus Odena, *et al*, the authors show that these checkerboard artifacts can be avoided by resizing the layers using nearest neighbor or bilinear interpolation (upsampling) followed by a convolutional layer. This is the approach we take, here.\n",
    "\n",
    "##### TODO: Build the network shown above. \n",
    "> Build the encoder out of a series of convolutional and pooling layers. \n",
    "> When building the decoder, use a combination of upsampling and normal, convolutional layers."
   ]
  },
  {
   "cell_type": "code",
   "execution_count": 4,
   "metadata": {},
   "outputs": [
    {
     "name": "stdout",
     "output_type": "stream",
     "text": [
      "ConvAutoencoder(\n",
      "  (conv1): Conv2d(1, 16, kernel_size=(3, 3), stride=(1, 1), padding=(1, 1))\n",
      "  (conv2): Conv2d(16, 4, kernel_size=(3, 3), stride=(1, 1), padding=(1, 1))\n",
      "  (pool): MaxPool2d(kernel_size=2, stride=2, padding=0, dilation=1, ceil_mode=False)\n",
      "  (conv4): Conv2d(4, 16, kernel_size=(3, 3), stride=(1, 1), padding=(1, 1))\n",
      "  (conv5): Conv2d(16, 1, kernel_size=(3, 3), stride=(1, 1), padding=(1, 1))\n",
      ")\n"
     ]
    }
   ],
   "source": [
    "import torch.nn as nn\n",
    "import torch.nn.functional as F\n",
    "\n",
    "#Define the NN architecture\n",
    "class ConvAutoencoder(nn.Module):\n",
    "    def __init__(self):\n",
    "        super(ConvAutoencoder, self).__init__()\n",
    "        ##Encoder layers ##\n",
    "        #conv layer (depth from 1 --> 16), 3x3 kernels\n",
    "        self.conv1=nn.Conv2d(1,16,3,padding=1)  \n",
    "        #conv layer (depth from 16 --> 8), 3x3 kernels\n",
    "        self.conv2=nn.Conv2d(16,4,3,padding=1)\n",
    "        #pooling layer to reduce x-y dims by two; kernel and stride of 2\n",
    "        self.pool=nn.MaxPool2d(2,2)\n",
    "        \n",
    "        ##Decoder layers ##\n",
    "        self.conv4=nn.Conv2d(4,16,3,padding=1)\n",
    "        self.conv5=nn.Conv2d(16,1,3,padding=1)\n",
    "        \n",
    "    def forward(self, x):\n",
    "        #Add layer, with relu activation function\n",
    "        #and maxpooling after\n",
    "        x=F.relu(self.conv1(x))\n",
    "        x=self.pool(x)\n",
    "        #Add hidden layer, with relu activation function\n",
    "        x=F.relu(self.conv2(x))\n",
    "        x=self.pool(x)  # compressed representation\n",
    "        \n",
    "        ##Decoder \n",
    "        #Upsample,followed by a conv layer, with relu activation function  \n",
    "        #This function is called `interpolate` in some PyTorch versions\n",
    "        x=F.upsample(x,scale_factor=2,mode='nearest')\n",
    "        x=F.relu(self.conv4(x))\n",
    "        #Upsample again, output should have a sigmoid applied\n",
    "        x=F.upsample(x,scale_factor=2,mode='nearest')\n",
    "        x=F.sigmoid(self.conv5(x))\n",
    "        \n",
    "        return x\n",
    "\n",
    "#Initialize the NN\n",
    "model=ConvAutoencoder()\n",
    "print(model)"
   ]
  },
  {
   "cell_type": "markdown",
   "metadata": {},
   "source": [
    "##### Training\n",
    "\n",
    "Here I'll write a bit of code to train the network. I'm not too interested in validation here, so I'll just monitor the training loss and the test loss afterwards. \n",
    "\n",
    "We are not concerned with labels in this case, just images, which we can get from the `train_loader`. Because we're comparing pixel values in input and output images, it will be best to use a loss that is meant for a regression task. Regression is all about comparing quantities rather than probabilistic values. So, in this case, I'll use `MSELoss`. And compare output images and input images as follows:\n",
    "```\n",
    "loss = criterion(outputs, images)\n",
    "```\n",
    "\n",
    "Otherwise, this is pretty straightfoward training with PyTorch. We flatten our images, pass them into the autoencoder, and record the training loss as we go."
   ]
  },
  {
   "cell_type": "code",
   "execution_count": 5,
   "metadata": {},
   "outputs": [],
   "source": [
    "#Specify loss function\n",
    "criterion=nn.MSELoss()\n",
    "\n",
    "#Specify loss function\n",
    "optimizer=torch.optim.Adam(model.parameters(),lr=0.001)"
   ]
  },
  {
   "cell_type": "code",
   "execution_count": 6,
   "metadata": {},
   "outputs": [
    {
     "name": "stderr",
     "output_type": "stream",
     "text": [
      "/Users/wafa/opt/anaconda3/lib/python3.7/site-packages/torch/nn/functional.py:2404: UserWarning: nn.functional.upsample is deprecated. Use nn.functional.interpolate instead.\n",
      "  warnings.warn(\"nn.functional.upsample is deprecated. Use nn.functional.interpolate instead.\")\n",
      "/Users/wafa/opt/anaconda3/lib/python3.7/site-packages/torch/nn/functional.py:1351: UserWarning: nn.functional.sigmoid is deprecated. Use torch.sigmoid instead.\n",
      "  warnings.warn(\"nn.functional.sigmoid is deprecated. Use torch.sigmoid instead.\")\n"
     ]
    },
    {
     "name": "stdout",
     "output_type": "stream",
     "text": [
      "Epoch: 1 \tTraining Loss: 2.255265\n",
      "Epoch: 2 \tTraining Loss: 2.240053\n",
      "Epoch: 3 \tTraining Loss: 2.240052\n",
      "Epoch: 4 \tTraining Loss: 2.240052\n",
      "Epoch: 5 \tTraining Loss: 2.240052\n",
      "Epoch: 6 \tTraining Loss: 2.240052\n",
      "Epoch: 7 \tTraining Loss: 2.240052\n",
      "Epoch: 8 \tTraining Loss: 2.240052\n",
      "Epoch: 9 \tTraining Loss: 2.240052\n",
      "Epoch: 10 \tTraining Loss: 2.240052\n",
      "Epoch: 11 \tTraining Loss: 2.240052\n",
      "Epoch: 12 \tTraining Loss: 2.240052\n",
      "Epoch: 13 \tTraining Loss: 2.240052\n",
      "Epoch: 14 \tTraining Loss: 2.240052\n",
      "Epoch: 15 \tTraining Loss: 2.240052\n",
      "Epoch: 16 \tTraining Loss: 2.240052\n",
      "Epoch: 17 \tTraining Loss: 2.240052\n",
      "Epoch: 18 \tTraining Loss: 2.240052\n",
      "Epoch: 19 \tTraining Loss: 2.240052\n",
      "Epoch: 20 \tTraining Loss: 2.240052\n",
      "Epoch: 21 \tTraining Loss: 2.240052\n",
      "Epoch: 22 \tTraining Loss: 2.240052\n",
      "Epoch: 23 \tTraining Loss: 2.240052\n",
      "Epoch: 24 \tTraining Loss: 2.240052\n",
      "Epoch: 25 \tTraining Loss: 2.240052\n",
      "Epoch: 26 \tTraining Loss: 2.240052\n",
      "Epoch: 27 \tTraining Loss: 2.240052\n",
      "Epoch: 28 \tTraining Loss: 2.240052\n",
      "Epoch: 29 \tTraining Loss: 2.240052\n",
      "Epoch: 30 \tTraining Loss: 2.240052\n"
     ]
    }
   ],
   "source": [
    "#Number of epochs to train the model\n",
    "n_epochs=30\n",
    "\n",
    "for epoch in range(1, n_epochs+1):\n",
    "    #Monitor training loss\n",
    "    train_loss=0.0\n",
    "    \n",
    "    #Train the model\n",
    "    for data in train_loader:\n",
    "        #_ stands in for labels, here\n",
    "        #no need to flatten images\n",
    "        images,_=data\n",
    "        #Clear the gradients of all optimized variables\n",
    "        optimizer.zero_grad()\n",
    "        #Forward pass: compute predicted outputs by passing inputs to the model\n",
    "        outputs=model(images)\n",
    "        #Calculate the loss\n",
    "        loss=criterion(outputs,images)\n",
    "        #Backward pass: compute gradient of the loss with respect to model parameters\n",
    "        loss.backward()\n",
    "        #Perform a single optimization step (parameter update)\n",
    "        optimizer.step()\n",
    "        #Update running training loss\n",
    "        train_loss+=loss.item()*images.size(0)\n",
    "            \n",
    "    #Print avg training statistics \n",
    "    train_loss=train_loss/len(train_loader)\n",
    "    print('Epoch: {} \\tTraining Loss: {:.6f}'.format(\n",
    "        epoch, \n",
    "        train_loss\n",
    "        ))"
   ]
  },
  {
   "cell_type": "markdown",
   "metadata": {},
   "source": [
    "##### Checking out the results\n",
    "\n",
    "Below I've plotted some of the test images along with their reconstructions. For the most part these look pretty good except for some blurriness in some parts."
   ]
  },
  {
   "cell_type": "code",
   "execution_count": 8,
   "metadata": {},
   "outputs": [
    {
     "data": {
      "image/png": "[encoded data removed]",
      "text/plain": [
       "<Figure size 1800x288 with 20 Axes>"
      ]
     },
     "metadata": {
      "needs_background": "light"
     },
     "output_type": "display_data"
    }
   ],
   "source": [
    "#Obtain one batch of test images\n",
    "dataiter=iter(test_loader)\n",
    "images,labels=dataiter.next()\n",
    "\n",
    "#Get sample outputs\n",
    "output=model(images)\n",
    "#Prep images for display\n",
    "images=images.numpy()\n",
    "\n",
    "#Output is resized into a batch of iages\n",
    "output=output.view(batch_size,1,28,28)\n",
    "#Use detach when it's an output that requires_grad\n",
    "output=output.detach().numpy()\n",
    "\n",
    "#Plot the first ten input images and then reconstructed images\n",
    "fig,axes= plt.subplots(nrows=2,ncols=10,sharex=True,sharey=True,figsize=(25,4))\n",
    "\n",
    "#Input images on top row, reconstructions on bottom\n",
    "for images,row in zip([images,output],axes):\n",
    "    for img, ax in zip(images,row):\n",
    "        ax.imshow(np.squeeze(img),cmap='gray')\n",
    "        ax.get_xaxis().set_visible(False)\n",
    "        ax.get_yaxis().set_visible(False)"
   ]
  },
  {
   "cell_type": "code",
   "execution_count": null,
   "metadata": {},
   "outputs": [],
   "source": []
  }
 ],
 "metadata": {
  "kernelspec": {
   "display_name": "Python 3",
   "language": "python",
   "name": "python3"
  },
  "language_info": {
   "codemirror_mode": {
    "name": "ipython",
    "version": 3
   },
   "file_extension": ".py",
   "mimetype": "text/x-python",
   "name": "python",
   "nbconvert_exporter": "python",
   "pygments_lexer": "ipython3",
   "version": "3.7.4"
  }
 },
 "nbformat": 4,
 "nbformat_minor": 2
}
