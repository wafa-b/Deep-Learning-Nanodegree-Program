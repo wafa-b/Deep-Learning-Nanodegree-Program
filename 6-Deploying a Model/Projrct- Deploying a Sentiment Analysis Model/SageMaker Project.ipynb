{
 "cells": [
  {
   "cell_type": "markdown",
   "metadata": {},
   "source": [
    "# Creating a Sentiment Analysis Web App\n",
    "## Using PyTorch and SageMaker\n",
    "\n",
    "_Deep Learning Nanodegree Program | Deployment_\n",
    "\n",
    "---\n",
    "\n",
    "Now that we have a basic understanding of how SageMaker works we will try to use it to construct a complete project from end to end. Our goal will be to have a simple web page which a user can use to enter a movie review. The web page will then send the review off to our deployed model which will predict the sentiment of the entered review.\n",
    "\n",
    "## Instructions\n",
    "\n",
    "Some template code has already been provided for you, and you will need to implement additional functionality to successfully complete this notebook. You will not need to modify the included code beyond what is requested. Sections that begin with '**TODO**' in the header indicate that you need to complete or implement some portion within them. Instructions will be provided for each section and the specifics of the implementation are marked in the code block with a `# TODO: ...` comment. Please be sure to read the instructions carefully!\n",
    "\n",
    "In addition to implementing code, there will be questions for you to answer which relate to the task and your implementation. Each section where you will answer a question is preceded by a '**Question:**' header. Carefully read each question and provide your answer below the '**Answer:**' header by editing the Markdown cell.\n",
    "\n",
    "> **Note**: Code and Markdown cells can be executed using the **Shift+Enter** keyboard shortcut. In addition, a cell can be edited by typically clicking it (double-click for Markdown cells) or by pressing **Enter** while it is highlighted.\n",
    "\n",
    "## General Outline\n",
    "\n",
    "Recall the general outline for SageMaker projects using a notebook instance.\n",
    "\n",
    "1. Download or otherwise retrieve the data.\n",
    "2. Process / Prepare the data.\n",
    "3. Upload the processed data to S3.\n",
    "4. Train a chosen model.\n",
    "5. Test the trained model (typically using a batch transform job).\n",
    "6. Deploy the trained model.\n",
    "7. Use the deployed model.\n",
    "\n",
    "For this project, you will be following the steps in the general outline with some modifications. \n",
    "\n",
    "First, you will not be testing the model in its own step. You will still be testing the model, however, you will do it by deploying your model and then using the deployed model by sending the test data to it. One of the reasons for doing this is so that you can make sure that your deployed model is working correctly before moving forward.\n",
    "\n",
    "In addition, you will deploy and use your trained model a second time. In the second iteration you will customize the way that your trained model is deployed by including some of your own code. In addition, your newly deployed model will be used in the sentiment analysis web app."
   ]
  },
  {
   "cell_type": "markdown",
   "metadata": {},
   "source": [
    "## Step 1: Downloading the data\n",
    "\n",
    "As in the XGBoost in SageMaker notebook, we will be using the [IMDb dataset](http://ai.stanford.edu/~amaas/data/sentiment/)\n",
    "\n",
    "> Maas, Andrew L., et al. [Learning Word Vectors for Sentiment Analysis](http://ai.stanford.edu/~amaas/data/sentiment/). In _Proceedings of the 49th Annual Meeting of the Association for Computational Linguistics: Human Language Technologies_. Association for Computational Linguistics, 2011."
   ]
  },
  {
   "cell_type": "code",
   "execution_count": 1,
   "metadata": {},
   "outputs": [
    {
     "name": "stdout",
     "output_type": "stream",
     "text": [
      "--2020-07-11 14:43:49--  http://ai.stanford.edu/~amaas/data/sentiment/aclImdb_v1.tar.gz\n",
      "Resolving ai.stanford.edu (ai.stanford.edu)... 171.64.68.10\n",
      "Connecting to ai.stanford.edu (ai.stanford.edu)|171.64.68.10|:80... connected.\n",
      "HTTP request sent, awaiting response... 200 OK\n",
      "Length: 84125825 (80M) [application/x-gzip]\n",
      "Saving to: ‘../data/aclImdb_v1.tar.gz’\n",
      "\n",
      "../data/aclImdb_v1. 100%[===================>]  80.23M  24.3MB/s    in 3.9s    \n",
      "\n",
      "2020-07-11 14:43:53 (20.5 MB/s) - ‘../data/aclImdb_v1.tar.gz’ saved [84125825/84125825]\n",
      "\n"
     ]
    }
   ],
   "source": [
    "%mkdir ../data\n",
    "!wget -O ../data/aclImdb_v1.tar.gz http://ai.stanford.edu/~amaas/data/sentiment/aclImdb_v1.tar.gz\n",
    "!tar -zxf ../data/aclImdb_v1.tar.gz -C ../data"
   ]
  },
  {
   "cell_type": "markdown",
   "metadata": {},
   "source": [
    "## Step 2: Preparing and Processing the data\n",
    "\n",
    "Also, as in the XGBoost notebook, we will be doing some initial data processing. The first few steps are the same as in the XGBoost example. To begin with, we will read in each of the reviews and combine them into a single input structure. Then, we will split the dataset into a training set and a testing set."
   ]
  },
  {
   "cell_type": "code",
   "execution_count": 2,
   "metadata": {},
   "outputs": [],
   "source": [
    "import os\n",
    "import glob\n",
    "\n",
    "def read_imdb_data(data_dir='../data/aclImdb'):\n",
    "    data = {}\n",
    "    labels = {}\n",
    "    \n",
    "    for data_type in ['train', 'test']:\n",
    "        data[data_type] = {}\n",
    "        labels[data_type] = {}\n",
    "        \n",
    "        for sentiment in ['pos', 'neg']:\n",
    "            data[data_type][sentiment] = []\n",
    "            labels[data_type][sentiment] = []\n",
    "            \n",
    "            path = os.path.join(data_dir, data_type, sentiment, '*.txt')\n",
    "            files = glob.glob(path)\n",
    "            \n",
    "            for f in files:\n",
    "                with open(f) as review:\n",
    "                    data[data_type][sentiment].append(review.read())\n",
    "                    # Here we represent a positive review by '1' and a negative review by '0'\n",
    "                    labels[data_type][sentiment].append(1 if sentiment == 'pos' else 0)\n",
    "                    \n",
    "            assert len(data[data_type][sentiment]) == len(labels[data_type][sentiment]), \\\n",
    "                    \"{}/{} data size does not match labels size\".format(data_type, sentiment)\n",
    "                \n",
    "    return data, labels"
   ]
  },
  {
   "cell_type": "code",
   "execution_count": 3,
   "metadata": {},
   "outputs": [
    {
     "name": "stdout",
     "output_type": "stream",
     "text": [
      "IMDB reviews: train = 12500 pos / 12500 neg, test = 12500 pos / 12500 neg\n"
     ]
    }
   ],
   "source": [
    "data, labels = read_imdb_data()\n",
    "print(\"IMDB reviews: train = {} pos / {} neg, test = {} pos / {} neg\".format(\n",
    "            len(data['train']['pos']), len(data['train']['neg']),\n",
    "            len(data['test']['pos']), len(data['test']['neg'])))"
   ]
  },
  {
   "cell_type": "markdown",
   "metadata": {},
   "source": [
    "Now that we've read the raw training and testing data from the downloaded dataset, we will combine the positive and negative reviews and shuffle the resulting records."
   ]
  },
  {
   "cell_type": "code",
   "execution_count": 4,
   "metadata": {},
   "outputs": [],
   "source": [
    "from sklearn.utils import shuffle\n",
    "\n",
    "def prepare_imdb_data(data, labels):\n",
    "    \"\"\"Prepare training and test sets from IMDb movie reviews.\"\"\"\n",
    "    \n",
    "    #Combine positive and negative reviews and labels\n",
    "    data_train = data['train']['pos'] + data['train']['neg']\n",
    "    data_test = data['test']['pos'] + data['test']['neg']\n",
    "    labels_train = labels['train']['pos'] + labels['train']['neg']\n",
    "    labels_test = labels['test']['pos'] + labels['test']['neg']\n",
    "    \n",
    "    #Shuffle reviews and corresponding labels within training and test sets\n",
    "    data_train, labels_train = shuffle(data_train, labels_train)\n",
    "    data_test, labels_test = shuffle(data_test, labels_test)\n",
    "    \n",
    "    # Return a unified training data, test data, training labels, test labets\n",
    "    return data_train, data_test, labels_train, labels_test"
   ]
  },
  {
   "cell_type": "code",
   "execution_count": 5,
   "metadata": {},
   "outputs": [
    {
     "name": "stdout",
     "output_type": "stream",
     "text": [
      "IMDb reviews (combined): train = 25000, test = 25000\n"
     ]
    }
   ],
   "source": [
    "train_X, test_X, train_y, test_y = prepare_imdb_data(data, labels)\n",
    "print(\"IMDb reviews (combined): train = {}, test = {}\".format(len(train_X), len(test_X)))"
   ]
  },
  {
   "cell_type": "markdown",
   "metadata": {},
   "source": [
    "Now that we have our training and testing sets unified and prepared, we should do a quick check and see an example of the data our model will be trained on. This is generally a good idea as it allows you to see how each of the further processing steps affects the reviews and it also ensures that the data has been loaded correctly."
   ]
  },
  {
   "cell_type": "code",
   "execution_count": 6,
   "metadata": {},
   "outputs": [
    {
     "name": "stdout",
     "output_type": "stream",
     "text": [
      "Screwball comedy about romantic mismatches in New York City. Peter Bogdanovich is obviously in love with all the women in his picture--he reveres them--yet Audrey Hepburn is (naturally) put a notch above the others because, after all, she's the princess Bogdanovich probably fell in love with at the movies 30 years prior. He shoots her in loving close-ups, gets right in the sheets between her and a wonderfully hard-boiled/soft-boiled Ben Gazzara, and allows her room to sparkle throughout. The love-connections made in the course of the film are fast and amusing, though I did tire of John Ritter's TV-styled klutziness. Colleen Camp, Dorothy Stratten, and the grounded, earthy-sensual Patti Hansen are all exciting to watch. But it's really Hepburn's valentine and she absolutely glows. *** from ****\n",
      "1\n"
     ]
    }
   ],
   "source": [
    "print(train_X[100])\n",
    "print(train_y[100])"
   ]
  },
  {
   "cell_type": "markdown",
   "metadata": {},
   "source": [
    "The first step in processing the reviews is to make sure that any html tags that appear should be removed. In addition we wish to tokenize our input, that way words such as *entertained* and *entertaining* are considered the same with regard to sentiment analysis."
   ]
  },
  {
   "cell_type": "code",
   "execution_count": 7,
   "metadata": {},
   "outputs": [],
   "source": [
    "import nltk\n",
    "from nltk.corpus import stopwords\n",
    "from nltk.stem.porter import *\n",
    "\n",
    "import re\n",
    "from bs4 import BeautifulSoup\n",
    "\n",
    "def review_to_words(review):\n",
    "    nltk.download(\"stopwords\", quiet=True)\n",
    "    stemmer = PorterStemmer()\n",
    "    \n",
    "    text = BeautifulSoup(review, \"html.parser\").get_text() # Remove HTML tags\n",
    "    text = re.sub(r\"[^a-zA-Z0-9]\", \" \", text.lower()) # Convert to lower case\n",
    "    words = text.split() # Split string into words\n",
    "    words = [w for w in words if w not in stopwords.words(\"english\")] # Remove stopwords\n",
    "    words = [PorterStemmer().stem(w) for w in words] # stem\n",
    "    \n",
    "    return words"
   ]
  },
  {
   "cell_type": "markdown",
   "metadata": {},
   "source": [
    "The `review_to_words` method defined above uses `BeautifulSoup` to remove any html tags that appear and uses the `nltk` package to tokenize the reviews. As a check to ensure we know how everything is working, try applying `review_to_words` to one of the reviews in the training set."
   ]
  },
  {
   "cell_type": "code",
   "execution_count": 8,
   "metadata": {},
   "outputs": [
    {
     "data": {
      "text/plain": [
       "['screwbal',\n",
       " 'comedi',\n",
       " 'romant',\n",
       " 'mismatch',\n",
       " 'new',\n",
       " 'york',\n",
       " 'citi',\n",
       " 'peter',\n",
       " 'bogdanovich',\n",
       " 'obvious',\n",
       " 'love',\n",
       " 'women',\n",
       " 'pictur',\n",
       " 'rever',\n",
       " 'yet',\n",
       " 'audrey',\n",
       " 'hepburn',\n",
       " 'natur',\n",
       " 'put',\n",
       " 'notch',\n",
       " 'other',\n",
       " 'princess',\n",
       " 'bogdanovich',\n",
       " 'probabl',\n",
       " 'fell',\n",
       " 'love',\n",
       " 'movi',\n",
       " '30',\n",
       " 'year',\n",
       " 'prior',\n",
       " 'shoot',\n",
       " 'love',\n",
       " 'close',\n",
       " 'up',\n",
       " 'get',\n",
       " 'right',\n",
       " 'sheet',\n",
       " 'wonder',\n",
       " 'hard',\n",
       " 'boil',\n",
       " 'soft',\n",
       " 'boil',\n",
       " 'ben',\n",
       " 'gazzara',\n",
       " 'allow',\n",
       " 'room',\n",
       " 'sparkl',\n",
       " 'throughout',\n",
       " 'love',\n",
       " 'connect',\n",
       " 'made',\n",
       " 'cours',\n",
       " 'film',\n",
       " 'fast',\n",
       " 'amus',\n",
       " 'though',\n",
       " 'tire',\n",
       " 'john',\n",
       " 'ritter',\n",
       " 'tv',\n",
       " 'style',\n",
       " 'klutzi',\n",
       " 'colleen',\n",
       " 'camp',\n",
       " 'dorothi',\n",
       " 'stratten',\n",
       " 'ground',\n",
       " 'earthi',\n",
       " 'sensual',\n",
       " 'patti',\n",
       " 'hansen',\n",
       " 'excit',\n",
       " 'watch',\n",
       " 'realli',\n",
       " 'hepburn',\n",
       " 'valentin',\n",
       " 'absolut',\n",
       " 'glow']"
      ]
     },
     "execution_count": 8,
     "metadata": {},
     "output_type": "execute_result"
    }
   ],
   "source": [
    "# TODO: Apply review_to_words to a review (train_X[100] or any other review)\n",
    "review_to_words(train_X[100])"
   ]
  },
  {
   "cell_type": "markdown",
   "metadata": {},
   "source": [
    "**Question:** Above we mentioned that `review_to_words` method removes html formatting and allows us to tokenize the words found in a review, for example, converting *entertained* and *entertaining* into *entertain* so that they are treated as though they are the same word. What else, if anything, does this method do to the input?"
   ]
  },
  {
   "cell_type": "markdown",
   "metadata": {},
   "source": [
    "**Answer:**\n",
    "- Remove any unnecessary characters.\n",
    "- Remove HTML tags.\n",
    "- Convert uper case to lower case.\n",
    "- Remove stopwords.\n",
    "- Remove punctuation marks."
   ]
  },
  {
   "cell_type": "markdown",
   "metadata": {},
   "source": [
    "The method below applies the `review_to_words` method to each of the reviews in the training and testing datasets. In addition it caches the results. This is because performing this processing step can take a long time. This way if you are unable to complete the notebook in the current session, you can come back without needing to process the data a second time."
   ]
  },
  {
   "cell_type": "code",
   "execution_count": 9,
   "metadata": {},
   "outputs": [],
   "source": [
    "import pickle\n",
    "\n",
    "cache_dir = os.path.join(\"../cache\", \"sentiment_analysis\")  # where to store cache files\n",
    "os.makedirs(cache_dir, exist_ok=True)  # ensure cache directory exists\n",
    "\n",
    "def preprocess_data(data_train, data_test, labels_train, labels_test,\n",
    "                    cache_dir=cache_dir, cache_file=\"preprocessed_data.pkl\"):\n",
    "    \"\"\"Convert each review to words; read from cache if available.\"\"\"\n",
    "\n",
    "    # If cache_file is not None, try to read from it first\n",
    "    cache_data = None\n",
    "    if cache_file is not None:\n",
    "        try:\n",
    "            with open(os.path.join(cache_dir, cache_file), \"rb\") as f:\n",
    "                cache_data = pickle.load(f)\n",
    "            print(\"Read preprocessed data from cache file:\", cache_file)\n",
    "        except:\n",
    "            pass  # unable to read from cache, but that's okay\n",
    "    \n",
    "    # If cache is missing, then do the heavy lifting\n",
    "    if cache_data is None:\n",
    "        # Preprocess training and test data to obtain words for each review\n",
    "        #words_train = list(map(review_to_words, data_train))\n",
    "        #words_test = list(map(review_to_words, data_test))\n",
    "        words_train = [review_to_words(review) for review in data_train]\n",
    "        words_test = [review_to_words(review) for review in data_test]\n",
    "        \n",
    "        # Write to cache file for future runs\n",
    "        if cache_file is not None:\n",
    "            cache_data = dict(words_train=words_train, words_test=words_test,\n",
    "                              labels_train=labels_train, labels_test=labels_test)\n",
    "            with open(os.path.join(cache_dir, cache_file), \"wb\") as f:\n",
    "                pickle.dump(cache_data, f)\n",
    "            print(\"Wrote preprocessed data to cache file:\", cache_file)\n",
    "    else:\n",
    "        # Unpack data loaded from cache file\n",
    "        words_train, words_test, labels_train, labels_test = (cache_data['words_train'],\n",
    "                cache_data['words_test'], cache_data['labels_train'], cache_data['labels_test'])\n",
    "    \n",
    "    return words_train, words_test, labels_train, labels_test"
   ]
  },
  {
   "cell_type": "code",
   "execution_count": 10,
   "metadata": {},
   "outputs": [
    {
     "name": "stdout",
     "output_type": "stream",
     "text": [
      "Wrote preprocessed data to cache file: preprocessed_data.pkl\n"
     ]
    }
   ],
   "source": [
    "# Preprocess data\n",
    "train_X, test_X, train_y, test_y = preprocess_data(train_X, test_X, train_y, test_y)"
   ]
  },
  {
   "cell_type": "markdown",
   "metadata": {},
   "source": [
    "## Transform the data\n",
    "\n",
    "In the XGBoost notebook we transformed the data from its word representation to a bag-of-words feature representation. For the model we are going to construct in this notebook we will construct a feature representation which is very similar. To start, we will represent each word as an integer. Of course, some of the words that appear in the reviews occur very infrequently and so likely don't contain much information for the purposes of sentiment analysis. The way we will deal with this problem is that we will fix the size of our working vocabulary and we will only include the words that appear most frequently. We will then combine all of the infrequent words into a single category and, in our case, we will label it as `1`.\n",
    "\n",
    "Since we will be using a recurrent neural network, it will be convenient if the length of each review is the same. To do this, we will fix a size for our reviews and then pad short reviews with the category 'no word' (which we will label `0`) and truncate long reviews."
   ]
  },
  {
   "cell_type": "markdown",
   "metadata": {},
   "source": [
    "### (TODO) Create a word dictionary\n",
    "\n",
    "To begin with, we need to construct a way to map words that appear in the reviews to integers. Here we fix the size of our vocabulary (including the 'no word' and 'infrequent' categories) to be `5000` but you may wish to change this to see how it affects the model.\n",
    "\n",
    "> **TODO:** Complete the implementation for the `build_dict()` method below. Note that even though the vocab_size is set to `5000`, we only want to construct a mapping for the most frequently appearing `4998` words. This is because we want to reserve the special labels `0` for 'no word' and `1` for 'infrequent word'."
   ]
  },
  {
   "cell_type": "code",
   "execution_count": 11,
   "metadata": {},
   "outputs": [],
   "source": [
    "import numpy as np\n",
    "\n",
    "def build_dict(data, vocab_size = 5000):\n",
    "    \"\"\"Construct and return a dictionary mapping each of the most frequently appearing words to a unique integer.\"\"\"\n",
    "    \n",
    "    # TODO: Determine how often each word appears in `data`. Note that `data` is a list of sentences and that a\n",
    "    #       sentence is a list of words.\n",
    "    \n",
    "    word_count = {} # A dict storing the words that appear in the reviews along with how often they occur\n",
    "    for review in data:\n",
    "        for word in review:\n",
    "            if word in word_count:\n",
    "                word_count[word] += 1\n",
    "            else:\n",
    "                word_count[word] = 1\n",
    "    \n",
    "    # TODO: Sort the words found in `data` so that sorted_words[0] is the most frequently appearing word and\n",
    "    #       sorted_words[-1] is the least frequently appearing word.\n",
    "    \n",
    "    sorted_words = [item[0] for item in sorted(word_count.items(), key=lambda x: x[1], reverse=True)]\n",
    "    \n",
    "    word_dict = {} # This is what we are building, a dictionary that translates words into integers\n",
    "    for idx, word in enumerate(sorted_words[:vocab_size - 2]): # The -2 is so that we save room for the 'no word'\n",
    "        word_dict[word] = idx + 2                              # 'infrequent' labels\n",
    "        \n",
    "    return word_dict"
   ]
  },
  {
   "cell_type": "code",
   "execution_count": 12,
   "metadata": {},
   "outputs": [],
   "source": [
    "word_dict = build_dict(train_X)"
   ]
  },
  {
   "cell_type": "code",
   "execution_count": 13,
   "metadata": {},
   "outputs": [
    {
     "name": "stdout",
     "output_type": "stream",
     "text": [
      "{'movi': 2, 'film': 3, 'one': 4, 'like': 5, 'time': 6, 'good': 7, 'make': 8, 'charact': 9, 'get': 10, 'see': 11, 'watch': 12, 'stori': 13, 'even': 14, 'would': 15, 'realli': 16, 'well': 17, 'scene': 18, 'look': 19, 'show': 20, 'much': 21, 'end': 22, 'peopl': 23, 'bad': 24, 'go': 25, 'great': 26, 'also': 27, 'first': 28, 'love': 29, 'think': 30, 'way': 31, 'act': 32, 'play': 33, 'made': 34, 'thing': 35, 'could': 36, 'know': 37, 'say': 38, 'seem': 39, 'work': 40, 'plot': 41, 'two': 42, 'actor': 43, 'year': 44, 'come': 45, 'mani': 46, 'seen': 47, 'take': 48, 'life': 49, 'want': 50, 'never': 51, 'littl': 52, 'best': 53, 'tri': 54, 'man': 55, 'ever': 56, 'give': 57, 'better': 58, 'still': 59, 'perform': 60, 'find': 61, 'feel': 62, 'part': 63, 'back': 64, 'use': 65, 'someth': 66, 'director': 67, 'actual': 68, 'interest': 69, 'lot': 70, 'real': 71, 'old': 72, 'cast': 73, 'though': 74, 'live': 75, 'star': 76, 'enjoy': 77, 'guy': 78, 'anoth': 79, 'new': 80, 'role': 81, 'noth': 82, '10': 83, 'funni': 84, 'music': 85, 'point': 86, 'start': 87, 'set': 88, 'girl': 89, 'origin': 90, 'day': 91, 'world': 92, 'everi': 93, 'believ': 94, 'turn': 95, 'quit': 96, 'direct': 97, 'us': 98, 'thought': 99, 'fact': 100, 'minut': 101, 'horror': 102, 'kill': 103, 'action': 104, 'comedi': 105, 'pretti': 106, 'young': 107, 'wonder': 108, 'happen': 109, 'around': 110, 'got': 111, 'effect': 112, 'right': 113, 'long': 114, 'howev': 115, 'big': 116, 'line': 117, 'famili': 118, 'enough': 119, 'seri': 120, 'may': 121, 'need': 122, 'fan': 123, 'bit': 124, 'script': 125, 'beauti': 126, 'person': 127, 'becom': 128, 'without': 129, 'must': 130, 'alway': 131, 'friend': 132, 'tell': 133, 'reason': 134, 'saw': 135, 'last': 136, 'final': 137, 'kid': 138, 'almost': 139, 'put': 140, 'least': 141, 'sure': 142, 'done': 143, 'whole': 144, 'place': 145, 'complet': 146, 'kind': 147, 'differ': 148, 'expect': 149, 'shot': 150, 'far': 151, 'mean': 152, 'anyth': 153, 'book': 154, 'laugh': 155, 'might': 156, 'name': 157, 'sinc': 158, 'begin': 159, '2': 160, 'probabl': 161, 'woman': 162, 'help': 163, 'entertain': 164, 'let': 165, 'screen': 166, 'call': 167, 'tv': 168, 'moment': 169, 'away': 170, 'read': 171, 'yet': 172, 'rather': 173, 'worst': 174, 'run': 175, 'fun': 176, 'lead': 177, 'hard': 178, 'audienc': 179, 'idea': 180, 'anyon': 181, 'episod': 182, 'american': 183, 'found': 184, 'appear': 185, 'bore': 186, 'especi': 187, 'although': 188, 'hope': 189, 'cours': 190, 'keep': 191, 'anim': 192, 'job': 193, 'goe': 194, 'move': 195, 'sens': 196, 'dvd': 197, 'version': 198, 'war': 199, 'money': 200, 'someon': 201, 'mind': 202, 'mayb': 203, 'problem': 204, 'true': 205, 'hous': 206, 'everyth': 207, 'nice': 208, 'second': 209, 'rate': 210, 'three': 211, 'night': 212, 'follow': 213, 'face': 214, 'recommend': 215, 'product': 216, 'main': 217, 'worth': 218, 'leav': 219, 'human': 220, 'special': 221, 'excel': 222, 'togeth': 223, 'wast': 224, 'sound': 225, 'everyon': 226, 'john': 227, 'hand': 228, '1': 229, 'father': 230, 'later': 231, 'eye': 232, 'said': 233, 'view': 234, 'instead': 235, 'review': 236, 'boy': 237, 'high': 238, 'hour': 239, 'miss': 240, 'classic': 241, 'talk': 242, 'wife': 243, 'understand': 244, 'left': 245, 'care': 246, 'black': 247, 'death': 248, 'open': 249, 'murder': 250, 'write': 251, 'half': 252, 'head': 253, 'rememb': 254, 'chang': 255, 'viewer': 256, 'fight': 257, 'gener': 258, 'surpris': 259, 'short': 260, 'includ': 261, 'die': 262, 'fall': 263, 'less': 264, 'els': 265, 'entir': 266, 'piec': 267, 'involv': 268, 'pictur': 269, 'simpli': 270, 'home': 271, 'power': 272, 'top': 273, 'total': 274, 'usual': 275, 'budget': 276, 'attempt': 277, 'suppos': 278, 'releas': 279, 'hollywood': 280, 'terribl': 281, 'song': 282, 'men': 283, 'possibl': 284, 'featur': 285, 'portray': 286, 'disappoint': 287, 'poor': 288, '3': 289, 'coupl': 290, 'stupid': 291, 'camera': 292, 'dead': 293, 'wrong': 294, 'produc': 295, 'low': 296, 'video': 297, 'either': 298, 'aw': 299, 'definit': 300, 'except': 301, 'rest': 302, 'given': 303, 'absolut': 304, 'women': 305, 'lack': 306, 'word': 307, 'writer': 308, 'titl': 309, 'talent': 310, 'decid': 311, 'full': 312, 'perfect': 313, 'along': 314, 'style': 315, 'close': 316, 'truli': 317, 'school': 318, 'save': 319, 'emot': 320, 'sex': 321, 'age': 322, 'next': 323, 'bring': 324, 'mr': 325, 'case': 326, 'killer': 327, 'heart': 328, 'comment': 329, 'sort': 330, 'creat': 331, 'perhap': 332, 'came': 333, 'brother': 334, 'sever': 335, 'joke': 336, 'art': 337, 'dialogu': 338, 'game': 339, 'small': 340, 'base': 341, 'flick': 342, 'written': 343, 'sequenc': 344, 'meet': 345, 'earli': 346, 'often': 347, 'other': 348, 'mother': 349, 'develop': 350, 'humor': 351, 'actress': 352, 'consid': 353, 'dark': 354, 'guess': 355, 'amaz': 356, 'unfortun': 357, 'lost': 358, 'light': 359, 'exampl': 360, 'cinema': 361, 'drama': 362, 'ye': 363, 'white': 364, 'experi': 365, 'imagin': 366, 'mention': 367, 'stop': 368, 'natur': 369, 'forc': 370, 'manag': 371, 'felt': 372, 'cut': 373, 'present': 374, 'children': 375, 'fail': 376, 'son': 377, 'support': 378, 'car': 379, 'qualiti': 380, 'ask': 381, 'hit': 382, 'side': 383, 'voic': 384, 'extrem': 385, 'impress': 386, 'evil': 387, 'wors': 388, 'went': 389, 'stand': 390, 'certainli': 391, 'basic': 392, 'oh': 393, 'overal': 394, 'favorit': 395, 'horribl': 396, 'mysteri': 397, 'number': 398, 'type': 399, 'danc': 400, 'wait': 401, 'hero': 402, 'alreadi': 403, '5': 404, 'learn': 405, 'matter': 406, '4': 407, 'michael': 408, 'genr': 409, 'fine': 410, 'despit': 411, 'throughout': 412, 'walk': 413, 'success': 414, 'histori': 415, 'question': 416, 'zombi': 417, 'town': 418, 'relationship': 419, 'realiz': 420, 'child': 421, 'past': 422, 'daughter': 423, 'late': 424, 'b': 425, 'wish': 426, 'hate': 427, 'credit': 428, 'event': 429, 'theme': 430, 'touch': 431, 'citi': 432, 'today': 433, 'sometim': 434, 'behind': 435, 'god': 436, 'twist': 437, 'sit': 438, 'deal': 439, 'stay': 440, 'annoy': 441, 'abl': 442, 'rent': 443, 'pleas': 444, 'edit': 445, 'blood': 446, 'deserv': 447, 'anyway': 448, 'comic': 449, 'appar': 450, 'soon': 451, 'gave': 452, 'etc': 453, 'level': 454, 'slow': 455, 'chanc': 456, 'score': 457, 'bodi': 458, 'brilliant': 459, 'incred': 460, 'figur': 461, 'situat': 462, 'major': 463, 'self': 464, 'stuff': 465, 'decent': 466, 'element': 467, 'dream': 468, 'return': 469, 'obvious': 470, 'continu': 471, 'order': 472, 'pace': 473, 'ridicul': 474, 'happi': 475, 'group': 476, 'add': 477, 'highli': 478, 'thank': 479, 'ladi': 480, 'novel': 481, 'speak': 482, 'pain': 483, 'career': 484, 'shoot': 485, 'strang': 486, 'heard': 487, 'sad': 488, 'husband': 489, 'polic': 490, 'import': 491, 'break': 492, 'took': 493, 'strong': 494, 'cannot': 495, 'robert': 496, 'predict': 497, 'violenc': 498, 'hilari': 499, 'recent': 500, 'countri': 501, 'known': 502, 'particularli': 503, 'pick': 504, 'documentari': 505, 'season': 506, 'critic': 507, 'jame': 508, 'compar': 509, 'alon': 510, 'obviou': 511, 'told': 512, 'state': 513, 'visual': 514, 'rock': 515, 'theater': 516, 'offer': 517, 'exist': 518, 'opinion': 519, 'gore': 520, 'crap': 521, 'hold': 522, 'result': 523, 'room': 524, 'realiti': 525, 'hear': 526, 'effort': 527, 'clich': 528, 'thriller': 529, 'caus': 530, 'explain': 531, 'sequel': 532, 'serious': 533, 'king': 534, 'local': 535, 'ago': 536, 'none': 537, 'hell': 538, 'note': 539, 'allow': 540, 'david': 541, 'sister': 542, 'simpl': 543, 'femal': 544, 'deliv': 545, 'ok': 546, 'class': 547, 'convinc': 548, 'check': 549, 'suspens': 550, 'win': 551, 'buy': 552, 'oscar': 553, 'huge': 554, 'valu': 555, 'sexual': 556, 'cool': 557, 'scari': 558, 'excit': 559, 'similar': 560, 'apart': 561, 'exactli': 562, 'provid': 563, 'avoid': 564, 'shown': 565, 'seriou': 566, 'english': 567, 'taken': 568, 'whose': 569, 'cinematographi': 570, 'shock': 571, 'polit': 572, 'spoiler': 573, 'offic': 574, 'across': 575, 'middl': 576, 'street': 577, 'pass': 578, 'messag': 579, 'silli': 580, 'somewhat': 581, 'charm': 582, 'modern': 583, 'filmmak': 584, 'confus': 585, 'form': 586, 'tale': 587, 'singl': 588, 'jack': 589, 'mostli': 590, 'carri': 591, 'william': 592, 'attent': 593, 'sing': 594, 'five': 595, 'subject': 596, 'prove': 597, 'richard': 598, 'team': 599, 'stage': 600, 'cop': 601, 'unlik': 602, 'georg': 603, 'monster': 604, 'televis': 605, 'earth': 606, 'cover': 607, 'villain': 608, 'pay': 609, 'marri': 610, 'toward': 611, 'build': 612, 'pull': 613, 'parent': 614, 'due': 615, 'fill': 616, 'respect': 617, 'four': 618, 'dialog': 619, 'remind': 620, 'futur': 621, 'typic': 622, 'weak': 623, '7': 624, 'cheap': 625, 'intellig': 626, 'british': 627, 'atmospher': 628, 'clearli': 629, '80': 630, 'non': 631, 'paul': 632, 'dog': 633, 'knew': 634, 'artist': 635, '8': 636, 'fast': 637, 'crime': 638, 'easili': 639, 'escap': 640, 'doubt': 641, 'adult': 642, 'detail': 643, 'date': 644, 'fire': 645, 'member': 646, 'romant': 647, 'gun': 648, 'drive': 649, 'straight': 650, 'beyond': 651, 'fit': 652, 'attack': 653, 'imag': 654, 'upon': 655, 'posit': 656, 'whether': 657, 'fantast': 658, 'peter': 659, 'appreci': 660, 'captur': 661, 'aspect': 662, 'ten': 663, 'plan': 664, 'discov': 665, 'remain': 666, 'period': 667, 'near': 668, 'air': 669, 'realist': 670, 'mark': 671, 'red': 672, 'dull': 673, 'adapt': 674, 'within': 675, 'spend': 676, 'lose': 677, 'color': 678, 'materi': 679, 'chase': 680, 'mari': 681, 'storylin': 682, 'forget': 683, 'bunch': 684, 'clear': 685, 'lee': 686, 'victim': 687, 'nearli': 688, 'box': 689, 'york': 690, 'match': 691, 'inspir': 692, 'mess': 693, 'finish': 694, 'standard': 695, 'easi': 696, 'truth': 697, 'busi': 698, 'suffer': 699, 'dramat': 700, 'space': 701, 'bill': 702, 'western': 703, 'e': 704, 'list': 705, 'battl': 706, 'notic': 707, 'de': 708, 'french': 709, 'ad': 710, '9': 711, 'tom': 712, 'larg': 713, 'among': 714, 'eventu': 715, 'accept': 716, 'train': 717, 'agre': 718, 'soundtrack': 719, 'spirit': 720, 'third': 721, 'teenag': 722, 'adventur': 723, 'soldier': 724, 'drug': 725, 'sorri': 726, 'suggest': 727, 'famou': 728, 'normal': 729, 'babi': 730, 'cri': 731, 'troubl': 732, 'ultim': 733, 'contain': 734, 'certain': 735, 'cultur': 736, 'romanc': 737, 'rare': 738, 'lame': 739, 'somehow': 740, 'disney': 741, 'mix': 742, 'gone': 743, 'cartoon': 744, 'student': 745, 'reveal': 746, 'fear': 747, 'kept': 748, 'suck': 749, 'attract': 750, 'appeal': 751, 'premis': 752, 'greatest': 753, 'design': 754, 'secret': 755, 'shame': 756, 'throw': 757, 'copi': 758, 'scare': 759, 'wit': 760, 'america': 761, 'admit': 762, 'particular': 763, 'brought': 764, 'relat': 765, 'screenplay': 766, 'whatev': 767, 'pure': 768, '70': 769, 'averag': 770, 'harri': 771, 'master': 772, 'describ': 773, 'male': 774, 'treat': 775, '20': 776, 'fantasi': 777, 'issu': 778, 'warn': 779, 'inde': 780, 'forward': 781, 'background': 782, 'project': 783, 'free': 784, 'japanes': 785, 'memor': 786, 'poorli': 787, 'award': 788, 'locat': 789, 'amus': 790, 'potenti': 791, 'struggl': 792, 'magic': 793, 'weird': 794, 'societi': 795, 'okay': 796, 'doctor': 797, 'accent': 798, 'imdb': 799, 'water': 800, 'hot': 801, '30': 802, 'express': 803, 'dr': 804, 'alien': 805, 'odd': 806, 'crazi': 807, 'choic': 808, 'studio': 809, 'fiction': 810, 'control': 811, 'becam': 812, 'masterpiec': 813, 'difficult': 814, 'fli': 815, 'joe': 816, 'scream': 817, 'costum': 818, 'lover': 819, 'uniqu': 820, 'refer': 821, 'remak': 822, 'girlfriend': 823, 'vampir': 824, 'prison': 825, 'execut': 826, 'wear': 827, 'jump': 828, 'wood': 829, 'unless': 830, 'creepi': 831, 'cheesi': 832, 'superb': 833, 'otherwis': 834, 'parti': 835, 'roll': 836, 'ghost': 837, 'mad': 838, 'public': 839, 'depict': 840, 'badli': 841, 'earlier': 842, 'week': 843, 'moral': 844, 'jane': 845, 'dumb': 846, 'fi': 847, 'grow': 848, 'flaw': 849, 'sci': 850, 'deep': 851, 'maker': 852, 'cat': 853, 'connect': 854, 'older': 855, 'footag': 856, 'bother': 857, 'plenti': 858, 'outsid': 859, 'stick': 860, 'gay': 861, 'catch': 862, 'plu': 863, 'co': 864, 'popular': 865, 'equal': 866, 'social': 867, 'quickli': 868, 'disturb': 869, 'perfectli': 870, 'dress': 871, '90': 872, 'era': 873, 'mistak': 874, 'lie': 875, 'previou': 876, 'ride': 877, 'combin': 878, 'concept': 879, 'band': 880, 'surviv': 881, 'answer': 882, 'rich': 883, 'front': 884, 'sweet': 885, 'christma': 886, 'insid': 887, 'concern': 888, 'eat': 889, 'bare': 890, 'beat': 891, 'listen': 892, 'ben': 893, 'c': 894, 'term': 895, 'serv': 896, 'la': 897, 'german': 898, 'meant': 899, 'hardli': 900, 'stereotyp': 901, 'law': 902, 'innoc': 903, 'desper': 904, 'promis': 905, 'memori': 906, 'cute': 907, 'intent': 908, 'inform': 909, 'steal': 910, 'variou': 911, 'brain': 912, 'post': 913, 'tone': 914, 'island': 915, 'amount': 916, 'track': 917, 'compani': 918, 'nuditi': 919, 'claim': 920, 'store': 921, 'hair': 922, 'flat': 923, '50': 924, 'land': 925, 'univers': 926, 'danger': 927, 'kick': 928, 'scott': 929, 'fairli': 930, 'player': 931, 'plain': 932, 'step': 933, 'crew': 934, 'toni': 935, 'share': 936, 'centuri': 937, 'tast': 938, 'engag': 939, 'achiev': 940, 'travel': 941, 'cold': 942, 'rip': 943, 'suit': 944, 'record': 945, 'sadli': 946, 'manner': 947, 'tension': 948, 'spot': 949, 'wrote': 950, 'fascin': 951, 'intens': 952, 'familiar': 953, 'remark': 954, 'depth': 955, 'burn': 956, 'destroy': 957, 'histor': 958, 'sleep': 959, 'purpos': 960, 'languag': 961, 'ruin': 962, 'ignor': 963, 'delight': 964, 'unbeliev': 965, 'italian': 966, 'abil': 967, 'collect': 968, 'soul': 969, 'clever': 970, 'detect': 971, 'violent': 972, 'rape': 973, 'reach': 974, 'door': 975, 'trash': 976, 'scienc': 977, 'liter': 978, 'caught': 979, 'commun': 980, 'reveng': 981, 'creatur': 982, 'approach': 983, 'trip': 984, 'intrigu': 985, 'fashion': 986, 'introduc': 987, 'skill': 988, 'paint': 989, 'channel': 990, 'complex': 991, 'camp': 992, 'christian': 993, 'extra': 994, 'hole': 995, 'ann': 996, 'limit': 997, 'immedi': 998, 'mental': 999, 'mere': 1000, 'slightli': 1001, 'million': 1002, '6': 1003, 'comput': 1004, 'slasher': 1005, 'conclus': 1006, 'suddenli': 1007, 'imposs': 1008, 'crimin': 1009, 'neither': 1010, 'teen': 1011, 'physic': 1012, 'nation': 1013, 'spent': 1014, 'respons': 1015, 'planet': 1016, 'fake': 1017, 'receiv': 1018, 'sick': 1019, 'blue': 1020, 'bizarr': 1021, 'embarrass': 1022, 'indian': 1023, '15': 1024, 'ring': 1025, 'pop': 1026, 'drop': 1027, 'drag': 1028, 'haunt': 1029, 'pointless': 1030, 'suspect': 1031, 'search': 1032, 'edg': 1033, 'handl': 1034, 'common': 1035, 'biggest': 1036, 'hurt': 1037, 'arriv': 1038, 'faith': 1039, 'technic': 1040, 'angel': 1041, 'dad': 1042, 'genuin': 1043, 'awesom': 1044, 'solid': 1045, 'f': 1046, 'former': 1047, 'colleg': 1048, 'focu': 1049, 'van': 1050, 'count': 1051, 'heavi': 1052, 'tear': 1053, 'rais': 1054, 'wall': 1055, 'laughabl': 1056, 'visit': 1057, 'younger': 1058, 'fair': 1059, 'excus': 1060, 'sign': 1061, 'cult': 1062, 'tough': 1063, 'motion': 1064, 'key': 1065, 'super': 1066, 'desir': 1067, 'stun': 1068, 'addit': 1069, 'cloth': 1070, 'exploit': 1071, 'tortur': 1072, 'smith': 1073, 'race': 1074, 'davi': 1075, 'cross': 1076, 'author': 1077, 'jim': 1078, 'compel': 1079, 'consist': 1080, 'focus': 1081, 'minor': 1082, 'pathet': 1083, 'commit': 1084, 'chemistri': 1085, 'park': 1086, 'frank': 1087, 'obsess': 1088, 'tradit': 1089, 'grade': 1090, '60': 1091, 'asid': 1092, 'brutal': 1093, 'steve': 1094, 'somewher': 1095, 'depress': 1096, 'explor': 1097, 'u': 1098, 'rule': 1099, 'opportun': 1100, 'grant': 1101, 'besid': 1102, 'honest': 1103, 'anti': 1104, 'dub': 1105, 'intend': 1106, 'trailer': 1107, 'bar': 1108, 'longer': 1109, 'regard': 1110, 'west': 1111, 'scientist': 1112, 'decad': 1113, 'judg': 1114, 'silent': 1115, 'creativ': 1116, 'armi': 1117, 'wild': 1118, 'south': 1119, 'g': 1120, 'stewart': 1121, 'draw': 1122, 'road': 1123, 'govern': 1124, 'boss': 1125, 'ex': 1126, 'practic': 1127, 'motiv': 1128, 'gang': 1129, 'festiv': 1130, 'club': 1131, 'surprisingli': 1132, 'green': 1133, 'page': 1134, 'london': 1135, 'redeem': 1136, 'idiot': 1137, 'machin': 1138, 'aliv': 1139, 'militari': 1140, 'display': 1141, 'thrill': 1142, 'repeat': 1143, '100': 1144, 'yeah': 1145, 'folk': 1146, 'nobodi': 1147, '40': 1148, 'journey': 1149, 'garbag': 1150, 'tire': 1151, 'ground': 1152, 'smile': 1153, 'bought': 1154, 'mood': 1155, 'stone': 1156, 'sam': 1157, 'cost': 1158, 'mouth': 1159, 'noir': 1160, 'terrif': 1161, 'agent': 1162, 'requir': 1163, 'utterli': 1164, 'honestli': 1165, 'area': 1166, 'sexi': 1167, 'geniu': 1168, 'report': 1169, 'humour': 1170, 'investig': 1171, 'glad': 1172, 'enter': 1173, 'serial': 1174, 'passion': 1175, 'occasion': 1176, 'narr': 1177, 'climax': 1178, 'marriag': 1179, 'studi': 1180, 'industri': 1181, 'charli': 1182, 'nowher': 1183, 'ship': 1184, 'center': 1185, 'demon': 1186, 'bear': 1187, 'hors': 1188, 'loos': 1189, 'wow': 1190, 'hang': 1191, 'graphic': 1192, 'giant': 1193, 'admir': 1194, 'send': 1195, 'damn': 1196, 'loud': 1197, 'subtl': 1198, 'rel': 1199, 'profession': 1200, 'nake': 1201, 'blow': 1202, 'bottom': 1203, 'insult': 1204, 'batman': 1205, 'boyfriend': 1206, 'r': 1207, 'doubl': 1208, 'kelli': 1209, 'initi': 1210, 'frame': 1211, 'opera': 1212, 'gem': 1213, 'drawn': 1214, 'challeng': 1215, 'cinemat': 1216, 'church': 1217, 'affect': 1218, 'fulli': 1219, 'nightmar': 1220, 'j': 1221, 'l': 1222, 'seek': 1223, 'evid': 1224, 'arm': 1225, 'essenti': 1226, 'conflict': 1227, 'henri': 1228, 'wind': 1229, 'christoph': 1230, 'grace': 1231, 'narrat': 1232, 'witch': 1233, 'assum': 1234, 'push': 1235, 'hunt': 1236, 'chri': 1237, 'wise': 1238, 'repres': 1239, 'nomin': 1240, 'month': 1241, 'affair': 1242, 'sceneri': 1243, 'avail': 1244, 'hide': 1245, 'smart': 1246, 'thu': 1247, 'bond': 1248, 'justic': 1249, 'flashback': 1250, 'outstand': 1251, 'interview': 1252, 'presenc': 1253, 'constantli': 1254, 'satisfi': 1255, 'central': 1256, 'bed': 1257, 'sell': 1258, 'content': 1259, 'iron': 1260, 'gag': 1261, 'everybodi': 1262, 'slowli': 1263, 'hotel': 1264, 'hire': 1265, 'system': 1266, 'hey': 1267, 'individu': 1268, 'thrown': 1269, 'adam': 1270, 'charl': 1271, 'jone': 1272, 'mediocr': 1273, 'allen': 1274, 'lesson': 1275, 'billi': 1276, 'ray': 1277, 'cameo': 1278, 'photographi': 1279, 'fellow': 1280, 'pari': 1281, 'strike': 1282, 'rise': 1283, 'absurd': 1284, 'independ': 1285, 'brief': 1286, 'neg': 1287, 'phone': 1288, 'impact': 1289, 'born': 1290, 'ill': 1291, 'model': 1292, 'spoil': 1293, 'angl': 1294, 'fresh': 1295, 'abus': 1296, 'likabl': 1297, 'discuss': 1298, 'hill': 1299, 'ahead': 1300, 'sight': 1301, 'photograph': 1302, 'sent': 1303, 'shine': 1304, 'logic': 1305, 'blame': 1306, 'occur': 1307, 'mainli': 1308, 'bruce': 1309, 'commerci': 1310, 'forev': 1311, 'skip': 1312, 'teacher': 1313, 'surround': 1314, 'segment': 1315, 'held': 1316, 'blond': 1317, 'zero': 1318, 'resembl': 1319, 'satir': 1320, 'trap': 1321, 'summer': 1322, 'six': 1323, 'ball': 1324, 'queen': 1325, 'fool': 1326, 'twice': 1327, 'sub': 1328, 'tragedi': 1329, 'reaction': 1330, 'pack': 1331, 'bomb': 1332, 'hospit': 1333, 'will': 1334, 'protagonist': 1335, 'mile': 1336, 'sport': 1337, 'trust': 1338, 'jerri': 1339, 'drink': 1340, 'mom': 1341, 'vote': 1342, 'encount': 1343, 'plane': 1344, 'current': 1345, 'program': 1346, 'station': 1347, 'al': 1348, 'choos': 1349, 'celebr': 1350, 'martin': 1351, 'join': 1352, 'lord': 1353, 'field': 1354, 'round': 1355, 'favourit': 1356, 'tragic': 1357, 'robot': 1358, 'vision': 1359, 'jean': 1360, 'arthur': 1361, 'tie': 1362, 'roger': 1363, 'random': 1364, 'fortun': 1365, 'intern': 1366, 'dread': 1367, 'psycholog': 1368, 'improv': 1369, 'nonsens': 1370, 'prefer': 1371, 'epic': 1372, 'formula': 1373, 'legend': 1374, 'highlight': 1375, 'pleasur': 1376, 'tape': 1377, '11': 1378, 'dollar': 1379, 'porn': 1380, 'wide': 1381, 'gorgeou': 1382, 'fox': 1383, 'object': 1384, 'thin': 1385, 'influenc': 1386, 'buddi': 1387, 'ugli': 1388, 'ii': 1389, 'prepar': 1390, 'nasti': 1391, 'reflect': 1392, 'supposedli': 1393, 'progress': 1394, 'warm': 1395, 'worthi': 1396, 'youth': 1397, 'unusu': 1398, 'length': 1399, 'latter': 1400, 'crash': 1401, 'shop': 1402, 'seven': 1403, 'childhood': 1404, 'superior': 1405, 'remot': 1406, 'theatr': 1407, 'paid': 1408, 'funniest': 1409, 'pilot': 1410, 'disgust': 1411, 'castl': 1412, 'convers': 1413, 'fell': 1414, 'trick': 1415, 'gangster': 1416, 'rob': 1417, 'disast': 1418, 'establish': 1419, 'heaven': 1420, 'suicid': 1421, 'mine': 1422, 'ident': 1423, 'disappear': 1424, 'decis': 1425, 'mask': 1426, 'singer': 1427, 'tend': 1428, 'forgotten': 1429, 'heroin': 1430, 'brian': 1431, 'partner': 1432, 'alan': 1433, 'desert': 1434, 'recogn': 1435, 'p': 1436, 'stuck': 1437, 'ms': 1438, 'sky': 1439, 'thoroughli': 1440, 'replac': 1441, 'accur': 1442, 'market': 1443, 'clue': 1444, 'eddi': 1445, 'seemingli': 1446, 'andi': 1447, 'uncl': 1448, 'danni': 1449, 'commentari': 1450, 'devil': 1451, 'jackson': 1452, 'therefor': 1453, 'that': 1454, 'pair': 1455, 'refus': 1456, 'accid': 1457, 'fault': 1458, 'fate': 1459, 'river': 1460, 'unit': 1461, 'ed': 1462, 'tune': 1463, 'afraid': 1464, 'clean': 1465, 'russian': 1466, 'stephen': 1467, 'hidden': 1468, 'convey': 1469, 'irrit': 1470, 'quick': 1471, 'captain': 1472, 'readi': 1473, 'instanc': 1474, 'test': 1475, 'european': 1476, 'daniel': 1477, 'insan': 1478, 'frustrat': 1479, 'chines': 1480, 'rescu': 1481, '1950': 1482, 'wed': 1483, 'food': 1484, 'dirti': 1485, 'angri': 1486, 'lock': 1487, 'joy': 1488, 'price': 1489, 'steven': 1490, 'bland': 1491, 'cage': 1492, 'anymor': 1493, 'rang': 1494, 'wooden': 1495, 'rush': 1496, 'n': 1497, 'news': 1498, 'jason': 1499, 'martial': 1500, 'twenti': 1501, 'led': 1502, '12': 1503, 'worri': 1504, 'board': 1505, 'symbol': 1506, 'hunter': 1507, 'transform': 1508, 'cgi': 1509, 'invent': 1510, 'x': 1511, 'piti': 1512, 'johnni': 1513, 'onto': 1514, 'sentiment': 1515, 'attitud': 1516, 'explan': 1517, 'process': 1518, 'owner': 1519, 'awar': 1520, 'aim': 1521, 'favor': 1522, 'energi': 1523, 'floor': 1524, 'target': 1525, 'necessari': 1526, 'religi': 1527, 'opposit': 1528, 'blind': 1529, 'chick': 1530, 'insight': 1531, 'window': 1532, 'movement': 1533, 'research': 1534, 'deepli': 1535, 'mountain': 1536, 'comparison': 1537, 'possess': 1538, 'whatsoev': 1539, 'comed': 1540, 'rain': 1541, 'grand': 1542, 'mid': 1543, 'began': 1544, 'bank': 1545, 'shadow': 1546, 'parodi': 1547, 'princ': 1548, 'taylor': 1549, 'credibl': 1550, 'weapon': 1551, 'friendship': 1552, 'pre': 1553, 'dougla': 1554, 'flesh': 1555, 'teach': 1556, 'bloodi': 1557, 'protect': 1558, 'terror': 1559, 'hint': 1560, 'marvel': 1561, 'accord': 1562, 'leader': 1563, 'load': 1564, 'anybodi': 1565, 'watchabl': 1566, 'drunk': 1567, 'superman': 1568, 'freddi': 1569, 'brown': 1570, 'hitler': 1571, 'tim': 1572, 'seat': 1573, 'appropri': 1574, 'jeff': 1575, 'charg': 1576, 'villag': 1577, 'knock': 1578, 'unknown': 1579, 'keaton': 1580, 'unnecessari': 1581, 'england': 1582, 'enemi': 1583, 'empti': 1584, 'media': 1585, 'utter': 1586, 'buck': 1587, 'perspect': 1588, 'strength': 1589, 'dare': 1590, 'wave': 1591, 'craft': 1592, 'ford': 1593, 'kiss': 1594, 'contrast': 1595, 'correct': 1596, 'nativ': 1597, 'distract': 1598, 'soap': 1599, 'anywher': 1600, 'chill': 1601, 'speed': 1602, 'magnific': 1603, 'knowledg': 1604, 'nazi': 1605, 'ice': 1606, '1980': 1607, 'breath': 1608, 'mission': 1609, 'fred': 1610, 'moon': 1611, 'jr': 1612, 'crowd': 1613, 'joan': 1614, 'frighten': 1615, '000': 1616, 'soft': 1617, 'kate': 1618, 'nick': 1619, 'dan': 1620, 'dick': 1621, 'hundr': 1622, 'somebodi': 1623, 'dozen': 1624, 'radio': 1625, 'simon': 1626, 'thousand': 1627, 'andrew': 1628, 'academi': 1629, 'loss': 1630, 'shakespear': 1631, 'quot': 1632, 'root': 1633, 'vehicl': 1634, 'sum': 1635, 'account': 1636, '1970': 1637, 'behavior': 1638, 'convent': 1639, 'leg': 1640, 'gold': 1641, 'regular': 1642, 'pretenti': 1643, 'worker': 1644, 'demand': 1645, 'compet': 1646, 'candi': 1647, 'japan': 1648, 'privat': 1649, 'interpret': 1650, 'lynch': 1651, 'notabl': 1652, 'stretch': 1653, 'explos': 1654, 'constant': 1655, 'debut': 1656, 'tarzan': 1657, 'revolv': 1658, 'spi': 1659, 'prais': 1660, 'translat': 1661, 'sea': 1662, 'ass': 1663, 'franc': 1664, 'failur': 1665, 'sat': 1666, 'technolog': 1667, 'quiet': 1668, 'jesu': 1669, 'threaten': 1670, 'kevin': 1671, 'punch': 1672, 'met': 1673, 'higher': 1674, 'aid': 1675, 'toy': 1676, 'interact': 1677, 'mike': 1678, 'vh': 1679, 'abandon': 1680, 'separ': 1681, 'command': 1682, 'confront': 1683, 'bet': 1684, 'techniqu': 1685, 'gotten': 1686, 'recal': 1687, 'stunt': 1688, 'site': 1689, 'belong': 1690, 'servic': 1691, 'bug': 1692, 'foot': 1693, 'cabl': 1694, 'freak': 1695, 'jimmi': 1696, 'bright': 1697, 'capabl': 1698, 'fu': 1699, 'african': 1700, 'stock': 1701, 'fat': 1702, 'succeed': 1703, 'presid': 1704, 'clark': 1705, 'boat': 1706, 'structur': 1707, 'spanish': 1708, 'gene': 1709, 'paper': 1710, 'kidnap': 1711, 'belief': 1712, 'whilst': 1713, 'factor': 1714, 'educ': 1715, 'complic': 1716, 'tree': 1717, 'realis': 1718, 'realism': 1719, 'bob': 1720, 'witti': 1721, 'attend': 1722, 'broken': 1723, 'finest': 1724, 'assist': 1725, 'santa': 1726, 'determin': 1727, 'depart': 1728, 'up': 1729, 'smoke': 1730, 'observ': 1731, 'v': 1732, 'rubbish': 1733, 'domin': 1734, 'oper': 1735, 'routin': 1736, 'hat': 1737, 'lewi': 1738, 'fame': 1739, 'hook': 1740, 'lone': 1741, 'kinda': 1742, 'safe': 1743, 'foreign': 1744, 'morgan': 1745, 'advanc': 1746, 'rank': 1747, 'numer': 1748, 'civil': 1749, 'shallow': 1750, 'vs': 1751, 'rose': 1752, 'werewolf': 1753, 'shape': 1754, 'washington': 1755, 'gari': 1756, 'morn': 1757, 'accomplish': 1758, 'winner': 1759, 'ordinari': 1760, 'kong': 1761, 'whenev': 1762, 'grab': 1763, 'peac': 1764, 'virtual': 1765, 'luck': 1766, 'h': 1767, 'offens': 1768, 'contriv': 1769, 'welcom': 1770, 'complain': 1771, 'activ': 1772, 'patient': 1773, 'bigger': 1774, 'unfunni': 1775, 'dimension': 1776, 'pretend': 1777, 'con': 1778, 'trek': 1779, 'eric': 1780, 'lesbian': 1781, 'flash': 1782, 'wake': 1783, 'dri': 1784, 'cain': 1785, 'code': 1786, 'manipul': 1787, 'dancer': 1788, 'statu': 1789, 'albert': 1790, 'corrupt': 1791, 'guard': 1792, 'gain': 1793, 'sourc': 1794, 'context': 1795, 'signific': 1796, 'awkward': 1797, 'speech': 1798, 'clip': 1799, 'corni': 1800, 'sean': 1801, '13': 1802, 'anthoni': 1803, 'psycho': 1804, 'reli': 1805, 'advic': 1806, 'religion': 1807, 'w': 1808, 'priest': 1809, 'curiou': 1810, 'theatric': 1811, 'flow': 1812, 'addict': 1813, 'secur': 1814, 'howard': 1815, 'jennif': 1816, 'asian': 1817, 'skin': 1818, 'specif': 1819, 'luke': 1820, 'promot': 1821, 'golden': 1822, 'organ': 1823, 'core': 1824, 'comfort': 1825, 'lucki': 1826, 'cheat': 1827, 'cash': 1828, 'dislik': 1829, 'associ': 1830, 'lower': 1831, 'degre': 1832, 'wing': 1833, 'devic': 1834, 'regret': 1835, 'balanc': 1836, 'spell': 1837, 'contribut': 1838, 'frequent': 1839, 'frankli': 1840, 'print': 1841, 'sake': 1842, 'lake': 1843, 'forgiv': 1844, 'betti': 1845, 'thoma': 1846, 'mass': 1847, 'unexpect': 1848, 'crack': 1849, 'gordon': 1850, 'categori': 1851, 'unfold': 1852, 'amateur': 1853, 'depend': 1854, 'construct': 1855, 'invit': 1856, 'grown': 1857, 'anna': 1858, 'intellectu': 1859, 'condit': 1860, 'matur': 1861, 'walter': 1862, 'grew': 1863, 'honor': 1864, 'veteran': 1865, 'sole': 1866, 'mirror': 1867, 'spectacular': 1868, 'sudden': 1869, 'overli': 1870, 'freedom': 1871, 'robin': 1872, 'card': 1873, 'meanwhil': 1874, 'experienc': 1875, 'gift': 1876, 'liner': 1877, 'grip': 1878, 'demonstr': 1879, 'sheriff': 1880, 'brilliantli': 1881, 'section': 1882, 'theori': 1883, 'colour': 1884, 'crappi': 1885, 'subtitl': 1886, 'unabl': 1887, 'oliv': 1888, 'drew': 1889, 'circumst': 1890, 'pile': 1891, 'laughter': 1892, 'parker': 1893, 'matt': 1894, 'cook': 1895, 'altern': 1896, 'path': 1897, 'sheer': 1898, 'lawyer': 1899, 'hall': 1900, 'sinatra': 1901, 'wander': 1902, 'accident': 1903, 'treatment': 1904, 'relief': 1905, 'defin': 1906, 'hank': 1907, 'dragon': 1908, 'captiv': 1909, 'moor': 1910, 'halloween': 1911, 'gratuit': 1912, 'unintent': 1913, 'broadway': 1914, 'barbara': 1915, 'jacki': 1916, 'wound': 1917, 'wayn': 1918, 'k': 1919, 'cowboy': 1920, 'kung': 1921, 'canadian': 1922, 'spoof': 1923, 'surreal': 1924, 'winter': 1925, 'statement': 1926, 'fish': 1927, 'compos': 1928, 'cheer': 1929, 'gonna': 1930, 'treasur': 1931, 'fare': 1932, 'sensit': 1933, 'unrealist': 1934, 'victor': 1935, 'emerg': 1936, 'woodi': 1937, 'ran': 1938, 'sympathet': 1939, 'neighbor': 1940, 'driven': 1941, 'menac': 1942, 'overlook': 1943, 'expos': 1944, 'topic': 1945, 'authent': 1946, 'glass': 1947, 'gross': 1948, 'ancient': 1949, 'chief': 1950, 'handsom': 1951, 'michel': 1952, 'contemporari': 1953, 'built': 1954, 'network': 1955, 'cinderella': 1956, 'feet': 1957, 'pleasant': 1958, 'nevertheless': 1959, 'comedian': 1960, 'russel': 1961, 'stranger': 1962, 'gori': 1963, 'underr': 1964, 'endless': 1965, 'miser': 1966, 'blockbust': 1967, 'letter': 1968, 'consider': 1969, 'earn': 1970, 'switch': 1971, 'solv': 1972, 'brook': 1973, 'edward': 1974, 'bullet': 1975, 'convict': 1976, 'joseph': 1977, 'virgin': 1978, 'victoria': 1979, 'chosen': 1980, 'scenario': 1981, '0': 1982, 'scale': 1983, 'cynic': 1984, 'alex': 1985, 'com': 1986, 'gut': 1987, 'outrag': 1988, 'sword': 1989, 'curs': 1990, 'screenwrit': 1991, 'proper': 1992, 'uk': 1993, 'juli': 1994, 'wrap': 1995, 'driver': 1996, 'monkey': 1997, 'substanc': 1998, 'par': 1999, 'court': 2000, 'bird': 2001, 'indic': 2002, 'remov': 2003, 'advertis': 2004, 'grave': 2005, 'inevit': 2006, 'rental': 2007, 'loser': 2008, 'roy': 2009, 'naiv': 2010, 'nanci': 2011, 'consequ': 2012, 'invis': 2013, 'slap': 2014, 'fatal': 2015, 'le': 2016, 'germani': 2017, 'bridg': 2018, 'brave': 2019, 'anger': 2020, 'loui': 2021, 'ador': 2022, 'provok': 2023, 'footbal': 2024, 'chan': 2025, 'anderson': 2026, 'alcohol': 2027, 'stumbl': 2028, 'ryan': 2029, 'professor': 2030, 'willi': 2031, '1930': 2032, 'sharp': 2033, 'assassin': 2034, 'patrick': 2035, 'australian': 2036, 'bat': 2037, 'strongli': 2038, 'refresh': 2039, 'liber': 2040, 'trilog': 2041, 'heck': 2042, 'cell': 2043, 'eight': 2044, 'deni': 2045, 'lousi': 2046, 'ape': 2047, 'amateurish': 2048, 'saturday': 2049, 'sin': 2050, 'vagu': 2051, 'resid': 2052, 'san': 2053, 'justifi': 2054, 'mini': 2055, 'defeat': 2056, 'sympathi': 2057, 'indi': 2058, 'terrifi': 2059, 'reput': 2060, 'creator': 2061, 'endur': 2062, 'tediou': 2063, 'expert': 2064, 'prevent': 2065, 'tabl': 2066, 'task': 2067, 'imit': 2068, 'offend': 2069, 'basebal': 2070, 'employ': 2071, 'trial': 2072, 'rival': 2073, 'che': 2074, 'weekend': 2075, 'complaint': 2076, 'europ': 2077, 'dig': 2078, 'max': 2079, 'beach': 2080, 'fairi': 2081, 'pitch': 2082, 'format': 2083, 'murphi': 2084, 'purchas': 2085, 'risk': 2086, 'hype': 2087, 'reminisc': 2088, 'harsh': 2089, 'titan': 2090, 'glimps': 2091, 'bite': 2092, 'nois': 2093, 'tini': 2094, 'powel': 2095, 'prime': 2096, 'fals': 2097, 'strip': 2098, 'till': 2099, '14': 2100, 'asleep': 2101, 'north': 2102, 'descript': 2103, 'texa': 2104, 'revel': 2105, 'destruct': 2106, 'africa': 2107, 'sitcom': 2108, 'inner': 2109, 'uninterest': 2110, 'semi': 2111, 'arrest': 2112, 'spin': 2113, 'excess': 2114, 'surfac': 2115, 'dinosaur': 2116, 'massiv': 2117, 'controversi': 2118, 'maintain': 2119, 'hitchcock': 2120, 'argu': 2121, 'twin': 2122, 'makeup': 2123, 'melodrama': 2124, 'expens': 2125, 'ludicr': 2126, 'stare': 2127, 'reject': 2128, 'kim': 2129, 'insist': 2130, 'ideal': 2131, 'ala': 2132, 'forest': 2133, 'erot': 2134, 'subplot': 2135, 'ga': 2136, 'host': 2137, 'press': 2138, 'atroci': 2139, 'supernatur': 2140, 'columbo': 2141, 'nail': 2142, 'identifi': 2143, 'cant': 2144, 'presum': 2145, 'dude': 2146, 'notch': 2147, 'forgett': 2148, 'character': 2149, 'crude': 2150, 'closer': 2151, 'method': 2152, 'guest': 2153, 'plagu': 2154, 'beast': 2155, 'border': 2156, 'princess': 2157, 'foster': 2158, 'lion': 2159, 'ear': 2160, 'landscap': 2161, 'damag': 2162, 'birth': 2163, 'accus': 2164, 'aunt': 2165, 'bound': 2166, 'jungl': 2167, 'previous': 2168, 'urban': 2169, 'pacino': 2170, 'storytel': 2171, 'chose': 2172, 'jess': 2173, 'propaganda': 2174, 'guid': 2175, 'thirti': 2176, 'doll': 2177, 'nude': 2178, 'emma': 2179, 'mate': 2180, 'whoever': 2181, 'pet': 2182, 'mainstream': 2183, 'warrior': 2184, '25': 2185, 'friday': 2186, 'deadli': 2187, 'gritti': 2188, 'exact': 2189, 'merit': 2190, 'poster': 2191, 'cooper': 2192, 'latest': 2193, 'upset': 2194, 'size': 2195, 'buff': 2196, 'blend': 2197, 'contest': 2198, 'settl': 2199, 'wilson': 2200, 'citizen': 2201, 'popul': 2202, 'sun': 2203, 'contact': 2204, '1990': 2205, 'rough': 2206, 'warner': 2207, 'ton': 2208, 'corps': 2209, 'overcom': 2210, 'rat': 2211, 'alic': 2212, 'bu': 2213, 'select': 2214, 'metal': 2215, 'environ': 2216, 'widow': 2217, 'mgm': 2218, 'pitt': 2219, 'link': 2220, 'particip': 2221, 'revolut': 2222, 'ted': 2223, 'guilti': 2224, 'lift': 2225, '1960': 2226, 'matrix': 2227, 'exagger': 2228, 'afternoon': 2229, 'moron': 2230, 'prostitut': 2231, 'accompani': 2232, 'corner': 2233, 'corpor': 2234, 'johnson': 2235, 'multipl': 2236, 'instal': 2237, 'doom': 2238, 'sincer': 2239, 'leagu': 2240, 'holm': 2241, 'clair': 2242, 'friendli': 2243, 'hood': 2244, 'defend': 2245, 'sunday': 2246, 'string': 2247, 'junk': 2248, 'campi': 2249, 'hip': 2250, 'examin': 2251, 'grim': 2252, 'advis': 2253, 'aka': 2254, 'blah': 2255, 'lugosi': 2256, 'irish': 2257, 'shut': 2258, 'tight': 2259, 'shake': 2260, 'varieti': 2261, 'rachel': 2262, 'pro': 2263, 'confid': 2264, 'icon': 2265, 'attach': 2266, 'jaw': 2267, 'directli': 2268, 'sullivan': 2269, 'medic': 2270, 'mexican': 2271, 'goal': 2272, 'denni': 2273, 'courag': 2274, 'truck': 2275, 'prior': 2276, 'dean': 2277, 'vietnam': 2278, 'sentenc': 2279, 'breast': 2280, 'sarah': 2281, 'terrorist': 2282, 'legendari': 2283, 'duke': 2284, 'bourn': 2285, 'split': 2286, 'behav': 2287, 'donald': 2288, 'yell': 2289, 'hong': 2290, 'nose': 2291, 'proceed': 2292, 'un': 2293, 'entri': 2294, 'buri': 2295, 'confess': 2296, 'gather': 2297, 'jerk': 2298, 'everywher': 2299, 'forth': 2300, 'swim': 2301, 'unconvinc': 2302, 'lifetim': 2303, 'crush': 2304, 'concentr': 2305, 'borrow': 2306, 'stolen': 2307, 'deliveri': 2308, 'turkey': 2309, 'pan': 2310, 'julia': 2311, 'spite': 2312, 'california': 2313, 'lip': 2314, 'proud': 2315, 'reward': 2316, 'downright': 2317, 'china': 2318, 'offici': 2319, 'quest': 2320, 'flight': 2321, 'hoffman': 2322, 'freeman': 2323, 'inept': 2324, 'fade': 2325, 'sir': 2326, 'betray': 2327, 'fabul': 2328, 'jon': 2329, 'encourag': 2330, 'notori': 2331, 'lazi': 2332, 'worthwhil': 2333, 'sink': 2334, 'jail': 2335, 'cousin': 2336, 'susan': 2337, 'teeth': 2338, 'shower': 2339, 'bag': 2340, 'survivor': 2341, 'relev': 2342, 'bell': 2343, 'imageri': 2344, 'storm': 2345, 'retard': 2346, 'lisa': 2347, 'branagh': 2348, 'toler': 2349, 'quirki': 2350, 'tremend': 2351, 'bride': 2352, 'trade': 2353, 'finger': 2354, 'mexico': 2355, 'hugh': 2356, 'shark': 2357, 'summari': 2358, 'stab': 2359, 'alright': 2360, 'facial': 2361, 'hyster': 2362, 'pose': 2363, 'von': 2364, 'bitter': 2365, 'blown': 2366, 'ha': 2367, 'ron': 2368, 'address': 2369, 'bone': 2370, 'ned': 2371, 'larri': 2372, 'cruel': 2373, 'afterward': 2374, 'scheme': 2375, 'christ': 2376, 'thumb': 2377, 'traci': 2378, 'screw': 2379, 'beg': 2380, 'distinct': 2381, 'feed': 2382, 'pursu': 2383, 'snake': 2384, 'tour': 2385, 'swear': 2386, 'obscur': 2387, 'occas': 2388, 'mechan': 2389, 'photo': 2390, 'stomach': 2391, 'chair': 2392, 'raw': 2393, 'hardi': 2394, 'argument': 2395, 'heavili': 2396, 'cabin': 2397, 'chain': 2398, 'render': 2399, 'necessarili': 2400, 'sidney': 2401, 'holiday': 2402, 'southern': 2403, 'resist': 2404, 'gruesom': 2405, 'india': 2406, 'satan': 2407, 'understood': 2408, 'indulg': 2409, 'philip': 2410, 'racist': 2411, 'pregnant': 2412, 'forgot': 2413, 'stalk': 2414, 'midnight': 2415, 'fourth': 2416, 'tongu': 2417, 'integr': 2418, 'lay': 2419, 'outfit': 2420, 'belov': 2421, 'obnoxi': 2422, '17': 2423, 'garden': 2424, 'ticket': 2425, 'slapstick': 2426, 'carol': 2427, 'restor': 2428, 'magazin': 2429, 'inhabit': 2430, 'deeper': 2431, 'lincoln': 2432, 'brad': 2433, 'devot': 2434, 'incid': 2435, 'shoe': 2436, 'anticip': 2437, 'guarante': 2438, 'elizabeth': 2439, 'underground': 2440, 'lili': 2441, 'sandler': 2442, 'maria': 2443, 'disbelief': 2444, 'benefit': 2445, 'divorc': 2446, 'amazingli': 2447, 'creation': 2448, 'explod': 2449, 'princip': 2450, 'greater': 2451, 'cring': 2452, 'capit': 2453, 'mildli': 2454, 'slave': 2455, 'bbc': 2456, 'halfway': 2457, 'extraordinari': 2458, 'introduct': 2459, 'funnier': 2460, 'lesli': 2461, 'punish': 2462, 'extent': 2463, 'transfer': 2464, 'advantag': 2465, 'enhanc': 2466, 'text': 2467, 'wreck': 2468, 'overwhelm': 2469, 'tap': 2470, 'horrif': 2471, 'east': 2472, 'deliber': 2473, 'dynam': 2474, 'plant': 2475, 'lane': 2476, 'preview': 2477, 'jessica': 2478, 'error': 2479, 'lo': 2480, 'vincent': 2481, 'homosexu': 2482, 'miller': 2483, 'vacat': 2484, 'appli': 2485, 'ensu': 2486, 'sophist': 2487, 'miscast': 2488, 'basi': 2489, '2000': 2490, 'extend': 2491, 'mansion': 2492, 'steel': 2493, 'measur': 2494, 'via': 2495, 'spoken': 2496, 'sleazi': 2497, 'uncomfort': 2498, 'bollywood': 2499, 'reed': 2500, 'elev': 2501, 'blair': 2502, 'fix': 2503, 'conceiv': 2504, 'goofi': 2505, 'alter': 2506, 'daili': 2507, 'dentist': 2508, 'hippi': 2509, 'cathol': 2510, 'savag': 2511, 'assign': 2512, 'breathtak': 2513, 'overact': 2514, 'beer': 2515, 'mous': 2516, 'melt': 2517, 'stanley': 2518, 'carpent': 2519, 'burt': 2520, 'succe': 2521, 'everyday': 2522, 'inspector': 2523, 'subsequ': 2524, 'oppos': 2525, 'properli': 2526, 'nowaday': 2527, 'sacrific': 2528, 'block': 2529, 'circl': 2530, 'neck': 2531, 'massacr': 2532, 'laura': 2533, 'concert': 2534, 'pool': 2535, 'portrait': 2536, 'access': 2537, 'seagal': 2538, 'fallen': 2539, 'mob': 2540, 'fay': 2541, 'grey': 2542, 'lesser': 2543, 'christi': 2544, 'sinist': 2545, 'chees': 2546, 'usa': 2547, 'relax': 2548, 'competit': 2549, 'react': 2550, 'jewish': 2551, 'isol': 2552, 'jake': 2553, 'chop': 2554, 'suitabl': 2555, 'spiritu': 2556, '2006': 2557, 'ironi': 2558, 'stink': 2559, 'immens': 2560, 'creep': 2561, 'lyric': 2562, 'nine': 2563, 'nonetheless': 2564, 'appal': 2565, 'needless': 2566, 'user': 2567, 'rage': 2568, 'retir': 2569, 'reduc': 2570, 'shirt': 2571, 'spring': 2572, 'nut': 2573, 'adopt': 2574, 'franchis': 2575, 'showcas': 2576, 'navi': 2577, 'luci': 2578, 'sold': 2579, 'per': 2580, 'asham': 2581, 'stanwyck': 2582, 'jay': 2583, 'nurs': 2584, 'bulli': 2585, 'zone': 2586, 'bath': 2587, 'digit': 2588, 'uninspir': 2589, 'broadcast': 2590, 'sutherland': 2591, 'amongst': 2592, 'oddli': 2593, 'laid': 2594, '2001': 2595, 'upper': 2596, 'illustr': 2597, '1940': 2598, 'throat': 2599, 'stylish': 2600, 'disguis': 2601, 'fulfil': 2602, 'baker': 2603, 'aspir': 2604, 'brando': 2605, 'impli': 2606, 'wanna': 2607, 'endear': 2608, '18': 2609, 'thief': 2610, 'wwii': 2611, 'pound': 2612, 'nobl': 2613, 'em': 2614, 'pride': 2615, 'neighborhood': 2616, '16': 2617, 'cinematograph': 2618, 'dawn': 2619, 'distribut': 2620, 'dinner': 2621, 'coher': 2622, 'shift': 2623, 'diseas': 2624, 'shoulder': 2625, 'tens': 2626, 'prop': 2627, 'albeit': 2628, 'bett': 2629, 'rochest': 2630, 'bo': 2631, 'knife': 2632, 'surf': 2633, 'forti': 2634, 'poignant': 2635, 'matthau': 2636, 'function': 2637, 'wash': 2638, 'silenc': 2639, 'shout': 2640, 'rebel': 2641, 'snow': 2642, 'contract': 2643, 'mindless': 2644, 'internet': 2645, 'cancel': 2646, 'eeri': 2647, 'cannib': 2648, 'horrend': 2649, 'instinct': 2650, 'duti': 2651, 'heat': 2652, 'proof': 2653, 'height': 2654, 'reunion': 2655, 'silver': 2656, 'chuck': 2657, 'henc': 2658, 'derek': 2659, 'elvira': 2660, 'widmark': 2661, 'greatli': 2662, 'glori': 2663, 'repetit': 2664, 'pie': 2665, 'torn': 2666, 'musician': 2667, 'etern': 2668, 'alik': 2669, 'premier': 2670, 'incoher': 2671, 'absorb': 2672, 'neat': 2673, 'spielberg': 2674, 'elvi': 2675, 'innov': 2676, 'mill': 2677, 'burton': 2678, 'lovabl': 2679, 'announc': 2680, 'nelson': 2681, 'wealthi': 2682, 'crisi': 2683, 'homag': 2684, 'itali': 2685, 'blank': 2686, 'racism': 2687, 'britain': 2688, 'bang': 2689, 'redempt': 2690, 'fbi': 2691, 'horrifi': 2692, 'precis': 2693, 'trite': 2694, 'infam': 2695, 'diamond': 2696, 'flop': 2697, 'streisand': 2698, 'happili': 2699, 'resolut': 2700, 'wilder': 2701, 'ensembl': 2702, 'chaplin': 2703, 'dedic': 2704, 'parallel': 2705, 'hammer': 2706, 'helen': 2707, 'pat': 2708, 'factori': 2709, 'cube': 2710, 'conclud': 2711, 'triumph': 2712, 'plastic': 2713, 'broke': 2714, 'disagre': 2715, 'mar': 2716, 'st': 2717, 'carter': 2718, 'oil': 2719, 'bush': 2720, 'weight': 2721, 'chuckl': 2722, 'rocket': 2723, 'climb': 2724, 'vega': 2725, 'march': 2726, 'fighter': 2727, 'own': 2728, 'row': 2729, 'luca': 2730, 'enorm': 2731, 'mst3k': 2732, 'dump': 2733, 'meaning': 2734, 'thug': 2735, 'kurt': 2736, 'spare': 2737, 'boot': 2738, 'unforgett': 2739, 'lust': 2740, 'sensibl': 2741, 'wherea': 2742, 'dane': 2743, 'stress': 2744, 'threat': 2745, 'brand': 2746, 'adequ': 2747, 'bobbi': 2748, 'difficulti': 2749, 'fifti': 2750, 'dear': 2751, 'engin': 2752, 'caricatur': 2753, 'butt': 2754, 'rap': 2755, 'karloff': 2756, 'arnold': 2757, 'fest': 2758, 'elabor': 2759, 'ralph': 2760, 'journalist': 2761, 'polish': 2762, 'ego': 2763, 'homeless': 2764, 'flynn': 2765, 'secretari': 2766, 'swing': 2767, 'arrog': 2768, 'hamlet': 2769, 'barri': 2770, 'fanci': 2771, 'puppet': 2772, 'induc': 2773, 'grate': 2774, 'resort': 2775, 'spike': 2776, 'unbear': 2777, 'conspiraci': 2778, 'simpson': 2779, 'arrang': 2780, 'float': 2781, 'tool': 2782, 'tribut': 2783, 'exercis': 2784, 'choreograph': 2785, 'basement': 2786, 'muppet': 2787, 'cruis': 2788, 'pig': 2789, 'guilt': 2790, 'phillip': 2791, 'boll': 2792, 'file': 2793, 'puzzl': 2794, 'document': 2795, 'editor': 2796, 'tower': 2797, 'medium': 2798, 'fianc': 2799, 'korean': 2800, 'item': 2801, 'scarecrow': 2802, 'layer': 2803, 'ham': 2804, 'stan': 2805, 'toilet': 2806, 'ward': 2807, 'slip': 2808, 'babe': 2809, '24': 2810, 'minim': 2811, 'territori': 2812, 'portion': 2813, 'inexplic': 2814, 'librari': 2815, 'assur': 2816, 'doc': 2817, 'slaughter': 2818, 'catherin': 2819, 'superfici': 2820, 'philosoph': 2821, 'larger': 2822, 'spark': 2823, 'persona': 2824, 'glover': 2825, 'denzel': 2826, 'orient': 2827, 'transit': 2828, 'curti': 2829, 'ban': 2830, 'pg': 2831, 'boredom': 2832, 'dorothi': 2833, 'jet': 2834, 'wolf': 2835, 'shi': 2836, 'owe': 2837, 'walken': 2838, 'financi': 2839, 'jeremi': 2840, 'sneak': 2841, 'ambigu': 2842, 'metaphor': 2843, 'hudson': 2844, 'backdrop': 2845, 'multi': 2846, 'profound': 2847, 'eleph': 2848, 'cusack': 2849, 'whale': 2850, 'elsewher': 2851, 'ultra': 2852, 'notion': 2853, 'union': 2854, '2005': 2855, 'viru': 2856, 'birthday': 2857, 'hack': 2858, 'implaus': 2859, 'stiff': 2860, 'rave': 2861, 'gadget': 2862, 'eva': 2863, 'canada': 2864, '1st': 2865, 'urg': 2866, 'deriv': 2867, 'eastwood': 2868, 'superhero': 2869, 'poison': 2870, 'pad': 2871, 'slight': 2872, 'distanc': 2873, 'disc': 2874, 'afford': 2875, 'hawk': 2876, 'lloyd': 2877, 'squar': 2878, 'newspap': 2879, 'bibl': 2880, 'reader': 2881, 'skit': 2882, 'sadist': 2883, 'montag': 2884, 'button': 2885, 'cure': 2886, 'charisma': 2887, 'spread': 2888, 'essenc': 2889, 'restaur': 2890, 'heston': 2891, 'health': 2892, 'drown': 2893, 'huh': 2894, 'estat': 2895, 'invest': 2896, 'scoobi': 2897, 'peak': 2898, 'gradual': 2899, 'dealt': 2900, 'lab': 2901, 'godfath': 2902, 'maniac': 2903, 'muslim': 2904, 'companion': 2905, 'fetch': 2906, 'gothic': 2907, 'kane': 2908, 'subtleti': 2909, 'alli': 2910, 'ritter': 2911, 'servant': 2912, 'tea': 2913, 'countless': 2914, 'cup': 2915, 'miik': 2916, 'electr': 2917, 'iii': 2918, 'heroic': 2919, 'briefli': 2920, 'salli': 2921, 'elect': 2922, 'charismat': 2923, 'cole': 2924, 'nuanc': 2925, 'ingredi': 2926, 'toss': 2927, 'reel': 2928, 'resourc': 2929, 'grandmoth': 2930, 'neil': 2931, 'tender': 2932, 'bud': 2933, 'admittedli': 2934, 'wannab': 2935, 'stronger': 2936, 'stood': 2937, 'mild': 2938, 'shall': 2939, 'punk': 2940, 'label': 2941, 'kubrick': 2942, 'reev': 2943, 'poverti': 2944, 'carrey': 2945, 'gate': 2946, 'pauli': 2947, 'pit': 2948, 'mafia': 2949, 'dawson': 2950, 'fond': 2951, 'tag': 2952, 'updat': 2953, 'bakshi': 2954, 'cardboard': 2955, 'terri': 2956, 'burst': 2957, 'cox': 2958, 'useless': 2959, 'easier': 2960, 'ian': 2961, 'smooth': 2962, 'assault': 2963, 'smash': 2964, 'astair': 2965, 'outcom': 2966, 'samurai': 2967, 'vulner': 2968, 'coincid': 2969, 'fist': 2970, 'resolv': 2971, '2002': 2972, 'melodramat': 2973, 'vari': 2974, 'qualifi': 2975, 'exchang': 2976, 'rex': 2977, 'sketch': 2978, 'increasingli': 2979, 'divers': 2980, 'scratch': 2981, 'reynold': 2982, 'suspend': 2983, 'tame': 2984, 'be': 2985, 'templ': 2986, 'brillianc': 2987, 'conveni': 2988, 'insert': 2989, 'blast': 2990, 'luckili': 2991, 'farm': 2992, 'strictli': 2993, 'soprano': 2994, 'jami': 2995, 'meat': 2996, 'hamilton': 2997, 'pin': 2998, 'walker': 2999, 'gotta': 3000, 'ambiti': 3001, 'matthew': 3002, 'seventi': 3003, 'nuclear': 3004, 'fisher': 3005, 'coach': 3006, 'worthless': 3007, 'joey': 3008, 'convolut': 3009, 'empir': 3010, 'struck': 3011, 'revers': 3012, 'closet': 3013, 'butcher': 3014, 'clock': 3015, 'eccentr': 3016, 'recreat': 3017, 'grasp': 3018, 'brosnan': 3019, 'timeless': 3020, 'kudo': 3021, 'discoveri': 3022, 'ninja': 3023, 'spooki': 3024, 'instantli': 3025, 'cave': 3026, 'monk': 3027, 'communist': 3028, 'norman': 3029, 'inconsist': 3030, 'bleak': 3031, 'pal': 3032, 'mitchel': 3033, 'declar': 3034, 'importantli': 3035, 'miracl': 3036, 'wipe': 3037, 'clown': 3038, 'partli': 3039, 'selfish': 3040, 'seller': 3041, 'eighti': 3042, 'evok': 3043, 'cliff': 3044, 'fifteen': 3045, 'gray': 3046, 'sloppi': 3047, 'sidekick': 3048, 'debat': 3049, 'flawless': 3050, 'chew': 3051, '45': 3052, 'websit': 3053, 'enthusiast': 3054, 'aforement': 3055, 'seed': 3056, 'cheek': 3057, 'australia': 3058, 'destin': 3059, 'ho': 3060, 'farc': 3061, 'lifestyl': 3062, 'stoog': 3063, 'superbl': 3064, 'piano': 3065, 'psychiatrist': 3066, 'wrestl': 3067, 'soviet': 3068, 'directori': 3069, 'splatter': 3070, 'slice': 3071, 'wick': 3072, 'dash': 3073, 'regardless': 3074, 'emili': 3075, 'akshay': 3076, 'abc': 3077, 'drivel': 3078, 'incompet': 3079, 'pressur': 3080, 'bash': 3081, 'kitchen': 3082, 'anni': 3083, 'dire': 3084, 'curios': 3085, 'doo': 3086, 'pleasantli': 3087, 'dave': 3088, 'increas': 3089, 'prize': 3090, 'cia': 3091, 'mann': 3092, 'suppli': 3093, 'boil': 3094, 'glow': 3095, 'judi': 3096, 'cameron': 3097, 'artifici': 3098, 'jar': 3099, 'seduc': 3100, 'distant': 3101, 'lou': 3102, 'flower': 3103, 'beaten': 3104, 'chapter': 3105, 'duo': 3106, 'recov': 3107, 'ken': 3108, 'blob': 3109, 'helicopt': 3110, 'cagney': 3111, 'ellen': 3112, 'perri': 3113, 'craig': 3114, 'glenn': 3115, 'drunken': 3116, 'web': 3117, 'panic': 3118, 'splendid': 3119, 'ranger': 3120, 'francisco': 3121, 'psychot': 3122, 'eleg': 3123, 'hop': 3124, 'turner': 3125, 'combat': 3126, 'laurel': 3127, 'goldberg': 3128, 'craven': 3129, 'favour': 3130, 'gentl': 3131, 'greek': 3132, '20th': 3133, 'slightest': 3134, 'flip': 3135, 'philosophi': 3136, 'rid': 3137, 'fx': 3138, 'min': 3139, 'hatr': 3140, 'shortli': 3141, 'wizard': 3142, 'graduat': 3143, 'plausibl': 3144, 'alexand': 3145, 'falk': 3146, 'ruth': 3147, 'modesti': 3148, 'gandhi': 3149, 'knight': 3150, 'preciou': 3151, 'unpleas': 3152, 'ocean': 3153, 'we': 3154, 'dracula': 3155, 'manhattan': 3156, 'fund': 3157, 'jealou': 3158, 'holi': 3159, 'lend': 3160, 'tall': 3161, 'legal': 3162, 'harm': 3163, 'futurist': 3164, 'felix': 3165, 'ami': 3166, 'digniti': 3167, 'forbidden': 3168, 'bless': 3169, 'mock': 3170, 'childish': 3171, 'scientif': 3172, 'explicit': 3173, 'tank': 3174, 'overdon': 3175, 'thread': 3176, 'giallo': 3177, 'reviv': 3178, 'nod': 3179, '2004': 3180, 'unwatch': 3181, 'broad': 3182, '99': 3183, 'yesterday': 3184, 'margaret': 3185, 'elderli': 3186, 'pirat': 3187, 'fever': 3188, 'torment': 3189, 'nerv': 3190, 'eve': 3191, 'mel': 3192, 'verhoeven': 3193, 'thick': 3194, 'repeatedli': 3195, 'awaken': 3196, 'awe': 3197, 'absenc': 3198, 'rivet': 3199, 'ambit': 3200, 'royal': 3201, 'publish': 3202, 'romero': 3203, 'stiller': 3204, 'launch': 3205, 'kay': 3206, 'roman': 3207, 'griffith': 3208, 'custom': 3209, 'acclaim': 3210, 'politician': 3211, 'ah': 3212, 'bin': 3213, 'automat': 3214, 'uniform': 3215, 'eas': 3216, 'lean': 3217, 'timothi': 3218, 'homicid': 3219, 'stinker': 3220, 'gabriel': 3221, 'darker': 3222, 'sunshin': 3223, 'termin': 3224, 'bathroom': 3225, 'transport': 3226, 'wallac': 3227, 'tomato': 3228, 'pierc': 3229, 'foul': 3230, 'warren': 3231, 'antic': 3232, 'pulp': 3233, 'purpl': 3234, 'crook': 3235, 'phrase': 3236, 'marin': 3237, 'ought': 3238, 'evolv': 3239, 'packag': 3240, 'pray': 3241, 'sixti': 3242, 'horrid': 3243, 'li': 3244, 'viciou': 3245, 'revolutionari': 3246, 'juvenil': 3247, 'coloni': 3248, 'kenneth': 3249, 'brazil': 3250, 'prom': 3251, 'contrari': 3252, 'donna': 3253, 'hollow': 3254, '2003': 3255, 'q': 3256, 'saint': 3257, 'eyr': 3258, 'album': 3259, 'awak': 3260, 'choreographi': 3261, 'rambo': 3262, 'karen': 3263, 'conserv': 3264, 'beatti': 3265, 'candid': 3266, 'twelv': 3267, 'stole': 3268, 'kapoor': 3269, 'ramon': 3270, 'blade': 3271, 'overr': 3272, 'boast': 3273, 'dose': 3274, 'defi': 3275, 'option': 3276, 'nerd': 3277, 'mummi': 3278, 'ireland': 3279, 'mildr': 3280, 'funer': 3281, 'natali': 3282, 'detract': 3283, 'altman': 3284, 'protest': 3285, 'jazz': 3286, 'flame': 3287, 'trio': 3288, 'kirk': 3289, 'confirm': 3290, 'global': 3291, 'astonish': 3292, 'collabor': 3293, 'fulci': 3294, 'mystic': 3295, 'delici': 3296, 'destini': 3297, 'audio': 3298, 'yellow': 3299, 'bottl': 3300, 'racial': 3301, 'nicholson': 3302, 'shade': 3303, 'whip': 3304, 'enterpris': 3305, 'spit': 3306, 'tommi': 3307, 'blake': 3308, 'bull': 3309, 'leap': 3310, 'meaningless': 3311, 'visibl': 3312, 'neo': 3313, 'adolesc': 3314, 'threw': 3315, 'vivid': 3316, 'reunit': 3317, 'harder': 3318, 'altogeth': 3319, 'inherit': 3320, 'pseudo': 3321, 'staff': 3322, 'bedroom': 3323, 'swedish': 3324, 'popcorn': 3325, 'fonda': 3326, 'enchant': 3327, 'merci': 3328, 'todd': 3329, 'synopsi': 3330, 'kennedi': 3331, 'jew': 3332, 'voight': 3333, 'wire': 3334, 'respond': 3335, 'atlanti': 3336, 'fanat': 3337, 'lemmon': 3338, 'reserv': 3339, 'leonard': 3340, 'uneven': 3341, 'suspici': 3342, 'exhibit': 3343, 'befriend': 3344, 'madonna': 3345, 'bust': 3346, 'roommat': 3347, 'decor': 3348, 'lawrenc': 3349, 'moodi': 3350, 'crocodil': 3351, 'ruthless': 3352, 'await': 3353, 'tip': 3354, 'edi': 3355, 'centr': 3356, 'abysm': 3357, '2007': 3358, 'clint': 3359, 'dimens': 3360, 'bargain': 3361, 'clumsi': 3362, 'unsettl': 3363, 'bold': 3364, 'rural': 3365, 'bradi': 3366, 'ventur': 3367, 'audit': 3368, 'incident': 3369, 'chao': 3370, 'carl': 3371, 'voyag': 3372, 'garner': 3373, 'holli': 3374, 'palma': 3375, 'characterist': 3376, 'ant': 3377, 'tiger': 3378, 'troop': 3379, 'nearbi': 3380, '2nd': 3381, 'daddi': 3382, 'echo': 3383, 'acknowledg': 3384, 'hart': 3385, 'versu': 3386, 'neglect': 3387, 'mall': 3388, 'humili': 3389, 'wealth': 3390, 'cari': 3391, 'timon': 3392, 'cd': 3393, 'poetic': 3394, 'immigr': 3395, 'lit': 3396, 'elimin': 3397, 'trail': 3398, 'cuba': 3399, 'imperson': 3400, 'celluloid': 3401, 'collaps': 3402, 'jeffrey': 3403, 'infect': 3404, 'domest': 3405, 'repuls': 3406, 'mistaken': 3407, 'solo': 3408, 'pun': 3409, 'saga': 3410, 'marshal': 3411, 'prejudic': 3412, 'mickey': 3413, 'paus': 3414, 'homer': 3415, 'milk': 3416, '1996': 3417, 'leon': 3418, 'promin': 3419, 'coffe': 3420, 'assembl': 3421, 'equip': 3422, 'interrupt': 3423, 'chest': 3424, 'inappropri': 3425, 'hbo': 3426, 'inan': 3427, 'sore': 3428, 'coat': 3429, 'ginger': 3430, 'undoubtedli': 3431, 'harvey': 3432, 'pant': 3433, 'apolog': 3434, 'olivi': 3435, 'tribe': 3436, 'cake': 3437, 'gear': 3438, 'aveng': 3439, 'pot': 3440, 'embrac': 3441, 'institut': 3442, 'brooklyn': 3443, 'retain': 3444, 'trace': 3445, 'airplan': 3446, 'vulgar': 3447, 'devast': 3448, 'maggi': 3449, 'instant': 3450, 'humbl': 3451, 'jenni': 3452, 'colonel': 3453, 'colleagu': 3454, 'consum': 3455, 'furthermor': 3456, 'pen': 3457, 'florida': 3458, 'exot': 3459, 'highest': 3460, 'solut': 3461, 'polanski': 3462, 'primari': 3463, 'gender': 3464, 'disabl': 3465, 'seduct': 3466, 'rick': 3467, '1999': 3468, 'bowl': 3469, 'outer': 3470, 'strain': 3471, 'sale': 3472, 'dian': 3473, 'cope': 3474, 'smaller': 3475, 'linda': 3476, 'dutch': 3477, 'illog': 3478, 'principl': 3479, 'descend': 3480, 'ya': 3481, 'godzilla': 3482, 'wive': 3483, 'poke': 3484, '3rd': 3485, 'vast': 3486, 'mixtur': 3487, 'beneath': 3488, 'devoid': 3489, 'secondli': 3490, 'gloriou': 3491, 'yard': 3492, 'primarili': 3493, 'scope': 3494, 'inferior': 3495, 'bubbl': 3496, 'glamor': 3497, 'rabbit': 3498, 'dud': 3499, 'predecessor': 3500, 'cue': 3501, 'blatant': 3502, 'lol': 3503, 'dive': 3504, 'gundam': 3505, 'hal': 3506, 'shelf': 3507, 'museum': 3508, 'senseless': 3509, 'invas': 3510, 'z': 3511, 'alert': 3512, 'breed': 3513, 'streep': 3514, 'shirley': 3515, 'myer': 3516, 'casual': 3517, 'disjoint': 3518, 'april': 3519, 'grinch': 3520, 'hideou': 3521, 'alfr': 3522, 'domino': 3523, 'aggress': 3524, 'talki': 3525, 'arab': 3526, 'simplist': 3527, 'pearl': 3528, 'et': 3529, 'countrysid': 3530, 'garbo': 3531, 'trademark': 3532, 'vanish': 3533, 'unhappi': 3534, 'maci': 3535, 'robberi': 3536, 'acid': 3537, 'stir': 3538, 'obtain': 3539, 'hardcor': 3540, 'boom': 3541, 'hopeless': 3542, 'stellar': 3543, 'stack': 3544, 'mail': 3545, 'sh': 3546, 'rendit': 3547, 'loyal': 3548, 'experiment': 3549, 'illeg': 3550, 'khan': 3551, 'applaud': 3552, 'slide': 3553, 'mayor': 3554, 'defens': 3555, 'disgrac': 3556, 'oz': 3557, 'uwe': 3558, 'robinson': 3559, 'psychic': 3560, 'counter': 3561, 'recruit': 3562, 'amanda': 3563, 'declin': 3564, 'span': 3565, 'rifl': 3566, 'blew': 3567, 'tempt': 3568, 'spider': 3569, 'diana': 3570, 'scroog': 3571, 'fri': 3572, 'incomprehens': 3573, 'emphasi': 3574, 'soccer': 3575, 'berlin': 3576, 'wont': 3577, 'craze': 3578, 'dismiss': 3579, 'tenant': 3580, 'dicken': 3581, 'grandfath': 3582, 'topless': 3583, 'hartley': 3584, 'porno': 3585, 'sympath': 3586, 'bitch': 3587, 'goer': 3588, 'ration': 3589, 'riot': 3590, 'intim': 3591, 'revolt': 3592, 'faster': 3593, 'shed': 3594, 'woo': 3595, 'lumet': 3596, 'ethnic': 3597, 'justin': 3598, 'parad': 3599, 'wet': 3600, 'trashi': 3601, 'shaw': 3602, 'resurrect': 3603, 'sibl': 3604, 'niro': 3605, 'hopper': 3606, 'choru': 3607, 'dealer': 3608, 'lena': 3609, 'eager': 3610, 'patriot': 3611, 'nephew': 3612, 'wendi': 3613, 'gap': 3614, 'enlighten': 3615, 'farmer': 3616, 'partial': 3617, 'rider': 3618, 'mario': 3619, 'steam': 3620, 'region': 3621, 'wheel': 3622, 'slick': 3623, 'unreal': 3624, 'ensur': 3625, 'jonathan': 3626, 'biographi': 3627, 'weakest': 3628, 'worm': 3629, '00': 3630, 'hesit': 3631, 'ballet': 3632, 'feminist': 3633, 'honesti': 3634, 'commend': 3635, 'immort': 3636, 'andr': 3637, 'prequel': 3638, 'nostalg': 3639, 'snap': 3640, 'similarli': 3641, 'leo': 3642, 'mutant': 3643, 'confin': 3644, 'vice': 3645, 'composit': 3646, 'safeti': 3647, 'wore': 3648, 'properti': 3649, 'util': 3650, 'repress': 3651, 'owen': 3652, 'sappi': 3653, 'sandra': 3654, 'kingdom': 3655, 'blunt': 3656, 'victori': 3657, 'skull': 3658, 'psychopath': 3659, 'charlott': 3660, 'morri': 3661, 'franco': 3662, 'hung': 3663, 'macarthur': 3664, 'snl': 3665, 'nervou': 3666, 'dust': 3667, 'kyle': 3668, 'tail': 3669, 'recycl': 3670, 'miseri': 3671, 'tad': 3672, 'bow': 3673, 'despair': 3674, 'compens': 3675, 'rambl': 3676, 'compass': 3677, 'thru': 3678, 'speci': 3679, 'cg': 3680, 'valuabl': 3681, 'pattern': 3682, 'acquir': 3683, 'deed': 3684, 'repli': 3685, 'hyde': 3686, 'drain': 3687, 'rocki': 3688, 'latin': 3689, 'bonu': 3690, 'strand': 3691, 'bumbl': 3692, 'rope': 3693, '1972': 3694, 'heartbreak': 3695, 'whoopi': 3696, 'montana': 3697, 'del': 3698, 'dalton': 3699, 'bergman': 3700, 'emperor': 3701, 'drum': 3702, 'exit': 3703, 'campbel': 3704, 'farrel': 3705, 'bleed': 3706, 'airport': 3707, 'gimmick': 3708, 'pour': 3709, '35': 3710, 'chess': 3711, 'romp': 3712, 'slug': 3713, 'tonight': 3714, 'carradin': 3715, 'percept': 3716, 'rotten': 3717, 'radic': 3718, 'mistress': 3719, 'da': 3720, 'olli': 3721, 'downhil': 3722, 'martian': 3723, 'orson': 3724, 'roth': 3725, 'wacki': 3726, 'rapist': 3727, 'contempl': 3728, 'oppress': 3729, 'gal': 3730, 'taught': 3731, 'preach': 3732, 'pervert': 3733, 'arguabl': 3734, 'pursuit': 3735, 'tackl': 3736, 'unpredict': 3737, 'champion': 3738, 'paltrow': 3739, 'mislead': 3740, 'belt': 3741, 'arc': 3742, 'heal': 3743, '1983': 3744, 'shelley': 3745, 'edgar': 3746, 'banal': 3747, 'attorney': 3748, 'slash': 3749, 'stilt': 3750, 'programm': 3751, 'dazzl': 3752, 'tooth': 3753, 'pervers': 3754, 'melodi': 3755, 'cleverli': 3756, 'plight': 3757, 'orang': 3758, 'gambl': 3759, 'virginia': 3760, 'mesmer': 3761, 'sensat': 3762, 'passeng': 3763, 'rubi': 3764, 'closest': 3765, 'vengeanc': 3766, 'poem': 3767, 'employe': 3768, 'uplift': 3769, 'duval': 3770, 'graham': 3771, 'maid': 3772, 'conneri': 3773, 'vocal': 3774, 'franki': 3775, 'bela': 3776, 'tiresom': 3777, 'chicken': 3778, 'marti': 3779, 'raymond': 3780, 'dixon': 3781, 'calm': 3782, 'numb': 3783, 'sirk': 3784, 'yawn': 3785, 'profan': 3786, 'gerard': 3787, 'tube': 3788, 'climact': 3789, 'giggl': 3790, 'suffic': 3791, 'lundgren': 3792, 'pokemon': 3793, 'amitabh': 3794, '1968': 3795, 'quarter': 3796, 'abraham': 3797, 'clone': 3798, 'secretli': 3799, 'whine': 3800, 'paranoia': 3801, 'crystal': 3802, 'outing': 3803, 'engross': 3804, 'habit': 3805, 'mute': 3806, 'convincingli': 3807, 'extens': 3808, 'monologu': 3809, 'iran': 3810, 'volum': 3811, 'inject': 3812, 'bay': 3813, 'scottish': 3814, 'swallow': 3815, 'fed': 3816, 'abort': 3817, 'meander': 3818, 'septemb': 3819, 'poetri': 3820, 'im': 3821, 'richardson': 3822, 'bend': 3823, 'backward': 3824, 'frankenstein': 3825, 'franci': 3826, 'underst': 3827, 'expand': 3828, 'ethan': 3829, 'grotesqu': 3830, 'profess': 3831, 'dispos': 3832, 'austen': 3833, 'plod': 3834, 'chicago': 3835, 'surpass': 3836, 'trend': 3837, 'earl': 3838, 'linger': 3839, 'lowest': 3840, 'junior': 3841, 'nichola': 3842, 'spock': 3843, 'taxi': 3844, 'muddl': 3845, 'sue': 3846, 'greedi': 3847, 'lure': 3848, 'tourist': 3849, 'literatur': 3850, 'descent': 3851, 'cannon': 3852, 'myth': 3853, 'dysfunct': 3854, 'hum': 3855, 'mundan': 3856, 'catchi': 3857, 'household': 3858, 'rant': 3859, 'econom': 3860, 'waitress': 3861, 'spoke': 3862, 'compliment': 3863, 'rubber': 3864, 'instrument': 3865, 'nostalgia': 3866, 'eugen': 3867, 'simplic': 3868, 'der': 3869, 'stallon': 3870, 'damon': 3871, 'occupi': 3872, 'eaten': 3873, 'recognit': 3874, 'carel': 3875, 'coast': 3876, 'stale': 3877, 'firstli': 3878, 'irrelev': 3879, 'molli': 3880, 'dement': 3881, 'crucial': 3882, 'flee': 3883, 'bacal': 3884, 'randi': 3885, 'june': 3886, 'equival': 3887, 'alongsid': 3888, 'cent': 3889, 'omen': 3890, 'lang': 3891, 'phoni': 3892, 'insur': 3893, 'louis': 3894, 'dictat': 3895, 'phantom': 3896, 'mankind': 3897, 'mortal': 3898, 'deaf': 3899, 'duck': 3900, 'recognis': 3901, 'hello': 3902, 'furi': 3903, 'sissi': 3904, 'map': 3905, 'daisi': 3906, 'bump': 3907, 'distinguish': 3908, 'lengthi': 3909, 'newli': 3910, 'reign': 3911, 'onlin': 3912, 'wisdom': 3913, 'grayson': 3914, 'twilight': 3915, 'dreari': 3916, 'damm': 3917, 'drake': 3918, 'bike': 3919, '1973': 3920, 'likewis': 3921, 'blackmail': 3922, 'freez': 3923, 'ashley': 3924, 'loyalti': 3925, 'rude': 3926, 'cyborg': 3927, 'heel': 3928, 'labor': 3929, 'buffalo': 3930, 'antwon': 3931, 'rooney': 3932, 'biko': 3933, 'analysi': 3934, 'ridden': 3935, 'nineti': 3936, 'tunnel': 3937, 'prey': 3938, 'proce': 3939, 'incorpor': 3940, 'vein': 3941, 'boxer': 3942, 'butler': 3943, 'emphas': 3944, 'baddi': 3945, 'worn': 3946, 'barrymor': 3947, 'interior': 3948, 'exposur': 3949, 'sailor': 3950, 'provoc': 3951, 'inher': 3952, 'approv': 3953, 'basketbal': 3954, 'startl': 3955, 'keith': 3956, 'attribut': 3957, 'pink': 3958, 'unorigin': 3959, 'chronicl': 3960, 'meg': 3961, 'robbin': 3962, 'belushi': 3963, 'drift': 3964, 'stalker': 3965, 'unrel': 3966, 'barrel': 3967, 'elm': 3968, 'hypnot': 3969, 'julian': 3970, 'improvis': 3971, 'millionair': 3972, 'substitut': 3973, 'undeni': 3974, 'fleet': 3975, 'nicol': 3976, 'degrad': 3977, 'indiffer': 3978, 'bunni': 3979, 'underli': 3980, 'meyer': 3981, 'condemn': 3982, 'simmon': 3983, 'othello': 3984, 'mighti': 3985, 'mormon': 3986, 'walsh': 3987, 'predat': 3988, 'er': 3989, 'carla': 3990, 'enthusiasm': 3991, 'palac': 3992, 'lampoon': 3993, 'priceless': 3994, 'reid': 3995, 'firm': 3996, 'novak': 3997, 'shove': 3998, 'edgi': 3999, 'alison': 4000, 'vital': 4001, 'greed': 4002, 'watson': 4003, 'dolph': 4004, 'exquisit': 4005, 'rukh': 4006, 'agenda': 4007, 'nyc': 4008, 'disord': 4009, 'mtv': 4010, 'alarm': 4011, 'roof': 4012, '3d': 4013, 'hay': 4014, 'unawar': 4015, 'errol': 4016, 'marion': 4017, 'warmth': 4018, '13th': 4019, 'gestur': 4020, 'championship': 4021, 'unleash': 4022, 'sergeant': 4023, 'israel': 4024, 'simultan': 4025, 'petti': 4026, 'crown': 4027, 'valentin': 4028, 'nun': 4029, 'eastern': 4030, 'pamela': 4031, 'profit': 4032, 'testament': 4033, 'preserv': 4034, 'glanc': 4035, 'campaign': 4036, 'drip': 4037, 'orlean': 4038, 'what': 4039, 'peck': 4040, 'thompson': 4041, 'iraq': 4042, 'distort': 4043, 'cassidi': 4044, 'session': 4045, 'peril': 4046, '1933': 4047, 'coup': 4048, 'randomli': 4049, 'ponder': 4050, 'angela': 4051, 'minimum': 4052, 'zizek': 4053, 'spain': 4054, 'showdown': 4055, 'beatl': 4056, 'unimagin': 4057, 'kurosawa': 4058, 'stroke': 4059, 'crow': 4060, 'reson': 4061, 'rout': 4062, 'stake': 4063, 'shootout': 4064, 'realm': 4065, 'mon': 4066, '1984': 4067, 'crawl': 4068, 'cooki': 4069, 'represent': 4070, 'travesti': 4071, 'calib': 4072, 'jan': 4073, 'climat': 4074, 'wig': 4075, 'miyazaki': 4076, 'fido': 4077, 'sabrina': 4078, 'din': 4079, 'exposit': 4080, 'restrain': 4081, 'valley': 4082, 'perpetu': 4083, 'brenda': 4084, 'bro': 4085, 'gentleman': 4086, 'empathi': 4087, 'han': 4088, 'quinn': 4089, 'contradict': 4090, 'cream': 4091, 'buster': 4092, 'scotland': 4093, 'regist': 4094, 'fuller': 4095, 'josh': 4096, 'shoddi': 4097, 'sucker': 4098, 'unseen': 4099, 'censor': 4100, 'compromis': 4101, 'monoton': 4102, 'pole': 4103, 'greg': 4104, 'passabl': 4105, 'ross': 4106, 'traumat': 4107, 'femm': 4108, 'wax': 4109, 'mclaglen': 4110, 'tacki': 4111, 'warrant': 4112, 'meryl': 4113, 'cloud': 4114, 'perceiv': 4115, '1987': 4116, 'dana': 4117, 'unsatisfi': 4118, 'geek': 4119, 'distress': 4120, 'delic': 4121, 'crawford': 4122, '1997': 4123, 'derang': 4124, 'spacey': 4125, 'darren': 4126, 'painter': 4127, 'sammi': 4128, 'abomin': 4129, 'demis': 4130, 'baldwin': 4131, 'businessman': 4132, 'absent': 4133, 'shaki': 4134, 'stargat': 4135, 'pretens': 4136, 'ustinov': 4137, 'soderbergh': 4138, 'deceas': 4139, 'unravel': 4140, 'judgment': 4141, 'furiou': 4142, 'fenc': 4143, 'wholli': 4144, 'nathan': 4145, 'polici': 4146, 'jewel': 4147, 'clash': 4148, 'click': 4149, 'anchor': 4150, 'kumar': 4151, 'expedit': 4152, 'valid': 4153, 'norm': 4154, 'fog': 4155, 'austin': 4156, 'exclus': 4157, 'reluct': 4158, 'primit': 4159, 'correctli': 4160, 'uncov': 4161, '1993': 4162, 'dee': 4163, 'tarantino': 4164, 'deniro': 4165, 'verbal': 4166, 'seal': 4167, 'tech': 4168, 'sid': 4169, 'antonioni': 4170, 'accuraci': 4171, 'nicola': 4172, 'wang': 4173, 'sustain': 4174, '3000': 4175, 'sand': 4176, 'fart': 4177, 'clerk': 4178, 'bake': 4179, 'sheet': 4180, 'fabric': 4181, 'hallucin': 4182, 'roller': 4183, 'mode': 4184, 'unfair': 4185, 'pocket': 4186, 'crippl': 4187, 'joel': 4188, '1971': 4189, 'patienc': 4190, 'conduct': 4191, 'ritual': 4192, 'malon': 4193, 'darn': 4194, 'wretch': 4195, 'trait': 4196, 'temper': 4197, 'behold': 4198, 'seldom': 4199, 'murray': 4200, 'dreck': 4201, 'alec': 4202, 'sunni': 4203, 'debt': 4204, '1995': 4205, '2008': 4206, 'shanghai': 4207, 'fought': 4208, 'slam': 4209, 'vanc': 4210, 'logan': 4211, 'tax': 4212, 'enforc': 4213, 'penni': 4214, 'schedul': 4215, 'guitar': 4216, 'outlin': 4217, 'conscious': 4218, 'fundament': 4219, 'exhaust': 4220, 'shell': 4221, 'despis': 4222, 'preposter': 4223, 'soup': 4224, 'technicolor': 4225, 'runner': 4226, 'bias': 4227, 'critiqu': 4228, 'squad': 4229, 'bridget': 4230, 'scriptwrit': 4231, 'preston': 4232, 'robber': 4233, 'sweep': 4234, 'rita': 4235, 'canyon': 4236, 'stark': 4237, 'grief': 4238, 'isabel': 4239, 'clau': 4240, 'divid': 4241, 'phil': 4242, 'helpless': 4243, 'tactic': 4244, 'pete': 4245, 'stuart': 4246, 'legaci': 4247, 'jacket': 4248, 'restrict': 4249, 'sentinel': 4250, 'newman': 4251, 'gregori': 4252, 'inabl': 4253, 'liberti': 4254, 'alley': 4255, 'russia': 4256, 'invad': 4257, 'lacklust': 4258, 'vomit': 4259, 'bloom': 4260, 'sniper': 4261, 'marc': 4262, 'rehash': 4263, 'propos': 4264, 'passag': 4265, 'sugar': 4266, 'rear': 4267, 'flair': 4268, 'unexpectedli': 4269, 'palanc': 4270, 'kansa': 4271, 'drove': 4272, 'downey': 4273, 'consciou': 4274, 'jodi': 4275, 'culmin': 4276, 'alicia': 4277, 'delv': 4278, 'boyl': 4279, 'implic': 4280, 'cigarett': 4281, 'agenc': 4282, 'connor': 4283, 'ladder': 4284, 'arrow': 4285, 'rod': 4286, 'tripe': 4287, 'chainsaw': 4288, 'sharon': 4289, '1936': 4290, 'pale': 4291, 'lush': 4292, 'rampag': 4293, 'wrench': 4294, 'horn': 4295, 'feat': 4296, 'rehears': 4297, '22': 4298, 'asylum': 4299, 'delet': 4300, 'awhil': 4301, 'behaviour': 4302, 'aesthet': 4303, 'kolchak': 4304, 'karl': 4305, 'tendenc': 4306, 'cap': 4307, 'vet': 4308, 'mccoy': 4309, 'improb': 4310, 'yeti': 4311, 'foxx': 4312, 'bacon': 4313, 'tasteless': 4314, 'suffici': 4315, 'hulk': 4316, 'aristocrat': 4317, 'sung': 4318, '19th': 4319, 'wildli': 4320, 'filler': 4321, 'wagner': 4322, 'coaster': 4323, 'weav': 4324, 'globe': 4325, 'thunderbird': 4326, '1920': 4327, 'loneli': 4328, 'amazon': 4329, 'basing': 4330, 'hackney': 4331, 'tomorrow': 4332, 'el': 4333, 'paradis': 4334, 'spice': 4335, 'visitor': 4336, 'hungri': 4337, 'prank': 4338, 'shortcom': 4339, 'fright': 4340, 'stream': 4341, 'rhythm': 4342, 'lurk': 4343, '1988': 4344, 'paramount': 4345, 'elit': 4346, '1978': 4347, 'newcom': 4348, 'financ': 4349, 'minu': 4350, 'suspicion': 4351, 'conscienc': 4352, 'scoop': 4353, 'underneath': 4354, 'rumor': 4355, 'wwe': 4356, 'recogniz': 4357, 'couch': 4358, 'secondari': 4359, 'penn': 4360, 'cancer': 4361, 'worship': 4362, 'brit': 4363, 'standout': 4364, 'choppi': 4365, 'grudg': 4366, 'teas': 4367, 'chamberlain': 4368, 'ingeni': 4369, 'dirt': 4370, 'atroc': 4371, 'impos': 4372, 'ram': 4373, '75': 4374, 'quietli': 4375, 'immers': 4376, 'hopkin': 4377, 'rub': 4378, 'leigh': 4379, 'posey': 4380, 'literari': 4381, 'naughti': 4382, 'lectur': 4383, 'smell': 4384, 'heist': 4385, 'iv': 4386, 'counterpart': 4387, 'abrupt': 4388, 'en': 4389, '1989': 4390, 'straightforward': 4391, 'bread': 4392, 'chavez': 4393, 'minist': 4394, '1939': 4395, 'springer': 4396, 'curli': 4397, 'inmat': 4398, 'paxton': 4399, 'beverli': 4400, 'tierney': 4401, 'entranc': 4402, 'bernard': 4403, 'heartfelt': 4404, 'misguid': 4405, 'esther': 4406, '1986': 4407, 'transcend': 4408, 'duel': 4409, 'injuri': 4410, 'policeman': 4411, 'entitl': 4412, 'ratso': 4413, 'sublim': 4414, 'skeptic': 4415, 'morbid': 4416, 'moreov': 4417, 'geni': 4418, 'ace': 4419, 'net': 4420, 'watcher': 4421, 'enthral': 4422, 'yearn': 4423, 'nolan': 4424, 'nemesi': 4425, 'sassi': 4426, 'convert': 4427, 'variat': 4428, 'clan': 4429, 'laurenc': 4430, 'lindsay': 4431, 'missil': 4432, 'quaid': 4433, 'cattl': 4434, 'attenborough': 4435, 'bean': 4436, 'hopelessli': 4437, 'out': 4438, 'enabl': 4439, 'setup': 4440, 'hk': 4441, 'diari': 4442, 'graini': 4443, 'uncut': 4444, 'steadi': 4445, 'grin': 4446, 'buzz': 4447, 'characteris': 4448, 'facil': 4449, 'obstacl': 4450, 'artsi': 4451, 'unexplain': 4452, 'cruelti': 4453, 'kidman': 4454, 'kitti': 4455, 'bye': 4456, 'rosemari': 4457, 'vader': 4458, 'dont': 4459, 'egg': 4460, 'spiral': 4461, 'youngest': 4462, 'puppi': 4463, 'brood': 4464, 'mytholog': 4465, 'reliabl': 4466, 'poe': 4467, 'moder': 4468, 'tyler': 4469, '1979': 4470, 'carlito': 4471, 'gina': 4472, 'effici': 4473, 'narrow': 4474, 'preming': 4475, 'exterior': 4476, 'bronson': 4477, 'despic': 4478, 'acquaint': 4479, 'bounc': 4480, 'weather': 4481, 'hammi': 4482, 'kline': 4483, 'oblig': 4484, 'decept': 4485, '1969': 4486, 'athlet': 4487, 'bewar': 4488, 'martha': 4489, 'patricia': 4490, 'heap': 4491, 'hain': 4492, 'disastr': 4493, 'fuel': 4494, 'clueless': 4495, 'christin': 4496, 'niec': 4497, 'brendan': 4498, 'underworld': 4499, 'gillian': 4500, 'baffl': 4501, 'sweat': 4502, 'spontan': 4503, 'angst': 4504, 'taboo': 4505, 'harmless': 4506, 'lester': 4507, 'dilemma': 4508, 'viewpoint': 4509, 'virtu': 4510, 'hepburn': 4511, 'dandi': 4512, 'candl': 4513, 'injur': 4514, 'preachi': 4515, 'housewif': 4516, '73': 4517, 'outlaw': 4518, 'uh': 4519, 'astound': 4520, 'sooner': 4521, 'circu': 4522, 'insipid': 4523, 'rome': 4524, 'loath': 4525, 'shatter': 4526, 'mermaid': 4527, 'analyz': 4528, 'mayhem': 4529, 'scar': 4530, 'fontain': 4531, '19': 4532, 'goof': 4533, 'suprem': 4534, 'loi': 4535, 'headach': 4536, 'tick': 4537, 'enlist': 4538, 'renaiss': 4539, 'sleepwalk': 4540, 'biker': 4541, 'trigger': 4542, 'redund': 4543, 'gere': 4544, 'hokey': 4545, 'overlong': 4546, 'slimi': 4547, 'guin': 4548, 'ebert': 4549, 'immatur': 4550, 'tripl': 4551, 'bent': 4552, 'surgeri': 4553, 'hostag': 4554, 'foolish': 4555, 'cassavet': 4556, 'spade': 4557, 'idol': 4558, 'stair': 4559, 'contempt': 4560, 'amor': 4561, 'phenomenon': 4562, 'intric': 4563, 'whore': 4564, 'hooker': 4565, 'fluff': 4566, 'oldest': 4567, 'boston': 4568, 'camcord': 4569, 'ariel': 4570, 'dish': 4571, 'filth': 4572, 'claustrophob': 4573, 'glorifi': 4574, 'macho': 4575, 'steer': 4576, 'zoom': 4577, 'dismal': 4578, 'corbett': 4579, 'salt': 4580, 'scorses': 4581, 'stimul': 4582, 'sox': 4583, 'cow': 4584, 'flag': 4585, '1976': 4586, 'down': 4587, 'strongest': 4588, 'flashi': 4589, 'schlock': 4590, 'joker': 4591, 'fascist': 4592, 'muscl': 4593, 'mount': 4594, 'corman': 4595, 'cohen': 4596, 'astronaut': 4597, 'rhyme': 4598, 'margin': 4599, 'trivia': 4600, 'frantic': 4601, 'keen': 4602, 'widescreen': 4603, 'obligatori': 4604, 'zane': 4605, 'preced': 4606, 'flirt': 4607, 'transplant': 4608, 'conquer': 4609, 'spree': 4610, 'remad': 4611, 'messi': 4612, 'shred': 4613, 'gasp': 4614, 'harold': 4615, 'proport': 4616, 'naschi': 4617, 'shield': 4618, 'radiat': 4619, 'dwarf': 4620, 'assert': 4621, 'spinal': 4622, 'perman': 4623, 'antagonist': 4624, 'alvin': 4625, 'cush': 4626, 'faint': 4627, 'mutual': 4628, '1981': 4629, 'nolt': 4630, 'beard': 4631, 'gabl': 4632, 'off': 4633, 'claud': 4634, '95': 4635, 'bachelor': 4636, 'inflict': 4637, 'vaniti': 4638, 'hara': 4639, 'sensual': 4640, 'deer': 4641, 'aborigin': 4642, 'brush': 4643, 'divin': 4644, 'bitten': 4645, 'scandal': 4646, 'neurot': 4647, 'repris': 4648, 'www': 4649, 'wield': 4650, 'someday': 4651, 'archiv': 4652, 'instruct': 4653, '1945': 4654, 'interestingli': 4655, 'resum': 4656, 'boob': 4657, 'raj': 4658, 'departur': 4659, 'strive': 4660, 'barn': 4661, 'persuad': 4662, 'mol': 4663, 'discern': 4664, '28': 4665, 'fishburn': 4666, 'ritchi': 4667, 'carey': 4668, 'info': 4669, 'mobil': 4670, 'flock': 4671, 'triangl': 4672, 'danish': 4673, 'prophet': 4674, 'proclaim': 4675, 'harrison': 4676, 'cb': 4677, 'cher': 4678, 'helm': 4679, 'biblic': 4680, 'earnest': 4681, 'dim': 4682, 'wendigo': 4683, 'recit': 4684, 'heartwarm': 4685, 'luka': 4686, 'cycl': 4687, 'neill': 4688, 'fragil': 4689, 'frontier': 4690, 'undermin': 4691, 'dame': 4692, 'kathryn': 4693, 'axe': 4694, 'rot': 4695, 'pickford': 4696, 'loretta': 4697, 'traffic': 4698, 'bate': 4699, 'hug': 4700, 'submit': 4701, 'jade': 4702, 'artwork': 4703, 'melissa': 4704, 'hilar': 4705, 'miracul': 4706, 'vibrant': 4707, 'colin': 4708, 'timberlak': 4709, 'casino': 4710, 'senior': 4711, 'banter': 4712, 'ish': 4713, 'parson': 4714, 'cliffhang': 4715, 'hapless': 4716, 'mobster': 4717, 'pacif': 4718, 'clad': 4719, 'dylan': 4720, 'pixar': 4721, 'carlo': 4722, 'europa': 4723, 'anton': 4724, 'foil': 4725, 'mathieu': 4726, 'bondag': 4727, 'misfortun': 4728, 'nope': 4729, 'redneck': 4730, 'uma': 4731, 'jordan': 4732, 'isra': 4733, 'razor': 4734, 'rooki': 4735, 'holocaust': 4736, 'estrang': 4737, 'legitim': 4738, 'flavor': 4739, 'eli': 4740, 'breakfast': 4741, 'orphan': 4742, 'aris': 4743, 'lui': 4744, 'winchest': 4745, 'http': 4746, 'bikini': 4747, 'venom': 4748, 'wardrob': 4749, 'northern': 4750, 'token': 4751, 'articl': 4752, 'static': 4753, 'feast': 4754, 'blatantli': 4755, 'jo': 4756, 'cerebr': 4757, 'trier': 4758, 'choke': 4759, 'toronto': 4760, 'sicken': 4761, 'shepherd': 4762, 'vile': 4763, 'pc': 4764, 'akin': 4765, 'seedi': 4766, 'vanessa': 4767, 'marlon': 4768, 'illus': 4769, 'alexandr': 4770, 'electron': 4771, 'antholog': 4772, 'milo': 4773, 'mason': 4774, 'lucil': 4775, 'smack': 4776, 'shorter': 4777, 'styliz': 4778, 'clinic': 4779, 'ideolog': 4780, 'frog': 4781, 'highway': 4782, 'tack': 4783, 'oppon': 4784, 'wrestler': 4785, 'audrey': 4786, 'abund': 4787, 'retriev': 4788, 'deem': 4789, 'psych': 4790, 'fifth': 4791, 'magician': 4792, 'feminin': 4793, 'charlton': 4794, 'swept': 4795, 'boyer': 4796, 'huston': 4797, 'howl': 4798, 'peer': 4799, 'linear': 4800, 'knightley': 4801, 'turd': 4802, 'nightclub': 4803, 'gunga': 4804, 'disregard': 4805, 'ceremoni': 4806, 'dudley': 4807, 'outdat': 4808, 'gilbert': 4809, 'glare': 4810, 'affleck': 4811, 'leather': 4812, 'comprehend': 4813, 'cartoonish': 4814, 'cemeteri': 4815, 'bogu': 4816, 'sleaz': 4817, 'bastard': 4818, '4th': 4819, 'breakdown': 4820, 'deliver': 4821, 'spawn': 4822, 'potter': 4823, 'einstein': 4824, 'energet': 4825, 'tara': 4826, 'spine': 4827, 'snatch': 4828, 'evolut': 4829, 'whack': 4830, 'lifeless': 4831, 'chip': 4832, 'toe': 4833, '1991': 4834, 'monument': 4835, 'newer': 4836, 'btw': 4837, 'durat': 4838, 'collector': 4839, 'salman': 4840, 'boo': 4841, 'lavish': 4842, 'greet': 4843, '1994': 4844, 'compris': 4845, 'uniformli': 4846, 'goldsworthi': 4847, 'conrad': 4848, 'client': 4849, 'summar': 4850, 'plate': 4851, 'moe': 4852, 'phenomen': 4853, 'lighter': 4854, 'cuban': 4855, 'braveheart': 4856, 'corn': 4857, 'senat': 4858, 'mitch': 4859, 'wtf': 4860, 'evelyn': 4861, 'embark': 4862, 'signal': 4863, 'nina': 4864, 'undertak': 4865, 'bulk': 4866, 'jule': 4867, 'bori': 4868, '1977': 4869, 'pronounc': 4870, 'sorrow': 4871, 'jam': 4872, 'fluid': 4873, 'neatli': 4874, 'kent': 4875, 'trauma': 4876, 'healthi': 4877, 'gilliam': 4878, 'armstrong': 4879, 'alleg': 4880, 'historian': 4881, 'ol': 4882, 'appl': 4883, 'randolph': 4884, 'luxuri': 4885, 'outright': 4886, 'kazan': 4887, 'replay': 4888, '1974': 4889, 'inaccuraci': 4890, 'occup': 4891, 'capot': 4892, 'spectacl': 4893, 'creek': 4894, 'undead': 4895, 'liu': 4896, 'lex': 4897, 'clara': 4898, 'belli': 4899, 'cecil': 4900, 'judd': 4901, 'jedi': 4902, 'ie': 4903, 'eleven': 4904, 'constitut': 4905, 'firmli': 4906, 'jare': 4907, 'mcqueen': 4908, 'comprehens': 4909, 'knee': 4910, 'subtli': 4911, 'groan': 4912, 'roar': 4913, 'comb': 4914, 'bait': 4915, 'abound': 4916, 'decapit': 4917, 'goldblum': 4918, 'conan': 4919, 'sacrif': 4920, 'meal': 4921, 'fruit': 4922, 'pepper': 4923, 'aussi': 4924, 'propheci': 4925, 'blur': 4926, 'relentless': 4927, 'id': 4928, 'lauren': 4929, 'antonio': 4930, 'vignett': 4931, 'paula': 4932, 'vain': 4933, 'miniseri': 4934, 'basket': 4935, 'galaxi': 4936, 'walt': 4937, 'kiddi': 4938, 'truman': 4939, 'ash': 4940, 'bsg': 4941, 'porter': 4942, 'carmen': 4943, 'palm': 4944, 'genet': 4945, 'pioneer': 4946, 'unattract': 4947, 'miami': 4948, 'inclus': 4949, 'unsuspect': 4950, 'cape': 4951, 'congratul': 4952, 'rosario': 4953, 'curtain': 4954, 'forgiven': 4955, 'sidewalk': 4956, 'spray': 4957, 'tokyo': 4958, 'inaccur': 4959, '1985': 4960, 'poker': 4961, 'mum': 4962, 'lanc': 4963, '21st': 4964, 'dubiou': 4965, 'orchestr': 4966, 'reincarn': 4967, 'drone': 4968, 'scariest': 4969, 'assort': 4970, 'sparkl': 4971, 'omin': 4972, 'frontal': 4973, 'optimist': 4974, 'spill': 4975, 'hostil': 4976, 'macabr': 4977, 'bravo': 4978, 'casper': 4979, 'growth': 4980, 'cypher': 4981, 'substanti': 4982, 'weaker': 4983, 'scarfac': 4984, 'turtl': 4985, 'handicap': 4986, 'profil': 4987, 'hackman': 4988, 'vastli': 4989, 'verg': 4990, 'incorrect': 4991, 'rapidli': 4992, 'victorian': 4993, 'detach': 4994, 'monti': 4995, 'evan': 4996, 'modest': 4997, 'sophi': 4998, 'masterson': 4999}\n"
     ]
    }
   ],
   "source": [
    "print(word_dict)"
   ]
  },
  {
   "cell_type": "markdown",
   "metadata": {},
   "source": [
    "**Question:** What are the five most frequently appearing (tokenized) words in the training set? Does it makes sense that these words appear frequently in the training set?"
   ]
  },
  {
   "cell_type": "markdown",
   "metadata": {},
   "source": [
    "**Answer:**movi, terribl, plot, suck, act."
   ]
  },
  {
   "cell_type": "code",
   "execution_count": 14,
   "metadata": {},
   "outputs": [
    {
     "name": "stdout",
     "output_type": "stream",
     "text": [
      "The five most frequently appearing (tokenized) words in the training set: \n",
      "\n",
      "movi\n",
      "film\n",
      "one\n",
      "like\n",
      "time\n"
     ]
    }
   ],
   "source": [
    "# TODO: Use this space to determine the five most frequently appearing words in the training set.\n",
    "print(\"The five most frequently appearing (tokenized) words in the training set: \\n\")\n",
    "count = 0\n",
    "for word, idx in word_dict.items():\n",
    "    print(word)\n",
    "    count += 1\n",
    "    if count == 5:\n",
    "        break;"
   ]
  },
  {
   "cell_type": "markdown",
   "metadata": {},
   "source": [
    "### Save `word_dict`\n",
    "\n",
    "Later on when we construct an endpoint which processes a submitted review we will need to make use of the `word_dict` which we have created. As such, we will save it to a file now for future use."
   ]
  },
  {
   "cell_type": "code",
   "execution_count": 15,
   "metadata": {},
   "outputs": [],
   "source": [
    "data_dir = '../data/pytorch' # The folder we will use for storing data\n",
    "if not os.path.exists(data_dir): # Make sure that the folder exists\n",
    "    os.makedirs(data_dir)"
   ]
  },
  {
   "cell_type": "code",
   "execution_count": 16,
   "metadata": {},
   "outputs": [],
   "source": [
    "with open(os.path.join(data_dir, 'word_dict.pkl'), \"wb\") as f:\n",
    "    pickle.dump(word_dict, f)"
   ]
  },
  {
   "cell_type": "markdown",
   "metadata": {},
   "source": [
    "### Transform the reviews\n",
    "\n",
    "Now that we have our word dictionary which allows us to transform the words appearing in the reviews into integers, it is time to make use of it and convert our reviews to their integer sequence representation, making sure to pad or truncate to a fixed length, which in our case is `500`."
   ]
  },
  {
   "cell_type": "code",
   "execution_count": 17,
   "metadata": {},
   "outputs": [],
   "source": [
    "def convert_and_pad(word_dict, sentence, pad=500):\n",
    "    NOWORD = 0 # We will use 0 to represent the 'no word' category\n",
    "    INFREQ = 1 # and we use 1 to represent the infrequent words, i.e., words not appearing in word_dict\n",
    "    \n",
    "    working_sentence = [NOWORD] * pad\n",
    "    \n",
    "    for word_index, word in enumerate(sentence[:pad]):\n",
    "        if word in word_dict:\n",
    "            working_sentence[word_index] = word_dict[word]\n",
    "        else:\n",
    "            working_sentence[word_index] = INFREQ\n",
    "            \n",
    "    return working_sentence, min(len(sentence), pad)\n",
    "\n",
    "def convert_and_pad_data(word_dict, data, pad=500):\n",
    "    result = []\n",
    "    lengths = []\n",
    "    \n",
    "    for sentence in data:\n",
    "        converted, leng = convert_and_pad(word_dict, sentence, pad)\n",
    "        result.append(converted)\n",
    "        lengths.append(leng)\n",
    "        \n",
    "    return np.array(result), np.array(lengths)"
   ]
  },
  {
   "cell_type": "code",
   "execution_count": 18,
   "metadata": {},
   "outputs": [],
   "source": [
    "train_X, train_X_len = convert_and_pad_data(word_dict, train_X)\n",
    "test_X, test_X_len = convert_and_pad_data(word_dict, test_X)"
   ]
  },
  {
   "cell_type": "markdown",
   "metadata": {},
   "source": [
    "As a quick check to make sure that things are working as intended, check to see what one of the reviews in the training set looks like after having been processeed. Does this look reasonable? What is the length of a review in the training set?"
   ]
  },
  {
   "cell_type": "code",
   "execution_count": 19,
   "metadata": {},
   "outputs": [
    {
     "data": {
      "text/plain": [
       "array([   1,  105,  647,    1,   80,  690,  432,  659,    1,  470,   29,\n",
       "        305,  269,    1,  172, 4786, 4511,  369,  140, 2147,  348, 2157,\n",
       "          1,  161, 1414,   29,    2,  802,   44, 2276,  485,   29,  316,\n",
       "       1729,   10,  113, 4180,  108,  178, 3094, 1617, 3094,  893,    1,\n",
       "        540,  524, 4971,  412,   29,  854,   34,  190,    3,  637,  790,\n",
       "         74, 1151,  227, 2911,  168,  315,    1,    1,  992, 2833,    1,\n",
       "       1152,    1, 4640,    1,    1,  559,   12,   16, 4511, 4028,  304,\n",
       "       3095,    0,    0,    0,    0,    0,    0,    0,    0,    0,    0,\n",
       "          0,    0,    0,    0,    0,    0,    0,    0,    0,    0,    0,\n",
       "          0,    0,    0,    0,    0,    0,    0,    0,    0,    0,    0,\n",
       "          0,    0,    0,    0,    0,    0,    0,    0,    0,    0,    0,\n",
       "          0,    0,    0,    0,    0,    0,    0,    0,    0,    0,    0,\n",
       "          0,    0,    0,    0,    0,    0,    0,    0,    0,    0,    0,\n",
       "          0,    0,    0,    0,    0,    0,    0,    0,    0,    0,    0,\n",
       "          0,    0,    0,    0,    0,    0,    0,    0,    0,    0,    0,\n",
       "          0,    0,    0,    0,    0,    0,    0,    0,    0,    0,    0,\n",
       "          0,    0,    0,    0,    0,    0,    0,    0,    0,    0,    0,\n",
       "          0,    0,    0,    0,    0,    0,    0,    0,    0,    0,    0,\n",
       "          0,    0,    0,    0,    0,    0,    0,    0,    0,    0,    0,\n",
       "          0,    0,    0,    0,    0,    0,    0,    0,    0,    0,    0,\n",
       "          0,    0,    0,    0,    0,    0,    0,    0,    0,    0,    0,\n",
       "          0,    0,    0,    0,    0,    0,    0,    0,    0,    0,    0,\n",
       "          0,    0,    0,    0,    0,    0,    0,    0,    0,    0,    0,\n",
       "          0,    0,    0,    0,    0,    0,    0,    0,    0,    0,    0,\n",
       "          0,    0,    0,    0,    0,    0,    0,    0,    0,    0,    0,\n",
       "          0,    0,    0,    0,    0,    0,    0,    0,    0,    0,    0,\n",
       "          0,    0,    0,    0,    0,    0,    0,    0,    0,    0,    0,\n",
       "          0,    0,    0,    0,    0,    0,    0,    0,    0,    0,    0,\n",
       "          0,    0,    0,    0,    0,    0,    0,    0,    0,    0,    0,\n",
       "          0,    0,    0,    0,    0,    0,    0,    0,    0,    0,    0,\n",
       "          0,    0,    0,    0,    0,    0,    0,    0,    0,    0,    0,\n",
       "          0,    0,    0,    0,    0,    0,    0,    0,    0,    0,    0,\n",
       "          0,    0,    0,    0,    0,    0,    0,    0,    0,    0,    0,\n",
       "          0,    0,    0,    0,    0,    0,    0,    0,    0,    0,    0,\n",
       "          0,    0,    0,    0,    0,    0,    0,    0,    0,    0,    0,\n",
       "          0,    0,    0,    0,    0,    0,    0,    0,    0,    0,    0,\n",
       "          0,    0,    0,    0,    0,    0,    0,    0,    0,    0,    0,\n",
       "          0,    0,    0,    0,    0,    0,    0,    0,    0,    0,    0,\n",
       "          0,    0,    0,    0,    0,    0,    0,    0,    0,    0,    0,\n",
       "          0,    0,    0,    0,    0,    0,    0,    0,    0,    0,    0,\n",
       "          0,    0,    0,    0,    0,    0,    0,    0,    0,    0,    0,\n",
       "          0,    0,    0,    0,    0,    0,    0,    0,    0,    0,    0,\n",
       "          0,    0,    0,    0,    0,    0,    0,    0,    0,    0,    0,\n",
       "          0,    0,    0,    0,    0,    0,    0,    0,    0,    0,    0,\n",
       "          0,    0,    0,    0,    0,    0,    0,    0,    0,    0,    0,\n",
       "          0,    0,    0,    0,    0])"
      ]
     },
     "execution_count": 19,
     "metadata": {},
     "output_type": "execute_result"
    }
   ],
   "source": [
    "# Use this cell to examine one of the processed reviews to make sure everything is working as intended.\n",
    "train_X[100]"
   ]
  },
  {
   "cell_type": "markdown",
   "metadata": {},
   "source": [
    "**Question:** In the cells above we use the `preprocess_data` and `convert_and_pad_data` methods to process both the training and testing set. Why or why not might this be a problem?"
   ]
  },
  {
   "cell_type": "markdown",
   "metadata": {},
   "source": [
    "**Answer:** To deal with both short and very long reviews, we can pad or truncate all the reviews to a specific length (in this case 500). For reviews shorter than 500 words, we'll pad with 0s. For reviews longer than 500, we truncate them to the first 500 words."
   ]
  },
  {
   "cell_type": "markdown",
   "metadata": {},
   "source": [
    "## Step 3: Upload the data to S3\n",
    "\n",
    "As in the XGBoost notebook, we will need to upload the training dataset to S3 in order for our training code to access it. For now we will save it locally and we will upload to S3 later on.\n",
    "\n",
    "### Save the processed training dataset locally\n",
    "\n",
    "It is important to note the format of the data that we are saving as we will need to know it when we write the training code. In our case, each row of the dataset has the form `label`, `length`, `review[500]` where `review[500]` is a sequence of `500` integers representing the words in the review."
   ]
  },
  {
   "cell_type": "code",
   "execution_count": 20,
   "metadata": {},
   "outputs": [],
   "source": [
    "import pandas as pd\n",
    "    \n",
    "pd.concat([pd.DataFrame(train_y), pd.DataFrame(train_X_len), pd.DataFrame(train_X)], axis=1) \\\n",
    "        .to_csv(os.path.join(data_dir, 'train.csv'), header=False, index=False)"
   ]
  },
  {
   "cell_type": "markdown",
   "metadata": {},
   "source": [
    "### Uploading the training data\n",
    "\n",
    "\n",
    "Next, we need to upload the training data to the SageMaker default S3 bucket so that we can provide access to it while training our model."
   ]
  },
  {
   "cell_type": "code",
   "execution_count": 21,
   "metadata": {},
   "outputs": [],
   "source": [
    "import sagemaker\n",
    "\n",
    "sagemaker_session = sagemaker.Session()\n",
    "\n",
    "bucket = sagemaker_session.default_bucket()\n",
    "prefix = 'sagemaker/sentiment_rnn'\n",
    "\n",
    "role = sagemaker.get_execution_role()"
   ]
  },
  {
   "cell_type": "code",
   "execution_count": 22,
   "metadata": {},
   "outputs": [],
   "source": [
    "input_data = sagemaker_session.upload_data(path=data_dir, bucket=bucket, key_prefix=prefix)"
   ]
  },
  {
   "cell_type": "markdown",
   "metadata": {},
   "source": [
    "**NOTE:** The cell above uploads the entire contents of our data directory. This includes the `word_dict.pkl` file. This is fortunate as we will need this later on when we create an endpoint that accepts an arbitrary review. For now, we will just take note of the fact that it resides in the data directory (and so also in the S3 training bucket) and that we will need to make sure it gets saved in the model directory."
   ]
  },
  {
   "cell_type": "markdown",
   "metadata": {},
   "source": [
    "## Step 4: Build and Train the PyTorch Model\n",
    "\n",
    "In the XGBoost notebook we discussed what a model is in the SageMaker framework. In particular, a model comprises three objects\n",
    "\n",
    " - Model Artifacts,\n",
    " - Training Code, and\n",
    " - Inference Code,\n",
    " \n",
    "each of which interact with one another. In the XGBoost example we used training and inference code that was provided by Amazon. Here we will still be using containers provided by Amazon with the added benefit of being able to include our own custom code.\n",
    "\n",
    "We will start by implementing our own neural network in PyTorch along with a training script. For the purposes of this project we have provided the necessary model object in the `model.py` file, inside of the `train` folder. You can see the provided implementation by running the cell below."
   ]
  },
  {
   "cell_type": "code",
   "execution_count": 23,
   "metadata": {},
   "outputs": [
    {
     "name": "stdout",
     "output_type": "stream",
     "text": [
      "\u001b[34mimport\u001b[39;49;00m \u001b[04m\u001b[36mtorch\u001b[39;49;00m\u001b[04m\u001b[36m.\u001b[39;49;00m\u001b[04m\u001b[36mnn\u001b[39;49;00m \u001b[34mas\u001b[39;49;00m \u001b[04m\u001b[36mnn\u001b[39;49;00m\r\n",
      "\r\n",
      "\u001b[34mclass\u001b[39;49;00m \u001b[04m\u001b[32mLSTMClassifier\u001b[39;49;00m(nn.Module):\r\n",
      "    \u001b[33m\"\"\"\u001b[39;49;00m\r\n",
      "\u001b[33m    This is the simple RNN model we will be using to perform Sentiment Analysis.\u001b[39;49;00m\r\n",
      "\u001b[33m    \"\"\"\u001b[39;49;00m\r\n",
      "\r\n",
      "    \u001b[34mdef\u001b[39;49;00m \u001b[32m__init__\u001b[39;49;00m(\u001b[36mself\u001b[39;49;00m, embedding_dim, hidden_dim, vocab_size):\r\n",
      "        \u001b[33m\"\"\"\u001b[39;49;00m\r\n",
      "\u001b[33m        Initialize the model by settingg up the various layers.\u001b[39;49;00m\r\n",
      "\u001b[33m        \"\"\"\u001b[39;49;00m\r\n",
      "        \u001b[36msuper\u001b[39;49;00m(LSTMClassifier, \u001b[36mself\u001b[39;49;00m).\u001b[32m__init__\u001b[39;49;00m()\r\n",
      "\r\n",
      "        \u001b[36mself\u001b[39;49;00m.embedding = nn.Embedding(vocab_size, embedding_dim, padding_idx=\u001b[34m0\u001b[39;49;00m)\r\n",
      "        \u001b[36mself\u001b[39;49;00m.lstm = nn.LSTM(embedding_dim, hidden_dim)\r\n",
      "        \u001b[36mself\u001b[39;49;00m.dense = nn.Linear(in_features=hidden_dim, out_features=\u001b[34m1\u001b[39;49;00m)\r\n",
      "        \u001b[36mself\u001b[39;49;00m.sig = nn.Sigmoid()\r\n",
      "        \r\n",
      "        \u001b[36mself\u001b[39;49;00m.word_dict = \u001b[34mNone\u001b[39;49;00m\r\n",
      "\r\n",
      "    \u001b[34mdef\u001b[39;49;00m \u001b[32mforward\u001b[39;49;00m(\u001b[36mself\u001b[39;49;00m, x):\r\n",
      "        \u001b[33m\"\"\"\u001b[39;49;00m\r\n",
      "\u001b[33m        Perform a forward pass of our model on some input.\u001b[39;49;00m\r\n",
      "\u001b[33m        \"\"\"\u001b[39;49;00m\r\n",
      "        x = x.t()\r\n",
      "        lengths = x[\u001b[34m0\u001b[39;49;00m,:]\r\n",
      "        reviews = x[\u001b[34m1\u001b[39;49;00m:,:]\r\n",
      "        embeds = \u001b[36mself\u001b[39;49;00m.embedding(reviews)\r\n",
      "        lstm_out, _ = \u001b[36mself\u001b[39;49;00m.lstm(embeds)\r\n",
      "        out = \u001b[36mself\u001b[39;49;00m.dense(lstm_out)\r\n",
      "        out = out[lengths - \u001b[34m1\u001b[39;49;00m, \u001b[36mrange\u001b[39;49;00m(\u001b[36mlen\u001b[39;49;00m(lengths))]\r\n",
      "        \u001b[34mreturn\u001b[39;49;00m \u001b[36mself\u001b[39;49;00m.sig(out.squeeze())\r\n"
     ]
    }
   ],
   "source": [
    "!pygmentize train/model.py"
   ]
  },
  {
   "cell_type": "markdown",
   "metadata": {},
   "source": [
    "The important takeaway from the implementation provided is that there are three parameters that we may wish to tweak to improve the performance of our model. These are the embedding dimension, the hidden dimension and the size of the vocabulary. We will likely want to make these parameters configurable in the training script so that if we wish to modify them we do not need to modify the script itself. We will see how to do this later on. To start we will write some of the training code in the notebook so that we can more easily diagnose any issues that arise.\n",
    "\n",
    "First we will load a small portion of the training data set to use as a sample. It would be very time consuming to try and train the model completely in the notebook as we do not have access to a gpu and the compute instance that we are using is not particularly powerful. However, we can work on a small bit of the data to get a feel for how our training script is behaving."
   ]
  },
  {
   "cell_type": "code",
   "execution_count": 24,
   "metadata": {},
   "outputs": [],
   "source": [
    "import torch\n",
    "import torch.utils.data\n",
    "\n",
    "# Read in only the first 250 rows\n",
    "train_sample = pd.read_csv(os.path.join(data_dir, 'train.csv'), header=None, names=None, nrows=250)\n",
    "\n",
    "# Turn the input pandas dataframe into tensors\n",
    "train_sample_y = torch.from_numpy(train_sample[[0]].values).float().squeeze()\n",
    "train_sample_X = torch.from_numpy(train_sample.drop([0], axis=1).values).long()\n",
    "\n",
    "# Build the dataset\n",
    "train_sample_ds = torch.utils.data.TensorDataset(train_sample_X, train_sample_y)\n",
    "# Build the dataloader\n",
    "train_sample_dl = torch.utils.data.DataLoader(train_sample_ds, batch_size=50)"
   ]
  },
  {
   "cell_type": "markdown",
   "metadata": {},
   "source": [
    "### (TODO) Writing the training method\n",
    "\n",
    "Next we need to write the training code itself. This should be very similar to training methods that you have written before to train PyTorch models. We will leave any difficult aspects such as model saving / loading and parameter loading until a little later."
   ]
  },
  {
   "cell_type": "code",
   "execution_count": 25,
   "metadata": {},
   "outputs": [],
   "source": [
    "def train(model, train_loader, epochs, optimizer, loss_fn, device):\n",
    "    for epoch in range(1, epochs + 1):\n",
    "        model.train()\n",
    "        total_loss = 0\n",
    "        for batch in train_loader:         \n",
    "            batch_X, batch_y = batch\n",
    "            \n",
    "            batch_X = batch_X.to(device)\n",
    "            batch_y = batch_y.to(device)\n",
    "            \n",
    "            # TODO: Complete this train method to train the model provided.\n",
    "            optimizer.zero_grad()\n",
    "            out = model.forward(batch_X)\n",
    "            loss = loss_fn(out, batch_y)\n",
    "            loss.backward()\n",
    "            optimizer.step()\n",
    "            \n",
    "            total_loss += loss.data.item()\n",
    "        print(\"Epoch: {}, BCELoss: {}\".format(epoch, total_loss / len(train_loader)))"
   ]
  },
  {
   "cell_type": "markdown",
   "metadata": {},
   "source": [
    "Supposing we have the training method above, we will test that it is working by writing a bit of code in the notebook that executes our training method on the small sample training set that we loaded earlier. The reason for doing this in the notebook is so that we have an opportunity to fix any errors that arise early when they are easier to diagnose."
   ]
  },
  {
   "cell_type": "code",
   "execution_count": 26,
   "metadata": {},
   "outputs": [
    {
     "name": "stdout",
     "output_type": "stream",
     "text": [
      "Epoch: 1, BCELoss: 0.6928937196731567\n",
      "Epoch: 2, BCELoss: 0.6841846227645874\n",
      "Epoch: 3, BCELoss: 0.6770275115966797\n",
      "Epoch: 4, BCELoss: 0.6692443251609802\n",
      "Epoch: 5, BCELoss: 0.6600038170814514\n"
     ]
    }
   ],
   "source": [
    "import torch.optim as optim\n",
    "from train.model import LSTMClassifier\n",
    "\n",
    "device = torch.device(\"cuda\" if torch.cuda.is_available() else \"cpu\")\n",
    "model = LSTMClassifier(32, 100, 5000).to(device)\n",
    "optimizer = optim.Adam(model.parameters())\n",
    "loss_fn = torch.nn.BCELoss()\n",
    "\n",
    "train(model, train_sample_dl, 5, optimizer, loss_fn, device)"
   ]
  },
  {
   "cell_type": "markdown",
   "metadata": {},
   "source": [
    "In order to construct a PyTorch model using SageMaker we must provide SageMaker with a training script. We may optionally include a directory which will be copied to the container and from which our training code will be run. When the training container is executed it will check the uploaded directory (if there is one) for a `requirements.txt` file and install any required Python libraries, after which the training script will be run."
   ]
  },
  {
   "cell_type": "markdown",
   "metadata": {},
   "source": [
    "### (TODO) Training the model\n",
    "\n",
    "When a PyTorch model is constructed in SageMaker, an entry point must be specified. This is the Python file which will be executed when the model is trained. Inside of the `train` directory is a file called `train.py` which has been provided and which contains most of the necessary code to train our model. The only thing that is missing is the implementation of the `train()` method which you wrote earlier in this notebook.\n",
    "\n",
    "**TODO**: Copy the `train()` method written above and paste it into the `train/train.py` file where required.\n",
    "\n",
    "The way that SageMaker passes hyperparameters to the training script is by way of arguments. These arguments can then be parsed and used in the training script. To see how this is done take a look at the provided `train/train.py` file."
   ]
  },
  {
   "cell_type": "code",
   "execution_count": 29,
   "metadata": {},
   "outputs": [],
   "source": [
    "from sagemaker.pytorch import PyTorch\n",
    "\n",
    "estimator = PyTorch(entry_point=\"train.py\",\n",
    "                    source_dir=\"train\",\n",
    "                    role=role,\n",
    "                    framework_version='0.4.0',\n",
    "                    train_instance_count=1,\n",
    "                    train_instance_type='ml.p2.xlarge',\n",
    "                    hyperparameters={\n",
    "                        'epochs': 10,\n",
    "                        'hidden_dim': 200,\n",
    "                    })"
   ]
  },
  {
   "cell_type": "code",
   "execution_count": 30,
   "metadata": {},
   "outputs": [
    {
     "name": "stderr",
     "output_type": "stream",
     "text": [
      "'create_image_uri' will be deprecated in favor of 'ImageURIProvider' class in SageMaker Python SDK v2.\n",
      "'s3_input' class will be renamed to 'TrainingInput' in SageMaker Python SDK v2.\n",
      "'create_image_uri' will be deprecated in favor of 'ImageURIProvider' class in SageMaker Python SDK v2.\n"
     ]
    },
    {
     "name": "stdout",
     "output_type": "stream",
     "text": [
      "2020-07-11 16:12:49 Starting - Starting the training job...\n",
      "2020-07-11 16:12:51 Starting - Launching requested ML instances.........\n",
      "2020-07-11 16:14:21 Starting - Preparing the instances for training......\n",
      "2020-07-11 16:15:44 Downloading - Downloading input data......\n",
      "2020-07-11 16:16:21 Training - Downloading the training image.\u001b[34mbash: cannot set terminal process group (-1): Inappropriate ioctl for device\u001b[0m\n",
      "\u001b[34mbash: no job control in this shell\u001b[0m\n",
      "\u001b[34m2020-07-11 16:16:51,990 sagemaker-containers INFO     Imported framework sagemaker_pytorch_container.training\u001b[0m\n",
      "\u001b[34m2020-07-11 16:16:52,017 sagemaker_pytorch_container.training INFO     Block until all host DNS lookups succeed.\u001b[0m\n",
      "\u001b[34m2020-07-11 16:16:52,021 sagemaker_pytorch_container.training INFO     Invoking user training script.\u001b[0m\n",
      "\u001b[34m2020-07-11 16:16:52,277 sagemaker-containers INFO     Module train does not provide a setup.py. \u001b[0m\n",
      "\u001b[34mGenerating setup.py\u001b[0m\n",
      "\u001b[34m2020-07-11 16:16:52,277 sagemaker-containers INFO     Generating setup.cfg\u001b[0m\n",
      "\u001b[34m2020-07-11 16:16:52,278 sagemaker-containers INFO     Generating MANIFEST.in\u001b[0m\n",
      "\u001b[34m2020-07-11 16:16:52,278 sagemaker-containers INFO     Installing module with the following command:\u001b[0m\n",
      "\u001b[34m/usr/bin/python -m pip install -U . -r requirements.txt\u001b[0m\n",
      "\u001b[34mProcessing /opt/ml/code\u001b[0m\n",
      "\u001b[34mCollecting pandas (from -r requirements.txt (line 1))\u001b[0m\n",
      "\u001b[34m  Downloading https://files.pythonhosted.org/packages/74/24/0cdbf8907e1e3bc5a8da03345c23cbed7044330bb8f73bb12e711a640a00/pandas-0.24.2-cp35-cp35m-manylinux1_x86_64.whl (10.0MB)\u001b[0m\n",
      "\u001b[34mCollecting numpy (from -r requirements.txt (line 2))\n",
      "  Downloading https://files.pythonhosted.org/packages/b5/36/88723426b4ff576809fec7d73594fe17a35c27f8d01f93637637a29ae25b/numpy-1.18.5-cp35-cp35m-manylinux1_x86_64.whl (19.9MB)\u001b[0m\n",
      "\u001b[34mCollecting nltk (from -r requirements.txt (line 3))\n",
      "  Downloading https://files.pythonhosted.org/packages/92/75/ce35194d8e3022203cca0d2f896dbb88689f9b3fce8e9f9cff942913519d/nltk-3.5.zip (1.4MB)\u001b[0m\n",
      "\u001b[34mCollecting beautifulsoup4 (from -r requirements.txt (line 4))\n",
      "  Downloading https://files.pythonhosted.org/packages/66/25/ff030e2437265616a1e9b25ccc864e0371a0bc3adb7c5a404fd661c6f4f6/beautifulsoup4-4.9.1-py3-none-any.whl (115kB)\u001b[0m\n",
      "\u001b[34mCollecting html5lib (from -r requirements.txt (line 5))\n",
      "  Downloading https://files.pythonhosted.org/packages/6c/dd/a834df6482147d48e225a49515aabc28974ad5a4ca3215c18a882565b028/html5lib-1.1-py2.py3-none-any.whl (112kB)\u001b[0m\n",
      "\u001b[34mCollecting pytz>=2011k (from pandas->-r requirements.txt (line 1))\n",
      "  Downloading https://files.pythonhosted.org/packages/4f/a4/879454d49688e2fad93e59d7d4efda580b783c745fd2ec2a3adf87b0808d/pytz-2020.1-py2.py3-none-any.whl (510kB)\u001b[0m\n",
      "\u001b[34mRequirement already satisfied, skipping upgrade: python-dateutil>=2.5.0 in /usr/local/lib/python3.5/dist-packages (from pandas->-r requirements.txt (line 1)) (2.7.5)\u001b[0m\n",
      "\u001b[34mRequirement already satisfied, skipping upgrade: click in /usr/local/lib/python3.5/dist-packages (from nltk->-r requirements.txt (line 3)) (7.0)\u001b[0m\n",
      "\u001b[34mCollecting joblib (from nltk->-r requirements.txt (line 3))\n",
      "  Downloading https://files.pythonhosted.org/packages/28/5c/cf6a2b65a321c4a209efcdf64c2689efae2cb62661f8f6f4bb28547cf1bf/joblib-0.14.1-py2.py3-none-any.whl (294kB)\u001b[0m\n",
      "\u001b[34mCollecting regex (from nltk->-r requirements.txt (line 3))\u001b[0m\n",
      "\u001b[34m  Downloading https://files.pythonhosted.org/packages/b8/7b/01510a6229c2176425bda54d15fba05a4b3df169b87265b008480261d2f9/regex-2020.6.8.tar.gz (690kB)\u001b[0m\n",
      "\u001b[34mCollecting tqdm (from nltk->-r requirements.txt (line 3))\u001b[0m\n",
      "\u001b[34m  Downloading https://files.pythonhosted.org/packages/46/62/7663894f67ac5a41a0d8812d78d9d2a9404124051885af9d77dc526fb399/tqdm-4.47.0-py2.py3-none-any.whl (66kB)\u001b[0m\n",
      "\u001b[34mCollecting soupsieve>1.2 (from beautifulsoup4->-r requirements.txt (line 4))\n",
      "  Downloading https://files.pythonhosted.org/packages/6f/8f/457f4a5390eeae1cc3aeab89deb7724c965be841ffca6cfca9197482e470/soupsieve-2.0.1-py3-none-any.whl\u001b[0m\n",
      "\u001b[34mCollecting webencodings (from html5lib->-r requirements.txt (line 5))\n",
      "  Downloading https://files.pythonhosted.org/packages/f4/24/2a3e3df732393fed8b3ebf2ec078f05546de641fe1b667ee316ec1dcf3b7/webencodings-0.5.1-py2.py3-none-any.whl\u001b[0m\n",
      "\u001b[34mRequirement already satisfied, skipping upgrade: six>=1.9 in /usr/local/lib/python3.5/dist-packages (from html5lib->-r requirements.txt (line 5)) (1.11.0)\u001b[0m\n",
      "\u001b[34mBuilding wheels for collected packages: nltk, train, regex\n",
      "  Running setup.py bdist_wheel for nltk: started\n",
      "  Running setup.py bdist_wheel for nltk: finished with status 'done'\n",
      "  Stored in directory: /root/.cache/pip/wheels/ae/8c/3f/b1fe0ba04555b08b57ab52ab7f86023639a526d8bc8d384306\u001b[0m\n",
      "\u001b[34m  Running setup.py bdist_wheel for train: started\n",
      "  Running setup.py bdist_wheel for train: finished with status 'done'\n",
      "  Stored in directory: /tmp/pip-ephem-wheel-cache-qj11fkoc/wheels/35/24/16/37574d11bf9bde50616c67372a334f94fa8356bc7164af8ca3\n",
      "  Running setup.py bdist_wheel for regex: started\u001b[0m\n",
      "\n",
      "2020-07-11 16:16:51 Training - Training image download completed. Training in progress.\u001b[34m  Running setup.py bdist_wheel for regex: finished with status 'done'\n",
      "  Stored in directory: /root/.cache/pip/wheels/9c/e2/cf/246ad8c87bcdf3cba1ec95fa89bc205c9037aa8f4d2e26fdad\u001b[0m\n",
      "\u001b[34mSuccessfully built nltk train regex\u001b[0m\n",
      "\u001b[34mInstalling collected packages: pytz, numpy, pandas, joblib, regex, tqdm, nltk, soupsieve, beautifulsoup4, webencodings, html5lib, train\n",
      "  Found existing installation: numpy 1.15.4\n",
      "    Uninstalling numpy-1.15.4:\u001b[0m\n",
      "\u001b[34m      Successfully uninstalled numpy-1.15.4\u001b[0m\n",
      "\u001b[34mSuccessfully installed beautifulsoup4-4.9.1 html5lib-1.1 joblib-0.14.1 nltk-3.5 numpy-1.18.5 pandas-0.24.2 pytz-2020.1 regex-2020.6.8 soupsieve-2.0.1 tqdm-4.47.0 train-1.0.0 webencodings-0.5.1\u001b[0m\n",
      "\u001b[34mYou are using pip version 18.1, however version 20.2b1 is available.\u001b[0m\n",
      "\u001b[34mYou should consider upgrading via the 'pip install --upgrade pip' command.\u001b[0m\n",
      "\u001b[34m2020-07-11 16:17:15,403 sagemaker-containers INFO     Invoking user script\n",
      "\u001b[0m\n",
      "\u001b[34mTraining Env:\n",
      "\u001b[0m\n",
      "\u001b[34m{\n",
      "    \"num_cpus\": 4,\n",
      "    \"model_dir\": \"/opt/ml/model\",\n",
      "    \"hyperparameters\": {\n",
      "        \"epochs\": 10,\n",
      "        \"hidden_dim\": 200\n",
      "    },\n",
      "    \"user_entry_point\": \"train.py\",\n",
      "    \"module_name\": \"train\",\n",
      "    \"input_dir\": \"/opt/ml/input\",\n",
      "    \"log_level\": 20,\n",
      "    \"network_interface_name\": \"eth0\",\n",
      "    \"num_gpus\": 1,\n",
      "    \"job_name\": \"sagemaker-pytorch-2020-07-11-16-12-48-964\",\n",
      "    \"additional_framework_parameters\": {},\n",
      "    \"channel_input_dirs\": {\n",
      "        \"training\": \"/opt/ml/input/data/training\"\n",
      "    },\n",
      "    \"resource_config\": {\n",
      "        \"network_interface_name\": \"eth0\",\n",
      "        \"hosts\": [\n",
      "            \"algo-1\"\n",
      "        ],\n",
      "        \"current_host\": \"algo-1\"\n",
      "    },\n",
      "    \"input_config_dir\": \"/opt/ml/input/config\",\n",
      "    \"framework_module\": \"sagemaker_pytorch_container.training:main\",\n",
      "    \"input_data_config\": {\n",
      "        \"training\": {\n",
      "            \"TrainingInputMode\": \"File\",\n",
      "            \"S3DistributionType\": \"FullyReplicated\",\n",
      "            \"RecordWrapperType\": \"None\"\n",
      "        }\n",
      "    },\n",
      "    \"hosts\": [\n",
      "        \"algo-1\"\n",
      "    ],\n",
      "    \"output_data_dir\": \"/opt/ml/output/data\",\n",
      "    \"module_dir\": \"s3://sagemaker-us-east-2-691062000086/sagemaker-pytorch-2020-07-11-16-12-48-964/source/sourcedir.tar.gz\",\n",
      "    \"output_intermediate_dir\": \"/opt/ml/output/intermediate\",\n",
      "    \"output_dir\": \"/opt/ml/output\",\n",
      "    \"current_host\": \"algo-1\"\u001b[0m\n",
      "\u001b[34m}\n",
      "\u001b[0m\n",
      "\u001b[34mEnvironment variables:\n",
      "\u001b[0m\n",
      "\u001b[34mSM_OUTPUT_DATA_DIR=/opt/ml/output/data\u001b[0m\n",
      "\u001b[34mSM_FRAMEWORK_PARAMS={}\u001b[0m\n",
      "\u001b[34mSM_INPUT_DIR=/opt/ml/input\u001b[0m\n",
      "\u001b[34mSM_USER_ENTRY_POINT=train.py\u001b[0m\n",
      "\u001b[34mSM_HP_EPOCHS=10\u001b[0m\n",
      "\u001b[34mSM_LOG_LEVEL=20\u001b[0m\n",
      "\u001b[34mSM_INPUT_CONFIG_DIR=/opt/ml/input/config\u001b[0m\n",
      "\u001b[34mSM_HOSTS=[\"algo-1\"]\u001b[0m\n",
      "\u001b[34mSM_INPUT_DATA_CONFIG={\"training\":{\"RecordWrapperType\":\"None\",\"S3DistributionType\":\"FullyReplicated\",\"TrainingInputMode\":\"File\"}}\u001b[0m\n",
      "\u001b[34mSM_HPS={\"epochs\":10,\"hidden_dim\":200}\u001b[0m\n",
      "\u001b[34mSM_CHANNEL_TRAINING=/opt/ml/input/data/training\u001b[0m\n",
      "\u001b[34mSM_OUTPUT_INTERMEDIATE_DIR=/opt/ml/output/intermediate\u001b[0m\n",
      "\u001b[34mSM_CURRENT_HOST=algo-1\u001b[0m\n",
      "\u001b[34mSM_OUTPUT_DIR=/opt/ml/output\u001b[0m\n",
      "\u001b[34mSM_NETWORK_INTERFACE_NAME=eth0\u001b[0m\n",
      "\u001b[34mSM_MODULE_DIR=s3://sagemaker-us-east-2-691062000086/sagemaker-pytorch-2020-07-11-16-12-48-964/source/sourcedir.tar.gz\u001b[0m\n",
      "\u001b[34mSM_MODULE_NAME=train\u001b[0m\n",
      "\u001b[34mSM_TRAINING_ENV={\"additional_framework_parameters\":{},\"channel_input_dirs\":{\"training\":\"/opt/ml/input/data/training\"},\"current_host\":\"algo-1\",\"framework_module\":\"sagemaker_pytorch_container.training:main\",\"hosts\":[\"algo-1\"],\"hyperparameters\":{\"epochs\":10,\"hidden_dim\":200},\"input_config_dir\":\"/opt/ml/input/config\",\"input_data_config\":{\"training\":{\"RecordWrapperType\":\"None\",\"S3DistributionType\":\"FullyReplicated\",\"TrainingInputMode\":\"File\"}},\"input_dir\":\"/opt/ml/input\",\"job_name\":\"sagemaker-pytorch-2020-07-11-16-12-48-964\",\"log_level\":20,\"model_dir\":\"/opt/ml/model\",\"module_dir\":\"s3://sagemaker-us-east-2-691062000086/sagemaker-pytorch-2020-07-11-16-12-48-964/source/sourcedir.tar.gz\",\"module_name\":\"train\",\"network_interface_name\":\"eth0\",\"num_cpus\":4,\"num_gpus\":1,\"output_data_dir\":\"/opt/ml/output/data\",\"output_dir\":\"/opt/ml/output\",\"output_intermediate_dir\":\"/opt/ml/output/intermediate\",\"resource_config\":{\"current_host\":\"algo-1\",\"hosts\":[\"algo-1\"],\"network_interface_name\":\"eth0\"},\"user_entry_point\":\"train.py\"}\u001b[0m\n",
      "\u001b[34mSM_NUM_GPUS=1\u001b[0m\n",
      "\u001b[34mSM_NUM_CPUS=4\u001b[0m\n",
      "\u001b[34mSM_RESOURCE_CONFIG={\"current_host\":\"algo-1\",\"hosts\":[\"algo-1\"],\"network_interface_name\":\"eth0\"}\u001b[0m\n",
      "\u001b[34mSM_FRAMEWORK_MODULE=sagemaker_pytorch_container.training:main\u001b[0m\n",
      "\u001b[34mSM_USER_ARGS=[\"--epochs\",\"10\",\"--hidden_dim\",\"200\"]\u001b[0m\n",
      "\u001b[34mPYTHONPATH=/usr/local/bin:/usr/lib/python35.zip:/usr/lib/python3.5:/usr/lib/python3.5/plat-x86_64-linux-gnu:/usr/lib/python3.5/lib-dynload:/usr/local/lib/python3.5/dist-packages:/usr/lib/python3/dist-packages\u001b[0m\n",
      "\u001b[34mSM_CHANNELS=[\"training\"]\u001b[0m\n",
      "\u001b[34mSM_MODEL_DIR=/opt/ml/model\u001b[0m\n",
      "\u001b[34mSM_HP_HIDDEN_DIM=200\n",
      "\u001b[0m\n",
      "\u001b[34mInvoking script with the following command:\n",
      "\u001b[0m\n",
      "\u001b[34m/usr/bin/python -m train --epochs 10 --hidden_dim 200\n",
      "\n",
      "\u001b[0m\n",
      "\u001b[34mUsing device cuda.\u001b[0m\n",
      "\u001b[34mGet train data loader.\u001b[0m\n"
     ]
    },
    {
     "name": "stdout",
     "output_type": "stream",
     "text": [
      "\u001b[34mModel loaded with embedding_dim 32, hidden_dim 200, vocab_size 5000.\u001b[0m\n",
      "\u001b[34mEpoch: 1, BCELoss: 0.6743866059244895\u001b[0m\n",
      "\u001b[34mEpoch: 2, BCELoss: 0.6033390006240533\u001b[0m\n",
      "\u001b[34mEpoch: 3, BCELoss: 0.5066792527023627\u001b[0m\n",
      "\u001b[34mEpoch: 4, BCELoss: 0.48831584319776417\u001b[0m\n",
      "\u001b[34mEpoch: 5, BCELoss: 0.42919727734157015\u001b[0m\n",
      "\u001b[34mEpoch: 6, BCELoss: 0.3732514612528743\u001b[0m\n",
      "\u001b[34mEpoch: 7, BCELoss: 0.35972912153419184\u001b[0m\n",
      "\u001b[34mEpoch: 8, BCELoss: 0.332242097781629\u001b[0m\n",
      "\u001b[34mEpoch: 9, BCELoss: 0.3454105270152189\u001b[0m\n",
      "\n",
      "2020-07-11 16:20:18 Uploading - Uploading generated training model\u001b[34mEpoch: 10, BCELoss: 0.2947124993922759\u001b[0m\n",
      "\u001b[34m2020-07-11 16:20:14,170 sagemaker-containers INFO     Reporting training SUCCESS\u001b[0m\n",
      "\n",
      "2020-07-11 16:20:25 Completed - Training job completed\n",
      "Training seconds: 281\n",
      "Billable seconds: 281\n"
     ]
    }
   ],
   "source": [
    "estimator.fit({'training': input_data})"
   ]
  },
  {
   "cell_type": "markdown",
   "metadata": {},
   "source": [
    "## Step 5: Testing the model\n",
    "\n",
    "As mentioned at the top of this notebook, we will be testing this model by first deploying it and then sending the testing data to the deployed endpoint. We will do this so that we can make sure that the deployed model is working correctly.\n",
    "\n",
    "## Step 6: Deploy the model for testing\n",
    "\n",
    "Now that we have trained our model, we would like to test it to see how it performs. Currently our model takes input of the form `review_length, review[500]` where `review[500]` is a sequence of `500` integers which describe the words present in the review, encoded using `word_dict`. Fortunately for us, SageMaker provides built-in inference code for models with simple inputs such as this.\n",
    "\n",
    "There is one thing that we need to provide, however, and that is a function which loads the saved model. This function must be called `model_fn()` and takes as its only parameter a path to the directory where the model artifacts are stored. This function must also be present in the python file which we specified as the entry point. In our case the model loading function has been provided and so no changes need to be made.\n",
    "\n",
    "**NOTE**: When the built-in inference code is run it must import the `model_fn()` method from the `train.py` file. This is why the training code is wrapped in a main guard ( ie, `if __name__ == '__main__':` )\n",
    "\n",
    "Since we don't need to change anything in the code that was uploaded during training, we can simply deploy the current model as-is.\n",
    "\n",
    "**NOTE:** When deploying a model you are asking SageMaker to launch an compute instance that will wait for data to be sent to it. As a result, this compute instance will continue to run until *you* shut it down. This is important to know since the cost of a deployed endpoint depends on how long it has been running for.\n",
    "\n",
    "In other words **If you are no longer using a deployed endpoint, shut it down!**\n",
    "\n",
    "**TODO:** Deploy the trained model."
   ]
  },
  {
   "cell_type": "code",
   "execution_count": 31,
   "metadata": {},
   "outputs": [
    {
     "name": "stderr",
     "output_type": "stream",
     "text": [
      "Parameter image will be renamed to image_uri in SageMaker Python SDK v2.\n",
      "'create_image_uri' will be deprecated in favor of 'ImageURIProvider' class in SageMaker Python SDK v2.\n"
     ]
    },
    {
     "name": "stdout",
     "output_type": "stream",
     "text": [
      "---------------!"
     ]
    }
   ],
   "source": [
    "# TODO: Deploy the trained model\n",
    "predictor = estimator.deploy(initial_instance_count = 1, instance_type = 'ml.m4.xlarge')"
   ]
  },
  {
   "cell_type": "markdown",
   "metadata": {},
   "source": [
    "## Step 7 - Use the model for testing\n",
    "\n",
    "Once deployed, we can read in the test data and send it off to our deployed model to get some results. Once we collect all of the results we can determine how accurate our model is."
   ]
  },
  {
   "cell_type": "code",
   "execution_count": 32,
   "metadata": {},
   "outputs": [],
   "source": [
    "test_X = pd.concat([pd.DataFrame(test_X_len), pd.DataFrame(test_X)], axis=1)"
   ]
  },
  {
   "cell_type": "code",
   "execution_count": 33,
   "metadata": {},
   "outputs": [],
   "source": [
    "# We split the data into chunks and send each chunk seperately, accumulating the results.\n",
    "\n",
    "def predict(data, rows=512):\n",
    "    split_array = np.array_split(data, int(data.shape[0] / float(rows) + 1))\n",
    "    predictions = np.array([])\n",
    "    for array in split_array:\n",
    "        predictions = np.append(predictions, predictor.predict(array))\n",
    "    \n",
    "    return predictions"
   ]
  },
  {
   "cell_type": "code",
   "execution_count": 34,
   "metadata": {},
   "outputs": [],
   "source": [
    "predictions = predict(test_X.values)\n",
    "predictions = [round(num) for num in predictions]"
   ]
  },
  {
   "cell_type": "code",
   "execution_count": 35,
   "metadata": {},
   "outputs": [
    {
     "data": {
      "text/plain": [
       "0.84932"
      ]
     },
     "execution_count": 35,
     "metadata": {},
     "output_type": "execute_result"
    }
   ],
   "source": [
    "from sklearn.metrics import accuracy_score\n",
    "accuracy_score(test_y, predictions)"
   ]
  },
  {
   "cell_type": "markdown",
   "metadata": {},
   "source": [
    "**Question:** How does this model compare to the XGBoost model you created earlier? Why might these two models perform differently on this dataset? Which do *you* think is better for sentiment analysis?"
   ]
  },
  {
   "cell_type": "markdown",
   "metadata": {},
   "source": [
    "**Answer:** This model's accurancy score is better."
   ]
  },
  {
   "cell_type": "markdown",
   "metadata": {},
   "source": [
    "### (TODO) More testing\n",
    "\n",
    "We now have a trained model which has been deployed and which we can send processed reviews to and which returns the predicted sentiment. However, ultimately we would like to be able to send our model an unprocessed review. That is, we would like to send the review itself as a string. For example, suppose we wish to send the following review to our model."
   ]
  },
  {
   "cell_type": "code",
   "execution_count": 36,
   "metadata": {},
   "outputs": [],
   "source": [
    "test_review = 'The simplest pleasures in life are the best, and this film is one of them. Combining a rather basic storyline of love and adventure this movie transcends the usual weekend fair with wit and unmitigated charm.'"
   ]
  },
  {
   "cell_type": "markdown",
   "metadata": {},
   "source": [
    "The question we now need to answer is, how do we send this review to our model?\n",
    "\n",
    "Recall in the first section of this notebook we did a bunch of data processing to the IMDb dataset. In particular, we did two specific things to the provided reviews.\n",
    " - Removed any html tags and stemmed the input\n",
    " - Encoded the review as a sequence of integers using `word_dict`\n",
    " \n",
    "In order process the review we will need to repeat these two steps.\n",
    "\n",
    "**TODO**: Using the `review_to_words` and `convert_and_pad` methods from section one, convert `test_review` into a numpy array `test_data` suitable to send to our model. Remember that our model expects input of the form `review_length, review[500]`."
   ]
  },
  {
   "cell_type": "code",
   "execution_count": 37,
   "metadata": {},
   "outputs": [],
   "source": [
    "# TODO: Convert test_review into a form usable by the model and save the results in test_data\n",
    "test_data = review_to_words(test_review)"
   ]
  },
  {
   "cell_type": "code",
   "execution_count": 39,
   "metadata": {},
   "outputs": [],
   "source": [
    "test_data = [np.array(convert_and_pad(word_dict, test_data)[0])]"
   ]
  },
  {
   "cell_type": "markdown",
   "metadata": {},
   "source": [
    "Now that we have processed the review, we can send the resulting array to our model to predict the sentiment of the review."
   ]
  },
  {
   "cell_type": "code",
   "execution_count": 40,
   "metadata": {},
   "outputs": [
    {
     "data": {
      "text/plain": [
       "array(0.64095026, dtype=float32)"
      ]
     },
     "execution_count": 40,
     "metadata": {},
     "output_type": "execute_result"
    }
   ],
   "source": [
    "predictor.predict(test_data)"
   ]
  },
  {
   "cell_type": "markdown",
   "metadata": {},
   "source": [
    "Since the return value of our model is close to `1`, we can be certain that the review we submitted is positive."
   ]
  },
  {
   "cell_type": "markdown",
   "metadata": {},
   "source": [
    "### Delete the endpoint\n",
    "\n",
    "Of course, just like in the XGBoost notebook, once we've deployed an endpoint it continues to run until we tell it to shut down. Since we are done using our endpoint for now, we can delete it."
   ]
  },
  {
   "cell_type": "code",
   "execution_count": 41,
   "metadata": {},
   "outputs": [
    {
     "name": "stderr",
     "output_type": "stream",
     "text": [
      "WARNING:root:estimator.delete_endpoint() will be deprecated in SageMaker Python SDK v2. Please use the delete_endpoint() function on your predictor instead.\n"
     ]
    }
   ],
   "source": [
    "estimator.delete_endpoint()"
   ]
  },
  {
   "cell_type": "markdown",
   "metadata": {},
   "source": [
    "## Step 6 (again) - Deploy the model for the web app\n",
    "\n",
    "Now that we know that our model is working, it's time to create some custom inference code so that we can send the model a review which has not been processed and have it determine the sentiment of the review.\n",
    "\n",
    "As we saw above, by default the estimator which we created, when deployed, will use the entry script and directory which we provided when creating the model. However, since we now wish to accept a string as input and our model expects a processed review, we need to write some custom inference code.\n",
    "\n",
    "We will store the code that we write in the `serve` directory. Provided in this directory is the `model.py` file that we used to construct our model, a `utils.py` file which contains the `review_to_words` and `convert_and_pad` pre-processing functions which we used during the initial data processing, and `predict.py`, the file which will contain our custom inference code. Note also that `requirements.txt` is present which will tell SageMaker what Python libraries are required by our custom inference code.\n",
    "\n",
    "When deploying a PyTorch model in SageMaker, you are expected to provide four functions which the SageMaker inference container will use.\n",
    " - `model_fn`: This function is the same function that we used in the training script and it tells SageMaker how to load our model.\n",
    " - `input_fn`: This function receives the raw serialized input that has been sent to the model's endpoint and its job is to de-serialize and make the input available for the inference code.\n",
    " - `output_fn`: This function takes the output of the inference code and its job is to serialize this output and return it to the caller of the model's endpoint.\n",
    " - `predict_fn`: The heart of the inference script, this is where the actual prediction is done and is the function which you will need to complete.\n",
    "\n",
    "For the simple website that we are constructing during this project, the `input_fn` and `output_fn` methods are relatively straightforward. We only require being able to accept a string as input and we expect to return a single value as output. You might imagine though that in a more complex application the input or output may be image data or some other binary data which would require some effort to serialize.\n",
    "\n",
    "### (TODO) Writing inference code\n",
    "\n",
    "Before writing our custom inference code, we will begin by taking a look at the code which has been provided."
   ]
  },
  {
   "cell_type": "code",
   "execution_count": 42,
   "metadata": {},
   "outputs": [
    {
     "name": "stdout",
     "output_type": "stream",
     "text": [
      "\u001b[34mimport\u001b[39;49;00m \u001b[04m\u001b[36margparse\u001b[39;49;00m\r\n",
      "\u001b[34mimport\u001b[39;49;00m \u001b[04m\u001b[36mjson\u001b[39;49;00m\r\n",
      "\u001b[34mimport\u001b[39;49;00m \u001b[04m\u001b[36mos\u001b[39;49;00m\r\n",
      "\u001b[34mimport\u001b[39;49;00m \u001b[04m\u001b[36mpickle\u001b[39;49;00m\r\n",
      "\u001b[34mimport\u001b[39;49;00m \u001b[04m\u001b[36msys\u001b[39;49;00m\r\n",
      "\u001b[34mimport\u001b[39;49;00m \u001b[04m\u001b[36msagemaker_containers\u001b[39;49;00m\r\n",
      "\u001b[34mimport\u001b[39;49;00m \u001b[04m\u001b[36mpandas\u001b[39;49;00m \u001b[34mas\u001b[39;49;00m \u001b[04m\u001b[36mpd\u001b[39;49;00m\r\n",
      "\u001b[34mimport\u001b[39;49;00m \u001b[04m\u001b[36mnumpy\u001b[39;49;00m \u001b[34mas\u001b[39;49;00m \u001b[04m\u001b[36mnp\u001b[39;49;00m\r\n",
      "\u001b[34mimport\u001b[39;49;00m \u001b[04m\u001b[36mtorch\u001b[39;49;00m\r\n",
      "\u001b[34mimport\u001b[39;49;00m \u001b[04m\u001b[36mtorch\u001b[39;49;00m\u001b[04m\u001b[36m.\u001b[39;49;00m\u001b[04m\u001b[36mnn\u001b[39;49;00m \u001b[34mas\u001b[39;49;00m \u001b[04m\u001b[36mnn\u001b[39;49;00m\r\n",
      "\u001b[34mimport\u001b[39;49;00m \u001b[04m\u001b[36mtorch\u001b[39;49;00m\u001b[04m\u001b[36m.\u001b[39;49;00m\u001b[04m\u001b[36moptim\u001b[39;49;00m \u001b[34mas\u001b[39;49;00m \u001b[04m\u001b[36moptim\u001b[39;49;00m\r\n",
      "\u001b[34mimport\u001b[39;49;00m \u001b[04m\u001b[36mtorch\u001b[39;49;00m\u001b[04m\u001b[36m.\u001b[39;49;00m\u001b[04m\u001b[36mutils\u001b[39;49;00m\u001b[04m\u001b[36m.\u001b[39;49;00m\u001b[04m\u001b[36mdata\u001b[39;49;00m\r\n",
      "\r\n",
      "\u001b[34mfrom\u001b[39;49;00m \u001b[04m\u001b[36mmodel\u001b[39;49;00m \u001b[34mimport\u001b[39;49;00m LSTMClassifier\r\n",
      "\r\n",
      "\u001b[34mfrom\u001b[39;49;00m \u001b[04m\u001b[36mutils\u001b[39;49;00m \u001b[34mimport\u001b[39;49;00m review_to_words, convert_and_pad\r\n",
      "\r\n",
      "\u001b[34mdef\u001b[39;49;00m \u001b[32mmodel_fn\u001b[39;49;00m(model_dir):\r\n",
      "    \u001b[33m\"\"\"Load the PyTorch model from the `model_dir` directory.\"\"\"\u001b[39;49;00m\r\n",
      "    \u001b[36mprint\u001b[39;49;00m(\u001b[33m\"\u001b[39;49;00m\u001b[33mLoading model.\u001b[39;49;00m\u001b[33m\"\u001b[39;49;00m)\r\n",
      "\r\n",
      "    \u001b[37m# First, load the parameters used to create the model.\u001b[39;49;00m\r\n",
      "    model_info = {}\r\n",
      "    model_info_path = os.path.join(model_dir, \u001b[33m'\u001b[39;49;00m\u001b[33mmodel_info.pth\u001b[39;49;00m\u001b[33m'\u001b[39;49;00m)\r\n",
      "    \u001b[34mwith\u001b[39;49;00m \u001b[36mopen\u001b[39;49;00m(model_info_path, \u001b[33m'\u001b[39;49;00m\u001b[33mrb\u001b[39;49;00m\u001b[33m'\u001b[39;49;00m) \u001b[34mas\u001b[39;49;00m f:\r\n",
      "        model_info = torch.load(f)\r\n",
      "\r\n",
      "    \u001b[36mprint\u001b[39;49;00m(\u001b[33m\"\u001b[39;49;00m\u001b[33mmodel_info: \u001b[39;49;00m\u001b[33m{}\u001b[39;49;00m\u001b[33m\"\u001b[39;49;00m.format(model_info))\r\n",
      "\r\n",
      "    \u001b[37m# Determine the device and construct the model.\u001b[39;49;00m\r\n",
      "    device = torch.device(\u001b[33m\"\u001b[39;49;00m\u001b[33mcuda\u001b[39;49;00m\u001b[33m\"\u001b[39;49;00m \u001b[34mif\u001b[39;49;00m torch.cuda.is_available() \u001b[34melse\u001b[39;49;00m \u001b[33m\"\u001b[39;49;00m\u001b[33mcpu\u001b[39;49;00m\u001b[33m\"\u001b[39;49;00m)\r\n",
      "    model = LSTMClassifier(model_info[\u001b[33m'\u001b[39;49;00m\u001b[33membedding_dim\u001b[39;49;00m\u001b[33m'\u001b[39;49;00m], model_info[\u001b[33m'\u001b[39;49;00m\u001b[33mhidden_dim\u001b[39;49;00m\u001b[33m'\u001b[39;49;00m], model_info[\u001b[33m'\u001b[39;49;00m\u001b[33mvocab_size\u001b[39;49;00m\u001b[33m'\u001b[39;49;00m])\r\n",
      "\r\n",
      "    \u001b[37m# Load the store model parameters.\u001b[39;49;00m\r\n",
      "    model_path = os.path.join(model_dir, \u001b[33m'\u001b[39;49;00m\u001b[33mmodel.pth\u001b[39;49;00m\u001b[33m'\u001b[39;49;00m)\r\n",
      "    \u001b[34mwith\u001b[39;49;00m \u001b[36mopen\u001b[39;49;00m(model_path, \u001b[33m'\u001b[39;49;00m\u001b[33mrb\u001b[39;49;00m\u001b[33m'\u001b[39;49;00m) \u001b[34mas\u001b[39;49;00m f:\r\n",
      "        model.load_state_dict(torch.load(f))\r\n",
      "\r\n",
      "    \u001b[37m# Load the saved word_dict.\u001b[39;49;00m\r\n",
      "    word_dict_path = os.path.join(model_dir, \u001b[33m'\u001b[39;49;00m\u001b[33mword_dict.pkl\u001b[39;49;00m\u001b[33m'\u001b[39;49;00m)\r\n",
      "    \u001b[34mwith\u001b[39;49;00m \u001b[36mopen\u001b[39;49;00m(word_dict_path, \u001b[33m'\u001b[39;49;00m\u001b[33mrb\u001b[39;49;00m\u001b[33m'\u001b[39;49;00m) \u001b[34mas\u001b[39;49;00m f:\r\n",
      "        model.word_dict = pickle.load(f)\r\n",
      "\r\n",
      "    model.to(device).eval()\r\n",
      "\r\n",
      "    \u001b[36mprint\u001b[39;49;00m(\u001b[33m\"\u001b[39;49;00m\u001b[33mDone loading model.\u001b[39;49;00m\u001b[33m\"\u001b[39;49;00m)\r\n",
      "    \u001b[34mreturn\u001b[39;49;00m model\r\n",
      "\r\n",
      "\u001b[34mdef\u001b[39;49;00m \u001b[32minput_fn\u001b[39;49;00m(serialized_input_data, content_type):\r\n",
      "    \u001b[36mprint\u001b[39;49;00m(\u001b[33m'\u001b[39;49;00m\u001b[33mDeserializing the input data.\u001b[39;49;00m\u001b[33m'\u001b[39;49;00m)\r\n",
      "    \u001b[34mif\u001b[39;49;00m content_type == \u001b[33m'\u001b[39;49;00m\u001b[33mtext/plain\u001b[39;49;00m\u001b[33m'\u001b[39;49;00m:\r\n",
      "        data = serialized_input_data.decode(\u001b[33m'\u001b[39;49;00m\u001b[33mutf-8\u001b[39;49;00m\u001b[33m'\u001b[39;49;00m)\r\n",
      "        \u001b[34mreturn\u001b[39;49;00m data\r\n",
      "    \u001b[34mraise\u001b[39;49;00m \u001b[36mException\u001b[39;49;00m(\u001b[33m'\u001b[39;49;00m\u001b[33mRequested unsupported ContentType in content_type: \u001b[39;49;00m\u001b[33m'\u001b[39;49;00m + content_type)\r\n",
      "\r\n",
      "\u001b[34mdef\u001b[39;49;00m \u001b[32moutput_fn\u001b[39;49;00m(prediction_output, accept):\r\n",
      "    \u001b[36mprint\u001b[39;49;00m(\u001b[33m'\u001b[39;49;00m\u001b[33mSerializing the generated output.\u001b[39;49;00m\u001b[33m'\u001b[39;49;00m)\r\n",
      "    \u001b[34mreturn\u001b[39;49;00m \u001b[36mstr\u001b[39;49;00m(prediction_output)\r\n",
      "\r\n",
      "\u001b[34mdef\u001b[39;49;00m \u001b[32mpredict_fn\u001b[39;49;00m(input_data, model):\r\n",
      "    \u001b[36mprint\u001b[39;49;00m(\u001b[33m'\u001b[39;49;00m\u001b[33mInferring sentiment of input data.\u001b[39;49;00m\u001b[33m'\u001b[39;49;00m)\r\n",
      "\r\n",
      "    device = torch.device(\u001b[33m\"\u001b[39;49;00m\u001b[33mcuda\u001b[39;49;00m\u001b[33m\"\u001b[39;49;00m \u001b[34mif\u001b[39;49;00m torch.cuda.is_available() \u001b[34melse\u001b[39;49;00m \u001b[33m\"\u001b[39;49;00m\u001b[33mcpu\u001b[39;49;00m\u001b[33m\"\u001b[39;49;00m)\r\n",
      "    \r\n",
      "    \u001b[34mif\u001b[39;49;00m model.word_dict \u001b[35mis\u001b[39;49;00m \u001b[34mNone\u001b[39;49;00m:\r\n",
      "        \u001b[34mraise\u001b[39;49;00m \u001b[36mException\u001b[39;49;00m(\u001b[33m'\u001b[39;49;00m\u001b[33mModel has not been loaded properly, no word_dict.\u001b[39;49;00m\u001b[33m'\u001b[39;49;00m)\r\n",
      "    \r\n",
      "    \u001b[37m# TODO: Process input_data so that it is ready to be sent to our model.\u001b[39;49;00m\r\n",
      "    \u001b[37m#       You should produce two variables:\u001b[39;49;00m\r\n",
      "    \u001b[37m#         data_X   - A sequence of length 500 which represents the converted review\u001b[39;49;00m\r\n",
      "    \u001b[37m#         data_len - The length of the review\u001b[39;49;00m\r\n",
      "\r\n",
      "    data_X = \u001b[34mNone\u001b[39;49;00m\r\n",
      "    data_len = \u001b[34mNone\u001b[39;49;00m\r\n",
      "\r\n",
      "    \u001b[37m# Using data_X and data_len we construct an appropriate input tensor. Remember\u001b[39;49;00m\r\n",
      "    \u001b[37m# that our model expects input data of the form 'len, review[500]'.\u001b[39;49;00m\r\n",
      "    data_pack = np.hstack((data_len, data_X))\r\n",
      "    data_pack = data_pack.reshape(\u001b[34m1\u001b[39;49;00m, -\u001b[34m1\u001b[39;49;00m)\r\n",
      "    \r\n",
      "    data = torch.from_numpy(data_pack)\r\n",
      "    data = data.to(device)\r\n",
      "\r\n",
      "    \u001b[37m# Make sure to put the model into evaluation mode\u001b[39;49;00m\r\n",
      "    model.eval()\r\n",
      "\r\n",
      "    \u001b[37m# TODO: Compute the result of applying the model to the input data. The variable `result` should\u001b[39;49;00m\r\n",
      "    \u001b[37m#       be a numpy array which contains a single integer which is either 1 or 0\u001b[39;49;00m\r\n",
      "\r\n",
      "    result = \u001b[34mNone\u001b[39;49;00m\r\n",
      "\r\n",
      "    \u001b[34mreturn\u001b[39;49;00m result\r\n"
     ]
    }
   ],
   "source": [
    "!pygmentize serve/predict.py"
   ]
  },
  {
   "cell_type": "markdown",
   "metadata": {},
   "source": [
    "As mentioned earlier, the `model_fn` method is the same as the one provided in the training code and the `input_fn` and `output_fn` methods are very simple and your task will be to complete the `predict_fn` method. Make sure that you save the completed file as `predict.py` in the `serve` directory.\n",
    "\n",
    "**TODO**: Complete the `predict_fn()` method in the `serve/predict.py` file."
   ]
  },
  {
   "cell_type": "markdown",
   "metadata": {},
   "source": [
    "### Deploying the model\n",
    "\n",
    "Now that the custom inference code has been written, we will create and deploy our model. To begin with, we need to construct a new PyTorchModel object which points to the model artifacts created during training and also points to the inference code that we wish to use. Then we can call the deploy method to launch the deployment container.\n",
    "\n",
    "**NOTE**: The default behaviour for a deployed PyTorch model is to assume that any input passed to the predictor is a `numpy` array. In our case we want to send a string so we need to construct a simple wrapper around the `RealTimePredictor` class to accomodate simple strings. In a more complicated situation you may want to provide a serialization object, for example if you wanted to sent image data."
   ]
  },
  {
   "cell_type": "code",
   "execution_count": 43,
   "metadata": {},
   "outputs": [
    {
     "name": "stderr",
     "output_type": "stream",
     "text": [
      "WARNING:sagemaker:Parameter image will be renamed to image_uri in SageMaker Python SDK v2.\n",
      "WARNING:sagemaker:'create_image_uri' will be deprecated in favor of 'ImageURIProvider' class in SageMaker Python SDK v2.\n"
     ]
    },
    {
     "name": "stdout",
     "output_type": "stream",
     "text": [
      "-------------!"
     ]
    }
   ],
   "source": [
    "from sagemaker.predictor import RealTimePredictor\n",
    "from sagemaker.pytorch import PyTorchModel\n",
    "\n",
    "class StringPredictor(RealTimePredictor):\n",
    "    def __init__(self, endpoint_name, sagemaker_session):\n",
    "        super(StringPredictor, self).__init__(endpoint_name, sagemaker_session, content_type='text/plain')\n",
    "\n",
    "model = PyTorchModel(model_data=estimator.model_data,\n",
    "                     role = role,\n",
    "                     framework_version='0.4.0',\n",
    "                     entry_point='predict.py',\n",
    "                     source_dir='serve',\n",
    "                     predictor_cls=StringPredictor)\n",
    "predictor = model.deploy(initial_instance_count=1, instance_type='ml.m4.xlarge')"
   ]
  },
  {
   "cell_type": "markdown",
   "metadata": {},
   "source": [
    "### Testing the model\n",
    "\n",
    "Now that we have deployed our model with the custom inference code, we should test to see if everything is working. Here we test our model by loading the first `250` positive and negative reviews and send them to the endpoint, then collect the results. The reason for only sending some of the data is that the amount of time it takes for our model to process the input and then perform inference is quite long and so testing the entire data set would be prohibitive."
   ]
  },
  {
   "cell_type": "code",
   "execution_count": 46,
   "metadata": {},
   "outputs": [],
   "source": [
    "import glob\n",
    "\n",
    "def test_reviews(data_dir='../data/aclImdb', stop=250):\n",
    "    \n",
    "    results = []\n",
    "    ground = []\n",
    "    \n",
    "    # We make sure to test both positive and negative reviews    \n",
    "    for sentiment in ['pos', 'neg']:\n",
    "        \n",
    "        path = os.path.join(data_dir, 'test', sentiment, '*.txt')\n",
    "        files = glob.glob(path)\n",
    "        \n",
    "        files_read = 0\n",
    "        \n",
    "        print('Starting ', sentiment, ' files')\n",
    "        \n",
    "        # Iterate through the files and send them to the predictor\n",
    "        for f in files:\n",
    "            with open(f) as review:\n",
    "                # First, we store the ground truth (was the review positive or negative)\n",
    "                if sentiment == 'pos':\n",
    "                    ground.append(1)\n",
    "                else:\n",
    "                    ground.append(0)\n",
    "                # Read in the review and convert to 'utf-8' for transmission via HTTP\n",
    "                review_input = review.read().encode('utf-8')\n",
    "                # Send the review to the predictor and store the results\n",
    "                results.append(float(predictor.predict(review_input)))\n",
    "                \n",
    "            # Sending reviews to our endpoint one at a time takes a while so we\n",
    "            # only send a small number of reviews\n",
    "            files_read += 1\n",
    "            if files_read == stop:\n",
    "                break\n",
    "            \n",
    "    return ground, results"
   ]
  },
  {
   "cell_type": "code",
   "execution_count": 47,
   "metadata": {},
   "outputs": [
    {
     "name": "stdout",
     "output_type": "stream",
     "text": [
      "Starting  pos  files\n",
      "Starting  neg  files\n"
     ]
    }
   ],
   "source": [
    "ground, results = test_reviews()"
   ]
  },
  {
   "cell_type": "code",
   "execution_count": 48,
   "metadata": {},
   "outputs": [
    {
     "data": {
      "text/plain": [
       "0.852"
      ]
     },
     "execution_count": 48,
     "metadata": {},
     "output_type": "execute_result"
    }
   ],
   "source": [
    "from sklearn.metrics import accuracy_score\n",
    "accuracy_score(ground, results)"
   ]
  },
  {
   "cell_type": "markdown",
   "metadata": {},
   "source": [
    "As an additional test, we can try sending the `test_review` that we looked at earlier."
   ]
  },
  {
   "cell_type": "code",
   "execution_count": 49,
   "metadata": {},
   "outputs": [
    {
     "data": {
      "text/plain": [
       "b'1.0'"
      ]
     },
     "execution_count": 49,
     "metadata": {},
     "output_type": "execute_result"
    }
   ],
   "source": [
    "predictor.predict(test_review)"
   ]
  },
  {
   "cell_type": "markdown",
   "metadata": {},
   "source": [
    "Now that we know our endpoint is working as expected, we can set up the web page that will interact with it. If you don't have time to finish the project now, make sure to skip down to the end of this notebook and shut down your endpoint. You can deploy it again when you come back."
   ]
  },
  {
   "cell_type": "markdown",
   "metadata": {},
   "source": [
    "## Step 7 (again): Use the model for the web app\n",
    "\n",
    "> **TODO:** This entire section and the next contain tasks for you to complete, mostly using the AWS console.\n",
    "\n",
    "So far we have been accessing our model endpoint by constructing a predictor object which uses the endpoint and then just using the predictor object to perform inference. What if we wanted to create a web app which accessed our model? The way things are set up currently makes that not possible since in order to access a SageMaker endpoint the app would first have to authenticate with AWS using an IAM role which included access to SageMaker endpoints. However, there is an easier way! We just need to use some additional AWS services.\n",
    "\n",
    "<img src=\"Web App Diagram.svg\">\n",
    "\n",
    "The diagram above gives an overview of how the various services will work together. On the far right is the model which we trained above and which is deployed using SageMaker. On the far left is our web app that collects a user's movie review, sends it off and expects a positive or negative sentiment in return.\n",
    "\n",
    "In the middle is where some of the magic happens. We will construct a Lambda function, which you can think of as a straightforward Python function that can be executed whenever a specified event occurs. We will give this function permission to send and recieve data from a SageMaker endpoint.\n",
    "\n",
    "Lastly, the method we will use to execute the Lambda function is a new endpoint that we will create using API Gateway. This endpoint will be a url that listens for data to be sent to it. Once it gets some data it will pass that data on to the Lambda function and then return whatever the Lambda function returns. Essentially it will act as an interface that lets our web app communicate with the Lambda function.\n",
    "\n",
    "### Setting up a Lambda function\n",
    "\n",
    "The first thing we are going to do is set up a Lambda function. This Lambda function will be executed whenever our public API has data sent to it. When it is executed it will receive the data, perform any sort of processing that is required, send the data (the review) to the SageMaker endpoint we've created and then return the result.\n",
    "\n",
    "#### Part A: Create an IAM Role for the Lambda function\n",
    "\n",
    "Since we want the Lambda function to call a SageMaker endpoint, we need to make sure that it has permission to do so. To do this, we will construct a role that we can later give the Lambda function.\n",
    "\n",
    "Using the AWS Console, navigate to the **IAM** page and click on **Roles**. Then, click on **Create role**. Make sure that the **AWS service** is the type of trusted entity selected and choose **Lambda** as the service that will use this role, then click **Next: Permissions**.\n",
    "\n",
    "In the search box type `sagemaker` and select the check box next to the **AmazonSageMakerFullAccess** policy. Then, click on **Next: Review**.\n",
    "\n",
    "Lastly, give this role a name. Make sure you use a name that you will remember later on, for example `LambdaSageMakerRole`. Then, click on **Create role**.\n",
    "\n",
    "#### Part B: Create a Lambda function\n",
    "\n",
    "Now it is time to actually create the Lambda function.\n",
    "\n",
    "Using the AWS Console, navigate to the AWS Lambda page and click on **Create a function**. When you get to the next page, make sure that **Author from scratch** is selected. Now, name your Lambda function, using a name that you will remember later on, for example `sentiment_analysis_func`. Make sure that the **Python 3.6** runtime is selected and then choose the role that you created in the previous part. Then, click on **Create Function**.\n",
    "\n",
    "On the next page you will see some information about the Lambda function you've just created. If you scroll down you should see an editor in which you can write the code that will be executed when your Lambda function is triggered. In our example, we will use the code below. \n",
    "\n",
    "```python\n",
    "# We need to use the low-level library to interact with SageMaker since the SageMaker API\n",
    "# is not available natively through Lambda.\n",
    "import boto3\n",
    "\n",
    "def lambda_handler(event, context):\n",
    "\n",
    "    # The SageMaker runtime is what allows us to invoke the endpoint that we've created.\n",
    "    runtime = boto3.Session().client('sagemaker-runtime')\n",
    "\n",
    "    # Now we use the SageMaker runtime to invoke our endpoint, sending the review we were given\n",
    "    response = runtime.invoke_endpoint(EndpointName = '**ENDPOINT NAME HERE**',    # The name of the endpoint we created\n",
    "                                       ContentType = 'text/plain',                 # The data format that is expected\n",
    "                                       Body = event['body'])                       # The actual review\n",
    "\n",
    "    # The response is an HTTP response whose body contains the result of our inference\n",
    "    result = response['Body'].read().decode('utf-8')\n",
    "\n",
    "    return {\n",
    "        'statusCode' : 200,\n",
    "        'headers' : { 'Content-Type' : 'text/plain', 'Access-Control-Allow-Origin' : '*' },\n",
    "        'body' : result\n",
    "    }\n",
    "```\n",
    "\n",
    "Once you have copy and pasted the code above into the Lambda code editor, replace the `**ENDPOINT NAME HERE**` portion with the name of the endpoint that we deployed earlier. You can determine the name of the endpoint using the code cell below."
   ]
  },
  {
   "cell_type": "code",
   "execution_count": 50,
   "metadata": {},
   "outputs": [
    {
     "data": {
      "text/plain": [
       "'sagemaker-pytorch-2020-07-11-16-44-36-268'"
      ]
     },
     "execution_count": 50,
     "metadata": {},
     "output_type": "execute_result"
    }
   ],
   "source": [
    "predictor.endpoint"
   ]
  },
  {
   "cell_type": "markdown",
   "metadata": {},
   "source": [
    "Once you have added the endpoint name to the Lambda function, click on **Save**. Your Lambda function is now up and running. Next we need to create a way for our web app to execute the Lambda function.\n",
    "\n",
    "### Setting up API Gateway\n",
    "\n",
    "Now that our Lambda function is set up, it is time to create a new API using API Gateway that will trigger the Lambda function we have just created.\n",
    "\n",
    "Using AWS Console, navigate to **Amazon API Gateway** and then click on **Get started**.\n",
    "\n",
    "On the next page, make sure that **New API** is selected and give the new api a name, for example, `sentiment_analysis_api`. Then, click on **Create API**.\n",
    "\n",
    "Now we have created an API, however it doesn't currently do anything. What we want it to do is to trigger the Lambda function that we created earlier.\n",
    "\n",
    "Select the **Actions** dropdown menu and click **Create Method**. A new blank method will be created, select its dropdown menu and select **POST**, then click on the check mark beside it.\n",
    "\n",
    "For the integration point, make sure that **Lambda Function** is selected and click on the **Use Lambda Proxy integration**. This option makes sure that the data that is sent to the API is then sent directly to the Lambda function with no processing. It also means that the return value must be a proper response object as it will also not be processed by API Gateway.\n",
    "\n",
    "Type the name of the Lambda function you created earlier into the **Lambda Function** text entry box and then click on **Save**. Click on **OK** in the pop-up box that then appears, giving permission to API Gateway to invoke the Lambda function you created.\n",
    "\n",
    "The last step in creating the API Gateway is to select the **Actions** dropdown and click on **Deploy API**. You will need to create a new Deployment stage and name it anything you like, for example `prod`.\n",
    "\n",
    "You have now successfully set up a public API to access your SageMaker model. Make sure to copy or write down the URL provided to invoke your newly created public API as this will be needed in the next step. This URL can be found at the top of the page, highlighted in blue next to the text **Invoke URL**."
   ]
  },
  {
   "cell_type": "markdown",
   "metadata": {},
   "source": [
    "## Step 4: Deploying our web app\n",
    "\n",
    "Now that we have a publicly available API, we can start using it in a web app. For our purposes, we have provided a simple static html file which can make use of the public api you created earlier.\n",
    "\n",
    "In the `website` folder there should be a file called `index.html`. Download the file to your computer and open that file up in a text editor of your choice. There should be a line which contains **\\*\\*REPLACE WITH PUBLIC API URL\\*\\***. Replace this string with the url that you wrote down in the last step and then save the file.\n",
    "\n",
    "Now, if you open `index.html` on your local computer, your browser will behave as a local web server and you can use the provided site to interact with your SageMaker model.\n",
    "\n",
    "If you'd like to go further, you can host this html file anywhere you'd like, for example using github or hosting a static site on Amazon's S3. Once you have done this you can share the link with anyone you'd like and have them play with it too!\n",
    "\n",
    "> **Important Note** In order for the web app to communicate with the SageMaker endpoint, the endpoint has to actually be deployed and running. This means that you are paying for it. Make sure that the endpoint is running when you want to use the web app but that you shut it down when you don't need it, otherwise you will end up with a surprisingly large AWS bill.\n",
    "\n",
    "**TODO:** Make sure that you include the edited `index.html` file in your project submission."
   ]
  },
  {
   "cell_type": "markdown",
   "metadata": {},
   "source": [
    "Now that your web app is working, trying playing around with it and see how well it works.\n",
    "\n",
    "**Question**: Give an example of a review that you entered into your web app. What was the predicted sentiment of your example review?"
   ]
  },
  {
   "cell_type": "markdown",
   "metadata": {},
   "source": [
    "**Answer:** review:\"This movie was Amazing!\" result: Your review was POSITIVE! review: \"This movie was horrible!\" result: Your review was NEGATIVE!"
   ]
  },
  {
   "cell_type": "markdown",
   "metadata": {},
   "source": [
    "### Delete the endpoint\n",
    "\n",
    "Remember to always shut down your endpoint if you are no longer using it. You are charged for the length of time that the endpoint is running so if you forget and leave it on you could end up with an unexpectedly large bill."
   ]
  },
  {
   "cell_type": "code",
   "execution_count": 51,
   "metadata": {},
   "outputs": [],
   "source": [
    "predictor.delete_endpoint()"
   ]
  },
  {
   "cell_type": "code",
   "execution_count": null,
   "metadata": {},
   "outputs": [],
   "source": []
  }
 ],
 "metadata": {
  "kernelspec": {
   "display_name": "conda_pytorch_p36",
   "language": "python",
   "name": "conda_pytorch_p36"
  },
  "language_info": {
   "codemirror_mode": {
    "name": "ipython",
    "version": 3
   },
   "file_extension": ".py",
   "mimetype": "text/x-python",
   "name": "python",
   "nbconvert_exporter": "python",
   "pygments_lexer": "ipython3",
   "version": "3.6.10"
  }
 },
 "nbformat": 4,
 "nbformat_minor": 2
}
