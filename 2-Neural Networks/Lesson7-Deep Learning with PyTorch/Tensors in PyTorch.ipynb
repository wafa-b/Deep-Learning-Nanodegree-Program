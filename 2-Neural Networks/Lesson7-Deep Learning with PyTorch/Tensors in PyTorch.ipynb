{
 "cells": [
  {
   "cell_type": "markdown",
   "metadata": {},
   "source": [
    "###### Single layer neural networks:"
   ]
  },
  {
   "cell_type": "code",
   "execution_count": 1,
   "metadata": {},
   "outputs": [],
   "source": [
    "# import PyTorch\n",
    "import torch"
   ]
  },
  {
   "cell_type": "code",
   "execution_count": 2,
   "metadata": {},
   "outputs": [],
   "source": [
    "# create sigmoid activation function\n",
    "def activation(x):\n",
    "    return 1/(1+torch.exp(-x))"
   ]
  },
  {
   "cell_type": "code",
   "execution_count": 3,
   "metadata": {},
   "outputs": [],
   "source": [
    "# Generate some data\n",
    "torch.manual_seed(7)\n",
    "#set Features\n",
    "features=torch.randn((1,5))\n",
    "#set weights \n",
    "weights=torch.randn_like(features)\n",
    "#set bias\n",
    "bias=torch.randn((1,1))"
   ]
  },
  {
   "cell_type": "markdown",
   "metadata": {},
   "source": [
    "Exercise: Calculate the output of the network with input features features, weights weights, and bias bias. Similar to Numpy, PyTorch has a torch.sum() function, as well as a .sum() method on tensors, for taking sums. Use the function activation defined above as the activation function."
   ]
  },
  {
   "cell_type": "code",
   "execution_count": 4,
   "metadata": {},
   "outputs": [
    {
     "name": "stdout",
     "output_type": "stream",
     "text": [
      "tensor([[0.1595]])\n"
     ]
    }
   ],
   "source": [
    "#Calculate the output of the network with input features features, weights weights, and bias bias.\n",
    "y=activation(torch.sum(features*weights)+bias)\n",
    "print(y)"
   ]
  },
  {
   "cell_type": "markdown",
   "metadata": {},
   "source": [
    "Exercise: Calculate the output of our little network using matrix multiplication."
   ]
  },
  {
   "cell_type": "code",
   "execution_count": 5,
   "metadata": {},
   "outputs": [
    {
     "name": "stdout",
     "output_type": "stream",
     "text": [
      "tensor([[0.2154]])\n"
     ]
    }
   ],
   "source": [
    "#Calculate the output of our little network using matrix multiplication\n",
    "y=activation(torch.mm(features,weights.view(5,1)+bias))\n",
    "print(y)"
   ]
  },
  {
   "cell_type": "markdown",
   "metadata": {},
   "source": [
    "###### Networks Using Matrix Multiplication:"
   ]
  },
  {
   "cell_type": "code",
   "execution_count": 6,
   "metadata": {},
   "outputs": [],
   "source": [
    "# Generate some data\n",
    "torch.manual_seed(7)\n",
    "#set Features\n",
    "features=torch.randn((1,3))\n",
    "#Define size of each layer\n",
    "n_input=features.shape[1] #Number of input units,must match number of input features\n",
    "n_hidden=2                #Number of hidden units\n",
    "n_output=1                #Number of output units\n",
    "#set weights \n",
    "#Set weights for inputs to hidden layres\n",
    "w1=torch.randn(n_input,n_hidden)\n",
    "#Set weights for hidden layer to output layer\n",
    "w2=torch.randn(n_hidden,n_output)\n",
    "#set bias\n",
    "#Set bias for hidden layer\n",
    "b1=torch.randn((1,n_hidden))\n",
    "#Set bias for output layer\n",
    "b2=torch.randn((1,n_output))"
   ]
  },
  {
   "cell_type": "markdown",
   "metadata": {},
   "source": [
    "Exercise: Calculate the output for this multi-layer network using the weights W1 & W2, and the biases, B1 & B2."
   ]
  },
  {
   "cell_type": "code",
   "execution_count": 7,
   "metadata": {},
   "outputs": [
    {
     "name": "stdout",
     "output_type": "stream",
     "text": [
      "tensor([[0.3171]])\n"
     ]
    }
   ],
   "source": [
    "h=activation(torch.mm(features,w1)+b1)\n",
    "output=activation(torch.mm(h,w2)+b2)\n",
    "print(output)"
   ]
  },
  {
   "cell_type": "markdown",
   "metadata": {},
   "source": [
    "###### Numpy to Torch and back"
   ]
  },
  {
   "cell_type": "code",
   "execution_count": 8,
   "metadata": {},
   "outputs": [
    {
     "data": {
      "text/plain": [
       "array([[0.37947697, 0.2966143 , 0.40689433],\n",
       "       [0.4828478 , 0.95548127, 0.22435601],\n",
       "       [0.39663816, 0.56349107, 0.15246117],\n",
       "       [0.72952753, 0.35988126, 0.70281526]])"
      ]
     },
     "execution_count": 8,
     "metadata": {},
     "output_type": "execute_result"
    }
   ],
   "source": [
    "import numpy as np\n",
    "a=np.random.rand(4,3)\n",
    "a"
   ]
  },
  {
   "cell_type": "code",
   "execution_count": 9,
   "metadata": {},
   "outputs": [
    {
     "data": {
      "text/plain": [
       "tensor([[0.3795, 0.2966, 0.4069],\n",
       "        [0.4828, 0.9555, 0.2244],\n",
       "        [0.3966, 0.5635, 0.1525],\n",
       "        [0.7295, 0.3599, 0.7028]], dtype=torch.float64)"
      ]
     },
     "execution_count": 9,
     "metadata": {},
     "output_type": "execute_result"
    }
   ],
   "source": [
    "#Create torch tensor from numpy\n",
    "t=torch.from_numpy(a)\n",
    "t"
   ]
  },
  {
   "cell_type": "code",
   "execution_count": 10,
   "metadata": {},
   "outputs": [
    {
     "data": {
      "text/plain": [
       "array([[0.37947697, 0.2966143 , 0.40689433],\n",
       "       [0.4828478 , 0.95548127, 0.22435601],\n",
       "       [0.39663816, 0.56349107, 0.15246117],\n",
       "       [0.72952753, 0.35988126, 0.70281526]])"
      ]
     },
     "execution_count": 10,
     "metadata": {},
     "output_type": "execute_result"
    }
   ],
   "source": [
    "#Back to numpy\n",
    "t.numpy()"
   ]
  },
  {
   "cell_type": "markdown",
   "metadata": {},
   "source": [
    "The memory is shared between the Numpy array and Torch tensor, so if you change the values in-place of one object, the other will change as well."
   ]
  },
  {
   "cell_type": "code",
   "execution_count": 11,
   "metadata": {},
   "outputs": [
    {
     "data": {
      "text/plain": [
       "tensor([[0.7590, 0.5932, 0.8138],\n",
       "        [0.9657, 1.9110, 0.4487],\n",
       "        [0.7933, 1.1270, 0.3049],\n",
       "        [1.4591, 0.7198, 1.4056]], dtype=torch.float64)"
      ]
     },
     "execution_count": 11,
     "metadata": {},
     "output_type": "execute_result"
    }
   ],
   "source": [
    "t.mul_(2)"
   ]
  },
  {
   "cell_type": "code",
   "execution_count": 12,
   "metadata": {},
   "outputs": [
    {
     "data": {
      "text/plain": [
       "array([[0.75895394, 0.59322861, 0.81378865],\n",
       "       [0.9656956 , 1.91096254, 0.44871202],\n",
       "       [0.79327633, 1.12698213, 0.30492234],\n",
       "       [1.45905505, 0.71976252, 1.40563052]])"
      ]
     },
     "execution_count": 12,
     "metadata": {},
     "output_type": "execute_result"
    }
   ],
   "source": [
    "a"
   ]
  },
  {
   "cell_type": "code",
   "execution_count": null,
   "metadata": {},
   "outputs": [],
   "source": []
  }
 ],
 "metadata": {
  "kernelspec": {
   "display_name": "Python 3",
   "language": "python",
   "name": "python3"
  },
  "language_info": {
   "codemirror_mode": {
    "name": "ipython",
    "version": 3
   },
   "file_extension": ".py",
   "mimetype": "text/x-python",
   "name": "python",
   "nbconvert_exporter": "python",
   "pygments_lexer": "ipython3",
   "version": "3.7.4"
  }
 },
 "nbformat": 4,
 "nbformat_minor": 2
}
