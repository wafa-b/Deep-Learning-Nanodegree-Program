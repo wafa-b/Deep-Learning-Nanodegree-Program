{
 "cells": [
  {
   "cell_type": "markdown",
   "metadata": {},
   "source": [
    "###### Training Neural Networks"
   ]
  },
  {
   "cell_type": "code",
   "execution_count": 1,
   "metadata": {},
   "outputs": [],
   "source": [
    "import torch\n",
    "from torch import nn\n",
    "import torch.nn.functional as F\n",
    "from torchvision import datasets,transforms\n",
    "#Define transform top normalize data\n",
    "transform=transforms.Compose([transforms.ToTensor(),\n",
    "                             transforms.Normalize((0.5,),(0.5,)),\n",
    "                             ])\n",
    "#Downloade Training data\n",
    "trainset=datasets.MNIST('~/.pytorch/MNIST_data/',download=True,train=True,transform=transform)\n",
    "#Load training data\n",
    "trainloader=torch.utils.data.DataLoader(trainset,batch_size=64,shuffle=True)"
   ]
  },
  {
   "cell_type": "code",
   "execution_count": 3,
   "metadata": {},
   "outputs": [
    {
     "name": "stdout",
     "output_type": "stream",
     "text": [
      "tensor(2.2979, grad_fn=<NllLossBackward>)\n"
     ]
    }
   ],
   "source": [
    "#Build feed-forward network\n",
    "model=nn.Sequential(nn.Linear(784,128),\n",
    "                   nn.ReLU(),\n",
    "                   nn.Linear(128,64),\n",
    "                   nn.ReLU(),\n",
    "                   nn.Linear(64,10))\n",
    "#Define loss\n",
    "criterion=nn.CrossEntropyLoss()\n",
    "#Get data\n",
    "images,labels=next(iter(trainloader))\n",
    "#Flatten images\n",
    "images=images.view(images.shape[0],-1)\n",
    "#Forward pass\n",
    "logits=model(images)\n",
    "#Calculate loss with logits & labels\n",
    "loss=criterion(logits,labels)\n",
    "print(loss)"
   ]
  },
  {
   "cell_type": "markdown",
   "metadata": {},
   "source": [
    ">**Exercise:** Build a model that returns the log-softmax as the output and calculate the loss using the negative log likelihood loss. Note that for nn.LogSoftmax and F.log_softmax you'll need to set the dim keyword argument appropriately. dim=0 calculates softmax across the rows, so each column sums to 1, while dim=1 calculates across the columns so each row sums to 1. Think about what you want the output to be and choose dim appropriately."
   ]
  },
  {
   "cell_type": "code",
   "execution_count": 4,
   "metadata": {},
   "outputs": [
    {
     "name": "stdout",
     "output_type": "stream",
     "text": [
      "tensor(2.3209, grad_fn=<NllLossBackward>)\n"
     ]
    }
   ],
   "source": [
    "#Solutin\n",
    "#Build feed-forward network\n",
    "model=nn.Sequential(nn.Linear(784,128),\n",
    "                   nn.ReLU(),\n",
    "                   nn.Linear(128,64),\n",
    "                   nn.ReLU(),\n",
    "                   nn.Linear(64,10),\n",
    "                   nn.LogSoftmax(dim=1))\n",
    "#Define loss\n",
    "criterion=nn.NLLLoss()\n",
    "#Get data\n",
    "images,labels=next(iter(trainloader))\n",
    "#Flatten images\n",
    "images=images.view(images.shape[0],-1)\n",
    "#Forward pass\n",
    "logps=model(images)\n",
    "#Calculte logps & labels\n",
    "loss=criterion(logps,labels)\n",
    "print(loss)"
   ]
  },
  {
   "cell_type": "markdown",
   "metadata": {},
   "source": [
    "###### Autograd"
   ]
  },
  {
   "cell_type": "code",
   "execution_count": 5,
   "metadata": {},
   "outputs": [
    {
     "name": "stdout",
     "output_type": "stream",
     "text": [
      "tensor([[ 0.1886, -1.6551],\n",
      "        [ 0.6446, -2.6689]], requires_grad=True)\n"
     ]
    }
   ],
   "source": [
    "x = torch.randn(2,2, requires_grad=True)\n",
    "print(x)"
   ]
  },
  {
   "cell_type": "code",
   "execution_count": 6,
   "metadata": {},
   "outputs": [
    {
     "name": "stdout",
     "output_type": "stream",
     "text": [
      "tensor([[0.0356, 2.7394],\n",
      "        [0.4155, 7.1230]], grad_fn=<PowBackward0>)\n"
     ]
    }
   ],
   "source": [
    "y = x**2\n",
    "print(y)"
   ]
  },
  {
   "cell_type": "code",
   "execution_count": 7,
   "metadata": {},
   "outputs": [
    {
     "name": "stdout",
     "output_type": "stream",
     "text": [
      "<PowBackward0 object at 0x120482d10>\n"
     ]
    }
   ],
   "source": [
    "#shows the function that generated this variable\n",
    "print(y.grad_fn)"
   ]
  },
  {
   "cell_type": "code",
   "execution_count": 8,
   "metadata": {},
   "outputs": [
    {
     "name": "stdout",
     "output_type": "stream",
     "text": [
      "tensor(2.5784, grad_fn=<MeanBackward0>)\n"
     ]
    }
   ],
   "source": [
    "z = y.mean()\n",
    "print(z)"
   ]
  },
  {
   "cell_type": "code",
   "execution_count": 9,
   "metadata": {},
   "outputs": [
    {
     "name": "stdout",
     "output_type": "stream",
     "text": [
      "None\n"
     ]
    }
   ],
   "source": [
    "print(x.grad)"
   ]
  },
  {
   "cell_type": "code",
   "execution_count": 10,
   "metadata": {},
   "outputs": [
    {
     "name": "stdout",
     "output_type": "stream",
     "text": [
      "tensor([[ 0.0943, -0.8276],\n",
      "        [ 0.3223, -1.3344]])\n",
      "tensor([[ 0.0943, -0.8276],\n",
      "        [ 0.3223, -1.3344]], grad_fn=<DivBackward0>)\n"
     ]
    }
   ],
   "source": [
    "z.backward()\n",
    "print(x.grad)\n",
    "print(x/2)"
   ]
  },
  {
   "cell_type": "markdown",
   "metadata": {},
   "source": [
    "###### Loss and Autograd together"
   ]
  },
  {
   "cell_type": "code",
   "execution_count": 11,
   "metadata": {},
   "outputs": [],
   "source": [
    "model=nn.Sequential(nn.Linear(784,128),\n",
    "                   nn.ReLU(),\n",
    "                   nn.Linear(128,64),\n",
    "                   nn.ReLU(),\n",
    "                   nn.Linear(64,10),\n",
    "                   nn.LogSoftmax(dim=1))\n",
    "criterion=nn.NLLLoss()\n",
    "images,labels=next(iter(trainloader))\n",
    "images=images.view(images.shape[0],-1)\n",
    "logps=model(images)\n",
    "loss=criterion(logps,labels)"
   ]
  },
  {
   "cell_type": "code",
   "execution_count": 13,
   "metadata": {},
   "outputs": [
    {
     "name": "stdout",
     "output_type": "stream",
     "text": [
      "Before Background pass: \n",
      " None\n",
      "Afer Background pass: \n",
      " tensor([[-0.0006, -0.0006, -0.0006,  ..., -0.0006, -0.0006, -0.0006],\n",
      "        [-0.0004, -0.0004, -0.0004,  ..., -0.0004, -0.0004, -0.0004],\n",
      "        [-0.0008, -0.0008, -0.0008,  ..., -0.0008, -0.0008, -0.0008],\n",
      "        ...,\n",
      "        [ 0.0003,  0.0003,  0.0003,  ...,  0.0003,  0.0003,  0.0003],\n",
      "        [ 0.0017,  0.0017,  0.0017,  ...,  0.0017,  0.0017,  0.0017],\n",
      "        [-0.0002, -0.0002, -0.0002,  ..., -0.0002, -0.0002, -0.0002]])\n"
     ]
    }
   ],
   "source": [
    "print('Before Background pass: \\n',model[0].weight.grad)\n",
    "loss.backward()\n",
    "print('Afer Background pass: \\n',model[0].weight.grad)"
   ]
  },
  {
   "cell_type": "markdown",
   "metadata": {},
   "source": [
    "###### Training the network!"
   ]
  },
  {
   "cell_type": "code",
   "execution_count": 14,
   "metadata": {},
   "outputs": [],
   "source": [
    "from torch import optim\n",
    "# Optimizers require the parameters to optimize and a learning rate\n",
    "optimizer=optim.SGD(model.parameters(),lr=0.01)"
   ]
  },
  {
   "cell_type": "code",
   "execution_count": 15,
   "metadata": {},
   "outputs": [
    {
     "name": "stdout",
     "output_type": "stream",
     "text": [
      "Initial weights -  Parameter containing:\n",
      "tensor([[-0.0124, -0.0115, -0.0264,  ...,  0.0204,  0.0273, -0.0343],\n",
      "        [ 0.0097,  0.0126, -0.0218,  ..., -0.0023,  0.0341, -0.0125],\n",
      "        [ 0.0227,  0.0177, -0.0086,  ...,  0.0219,  0.0022, -0.0006],\n",
      "        ...,\n",
      "        [-0.0189, -0.0268,  0.0257,  ...,  0.0314, -0.0098, -0.0316],\n",
      "        [-0.0266,  0.0098,  0.0020,  ...,  0.0066,  0.0218, -0.0272],\n",
      "        [-0.0048, -0.0341,  0.0226,  ..., -0.0274, -0.0183,  0.0240]],\n",
      "       requires_grad=True)\n",
      "Gradient - tensor([[ 0.0000,  0.0000,  0.0000,  ...,  0.0000,  0.0000,  0.0000],\n",
      "        [-0.0022, -0.0022, -0.0022,  ..., -0.0022, -0.0022, -0.0022],\n",
      "        [-0.0031, -0.0031, -0.0031,  ..., -0.0031, -0.0031, -0.0031],\n",
      "        ...,\n",
      "        [ 0.0015,  0.0015,  0.0015,  ...,  0.0015,  0.0015,  0.0015],\n",
      "        [ 0.0002,  0.0002,  0.0002,  ...,  0.0002,  0.0002,  0.0002],\n",
      "        [-0.0002, -0.0002, -0.0002,  ..., -0.0002, -0.0002, -0.0002]])\n"
     ]
    }
   ],
   "source": [
    "print('Initial weights - ', model[0].weight)\n",
    "images, labels = next(iter(trainloader))\n",
    "images.resize_(64, 784)\n",
    "# Clear the gradients\n",
    "optimizer.zero_grad()\n",
    "#Forward pass\n",
    "output = model(images)\n",
    "loss = criterion(output, labels)\n",
    "#Backward pass\n",
    "loss.backward()\n",
    "#update weights\n",
    "print('Gradient -', model[0].weight.grad)"
   ]
  },
  {
   "cell_type": "markdown",
   "metadata": {},
   "source": [
    "###### Training for real"
   ]
  },
  {
   "cell_type": "markdown",
   "metadata": {},
   "source": [
    ">**Exercise:** Implement the training pass for our network. If you implemented it correctly, you should see the training loss drop with each epoch."
   ]
  },
  {
   "cell_type": "code",
   "execution_count": 16,
   "metadata": {},
   "outputs": [
    {
     "name": "stdout",
     "output_type": "stream",
     "text": [
      "Training loss: 1.8736616794996932\n",
      "Training loss: 0.7996409829300858\n",
      "Training loss: 0.5022600839641302\n",
      "Training loss: 0.41437175220200245\n",
      "Training loss: 0.3730670227361386\n"
     ]
    }
   ],
   "source": [
    "#Solution\n",
    "#Build feed-forward network\n",
    "model = nn.Sequential(nn.Linear(784, 128),\n",
    "                      nn.ReLU(),\n",
    "                      nn.Linear(128, 64),\n",
    "                      nn.ReLU(),\n",
    "                      nn.Linear(64, 10),\n",
    "                      nn.LogSoftmax(dim=1))\n",
    "#Define loss\n",
    "criterion = nn.NLLLoss()\n",
    "#Optimizers to update the weights with the gradients\n",
    "optimizer = optim.SGD(model.parameters(), lr=0.003)\n",
    "epochs = 5\n",
    "for e in range(epochs):\n",
    "    running_loss = 0\n",
    "    #Get data\n",
    "    for images, labels in trainloader:\n",
    "        #Flatten MNIST images into a 784 long vector\n",
    "        images = images.view(images.shape[0], -1)\n",
    "        #Training pass\n",
    "        optimizer.zero_grad()\n",
    "        output = model(images)\n",
    "        loss = criterion(output, labels)\n",
    "        #Backward pass\n",
    "        loss.backward()\n",
    "        optimizer.step()\n",
    "        \n",
    "        running_loss += loss.item()\n",
    "    else:\n",
    "        print(f\"Training loss: {running_loss/len(trainloader)}\")"
   ]
  },
  {
   "cell_type": "code",
   "execution_count": 17,
   "metadata": {},
   "outputs": [
    {
     "data": {
      "image/png": "[encoded data removed]",
      "text/plain": [
       "<Figure size 432x648 with 2 Axes>"
      ]
     },
     "metadata": {
      "needs_background": "light"
     },
     "output_type": "display_data"
    }
   ],
   "source": [
    "%matplotlib inline\n",
    "import helper\n",
    "images, labels = next(iter(trainloader))\n",
    "img = images[0].view(1, 784)\n",
    "# Turn off gradients to speed up this part\n",
    "with torch.no_grad():\n",
    "    logps = model(img)\n",
    "# Output of the network are log-probabilities, need to take exponential for probabilities\n",
    "ps = torch.exp(logps)\n",
    "helper.view_classify(img.view(1, 28, 28), ps)"
   ]
  },
  {
   "cell_type": "code",
   "execution_count": null,
   "metadata": {},
   "outputs": [],
   "source": []
  }
 ],
 "metadata": {
  "kernelspec": {
   "display_name": "Python 3",
   "language": "python",
   "name": "python3"
  },
  "language_info": {
   "codemirror_mode": {
    "name": "ipython",
    "version": 3
   },
   "file_extension": ".py",
   "mimetype": "text/x-python",
   "name": "python",
   "nbconvert_exporter": "python",
   "pygments_lexer": "ipython3",
   "version": "3.7.4"
  }
 },
 "nbformat": 4,
 "nbformat_minor": 2
}
