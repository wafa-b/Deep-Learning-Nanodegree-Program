{
 "cells": [
  {
   "cell_type": "markdown",
   "metadata": {},
   "source": [
    "###### Neural networks with PyTorch"
   ]
  },
  {
   "cell_type": "code",
   "execution_count": 1,
   "metadata": {},
   "outputs": [],
   "source": [
    "#Import Packages\n",
    "%matplotlib inline\n",
    "%config InlineBackend.figure_format='retina'\n",
    "import numpy as np\n",
    "import torch\n",
    "import matplotlib.pyplot as plt\n",
    "import helper"
   ]
  },
  {
   "cell_type": "code",
   "execution_count": 2,
   "metadata": {},
   "outputs": [],
   "source": [
    "#run the cell\n",
    "from torchvision import datasets,transforms\n",
    "# Define a transform to normalize the data\n",
    "transform=transforms.Compose([transforms.ToTensor(),\n",
    "                            transforms.Normalize((0.5,),(0.5,)),\n",
    "                            ])\n",
    "#Download and load the training data\n",
    "trainset=datasets.MNIST('~/pytorch/MNIST_data/',download=True,train=True,transform=transform)\n",
    "trainloader=torch.utils.data.DataLoader(trainset,batch_size=64,shuffle=True)"
   ]
  },
  {
   "cell_type": "code",
   "execution_count": 3,
   "metadata": {},
   "outputs": [
    {
     "name": "stdout",
     "output_type": "stream",
     "text": [
      "<class 'torch.Tensor'>\n",
      "torch.Size([64, 1, 28, 28])\n",
      "torch.Size([64])\n"
     ]
    }
   ],
   "source": [
    "dataiter=iter(trainloader)\n",
    "images,labels=dataiter.next()\n",
    "print(type(images))\n",
    "print(images.shape)\n",
    "print(labels.shape)"
   ]
  },
  {
   "cell_type": "code",
   "execution_count": 4,
   "metadata": {},
   "outputs": [
    {
     "data": {
      "image/png": "[encoded data removed]",
      "text/plain": [
       "<Figure size 432x288 with 1 Axes>"
      ]
     },
     "metadata": {
      "image/png": {
       "height": 248,
       "width": 251
      },
      "needs_background": "light"
     },
     "output_type": "display_data"
    }
   ],
   "source": [
    "plt.imshow(images[1].numpy().squeeze(),cmap='Greys_r');"
   ]
  },
  {
   "cell_type": "markdown",
   "metadata": {},
   "source": [
    "> **Exercise:** Flatten the batch of images images. Then build a multi-layer network with 784 input units, 256 hidden units, and 10 output units using random tensors for the weights and biases. For now, use a sigmoid activation for the hidden layer. Leave the output layer without an activation, we'll add one that gives us a probability distribution next."
   ]
  },
  {
   "cell_type": "code",
   "execution_count": 5,
   "metadata": {},
   "outputs": [
    {
     "name": "stdout",
     "output_type": "stream",
     "text": [
      "tensor([[ 5.8376e+00,  8.4102e-01, -6.0298e+00,  1.4951e+01,  8.1186e+00,\n",
      "         -2.9101e+00,  5.9768e-01,  3.3173e+00, -1.3130e+01, -9.6711e+00],\n",
      "        [ 1.4739e+01, -2.3093e+00, -2.4436e+00,  3.9767e-01,  6.6485e-01,\n",
      "         -1.2130e-01,  2.5090e+00,  1.1371e+01, -1.3074e+01, -1.5842e+01],\n",
      "        [ 1.5295e+01,  9.9980e+00, -1.6644e+00,  1.2932e+01,  1.2316e+01,\n",
      "         -1.0291e+01, -2.2188e+00,  1.6764e+01, -5.1792e+00, -1.4241e+01],\n",
      "        [ 1.0951e+01,  1.2520e+01, -4.6553e+00,  7.7213e+00,  1.0731e+01,\n",
      "         -9.8237e+00, -6.7101e+00,  8.0939e+00,  4.9296e+00, -1.7554e+01],\n",
      "        [ 2.5604e+01,  7.0814e+00, -3.3330e+00,  1.0877e+01,  1.3821e+01,\n",
      "         -1.1137e+01,  3.9470e+00,  1.2872e+01, -1.9595e+00, -1.4624e+01],\n",
      "        [ 1.0616e+01, -9.5802e-01, -1.3465e+01,  6.7263e+00,  4.0843e+00,\n",
      "         -7.0915e+00, -3.0493e-01,  9.7285e+00, -9.1702e+00, -1.3556e+01],\n",
      "        [ 1.0090e+00, -1.2592e+00, -4.3574e+00,  1.1805e+01,  1.6068e+01,\n",
      "         -5.0659e+00,  1.6781e+01, -2.1792e+00, -2.9340e+00, -1.0916e+01],\n",
      "        [ 2.0476e+01, -7.9841e+00, -8.3427e+00,  1.2573e+01,  1.6474e+01,\n",
      "         -4.9361e+00, -3.1193e+00,  1.3240e+01, -2.6733e+00, -1.2315e+01],\n",
      "        [ 1.8082e+01,  1.4486e+01, -5.8997e+00,  7.5333e+00,  1.0420e+01,\n",
      "         -1.0608e+01, -2.7770e+00, -1.1513e+00, -7.4133e+00, -1.6261e+01],\n",
      "        [ 1.4184e+01,  4.8290e+00, -1.4196e+01,  1.4377e+01,  8.7845e+00,\n",
      "         -6.7864e+00,  2.3152e+00,  1.1667e+01, -8.4800e+00, -1.4926e+01],\n",
      "        [ 1.4993e+01, -4.2495e+00, -2.7536e+00,  1.3030e+01,  1.2541e+01,\n",
      "         -4.6090e+00,  1.2434e+00,  1.6791e+01, -1.1531e+01, -2.0891e+01],\n",
      "        [ 1.2904e+01,  9.4574e-01, -1.4905e+01,  1.2661e+01,  1.1138e+01,\n",
      "         -9.2196e+00,  2.9589e+00,  1.6410e+00, -6.2486e+00, -6.8761e+00],\n",
      "        [ 7.8778e+00,  1.3247e+01,  1.9236e+00,  9.6066e+00,  4.0073e+00,\n",
      "         -9.3675e+00, -6.4808e+00,  1.1559e+01, -2.7928e+00, -1.7680e+01],\n",
      "        [ 1.5288e+01,  1.9428e+00, -3.1167e+00,  1.6662e+01,  5.4539e+00,\n",
      "         -1.4764e+01,  5.5020e+00,  6.9974e+00, -3.6997e+00, -7.3083e+00],\n",
      "        [ 1.6415e+01, -3.5452e+00, -2.1387e+00,  9.3116e+00,  1.5244e+01,\n",
      "         -5.7295e+00,  1.0115e+01,  1.6674e+01, -7.5038e+00, -1.6676e+01],\n",
      "        [-3.6971e+00,  4.2134e+00,  6.0588e+00,  1.6134e+01,  2.0843e+00,\n",
      "         -5.0143e+00,  1.8838e+00,  1.0077e+00, -7.2171e+00, -1.0706e+01],\n",
      "        [ 2.1552e+01,  5.2591e+00, -5.4256e+00,  1.0098e+01,  1.0049e+01,\n",
      "         -1.5129e+01, -5.7816e+00,  1.6465e+01, -1.0895e+01, -1.4424e+01],\n",
      "        [ 1.0651e+01,  3.9939e+00,  4.4096e+00,  6.6469e+00,  7.0461e+00,\n",
      "         -7.1231e+00, -1.9163e+00,  6.2965e+00, -3.2114e+00, -1.0421e+01],\n",
      "        [ 1.0278e+00,  5.4558e-01, -1.0567e+01,  1.1248e+01,  1.1446e+01,\n",
      "         -4.5751e+00, -6.1687e+00,  8.0499e+00, -4.0255e+00, -1.3728e+01],\n",
      "        [ 1.1205e+01,  6.0228e+00, -4.0654e+00,  1.2181e+01,  7.9761e+00,\n",
      "          1.3749e-02, -5.4308e-01,  1.0591e+01, -9.3851e+00, -1.6801e+01],\n",
      "        [ 1.4390e+01,  7.1052e-01,  5.9738e-01,  9.5284e+00,  1.0985e+01,\n",
      "         -2.0266e+01,  2.3665e+00,  1.5534e+01, -9.2060e+00, -2.0145e+01],\n",
      "        [ 1.3777e+01,  2.6185e+00, -4.5296e+00,  9.3789e+00,  1.3450e+01,\n",
      "         -1.4009e+01, -1.2976e+01,  1.4628e+01,  4.5748e+00, -2.0600e+01],\n",
      "        [ 1.9526e+01,  3.2277e+00, -1.0084e+01,  7.1796e+00,  1.5679e+01,\n",
      "         -1.1973e+01,  5.2754e+00,  1.5246e+01, -1.5085e+01, -5.1573e+00],\n",
      "        [ 1.5078e+01,  1.4259e+00, -1.1631e+01,  1.8072e+01,  4.1771e+00,\n",
      "          4.1887e+00,  1.8266e+00,  4.0524e+00, -6.3459e+00, -2.1643e+01],\n",
      "        [ 8.6097e+00,  1.6806e+01, -3.0008e+00,  1.1518e+00,  7.3416e+00,\n",
      "         -9.8316e+00, -3.9888e+00,  3.4745e-01, -2.1288e+00, -1.6449e+01],\n",
      "        [ 1.8138e+01, -5.3486e+00, -3.0587e+00,  5.7052e+00,  5.7796e+00,\n",
      "         -1.1383e+01, -3.6779e-01,  4.1206e+00,  9.5056e-01, -1.5769e+01],\n",
      "        [ 7.7861e+00,  3.9528e+00, -7.5048e+00,  1.4516e+01,  1.2651e+01,\n",
      "         -3.2138e+00, -1.1714e+01,  1.0021e+01, -1.4402e+00, -1.8470e+01],\n",
      "        [ 4.3101e+00,  5.1978e+00,  4.5726e+00,  5.9363e+00,  1.9663e+01,\n",
      "         -7.9412e+00, -5.6093e+00,  1.4350e+00,  5.5186e+00, -1.4353e+01],\n",
      "        [ 1.2379e+01,  5.9704e+00,  8.2860e-01,  2.3161e+01,  1.0844e+01,\n",
      "         -1.0780e+01,  4.6252e-01,  9.6970e+00, -1.2156e+01, -2.2510e+01],\n",
      "        [ 1.1351e+01, -4.2060e-01, -1.4071e+01,  4.8638e+00,  1.2072e+01,\n",
      "         -1.1096e+01,  1.3827e+01,  3.3616e+00, -6.7455e+00, -1.5010e+01],\n",
      "        [ 1.0788e+01,  5.9703e-01, -2.0041e+00,  8.6067e+00,  1.4380e+01,\n",
      "         -3.2051e+00, -5.6228e-01,  1.1574e+01,  6.8729e-01, -2.7150e+01],\n",
      "        [ 1.8557e+01,  3.0293e+00, -1.0054e+01,  1.5026e+01,  6.4876e+00,\n",
      "         -1.5047e+01,  1.0288e+01,  5.6297e+00, -6.4135e+00, -1.8762e+01],\n",
      "        [ 8.5716e+00,  5.4064e+00, -7.3404e-01,  9.0203e+00,  7.7111e+00,\n",
      "         -1.3193e+01, -1.9469e+00,  5.1621e+00, -8.5369e+00, -9.2664e+00],\n",
      "        [ 1.7759e+01,  8.2186e+00, -8.2679e+00,  4.0457e+00,  6.6830e+00,\n",
      "         -6.6004e+00,  1.5390e+00,  9.7609e+00,  2.5121e+00, -9.8847e+00],\n",
      "        [ 8.7700e+00,  6.4463e+00,  1.9647e+00,  8.2075e+00,  2.6869e+00,\n",
      "         -3.6311e+00,  6.3126e+00,  1.0071e+01, -6.6649e+00, -2.1173e+01],\n",
      "        [ 1.9349e+01,  7.5994e+00,  1.7055e+00,  1.0450e+01,  9.8493e+00,\n",
      "         -1.4394e+01, -9.0397e+00,  9.5125e+00,  5.7498e+00, -1.7134e+01],\n",
      "        [ 1.0985e+01,  5.2540e+00, -4.9805e+00,  1.1595e+00,  4.2701e+00,\n",
      "         -1.2248e+01,  4.2189e+00,  5.5302e+00, -1.2610e+01, -1.1939e+01],\n",
      "        [ 8.5704e+00,  3.3090e+00, -1.0313e+01,  1.3060e+01,  1.2688e+01,\n",
      "         -1.0760e+01, -6.4317e+00,  1.4632e+01, -5.8887e+00, -1.4874e+01],\n",
      "        [ 4.7832e+00,  6.1237e+00, -4.2084e+00,  1.2465e+01,  1.0998e+01,\n",
      "         -4.3661e+00, -7.8494e+00, -2.7389e+00, -2.2930e+00, -3.5763e+00],\n",
      "        [ 1.0758e+01,  6.2242e+00, -7.3825e-01,  5.8477e+00,  6.9874e+00,\n",
      "         -1.9005e+01,  6.8441e+00,  1.5432e+01, -1.3267e+01, -7.2323e+00],\n",
      "        [ 1.1497e+01,  6.5253e+00, -9.9711e+00,  8.2576e+00,  1.8705e+01,\n",
      "         -5.7822e+00, -3.6233e-01,  1.1162e+01, -3.7389e+00, -2.1466e+01],\n",
      "        [ 1.0850e+01,  8.9148e+00, -3.5590e+00,  1.1432e+01,  7.6484e+00,\n",
      "         -1.7285e+01, -2.9937e+00,  1.1594e+01, -6.7829e+00, -1.4731e+01],\n",
      "        [ 1.3941e+01,  4.7143e+00, -1.0473e+01,  5.1512e+00,  1.3096e+01,\n",
      "         -1.7732e+01, -7.2001e+00,  1.8094e+01, -7.9305e+00, -1.9182e+01],\n",
      "        [ 2.4506e+01, -6.2705e+00, -5.7453e+00,  4.5902e+00,  9.3195e+00,\n",
      "         -1.1480e+01, -1.0647e+01,  1.1643e+01, -1.7573e+00, -6.3484e+00],\n",
      "        [ 1.7110e+01,  4.2565e+00, -2.9437e+00,  1.2199e+01,  7.5541e+00,\n",
      "         -1.0159e+01, -3.9942e+00,  7.7983e+00, -1.2708e+01, -7.9017e+00],\n",
      "        [ 1.3910e+01,  1.8721e+00, -1.3461e+01,  4.0637e+00,  8.1496e+00,\n",
      "         -8.9383e+00,  8.2662e+00,  5.3466e+00, -1.0425e+01, -1.3092e+01],\n",
      "        [ 9.7847e+00,  1.2844e+01, -3.9286e+00,  9.0659e+00,  2.1100e+01,\n",
      "         -1.0404e+01, -5.5668e+00,  1.0869e+01,  1.9555e-01, -2.2259e+01],\n",
      "        [ 1.7942e+01,  5.2597e+00, -7.7343e-01,  1.1744e+01,  7.4597e+00,\n",
      "         -1.9803e+01, -2.8737e+00,  1.6991e+01, -9.2821e+00, -1.1238e+01],\n",
      "        [ 1.7336e+01,  3.0864e-01, -6.0808e+00,  3.7941e+00,  1.1696e+01,\n",
      "         -6.5109e+00,  7.9889e+00,  1.0790e+01,  2.7003e+00, -1.8735e+01],\n",
      "        [ 1.2316e+01,  3.3714e+00, -4.0188e+00,  1.2978e+01,  8.8834e+00,\n",
      "          5.4551e+00,  3.3523e+00,  9.9419e+00, -8.4367e+00, -1.2233e+01],\n",
      "        [ 1.2044e+01,  7.7129e+00, -5.8193e-02,  6.9683e+00, -1.9763e+00,\n",
      "         -5.6938e+00,  1.9064e+00,  8.4569e+00, -4.3723e+00, -1.2530e+01],\n",
      "        [ 1.0219e+01,  5.4059e+00, -5.9629e-01,  6.7459e+00,  3.4974e+00,\n",
      "         -9.3775e+00,  1.4029e+00,  9.9277e+00, -1.0951e+01, -1.4961e+01],\n",
      "        [ 1.3650e+01,  4.4989e+00, -6.3068e+00,  3.0526e+00,  1.2702e+01,\n",
      "         -2.3990e+00, -1.6229e+01,  8.3339e+00, -4.9460e+00, -1.8427e+01],\n",
      "        [ 8.2968e+00,  7.6473e+00, -7.3807e+00,  1.2565e+01,  1.2557e+01,\n",
      "         -1.4759e+01,  7.3474e-01,  3.3361e+00, -9.5975e-01, -5.0164e+00],\n",
      "        [ 1.3390e+01,  1.2976e+01, -9.1793e+00,  1.0803e+01,  9.6007e+00,\n",
      "         -1.6093e+01, -5.7950e+00,  9.2323e+00, -9.4653e+00, -1.5969e+01],\n",
      "        [ 8.2514e-01, -4.3010e+00, -8.4960e+00, -1.9795e+00,  1.1084e+01,\n",
      "          2.3662e+00, -6.2905e-01,  3.9685e+00, -1.3462e+01, -1.2719e+01],\n",
      "        [ 2.0120e+01,  3.4840e+00,  4.9912e+00,  1.7212e+01,  1.1270e+01,\n",
      "         -1.0124e+01, -8.2820e+00,  3.9103e+00,  1.9567e-01, -1.7983e+01],\n",
      "        [ 1.8688e+01,  7.2636e+00, -1.1806e+00,  6.8640e+00,  1.0862e+01,\n",
      "         -1.6573e+01, -1.1647e+01,  1.4505e+01,  3.3931e+00, -1.4729e+01],\n",
      "        [ 8.6345e+00,  1.4091e+01, -3.5059e+00,  4.8253e+00,  6.8105e+00,\n",
      "         -1.0889e+01, -1.2270e+00,  7.3310e+00, -4.7143e+00, -1.5178e+01],\n",
      "        [ 1.1858e+01,  3.6915e+00,  7.6703e-01,  2.2461e+00,  5.5177e+00,\n",
      "         -8.7285e+00, -6.0699e-01,  9.7860e+00, -1.1602e+01, -1.6784e+01],\n",
      "        [ 1.7987e+01,  8.1203e-01, -5.0417e+00,  6.5560e+00,  1.7349e+01,\n",
      "         -7.8863e+00,  1.5698e+00,  6.6926e+00, -3.9766e+00,  7.2978e-01],\n",
      "        [ 1.7000e+01,  2.5448e+00, -4.7336e+00,  1.6561e+01,  7.1183e+00,\n",
      "         -1.4270e+01, -4.6820e+00,  1.8082e+01, -7.9067e+00, -1.5434e+01],\n",
      "        [ 1.1921e+01,  7.1246e+00, -7.8757e+00,  6.7031e+00,  5.4594e+00,\n",
      "         -1.2394e+01,  3.9481e+00,  4.3114e+00,  1.1303e+00, -1.2132e+01],\n",
      "        [ 1.8770e+01,  1.6253e+00, -3.2211e+00,  1.2908e+01,  1.5437e+01,\n",
      "         -5.3200e+00, -1.3005e+01,  8.7543e+00, -2.1346e+00, -2.5870e+01]])\n",
      "torch.Size([64, 10])\n"
     ]
    }
   ],
   "source": [
    "#Solution\n",
    "#create sigmoid activation function\n",
    "def activation(x):\n",
    "    return 1/(1+torch.exp(-x))\n",
    "#Flatten input image\n",
    "inputs=images.view(images.shape[0],-1)\n",
    "#Create weights & biases\n",
    "w1=torch.randn(784,256)\n",
    "b1=torch.randn(256)\n",
    "w2=torch.randn(256,10)\n",
    "b2=torch.randn(10)\n",
    "#Create hidden Layer\n",
    "hidden=activation(torch.mm(inputs,w1)+b1)\n",
    "#Cretae Output Layer\n",
    "outputs=torch.mm(hidden,w2)+b2\n",
    "print(outputs)\n",
    "print(outputs.shape)"
   ]
  },
  {
   "cell_type": "markdown",
   "metadata": {},
   "source": [
    "> **Exercise:** Implement a function softmax that performs the softmax calculation and returns probability distributions for each example in the batch. Note that you'll need to pay attention to the shapes when doing this. If you have a tensor a with shape (64, 10) and a tensor b with shape (64,), doing a/b will give you an error because PyTorch will try to do the division across the columns (called broadcasting) but you'll get a size mismatch. The way to think about this is for each of the 64 examples, you only want to divide by one value, the sum in the denominator. So you need b to have a shape of (64, 1). This way PyTorch will divide the 10 values in each row of a by the one value in each row of b. Pay attention to how you take the sum as well. You'll need to define the dim keyword in torch.sum. Setting dim=0 takes the sum across the rows while dim=1 takes the sum across the columns."
   ]
  },
  {
   "cell_type": "code",
   "execution_count": 6,
   "metadata": {},
   "outputs": [
    {
     "name": "stdout",
     "output_type": "stream",
     "text": [
      "torch.Size([64, 10])\n",
      "tensor([1.0000, 1.0000, 1.0000, 1.0000, 1.0000, 1.0000, 1.0000, 1.0000, 1.0000,\n",
      "        1.0000, 1.0000, 1.0000, 1.0000, 1.0000, 1.0000, 1.0000, 1.0000, 1.0000,\n",
      "        1.0000, 1.0000, 1.0000, 1.0000, 1.0000, 1.0000, 1.0000, 1.0000, 1.0000,\n",
      "        1.0000, 1.0000, 1.0000, 1.0000, 1.0000, 1.0000, 1.0000, 1.0000, 1.0000,\n",
      "        1.0000, 1.0000, 1.0000, 1.0000, 1.0000, 1.0000, 1.0000, 1.0000, 1.0000,\n",
      "        1.0000, 1.0000, 1.0000, 1.0000, 1.0000, 1.0000, 1.0000, 1.0000, 1.0000,\n",
      "        1.0000, 1.0000, 1.0000, 1.0000, 1.0000, 1.0000, 1.0000, 1.0000, 1.0000,\n",
      "        1.0000])\n"
     ]
    }
   ],
   "source": [
    "#Create softmax function\n",
    "def softmax(x):\n",
    "    return torch.exp(x)/torch.sum(torch.exp(x),dim=1).view(-1,1)\n",
    "#out should be the output of the network in the previous excercise with shape (64,10)\n",
    "probabilities = softmax(outputs)\n",
    "#Does it have the right shape? Should be (64, 10)\n",
    "print(probabilities.shape)\n",
    "#Does it sum to 1?\n",
    "print(probabilities.sum(dim=1))"
   ]
  },
  {
   "cell_type": "markdown",
   "metadata": {},
   "source": [
    "###### Building networks with PyTorch"
   ]
  },
  {
   "cell_type": "code",
   "execution_count": 7,
   "metadata": {},
   "outputs": [],
   "source": [
    "from torch import nn"
   ]
  },
  {
   "cell_type": "code",
   "execution_count": 8,
   "metadata": {},
   "outputs": [],
   "source": [
    "class Network(nn.Module):\n",
    "    def __init__(self):\n",
    "        super().__init__()\n",
    "        \n",
    "        #Set Input to hiddin layer linear transformation\n",
    "        self.hidden=nn.Linear(784,256)\n",
    "        #Set ouyput layer- 10 units-1 for each digit\n",
    "        self.output=nn.Linear(256,10)\n",
    "        #Define sigmoid activation\n",
    "        self.sigmoid=nn.Sigmoid()\n",
    "        #Define softmax output\n",
    "        self.softmax=nn.Softmax(dim=1)\n",
    "        \n",
    "    #Define forward function\n",
    "    def forward(self,x):\n",
    "        # Pass input tensor through operations\n",
    "        x=self.hidden(x)\n",
    "        x=selg.output(x)\n",
    "        x=self.sigmoid(x)\n",
    "        x=self.softmax(x)       \n",
    "        return x"
   ]
  },
  {
   "cell_type": "code",
   "execution_count": 9,
   "metadata": {},
   "outputs": [
    {
     "data": {
      "text/plain": [
       "Network(\n",
       "  (hidden): Linear(in_features=784, out_features=256, bias=True)\n",
       "  (output): Linear(in_features=256, out_features=10, bias=True)\n",
       "  (sigmoid): Sigmoid()\n",
       "  (softmax): Softmax(dim=1)\n",
       ")"
      ]
     },
     "execution_count": 9,
     "metadata": {},
     "output_type": "execute_result"
    }
   ],
   "source": [
    "#Create network and look at it's text representation\n",
    "model=Network()\n",
    "model"
   ]
  },
  {
   "cell_type": "code",
   "execution_count": 10,
   "metadata": {},
   "outputs": [],
   "source": [
    "import torch.nn.functional as F\n",
    "class Network(nn.Module):\n",
    "    def __init__(self):\n",
    "        super().__init__()\n",
    "        \n",
    "        #Set Input to hiddin layer linear transformation\n",
    "        self.hidden=nn.Linear(784,256)\n",
    "        #Set ouyput layer- 10 units-1 for each digit\n",
    "        self.output=nn.Linear(256,10)\n",
    "        \n",
    "    #Define forward function\n",
    "    def forward(self,x):\n",
    "        #hiddin layer with sigmoid\n",
    "        x=F.sigmoid(self.hidden(x))\n",
    "        #output layer with softmax\n",
    "        x=F.softmax(self.output(x),dim=1)       \n",
    "        return x"
   ]
  },
  {
   "cell_type": "code",
   "execution_count": 11,
   "metadata": {},
   "outputs": [
    {
     "data": {
      "text/plain": [
       "Network(\n",
       "  (hidden): Linear(in_features=784, out_features=256, bias=True)\n",
       "  (output): Linear(in_features=256, out_features=10, bias=True)\n",
       ")"
      ]
     },
     "execution_count": 11,
     "metadata": {},
     "output_type": "execute_result"
    }
   ],
   "source": [
    "#Create network and look at it's text representation\n",
    "model=Network()\n",
    "model"
   ]
  },
  {
   "cell_type": "markdown",
   "metadata": {},
   "source": [
    "###### Activation functions"
   ]
  },
  {
   "cell_type": "markdown",
   "metadata": {},
   "source": [
    "###### Your Turn to Build a Network\n",
    "\n",
    "<img src=\"assets/mlp_mnist.png\" width=600px>\n",
    "\n",
    "> **Exercise:** Create a network with 784 input units, a hidden layer with 128 units and a ReLU activation, then a hidden layer with 64 units and a ReLU activation, and finally an output layer with a softmax activation as shown above. You can use a ReLU activation with the `nn.ReLU` module or `F.relu` function.\n",
    "\n",
    "It's good practice to name your layers by their type of network, for instance 'fc' to represent a fully-connected layer. As you code your solution, use `fc1`, `fc2`, and `fc3` as your layer names."
   ]
  },
  {
   "cell_type": "code",
   "execution_count": 12,
   "metadata": {},
   "outputs": [
    {
     "data": {
      "text/plain": [
       "Network(\n",
       "  (fc1): Linear(in_features=784, out_features=128, bias=True)\n",
       "  (fc2): Linear(in_features=128, out_features=64, bias=True)\n",
       "  (fc3): Linear(in_features=64, out_features=10, bias=True)\n",
       ")"
      ]
     },
     "execution_count": 12,
     "metadata": {},
     "output_type": "execute_result"
    }
   ],
   "source": [
    "class Network(nn.Module):\n",
    "    def __init__(self):\n",
    "        super().__init__()\n",
    "        #Define input and hidden layers\n",
    "        self.fc1=nn.Linear(784, 128)\n",
    "        self.fc2=nn.Linear(128,64)\n",
    "        #Define output layer\n",
    "        self.fc3=nn.Linear(64,10)\n",
    "        \n",
    "    #Define forward function    \n",
    "    def forward(self,x):\n",
    "        x=self.fc1(x)\n",
    "        x=F.relu(x)\n",
    "        x=self.fc2(x)\n",
    "        x=F.relu(x)\n",
    "        x=self.fc3(x)\n",
    "        x=F.softmax(x,dim=1)\n",
    "        \n",
    "        return x\n",
    "    \n",
    "model=Network()\n",
    "model"
   ]
  },
  {
   "cell_type": "markdown",
   "metadata": {},
   "source": [
    "###### Initializing weights and biases"
   ]
  },
  {
   "cell_type": "code",
   "execution_count": 13,
   "metadata": {},
   "outputs": [
    {
     "name": "stdout",
     "output_type": "stream",
     "text": [
      "Parameter containing:\n",
      "tensor([[ 3.0749e-02,  2.2167e-02, -1.1055e-02,  ..., -8.7288e-03,\n",
      "          1.2672e-03, -3.9283e-03],\n",
      "        [ 1.7859e-02, -3.4011e-02, -7.0400e-03,  ...,  1.5550e-02,\n",
      "          5.5691e-03, -1.7466e-03],\n",
      "        [-3.4458e-02, -9.4950e-03,  3.2227e-02,  ..., -2.3108e-02,\n",
      "          3.1549e-02, -3.5426e-02],\n",
      "        ...,\n",
      "        [-1.0945e-02,  8.3347e-03,  2.8766e-02,  ..., -2.4968e-02,\n",
      "         -2.8635e-02, -3.2017e-02],\n",
      "        [ 1.9580e-02, -9.6135e-03, -7.4545e-03,  ..., -1.8607e-02,\n",
      "          1.5269e-02, -3.8436e-03],\n",
      "        [ 1.7328e-02, -3.3716e-02,  1.0233e-02,  ..., -6.0177e-03,\n",
      "         -2.8804e-02, -2.5894e-05]], requires_grad=True)\n",
      "Parameter containing:\n",
      "tensor([ 0.0195,  0.0241, -0.0088, -0.0303,  0.0124,  0.0138, -0.0022, -0.0221,\n",
      "        -0.0320, -0.0050, -0.0223, -0.0239, -0.0237,  0.0136, -0.0157,  0.0248,\n",
      "        -0.0088,  0.0331,  0.0273,  0.0261, -0.0335,  0.0295, -0.0295,  0.0013,\n",
      "         0.0326,  0.0030, -0.0113, -0.0066, -0.0057,  0.0338,  0.0328, -0.0309,\n",
      "        -0.0169,  0.0317,  0.0117,  0.0072, -0.0118, -0.0042,  0.0082,  0.0038,\n",
      "         0.0252,  0.0149, -0.0096, -0.0142, -0.0275, -0.0084, -0.0024, -0.0242,\n",
      "         0.0354, -0.0301,  0.0006, -0.0303,  0.0182,  0.0115, -0.0241,  0.0003,\n",
      "        -0.0324,  0.0117, -0.0139, -0.0086,  0.0061,  0.0135, -0.0169,  0.0318,\n",
      "         0.0279,  0.0032,  0.0005,  0.0159, -0.0021,  0.0196,  0.0090,  0.0211,\n",
      "        -0.0071,  0.0023, -0.0158, -0.0215,  0.0315, -0.0195, -0.0113, -0.0051,\n",
      "        -0.0204,  0.0109,  0.0300, -0.0121, -0.0150,  0.0101, -0.0173, -0.0250,\n",
      "         0.0031,  0.0210,  0.0099, -0.0244, -0.0245,  0.0240, -0.0081,  0.0304,\n",
      "         0.0271, -0.0022, -0.0005,  0.0320, -0.0129, -0.0166, -0.0313, -0.0288,\n",
      "        -0.0185,  0.0152, -0.0011, -0.0224, -0.0147,  0.0096,  0.0127, -0.0329,\n",
      "         0.0282, -0.0241, -0.0014,  0.0345,  0.0002, -0.0025, -0.0230, -0.0038,\n",
      "        -0.0125,  0.0013, -0.0351, -0.0239,  0.0324, -0.0135,  0.0118, -0.0233],\n",
      "       requires_grad=True)\n"
     ]
    }
   ],
   "source": [
    "print(model.fc1.weight)\n",
    "print(model.fc1.bias)"
   ]
  },
  {
   "cell_type": "code",
   "execution_count": 14,
   "metadata": {},
   "outputs": [
    {
     "data": {
      "text/plain": [
       "tensor([0., 0., 0., 0., 0., 0., 0., 0., 0., 0., 0., 0., 0., 0., 0., 0., 0., 0., 0., 0., 0., 0., 0., 0.,\n",
       "        0., 0., 0., 0., 0., 0., 0., 0., 0., 0., 0., 0., 0., 0., 0., 0., 0., 0., 0., 0., 0., 0., 0., 0.,\n",
       "        0., 0., 0., 0., 0., 0., 0., 0., 0., 0., 0., 0., 0., 0., 0., 0., 0., 0., 0., 0., 0., 0., 0., 0.,\n",
       "        0., 0., 0., 0., 0., 0., 0., 0., 0., 0., 0., 0., 0., 0., 0., 0., 0., 0., 0., 0., 0., 0., 0., 0.,\n",
       "        0., 0., 0., 0., 0., 0., 0., 0., 0., 0., 0., 0., 0., 0., 0., 0., 0., 0., 0., 0., 0., 0., 0., 0.,\n",
       "        0., 0., 0., 0., 0., 0., 0., 0.])"
      ]
     },
     "execution_count": 14,
     "metadata": {},
     "output_type": "execute_result"
    }
   ],
   "source": [
    "# Set biases to all zeros\n",
    "model.fc1.bias.data.fill_(0)"
   ]
  },
  {
   "cell_type": "code",
   "execution_count": 15,
   "metadata": {},
   "outputs": [
    {
     "data": {
      "text/plain": [
       "tensor([[-0.0021, -0.0140, -0.0088,  ..., -0.0007, -0.0051, -0.0112],\n",
       "        [ 0.0030, -0.0036, -0.0017,  ..., -0.0138,  0.0058,  0.0022],\n",
       "        [ 0.0106,  0.0084,  0.0037,  ..., -0.0036, -0.0028,  0.0178],\n",
       "        ...,\n",
       "        [ 0.0048, -0.0078,  0.0169,  ..., -0.0105, -0.0217, -0.0090],\n",
       "        [ 0.0039,  0.0117, -0.0184,  ..., -0.0043, -0.0075, -0.0088],\n",
       "        [-0.0030, -0.0128,  0.0006,  ..., -0.0080, -0.0099,  0.0158]])"
      ]
     },
     "execution_count": 15,
     "metadata": {},
     "output_type": "execute_result"
    }
   ],
   "source": [
    "# sample from random normal with standard dev = 0.01\n",
    "model.fc1.weight.data.normal_(std=0.01)"
   ]
  },
  {
   "cell_type": "markdown",
   "metadata": {},
   "source": [
    "###### Forward pass\n",
    "Now we pass in an image"
   ]
  },
  {
   "cell_type": "code",
   "execution_count": 16,
   "metadata": {},
   "outputs": [
    {
     "data": {
      "image/png": "[encoded data removed]",
      "text/plain": [
       "<Figure size 432x648 with 2 Axes>"
      ]
     },
     "metadata": {
      "image/png": {
       "height": 235,
       "width": 424
      },
      "needs_background": "light"
     },
     "output_type": "display_data"
    }
   ],
   "source": [
    "# Grab some data \n",
    "dataiter = iter(trainloader)\n",
    "images, labels = dataiter.next()\n",
    "\n",
    "# Resize images into a 1D vector, new shape is (batch size, color channels, image pixels) \n",
    "images.resize_(64, 1, 784)\n",
    "# or images.resize_(images.shape[0], 1, 784) to automatically get batch size\n",
    "\n",
    "# Forward pass through the network\n",
    "img_idx = 0\n",
    "ps = model.forward(images[img_idx,:])\n",
    "\n",
    "img = images[img_idx]\n",
    "helper.view_classify(img.view(1, 28, 28), ps)"
   ]
  },
  {
   "cell_type": "markdown",
   "metadata": {},
   "source": [
    "###### Using nn.Sequential\n",
    "We can use  `nn.Sequential` that PyTorch provides to create a networks where a tensor is passed sequentially through operations."
   ]
  },
  {
   "cell_type": "code",
   "execution_count": 17,
   "metadata": {},
   "outputs": [
    {
     "name": "stdout",
     "output_type": "stream",
     "text": [
      "Sequential(\n",
      "  (0): Linear(in_features=784, out_features=128, bias=True)\n",
      "  (1): ReLU()\n",
      "  (2): Linear(in_features=128, out_features=64, bias=True)\n",
      "  (3): ReLU()\n",
      "  (4): Linear(in_features=64, out_features=10, bias=True)\n",
      "  (5): Softmax(dim=1)\n",
      ")\n"
     ]
    },
    {
     "data": {
      "image/png": "[encoded data removed]",
      "text/plain": [
       "<Figure size 432x648 with 2 Axes>"
      ]
     },
     "metadata": {
      "image/png": {
       "height": 235,
       "width": 424
      },
      "needs_background": "light"
     },
     "output_type": "display_data"
    }
   ],
   "source": [
    "# Hyperparameters for our network\n",
    "input_size = 784\n",
    "hidden_sizes = [128, 64]\n",
    "output_size = 10\n",
    "\n",
    "# Build a feed-forward network\n",
    "model = nn.Sequential(nn.Linear(input_size, hidden_sizes[0]),\n",
    "                      nn.ReLU(),\n",
    "                      nn.Linear(hidden_sizes[0], hidden_sizes[1]),\n",
    "                      nn.ReLU(),\n",
    "                      nn.Linear(hidden_sizes[1], output_size),\n",
    "                      nn.Softmax(dim=1))\n",
    "print(model)\n",
    "\n",
    "# Forward pass through the network and display output\n",
    "images, labels = next(iter(trainloader))\n",
    "images.resize_(images.shape[0], 1, 784)\n",
    "ps = model.forward(images[0,:])\n",
    "helper.view_classify(images[0].view(1, 28, 28), ps)"
   ]
  },
  {
   "cell_type": "code",
   "execution_count": 18,
   "metadata": {},
   "outputs": [
    {
     "name": "stdout",
     "output_type": "stream",
     "text": [
      "Linear(in_features=784, out_features=128, bias=True)\n"
     ]
    },
    {
     "data": {
      "text/plain": [
       "Parameter containing:\n",
       "tensor([[ 0.0335, -0.0293,  0.0321,  ..., -0.0254,  0.0273, -0.0321],\n",
       "        [ 0.0068,  0.0115, -0.0107,  ..., -0.0163,  0.0190, -0.0172],\n",
       "        [-0.0266, -0.0006, -0.0132,  ...,  0.0154,  0.0333, -0.0282],\n",
       "        ...,\n",
       "        [ 0.0266, -0.0112, -0.0088,  ..., -0.0170,  0.0055,  0.0187],\n",
       "        [-0.0353, -0.0170,  0.0035,  ..., -0.0338, -0.0246, -0.0251],\n",
       "        [ 0.0195, -0.0091, -0.0327,  ...,  0.0280, -0.0204,  0.0282]],\n",
       "       requires_grad=True)"
      ]
     },
     "execution_count": 18,
     "metadata": {},
     "output_type": "execute_result"
    }
   ],
   "source": [
    "print(model[0])\n",
    "model[0].weight"
   ]
  },
  {
   "cell_type": "markdown",
   "metadata": {},
   "source": [
    "We can also pass in an `OrderedDict` to name the individual layers and operations, instead of using incremental integers. Dictionary keys must be unique, so each operation must have a different name."
   ]
  },
  {
   "cell_type": "code",
   "execution_count": 19,
   "metadata": {},
   "outputs": [
    {
     "data": {
      "text/plain": [
       "Sequential(\n",
       "  (fc1): Linear(in_features=784, out_features=128, bias=True)\n",
       "  (relu1): ReLU()\n",
       "  (fc2): Linear(in_features=128, out_features=64, bias=True)\n",
       "  (relu2): ReLU()\n",
       "  (output): Linear(in_features=64, out_features=10, bias=True)\n",
       "  (softmax): Softmax(dim=1)\n",
       ")"
      ]
     },
     "execution_count": 19,
     "metadata": {},
     "output_type": "execute_result"
    }
   ],
   "source": [
    "from collections import OrderedDict\n",
    "model = nn.Sequential(OrderedDict([\n",
    "                      ('fc1', nn.Linear(input_size, hidden_sizes[0])),\n",
    "                      ('relu1', nn.ReLU()),\n",
    "                      ('fc2', nn.Linear(hidden_sizes[0], hidden_sizes[1])),\n",
    "                      ('relu2', nn.ReLU()),\n",
    "                      ('output', nn.Linear(hidden_sizes[1], output_size)),\n",
    "                      ('softmax', nn.Softmax(dim=1))]))\n",
    "model"
   ]
  },
  {
   "cell_type": "code",
   "execution_count": 20,
   "metadata": {},
   "outputs": [
    {
     "name": "stdout",
     "output_type": "stream",
     "text": [
      "Linear(in_features=784, out_features=128, bias=True)\n",
      "Linear(in_features=784, out_features=128, bias=True)\n"
     ]
    }
   ],
   "source": [
    "print(model[0])\n",
    "print(model.fc1)"
   ]
  },
  {
   "cell_type": "code",
   "execution_count": null,
   "metadata": {},
   "outputs": [],
   "source": []
  }
 ],
 "metadata": {
  "kernelspec": {
   "display_name": "Python 3",
   "language": "python",
   "name": "python3"
  },
  "language_info": {
   "codemirror_mode": {
    "name": "ipython",
    "version": 3
   },
   "file_extension": ".py",
   "mimetype": "text/x-python",
   "name": "python",
   "nbconvert_exporter": "python",
   "pygments_lexer": "ipython3",
   "version": "3.7.4"
  }
 },
 "nbformat": 4,
 "nbformat_minor": 2
}
