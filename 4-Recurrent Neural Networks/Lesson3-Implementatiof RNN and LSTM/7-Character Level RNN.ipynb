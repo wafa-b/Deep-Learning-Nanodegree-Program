{
 "cells": [
  {
   "cell_type": "markdown",
   "metadata": {
    "colab_type": "text",
    "id": "view-in-github"
   },
   "source": [
    "<a href=\"https://colab.research.google.com/github/wafa-b/Introduction-to-Deep-Learning-with-PyTorch/blob/master/Recurrent%20Neural%20Networks/Character_Level_RNN.ipynb\" target=\"_parent\"><img src=\"https://colab.research.google.com/assets/colab-badge.svg\" alt=\"Open In Colab\"/></a>"
   ]
  },
  {
   "cell_type": "code",
   "execution_count": 4,
   "metadata": {
    "colab": {
     "base_uri": "https://localhost:8080/",
     "height": 122
    },
    "colab_type": "code",
    "id": "qaZVa3lXdhyf",
    "outputId": "d43d78e1-12c8-4cd1-9cc8-ab5dab508855"
   },
   "outputs": [
    {
     "name": "stdout",
     "output_type": "stream",
     "text": [
      "Go to this URL in a browser: https://accounts.google.com/o/oauth2/auth?client_id=947318989803-6bn6qk8qdgf4n4g3pfee6491hc0brc4i.apps.googleusercontent.com&redirect_uri=urn%3aietf%3awg%3aoauth%3a2.0%3aoob&response_type=code&scope=email%20https%3a%2f%2fwww.googleapis.com%2fauth%2fdocs.test%20https%3a%2f%2fwww.googleapis.com%2fauth%2fdrive%20https%3a%2f%2fwww.googleapis.com%2fauth%2fdrive.photos.readonly%20https%3a%2f%2fwww.googleapis.com%2fauth%2fpeopleapi.readonly\n",
      "\n",
      "Enter your authorization code:\n",
      "··········\n",
      "Mounted at /content/drive/\n"
     ]
    }
   ],
   "source": [
    "from google.colab import drive\n",
    "drive.mount('/content/drive/')"
   ]
  },
  {
   "cell_type": "code",
   "execution_count": 0,
   "metadata": {
    "colab": {},
    "colab_type": "code",
    "id": "oflCbo8SdlgJ"
   },
   "outputs": [],
   "source": [
    "import os\n",
    "os.chdir(\"/content/drive/My Drive/\")"
   ]
  },
  {
   "cell_type": "markdown",
   "metadata": {
    "colab_type": "text",
    "id": "1f1Fv-lOdUrA"
   },
   "source": [
    "#### Character-Level LSTM in PyTorch\n",
    "\n",
    "We'll construct a character-level LSTM with PyTorch. The network will train character by character on some text, then generate new text character by character. As an example, I will train on Anna Karenina. **This model will be able to generate new text based on the text from the book!**\n",
    "\n",
    "This network is based off of Andrej Karpathy's [post on RNNs](http://karpathy.github.io/2015/05/21/rnn-effectiveness/) and [implementation in Torch](https://github.com/karpathy/char-rnn). Below is the general architecture of the character-wise RNN."
   ]
  },
  {
   "cell_type": "code",
   "execution_count": 0,
   "metadata": {
    "colab": {},
    "colab_type": "code",
    "id": "1_OHXRKwdUrJ"
   },
   "outputs": [],
   "source": [
    "#Import Libraries\n",
    "import torch\n",
    "import numpy as np\n",
    "from torch import nn\n",
    "import torch.nn.functional as F"
   ]
  },
  {
   "cell_type": "markdown",
   "metadata": {
    "colab_type": "text",
    "id": "NC0MWITodUrc"
   },
   "source": [
    "###### Load in Data\n",
    "\n",
    "We'll load the Anna Karenina text file and convert it into integers for our network to use."
   ]
  },
  {
   "cell_type": "code",
   "execution_count": 0,
   "metadata": {
    "colab": {},
    "colab_type": "code",
    "id": "pBBV9UyLdUrh"
   },
   "outputs": [],
   "source": [
    "#Open file & read data as text\n",
    "with open('data/anna.txt','r')as f:\n",
    "    text=f.read()"
   ]
  },
  {
   "cell_type": "markdown",
   "metadata": {
    "colab_type": "text",
    "id": "kgz8QgKtdUrx"
   },
   "source": [
    "Let's check out the first 100 characters."
   ]
  },
  {
   "cell_type": "code",
   "execution_count": 8,
   "metadata": {
    "colab": {
     "base_uri": "https://localhost:8080/",
     "height": 34
    },
    "colab_type": "code",
    "id": "sQonEDpfdUr1",
    "outputId": "2f47b0a7-79cd-42aa-86e8-3fb000d7d832"
   },
   "outputs": [
    {
     "data": {
      "text/plain": [
       "'Chapter 1\\n\\n\\nHappy families are all alike; every unhappy family is unhappy in its own\\nway.\\n\\nEverythin'"
      ]
     },
     "execution_count": 8,
     "metadata": {
      "tags": []
     },
     "output_type": "execute_result"
    }
   ],
   "source": [
    "text[:100]"
   ]
  },
  {
   "cell_type": "markdown",
   "metadata": {
    "colab_type": "text",
    "id": "9cKDUDWjdUsB"
   },
   "source": [
    "###### Tokenization\n",
    "\n",
    "We're creating a couple **dictionaries** to convert the characters to and from integers. Encoding the characters as integers makes it easier to use as input in the network."
   ]
  },
  {
   "cell_type": "code",
   "execution_count": 0,
   "metadata": {
    "colab": {},
    "colab_type": "code",
    "id": "W9f5049bdUsF"
   },
   "outputs": [],
   "source": [
    "#Encode text & map each char to int and vice versa\n",
    "#Create 2 dictionaries\n",
    "#1. int->char\n",
    "#2. char->int\n",
    "chars=tuple(set(text))\n",
    "int2char=dict(enumerate(chars))\n",
    "char2int={ch:ii for ii,ch in int2char.items()}\n",
    "#Encode text\n",
    "encoded=np.array([char2int[ch] for ch in text])"
   ]
  },
  {
   "cell_type": "markdown",
   "metadata": {
    "colab_type": "text",
    "id": "TbDVvVWndUsN"
   },
   "source": [
    "we can see characters from above encoded as integers"
   ]
  },
  {
   "cell_type": "code",
   "execution_count": 10,
   "metadata": {
    "colab": {
     "base_uri": "https://localhost:8080/",
     "height": 119
    },
    "colab_type": "code",
    "id": "iiwQ6uLAdUsP",
    "outputId": "90217397-f606-4fd0-f58a-07d7e5bfe172"
   },
   "outputs": [
    {
     "data": {
      "text/plain": [
       "array([11,  6, 17,  3, 72,  1, 27, 68, 31,  5,  5,  5,  2, 17,  3,  3, 46,\n",
       "       68, 51, 17, 81, 26,  9, 26,  1, 52, 68, 17, 27,  1, 68, 17,  9,  9,\n",
       "       68, 17,  9, 26, 66,  1, 56, 68,  1, 77,  1, 27, 46, 68, 41, 53,  6,\n",
       "       17,  3,  3, 46, 68, 51, 17, 81, 26,  9, 46, 68, 26, 52, 68, 41, 53,\n",
       "        6, 17,  3,  3, 46, 68, 26, 53, 68, 26, 72, 52, 68, 44, 63, 53,  5,\n",
       "       63, 17, 46, 24,  5,  5, 34, 77,  1, 27, 46, 72,  6, 26, 53])"
      ]
     },
     "execution_count": 10,
     "metadata": {
      "tags": []
     },
     "output_type": "execute_result"
    }
   ],
   "source": [
    "encoded[:100]"
   ]
  },
  {
   "cell_type": "markdown",
   "metadata": {
    "colab_type": "text",
    "id": "HtzY8FV5dUsV"
   },
   "source": [
    "###### Pre-processing the data\n",
    "\n",
    "LSTM expects an input that is **one-hot encoded** meaning that each character is converted into an integer (via our created dictionary) and *then* converted into a column vector where only it's corresponding integer index will have the value of 1 and the rest of the vector will be filled with 0's."
   ]
  },
  {
   "cell_type": "code",
   "execution_count": 0,
   "metadata": {
    "colab": {},
    "colab_type": "code",
    "id": "DU-tvgsodUsX"
   },
   "outputs": [],
   "source": [
    "def one_hot_encode(arr,n_labels):\n",
    "    #Define encoded array\n",
    "    one_hot=np.zeros((arr.size,n_labels),dtype=np.float32)\n",
    "    #Fill approprite elements with ones\n",
    "    one_hot[np.arange(one_hot.shape[0]),arr.flatten()]=1\n",
    "    #Reshape it to get back to original array\n",
    "    one_hot=one_hot.reshape((*arr.shape,n_labels))\n",
    "    return one_hot"
   ]
  },
  {
   "cell_type": "code",
   "execution_count": 12,
   "metadata": {
    "colab": {
     "base_uri": "https://localhost:8080/",
     "height": 68
    },
    "colab_type": "code",
    "id": "fn5EdEnudUse",
    "outputId": "9f108db9-7cd6-4198-f9be-c1dca06e5e17"
   },
   "outputs": [
    {
     "name": "stdout",
     "output_type": "stream",
     "text": [
      "[[[0. 0. 0. 1. 0. 0. 0. 0.]\n",
      "  [0. 0. 0. 0. 0. 1. 0. 0.]\n",
      "  [0. 1. 0. 0. 0. 0. 0. 0.]]]\n"
     ]
    }
   ],
   "source": [
    "#Check function is works\n",
    "test_seq=np.array([[3,5,1]])\n",
    "one_hot=one_hot_encode(test_seq,8)\n",
    "print(one_hot)"
   ]
  },
  {
   "cell_type": "markdown",
   "metadata": {
    "colab_type": "text",
    "id": "YyhkF0XzdUsl"
   },
   "source": [
    "###### Making training mini-batches\n",
    "\n",
    "\n",
    "To train on this data, we also want to create mini-batches for training. Remember that we want our batches to be multiple sequences of some desired number of sequence steps.\n",
    "\n",
    "<br>\n",
    "\n",
    "In this example, we'll take the encoded characters (passed in as the `arr` parameter) and split them into multiple sequences, given by `batch_size`. Each of our sequences will be `seq_length` long.\n",
    "\n",
    "###### Creating Batches\n",
    "\n",
    "**1. The first thing we need to do is discard some of the text so we only have completely full mini-batches. **\n",
    "\n",
    "Each batch contains $N \\times M$ characters, where $N$ is the batch size (the number of sequences in a batch) and $M$ is the seq_length or number of time steps in a sequence. Then, to get the total number of batches, $K$, that we can make from the array `arr`, you divide the length of `arr` by the number of characters per batch. Once you know the number of batches, you can get the total number of characters to keep from `arr`, $N * M * K$.\n",
    "\n",
    "**2. After that, we need to split `arr` into $N$ batches. ** \n",
    "\n",
    "You can do this using `arr.reshape(size)` where `size` is a tuple containing the dimensions sizes of the reshaped array. We know we want $N$ sequences in a batch, so let's make that the size of the first dimension. For the second dimension, you can use `-1` as a placeholder in the size, it'll fill up the array with the appropriate data for you. After this, you should have an array that is $N \\times (M * K)$.\n",
    "\n",
    "**3. Now that we have this array, we can iterate through it to get our mini-batches. **\n",
    "\n",
    "The idea is each batch is a $N \\times M$ window on the $N \\times (M * K)$ array. For each subsequent batch, the window moves over by `seq_length`. We also want to create both the input and target arrays. Remember that the targets are just the inputs shifted over by one character. The way I like to do this window is use `range` to take steps of size `n_steps` from $0$ to `arr.shape[1]`, the total number of tokens in each sequence. That way, the integers you get from `range` always point to the start of a batch, and each window is `seq_length` wide.\n",
    "\n",
    "> **TODO:** Write the code for creating batches in the function below. The exercises in this notebook _will not be easy_. I've provided a notebook with solutions alongside this notebook. If you get stuck, checkout the solutions. The most important thing is that you don't copy and paste the code into here, **type out the solution code yourself.**"
   ]
  },
  {
   "cell_type": "code",
   "execution_count": 0,
   "metadata": {
    "colab": {},
    "colab_type": "code",
    "id": "9ATIdLh-dUso"
   },
   "outputs": [],
   "source": [
    "def get_batches(arr,batch_size,seq_length):\n",
    "    '''Create a generator that returns batches of size\n",
    "       batch_size x seq_length from arr. \n",
    "       Arguments\n",
    "       ---------\n",
    "       arr: Array you want to make batches from\n",
    "       batch_size: Batch size, the number of sequences per batch\n",
    "       seq_length: Number of encoded chars in a sequence\n",
    "    '''\n",
    "    batch_size_total=batch_size*seq_length\n",
    "    ##TODO:Get the number of batches we can make\n",
    "    n_batches= len(arr)//batch_size_total \n",
    "    ##TODO:Keep only enough characters to make full batches\n",
    "    arr=arr[:n_batches*batch_size_total] \n",
    "    ##TODO:Reshape into batch_size rows\n",
    "    arr=arr.reshape((batch_size,-1))\n",
    "    ##TODO:Iterate over the batches using a window of size seq_length\n",
    "    for n in range(0,arr.shape[1],seq_length):\n",
    "        #The features\n",
    "        x=arr[:,n:n+seq_length]        \n",
    "        #The targets,shifted by one\n",
    "        y=np.zeros_like(x)\n",
    "        try:\n",
    "            y[:,:-1],y[:,-1]=x[:,1:],arr[:,n+seq_length]\n",
    "        except IndexError:\n",
    "            y[:,:-1],y[:,-1]=x[:,1:],arr[:,0]\n",
    "        yield x,y"
   ]
  },
  {
   "cell_type": "markdown",
   "metadata": {
    "colab_type": "text",
    "id": "b0V3jnKldUsv"
   },
   "source": [
    "###### Test Our Implementation\n",
    "We'll make some data sets and we can check out what's going on as we batch data. Here, as an example, I'm going to use a batch size of 8 and 50 sequence steps."
   ]
  },
  {
   "cell_type": "code",
   "execution_count": 0,
   "metadata": {
    "colab": {},
    "colab_type": "code",
    "id": "1JnR7bYydUsz"
   },
   "outputs": [],
   "source": [
    "batches=get_batches(encoded,8,50)\n",
    "x,y=next(batches)"
   ]
  },
  {
   "cell_type": "code",
   "execution_count": 15,
   "metadata": {
    "colab": {
     "base_uri": "https://localhost:8080/",
     "height": 340
    },
    "colab_type": "code",
    "id": "sFK1xbPsdUs4",
    "outputId": "965998f7-6e91-41ff-b3b2-65ac67294613"
   },
   "outputs": [
    {
     "name": "stdout",
     "output_type": "stream",
     "text": [
      "x\n",
      " [[11  6 17  3 72  1 27 68 31  5]\n",
      " [52 44 53 68 72  6 17 72 68 17]\n",
      " [ 1 53 59 68 44 27 68 17 68 51]\n",
      " [52 68 72  6  1 68 16  6 26  1]\n",
      " [68 52 17 63 68  6  1 27 68 72]\n",
      " [16 41 52 52 26 44 53 68 17 53]\n",
      " [68 43 53 53 17 68  6 17 59 68]\n",
      " [36 54  9 44 53 52 66 46 24 68]]\n",
      "\n",
      "y\n",
      " [[ 6 17  3 72  1 27 68 31  5  5]\n",
      " [44 53 68 72  6 17 72 68 17 72]\n",
      " [53 59 68 44 27 68 17 68 51 44]\n",
      " [68 72  6  1 68 16  6 26  1 51]\n",
      " [52 17 63 68  6  1 27 68 72  1]\n",
      " [41 52 52 26 44 53 68 17 53 59]\n",
      " [43 53 53 17 68  6 17 59 68 52]\n",
      " [54  9 44 53 52 66 46 24 68 60]]\n"
     ]
    }
   ],
   "source": [
    "#Printing first 10 items in a sequence\n",
    "print('x\\n',x[:10,:10])\n",
    "print('\\ny\\n',y[:10,:10])"
   ]
  },
  {
   "cell_type": "markdown",
   "metadata": {
    "colab_type": "text",
    "id": "W4_zeJthdUtA"
   },
   "source": [
    "###### Defining the network with PyTorch\n",
    "\n",
    "WE'll use PyTorch to define the architecture of the network. We start by defining the layers and operations we want. Then, define a method for the forward pass. We've also been given a method for predicting characters."
   ]
  },
  {
   "cell_type": "markdown",
   "metadata": {
    "colab_type": "text",
    "id": "RrtwH0cudUtC"
   },
   "source": [
    "###### Model Structure\n",
    "\n",
    "In `__init__` the suggested structure is as follows:\n",
    "* Create and store the necessary dictionaries (this has been done for you)\n",
    "* Define an LSTM layer that takes as params: an input size (the number of characters), a hidden layer size `n_hidden`, a number of layers `n_layers`, a dropout probability `drop_prob`, and a batch_first boolean (True, since we are batching)\n",
    "* Define a dropout layer with `drop_prob`\n",
    "* Define a fully-connected layer with params: input size `n_hidden` and output size (the number of characters)\n",
    "* Finally, initialize the weights (again, this has been given)\n",
    "\n",
    "Note that some parameters have been named and given in the `__init__` function, and we use them and store them by doing something like `self.drop_prob = drop_prob`."
   ]
  },
  {
   "cell_type": "markdown",
   "metadata": {
    "colab_type": "text",
    "id": "jrvanteadUtE"
   },
   "source": [
    "###### LSTM Inputs/Outputs\n",
    "\n",
    "We can create a basic [LSTM layer](https://pytorch.org/docs/stable/nn.html#lstm) as follows\n",
    "\n",
    "```python\n",
    "self.lstm = nn.LSTM(input_size, n_hidden, n_layers, \n",
    "                            dropout=drop_prob, batch_first=True)\n",
    "```\n",
    "\n",
    "where `input_size` is the number of characters this cell expects to see as sequential input, and `n_hidden` is the number of units in the hidden layers in the cell. And we can add dropout by adding a dropout parameter with a specified probability; this will automatically add dropout to the inputs or outputs. Finally, in the `forward` function, we can stack up the LSTM cells into layers using `.view`. With this, you pass in a list of cells and it will send the output of one cell into the next cell.\n",
    "\n",
    "We also need to create an initial hidden state of all zeros. This is done like so\n",
    "\n",
    "```python\n",
    "self.init_hidden()\n",
    "```"
   ]
  },
  {
   "cell_type": "code",
   "execution_count": 16,
   "metadata": {
    "colab": {
     "base_uri": "https://localhost:8080/",
     "height": 34
    },
    "colab_type": "code",
    "id": "K-IL5YZqdUtG",
    "outputId": "a7163cb2-d0a4-4a89-dbbb-8ecbf33f4f7a"
   },
   "outputs": [
    {
     "name": "stdout",
     "output_type": "stream",
     "text": [
      "Training on GPU!\n"
     ]
    }
   ],
   "source": [
    "#Check if GPU is available\n",
    "train_on_gpu=torch.cuda.is_available()\n",
    "if(train_on_gpu):\n",
    "    print('Training on GPU!')\n",
    "else: \n",
    "    print('No GPU available, training on CPU; consider making n_epochs very small.')"
   ]
  },
  {
   "cell_type": "code",
   "execution_count": 0,
   "metadata": {
    "colab": {},
    "colab_type": "code",
    "id": "brxmQ17YdUtP"
   },
   "outputs": [],
   "source": [
    "class CharRNN(nn.Module):\n",
    "    \n",
    "    def __init__(self,tokens,n_hidden=256,n_layers=2,drop_prob=0.5, lr=0.001):\n",
    "        super().__init__()\n",
    "        self.drop_prob=drop_prob\n",
    "        self.n_layers=n_layers\n",
    "        self.n_hidden=n_hidden\n",
    "        self.lr=lr\n",
    "        \n",
    "        #Creating character dictionaries\n",
    "        self.chars=tokens\n",
    "        self.int2char=dict(enumerate(self.chars))\n",
    "        self.char2int={ch:ii for ii,ch in self.int2char.items()}\n",
    "        \n",
    "        #TODO:Define the layers of the model\n",
    "        #Dfine LSTM\n",
    "        self.lstm=nn.LSTM(len(self.chars),n_hidden,n_layers,dropout=drop_prob, batch_first=True)\n",
    "        #Define dropout layer\n",
    "        self.dropout=nn.Dropout(drop_prob)\n",
    "        #Define final,fully-connected output layer\n",
    "        self.fc=nn.Linear(n_hidden,len(self.chars))\n",
    "      \n",
    "    def forward(self, x, hidden):\n",
    "        ''' Forward pass through the network. \n",
    "            These inputs are x, and the hidden/cell state `hidden`. '''\n",
    "                \n",
    "        #TODO:Get outputs and new hidden state from the lstm\n",
    "        r_output,hidden=self.lstm(x, hidden)\n",
    "        #Pass through dropout layer\n",
    "        out=self.dropout(r_output)\n",
    "        #Stack up LSTM outputs using view\n",
    "        #You may need to use contiguous to reshape the output\n",
    "        out=out.contiguous().view(-1,self.n_hidden)\n",
    "        #Put x through the fully-connected layer\n",
    "        out=self.fc(out)\n",
    "        #Return the final output and the hidden state\n",
    "        return out,hidden\n",
    "    \n",
    "    def init_hidden(self,batch_size):\n",
    "        ''' Initializes hidden state '''\n",
    "        #Create two new tensors with sizes n_layers x batch_size x n_hidden,\n",
    "        #Initialized to zero, for hidden state and cell state of LSTM\n",
    "        weight=next(self.parameters()).data\n",
    "        \n",
    "        if (train_on_gpu):\n",
    "            hidden=(weight.new(self.n_layers,batch_size,self.n_hidden).zero_().cuda(),\n",
    "                    weight.new(self.n_layers,batch_size,self.n_hidden).zero_().cuda())\n",
    "        else:\n",
    "            hidden=(weight.new(self.n_layers,batch_size,self.n_hidden).zero_(),\n",
    "                    weight.new(self.n_layers,batch_size,self.n_hidden).zero_())\n",
    "        \n",
    "        return hidden"
   ]
  },
  {
   "cell_type": "markdown",
   "metadata": {
    "colab_type": "text",
    "id": "MUCMX7E5dUtU"
   },
   "source": [
    "###### Time to train\n",
    "\n",
    "The train function gives us the ability to set the number of epochs, the learning rate, and other parameters.\n",
    "\n",
    "Below we're using an Adam optimizer and cross entropy loss since we are looking at character class scores as output. We calculate the loss and perform backpropagation, as usual!\n",
    "\n",
    "A couple of details about training: \n",
    ">* Within the batch loop, we detach the hidden state from its history; this time setting it equal to a new *tuple* variable because an LSTM has a hidden state that is a tuple of the hidden and cell states.\n",
    "* We use [`clip_grad_norm_`](https://pytorch.org/docs/stable/_modules/torch/nn/utils/clip_grad.html) to help prevent exploding gradients."
   ]
  },
  {
   "cell_type": "code",
   "execution_count": 0,
   "metadata": {
    "colab": {},
    "colab_type": "code",
    "id": "fDHGD1S_dUtW"
   },
   "outputs": [],
   "source": [
    "def train(net,data,epochs=10,batch_size=10,seq_length=50,lr=0.001,clip=5,val_frac=0.1,print_every=10):\n",
    "    ''' Training a network \n",
    "    \n",
    "        Arguments\n",
    "        ---------\n",
    "        \n",
    "        net: CharRNN network\n",
    "        data: text data to train the network\n",
    "        epochs: Number of epochs to train\n",
    "        batch_size: Number of mini-sequences per mini-batch, aka batch size\n",
    "        seq_length: Number of character steps per mini-batch\n",
    "        lr: learning rate\n",
    "        clip: gradient clipping\n",
    "        val_frac: Fraction of data to hold out for validation\n",
    "        print_every: Number of steps for printing training and validation loss\n",
    "    \n",
    "    '''\n",
    "    net.train()\n",
    "    \n",
    "    opt=torch.optim.Adam(net.parameters(),lr=lr)\n",
    "    criterion=nn.CrossEntropyLoss()\n",
    "    \n",
    "    #Create training and validation data\n",
    "    val_idx=int(len(data)*(1-val_frac))\n",
    "    data,val_data=data[:val_idx],data[val_idx:]\n",
    "    \n",
    "    if(train_on_gpu):\n",
    "        net.cuda()\n",
    "    \n",
    "    counter=0\n",
    "    n_chars=len(net.chars)\n",
    "    for e in range(epochs):\n",
    "        #Initialize hidden state\n",
    "        h=net.init_hidden(batch_size)\n",
    "        \n",
    "        for x, y in get_batches(data, batch_size, seq_length):\n",
    "            counter+=1\n",
    "            \n",
    "            #One-hot encode our data and make them Torch tensors\n",
    "            x=one_hot_encode(x,n_chars)\n",
    "            inputs,targets=torch.from_numpy(x),torch.from_numpy(y)\n",
    "            \n",
    "            if(train_on_gpu):\n",
    "                inputs,targets=inputs.cuda(),targets.cuda()\n",
    "\n",
    "            #Creating new variables for the hidden state, otherwise\n",
    "            #We'd backprop through the entire training history\n",
    "            h=tuple([each.data for each in h])\n",
    "\n",
    "            #Zero accumulated gradients\n",
    "            net.zero_grad()\n",
    "            \n",
    "            # get the output from the model\n",
    "            output,h=net(inputs,h)\n",
    "            \n",
    "            #Calculate the loss and perform backprop\n",
    "            loss=criterion(output,targets.view(batch_size*seq_length).long())\n",
    "            loss.backward()\n",
    "            #'Clip_grad_norm` helps prevent the exploding gradient problem in RNNs / LSTMs.\n",
    "            nn.utils.clip_grad_norm_(net.parameters(), clip)\n",
    "            opt.step()\n",
    "            \n",
    "            #Loss stats\n",
    "            if counter % print_every==0:\n",
    "                #Get validation loss\n",
    "                val_h=net.init_hidden(batch_size)\n",
    "                val_losses=[]\n",
    "                net.eval()\n",
    "                for x, y in get_batches(val_data, batch_size, seq_length):\n",
    "                    #One-hot encode our data and make them Torch tensors\n",
    "                    x=one_hot_encode(x, n_chars)\n",
    "                    x,y=torch.from_numpy(x),torch.from_numpy(y)\n",
    "                    \n",
    "                    #Creating new variables for the hidden state, otherwise\n",
    "                    #We'd backprop through the entire training history\n",
    "                    val_h=tuple([each.data for each in val_h])\n",
    "                    \n",
    "                    inputs,targets=x,y\n",
    "                    if(train_on_gpu):\n",
    "                        inputs,targets=inputs.cuda(),targets.cuda()\n",
    "\n",
    "                    output,val_h=net(inputs,val_h)\n",
    "                    val_loss=criterion(output,targets.view(batch_size*seq_length).long())\n",
    "                \n",
    "                    val_losses.append(val_loss.item())\n",
    "                \n",
    "                net.train()# reset to train mode after iterationg through validation data\n",
    "                \n",
    "                print(\"Epoch: {}/{}...\".format(e+1,epochs),\n",
    "                      \"Step: {}...\".format(counter),\n",
    "                      \"Loss: {:.4f}...\".format(loss.item()),\n",
    "                      \"Val Loss: {:.4f}\".format(np.mean(val_losses)))"
   ]
  },
  {
   "cell_type": "markdown",
   "metadata": {
    "colab_type": "text",
    "id": "XAqBQ7EwdUtZ"
   },
   "source": [
    "###### Instantiating the model\n",
    "\n",
    "Now we can actually train the network. First we'll create the network itself, with some given hyperparameters. Then, define the mini-batches sizes, and start training!"
   ]
  },
  {
   "cell_type": "code",
   "execution_count": 19,
   "metadata": {
    "colab": {
     "base_uri": "https://localhost:8080/",
     "height": 102
    },
    "colab_type": "code",
    "id": "YUmyjLM4dUta",
    "outputId": "afc38cbc-764a-4291-89b7-3ce5bcd226a8"
   },
   "outputs": [
    {
     "name": "stdout",
     "output_type": "stream",
     "text": [
      "CharRNN(\n",
      "  (lstm): LSTM(83, 512, num_layers=2, batch_first=True, dropout=0.5)\n",
      "  (dropout): Dropout(p=0.5, inplace=False)\n",
      "  (fc): Linear(in_features=512, out_features=83, bias=True)\n",
      ")\n"
     ]
    }
   ],
   "source": [
    "#TODO:Set your model hyperparameters\n",
    "#Define and print the net\n",
    "n_hidden=512\n",
    "n_layers=2\n",
    "net=CharRNN(chars,n_hidden,n_layers)\n",
    "print(net)"
   ]
  },
  {
   "cell_type": "markdown",
   "metadata": {
    "colab_type": "text",
    "id": "VDQz68S_dUte"
   },
   "source": [
    "###### Set your training hyperparameters!"
   ]
  },
  {
   "cell_type": "code",
   "execution_count": 20,
   "metadata": {
    "colab": {
     "base_uri": "https://localhost:8080/",
     "height": 1000
    },
    "colab_type": "code",
    "id": "gj8YYo8xdUtg",
    "outputId": "a156512d-622c-433a-ca70-0036c520bcfa"
   },
   "outputs": [
    {
     "name": "stdout",
     "output_type": "stream",
     "text": [
      "Epoch: 1/20... Step: 10... Loss: 3.2583... Val Loss: 3.1843\n",
      "Epoch: 1/20... Step: 20... Loss: 3.1496... Val Loss: 3.1313\n",
      "Epoch: 1/20... Step: 30... Loss: 3.1452... Val Loss: 3.1217\n",
      "Epoch: 1/20... Step: 40... Loss: 3.1183... Val Loss: 3.1199\n",
      "Epoch: 1/20... Step: 50... Loss: 3.1435... Val Loss: 3.1170\n",
      "Epoch: 1/20... Step: 60... Loss: 3.1172... Val Loss: 3.1134\n",
      "Epoch: 1/20... Step: 70... Loss: 3.1021... Val Loss: 3.1073\n",
      "Epoch: 1/20... Step: 80... Loss: 3.1065... Val Loss: 3.0932\n",
      "Epoch: 1/20... Step: 90... Loss: 3.0775... Val Loss: 3.0575\n",
      "Epoch: 1/20... Step: 100... Loss: 3.0073... Val Loss: 2.9813\n",
      "Epoch: 1/20... Step: 110... Loss: 2.9074... Val Loss: 2.8707\n",
      "Epoch: 1/20... Step: 120... Loss: 2.7885... Val Loss: 2.7461\n",
      "Epoch: 1/20... Step: 130... Loss: 2.6762... Val Loss: 2.6433\n",
      "Epoch: 2/20... Step: 140... Loss: 2.6128... Val Loss: 2.5508\n",
      "Epoch: 2/20... Step: 150... Loss: 2.5399... Val Loss: 2.4928\n",
      "Epoch: 2/20... Step: 160... Loss: 2.4982... Val Loss: 2.4581\n",
      "Epoch: 2/20... Step: 170... Loss: 2.4387... Val Loss: 2.4169\n",
      "Epoch: 2/20... Step: 180... Loss: 2.4109... Val Loss: 2.3844\n",
      "Epoch: 2/20... Step: 190... Loss: 2.3661... Val Loss: 2.3537\n",
      "Epoch: 2/20... Step: 200... Loss: 2.3594... Val Loss: 2.3300\n",
      "Epoch: 2/20... Step: 210... Loss: 2.3283... Val Loss: 2.2978\n",
      "Epoch: 2/20... Step: 220... Loss: 2.2858... Val Loss: 2.2743\n",
      "Epoch: 2/20... Step: 230... Loss: 2.2808... Val Loss: 2.2426\n",
      "Epoch: 2/20... Step: 240... Loss: 2.2557... Val Loss: 2.2175\n",
      "Epoch: 2/20... Step: 250... Loss: 2.1929... Val Loss: 2.1943\n",
      "Epoch: 2/20... Step: 260... Loss: 2.1659... Val Loss: 2.1696\n",
      "Epoch: 2/20... Step: 270... Loss: 2.1847... Val Loss: 2.1489\n",
      "Epoch: 3/20... Step: 280... Loss: 2.1735... Val Loss: 2.1280\n",
      "Epoch: 3/20... Step: 290... Loss: 2.1389... Val Loss: 2.1043\n",
      "Epoch: 3/20... Step: 300... Loss: 2.1116... Val Loss: 2.0817\n",
      "Epoch: 3/20... Step: 310... Loss: 2.0859... Val Loss: 2.0671\n",
      "Epoch: 3/20... Step: 320... Loss: 2.0607... Val Loss: 2.0455\n",
      "Epoch: 3/20... Step: 330... Loss: 2.0309... Val Loss: 2.0318\n",
      "Epoch: 3/20... Step: 340... Loss: 2.0618... Val Loss: 2.0110\n",
      "Epoch: 3/20... Step: 350... Loss: 2.0344... Val Loss: 2.0005\n",
      "Epoch: 3/20... Step: 360... Loss: 1.9785... Val Loss: 1.9772\n",
      "Epoch: 3/20... Step: 370... Loss: 1.9926... Val Loss: 1.9615\n",
      "Epoch: 3/20... Step: 380... Loss: 1.9831... Val Loss: 1.9477\n",
      "Epoch: 3/20... Step: 390... Loss: 1.9568... Val Loss: 1.9337\n",
      "Epoch: 3/20... Step: 400... Loss: 1.9284... Val Loss: 1.9220\n",
      "Epoch: 3/20... Step: 410... Loss: 1.9363... Val Loss: 1.9031\n",
      "Epoch: 4/20... Step: 420... Loss: 1.9184... Val Loss: 1.8925\n",
      "Epoch: 4/20... Step: 430... Loss: 1.9101... Val Loss: 1.8773\n",
      "Epoch: 4/20... Step: 440... Loss: 1.8895... Val Loss: 1.8680\n",
      "Epoch: 4/20... Step: 450... Loss: 1.8369... Val Loss: 1.8509\n",
      "Epoch: 4/20... Step: 460... Loss: 1.8208... Val Loss: 1.8391\n",
      "Epoch: 4/20... Step: 470... Loss: 1.8658... Val Loss: 1.8313\n",
      "Epoch: 4/20... Step: 480... Loss: 1.8439... Val Loss: 1.8194\n",
      "Epoch: 4/20... Step: 490... Loss: 1.8441... Val Loss: 1.8106\n",
      "Epoch: 4/20... Step: 500... Loss: 1.8405... Val Loss: 1.7970\n",
      "Epoch: 4/20... Step: 510... Loss: 1.8178... Val Loss: 1.7819\n",
      "Epoch: 4/20... Step: 520... Loss: 1.8340... Val Loss: 1.7712\n",
      "Epoch: 4/20... Step: 530... Loss: 1.7891... Val Loss: 1.7626\n",
      "Epoch: 4/20... Step: 540... Loss: 1.7478... Val Loss: 1.7540\n",
      "Epoch: 4/20... Step: 550... Loss: 1.7994... Val Loss: 1.7434\n",
      "Epoch: 5/20... Step: 560... Loss: 1.7573... Val Loss: 1.7362\n",
      "Epoch: 5/20... Step: 570... Loss: 1.7387... Val Loss: 1.7263\n",
      "Epoch: 5/20... Step: 580... Loss: 1.7378... Val Loss: 1.7178\n",
      "Epoch: 5/20... Step: 590... Loss: 1.7292... Val Loss: 1.7093\n",
      "Epoch: 5/20... Step: 600... Loss: 1.7084... Val Loss: 1.7021\n",
      "Epoch: 5/20... Step: 610... Loss: 1.7005... Val Loss: 1.6972\n",
      "Epoch: 5/20... Step: 620... Loss: 1.7071... Val Loss: 1.6886\n",
      "Epoch: 5/20... Step: 630... Loss: 1.7251... Val Loss: 1.6803\n",
      "Epoch: 5/20... Step: 640... Loss: 1.6888... Val Loss: 1.6696\n",
      "Epoch: 5/20... Step: 650... Loss: 1.6811... Val Loss: 1.6652\n",
      "Epoch: 5/20... Step: 660... Loss: 1.6493... Val Loss: 1.6567\n",
      "Epoch: 5/20... Step: 670... Loss: 1.6783... Val Loss: 1.6551\n",
      "Epoch: 5/20... Step: 680... Loss: 1.6781... Val Loss: 1.6470\n",
      "Epoch: 5/20... Step: 690... Loss: 1.6491... Val Loss: 1.6418\n",
      "Epoch: 6/20... Step: 700... Loss: 1.6461... Val Loss: 1.6373\n",
      "Epoch: 6/20... Step: 710... Loss: 1.6463... Val Loss: 1.6322\n",
      "Epoch: 6/20... Step: 720... Loss: 1.6276... Val Loss: 1.6232\n",
      "Epoch: 6/20... Step: 730... Loss: 1.6450... Val Loss: 1.6179\n",
      "Epoch: 6/20... Step: 740... Loss: 1.6082... Val Loss: 1.6114\n",
      "Epoch: 6/20... Step: 750... Loss: 1.5926... Val Loss: 1.6073\n",
      "Epoch: 6/20... Step: 760... Loss: 1.6324... Val Loss: 1.6017\n",
      "Epoch: 6/20... Step: 770... Loss: 1.6107... Val Loss: 1.6017\n",
      "Epoch: 6/20... Step: 780... Loss: 1.5900... Val Loss: 1.5938\n",
      "Epoch: 6/20... Step: 790... Loss: 1.5903... Val Loss: 1.5881\n",
      "Epoch: 6/20... Step: 800... Loss: 1.5999... Val Loss: 1.5801\n",
      "Epoch: 6/20... Step: 810... Loss: 1.5856... Val Loss: 1.5769\n",
      "Epoch: 6/20... Step: 820... Loss: 1.5461... Val Loss: 1.5694\n",
      "Epoch: 6/20... Step: 830... Loss: 1.5943... Val Loss: 1.5680\n",
      "Epoch: 7/20... Step: 840... Loss: 1.5533... Val Loss: 1.5688\n",
      "Epoch: 7/20... Step: 850... Loss: 1.5659... Val Loss: 1.5634\n",
      "Epoch: 7/20... Step: 860... Loss: 1.5507... Val Loss: 1.5532\n",
      "Epoch: 7/20... Step: 870... Loss: 1.5569... Val Loss: 1.5494\n",
      "Epoch: 7/20... Step: 880... Loss: 1.5631... Val Loss: 1.5498\n",
      "Epoch: 7/20... Step: 890... Loss: 1.5611... Val Loss: 1.5435\n",
      "Epoch: 7/20... Step: 900... Loss: 1.5400... Val Loss: 1.5420\n",
      "Epoch: 7/20... Step: 910... Loss: 1.5152... Val Loss: 1.5391\n",
      "Epoch: 7/20... Step: 920... Loss: 1.5311... Val Loss: 1.5320\n",
      "Epoch: 7/20... Step: 930... Loss: 1.5179... Val Loss: 1.5293\n",
      "Epoch: 7/20... Step: 940... Loss: 1.5197... Val Loss: 1.5266\n",
      "Epoch: 7/20... Step: 950... Loss: 1.5322... Val Loss: 1.5212\n",
      "Epoch: 7/20... Step: 960... Loss: 1.5325... Val Loss: 1.5144\n",
      "Epoch: 7/20... Step: 970... Loss: 1.5354... Val Loss: 1.5143\n",
      "Epoch: 8/20... Step: 980... Loss: 1.5154... Val Loss: 1.5132\n",
      "Epoch: 8/20... Step: 990... Loss: 1.5106... Val Loss: 1.5072\n",
      "Epoch: 8/20... Step: 1000... Loss: 1.5042... Val Loss: 1.5026\n",
      "Epoch: 8/20... Step: 1010... Loss: 1.5442... Val Loss: 1.4989\n",
      "Epoch: 8/20... Step: 1020... Loss: 1.5110... Val Loss: 1.4961\n",
      "Epoch: 8/20... Step: 1030... Loss: 1.4915... Val Loss: 1.4957\n",
      "Epoch: 8/20... Step: 1040... Loss: 1.4980... Val Loss: 1.4967\n",
      "Epoch: 8/20... Step: 1050... Loss: 1.4691... Val Loss: 1.4901\n",
      "Epoch: 8/20... Step: 1060... Loss: 1.4782... Val Loss: 1.4886\n",
      "Epoch: 8/20... Step: 1070... Loss: 1.4842... Val Loss: 1.4859\n",
      "Epoch: 8/20... Step: 1080... Loss: 1.4802... Val Loss: 1.4794\n",
      "Epoch: 8/20... Step: 1090... Loss: 1.4646... Val Loss: 1.4769\n",
      "Epoch: 8/20... Step: 1100... Loss: 1.4570... Val Loss: 1.4728\n",
      "Epoch: 8/20... Step: 1110... Loss: 1.4712... Val Loss: 1.4715\n",
      "Epoch: 9/20... Step: 1120... Loss: 1.4814... Val Loss: 1.4740\n",
      "Epoch: 9/20... Step: 1130... Loss: 1.4713... Val Loss: 1.4695\n",
      "Epoch: 9/20... Step: 1140... Loss: 1.4737... Val Loss: 1.4635\n",
      "Epoch: 9/20... Step: 1150... Loss: 1.4835... Val Loss: 1.4641\n",
      "Epoch: 9/20... Step: 1160... Loss: 1.4481... Val Loss: 1.4638\n",
      "Epoch: 9/20... Step: 1170... Loss: 1.4488... Val Loss: 1.4582\n",
      "Epoch: 9/20... Step: 1180... Loss: 1.4483... Val Loss: 1.4584\n",
      "Epoch: 9/20... Step: 1190... Loss: 1.4807... Val Loss: 1.4585\n",
      "Epoch: 9/20... Step: 1200... Loss: 1.4205... Val Loss: 1.4517\n",
      "Epoch: 9/20... Step: 1210... Loss: 1.4345... Val Loss: 1.4473\n",
      "Epoch: 9/20... Step: 1220... Loss: 1.4388... Val Loss: 1.4461\n",
      "Epoch: 9/20... Step: 1230... Loss: 1.4108... Val Loss: 1.4461\n",
      "Epoch: 9/20... Step: 1240... Loss: 1.4215... Val Loss: 1.4383\n",
      "Epoch: 9/20... Step: 1250... Loss: 1.4355... Val Loss: 1.4385\n",
      "Epoch: 10/20... Step: 1260... Loss: 1.4337... Val Loss: 1.4381\n",
      "Epoch: 10/20... Step: 1270... Loss: 1.4271... Val Loss: 1.4346\n",
      "Epoch: 10/20... Step: 1280... Loss: 1.4466... Val Loss: 1.4324\n",
      "Epoch: 10/20... Step: 1290... Loss: 1.4304... Val Loss: 1.4346\n",
      "Epoch: 10/20... Step: 1300... Loss: 1.4212... Val Loss: 1.4325\n",
      "Epoch: 10/20... Step: 1310... Loss: 1.4357... Val Loss: 1.4267\n",
      "Epoch: 10/20... Step: 1320... Loss: 1.3863... Val Loss: 1.4270\n",
      "Epoch: 10/20... Step: 1330... Loss: 1.4007... Val Loss: 1.4268\n",
      "Epoch: 10/20... Step: 1340... Loss: 1.3911... Val Loss: 1.4229\n",
      "Epoch: 10/20... Step: 1350... Loss: 1.3851... Val Loss: 1.4185\n",
      "Epoch: 10/20... Step: 1360... Loss: 1.3857... Val Loss: 1.4178\n",
      "Epoch: 10/20... Step: 1370... Loss: 1.3809... Val Loss: 1.4154\n",
      "Epoch: 10/20... Step: 1380... Loss: 1.4240... Val Loss: 1.4137\n",
      "Epoch: 10/20... Step: 1390... Loss: 1.4222... Val Loss: 1.4094\n",
      "Epoch: 11/20... Step: 1400... Loss: 1.4296... Val Loss: 1.4129\n",
      "Epoch: 11/20... Step: 1410... Loss: 1.4300... Val Loss: 1.4095\n",
      "Epoch: 11/20... Step: 1420... Loss: 1.4306... Val Loss: 1.4060\n",
      "Epoch: 11/20... Step: 1430... Loss: 1.3906... Val Loss: 1.4082\n",
      "Epoch: 11/20... Step: 1440... Loss: 1.4136... Val Loss: 1.4055\n",
      "Epoch: 11/20... Step: 1450... Loss: 1.3584... Val Loss: 1.4058\n",
      "Epoch: 11/20... Step: 1460... Loss: 1.3682... Val Loss: 1.4016\n",
      "Epoch: 11/20... Step: 1470... Loss: 1.3592... Val Loss: 1.4018\n",
      "Epoch: 11/20... Step: 1480... Loss: 1.3864... Val Loss: 1.3958\n",
      "Epoch: 11/20... Step: 1490... Loss: 1.3688... Val Loss: 1.3925\n",
      "Epoch: 11/20... Step: 1500... Loss: 1.3595... Val Loss: 1.3972\n",
      "Epoch: 11/20... Step: 1510... Loss: 1.3435... Val Loss: 1.3957\n",
      "Epoch: 11/20... Step: 1520... Loss: 1.3873... Val Loss: 1.3903\n",
      "Epoch: 12/20... Step: 1530... Loss: 1.4381... Val Loss: 1.3945\n",
      "Epoch: 12/20... Step: 1540... Loss: 1.3944... Val Loss: 1.3897\n",
      "Epoch: 12/20... Step: 1550... Loss: 1.3880... Val Loss: 1.3852\n",
      "Epoch: 12/20... Step: 1560... Loss: 1.3972... Val Loss: 1.3823\n",
      "Epoch: 12/20... Step: 1570... Loss: 1.3507... Val Loss: 1.3907\n",
      "Epoch: 12/20... Step: 1580... Loss: 1.3257... Val Loss: 1.3835\n",
      "Epoch: 12/20... Step: 1590... Loss: 1.3276... Val Loss: 1.3858\n",
      "Epoch: 12/20... Step: 1600... Loss: 1.3517... Val Loss: 1.3824\n",
      "Epoch: 12/20... Step: 1610... Loss: 1.3378... Val Loss: 1.3837\n",
      "Epoch: 12/20... Step: 1620... Loss: 1.3413... Val Loss: 1.3828\n",
      "Epoch: 12/20... Step: 1630... Loss: 1.3639... Val Loss: 1.3763\n",
      "Epoch: 12/20... Step: 1640... Loss: 1.3320... Val Loss: 1.3825\n",
      "Epoch: 12/20... Step: 1650... Loss: 1.3045... Val Loss: 1.3793\n",
      "Epoch: 12/20... Step: 1660... Loss: 1.3737... Val Loss: 1.3712\n",
      "Epoch: 13/20... Step: 1670... Loss: 1.3401... Val Loss: 1.3762\n",
      "Epoch: 13/20... Step: 1680... Loss: 1.3509... Val Loss: 1.3731\n",
      "Epoch: 13/20... Step: 1690... Loss: 1.3282... Val Loss: 1.3696\n",
      "Epoch: 13/20... Step: 1700... Loss: 1.3330... Val Loss: 1.3679\n",
      "Epoch: 13/20... Step: 1710... Loss: 1.3112... Val Loss: 1.3738\n",
      "Epoch: 13/20... Step: 1720... Loss: 1.3220... Val Loss: 1.3651\n",
      "Epoch: 13/20... Step: 1730... Loss: 1.3655... Val Loss: 1.3668\n",
      "Epoch: 13/20... Step: 1740... Loss: 1.3235... Val Loss: 1.3676\n",
      "Epoch: 13/20... Step: 1750... Loss: 1.2928... Val Loss: 1.3695\n",
      "Epoch: 13/20... Step: 1760... Loss: 1.3252... Val Loss: 1.3658\n",
      "Epoch: 13/20... Step: 1770... Loss: 1.3422... Val Loss: 1.3623\n",
      "Epoch: 13/20... Step: 1780... Loss: 1.3182... Val Loss: 1.3652\n",
      "Epoch: 13/20... Step: 1790... Loss: 1.2952... Val Loss: 1.3603\n",
      "Epoch: 13/20... Step: 1800... Loss: 1.3303... Val Loss: 1.3602\n",
      "Epoch: 14/20... Step: 1810... Loss: 1.3357... Val Loss: 1.3650\n",
      "Epoch: 14/20... Step: 1820... Loss: 1.3117... Val Loss: 1.3602\n",
      "Epoch: 14/20... Step: 1830... Loss: 1.3393... Val Loss: 1.3559\n",
      "Epoch: 14/20... Step: 1840... Loss: 1.2832... Val Loss: 1.3566\n",
      "Epoch: 14/20... Step: 1850... Loss: 1.2662... Val Loss: 1.3589\n",
      "Epoch: 14/20... Step: 1860... Loss: 1.3257... Val Loss: 1.3570\n",
      "Epoch: 14/20... Step: 1870... Loss: 1.3324... Val Loss: 1.3527\n",
      "Epoch: 14/20... Step: 1880... Loss: 1.3248... Val Loss: 1.3511\n",
      "Epoch: 14/20... Step: 1890... Loss: 1.3421... Val Loss: 1.3547\n",
      "Epoch: 14/20... Step: 1900... Loss: 1.3206... Val Loss: 1.3542\n",
      "Epoch: 14/20... Step: 1910... Loss: 1.3200... Val Loss: 1.3483\n",
      "Epoch: 14/20... Step: 1920... Loss: 1.3075... Val Loss: 1.3486\n",
      "Epoch: 14/20... Step: 1930... Loss: 1.2776... Val Loss: 1.3462\n",
      "Epoch: 14/20... Step: 1940... Loss: 1.3441... Val Loss: 1.3458\n",
      "Epoch: 15/20... Step: 1950... Loss: 1.2999... Val Loss: 1.3480\n",
      "Epoch: 15/20... Step: 1960... Loss: 1.3052... Val Loss: 1.3444\n",
      "Epoch: 15/20... Step: 1970... Loss: 1.3047... Val Loss: 1.3431\n",
      "Epoch: 15/20... Step: 1980... Loss: 1.2791... Val Loss: 1.3485\n",
      "Epoch: 15/20... Step: 1990... Loss: 1.2897... Val Loss: 1.3438\n",
      "Epoch: 15/20... Step: 2000... Loss: 1.2722... Val Loss: 1.3420\n",
      "Epoch: 15/20... Step: 2010... Loss: 1.2925... Val Loss: 1.3413\n",
      "Epoch: 15/20... Step: 2020... Loss: 1.3129... Val Loss: 1.3404\n",
      "Epoch: 15/20... Step: 2030... Loss: 1.2908... Val Loss: 1.3415\n",
      "Epoch: 15/20... Step: 2040... Loss: 1.3036... Val Loss: 1.3397\n",
      "Epoch: 15/20... Step: 2050... Loss: 1.2880... Val Loss: 1.3377\n",
      "Epoch: 15/20... Step: 2060... Loss: 1.2955... Val Loss: 1.3384\n",
      "Epoch: 15/20... Step: 2070... Loss: 1.3026... Val Loss: 1.3330\n",
      "Epoch: 15/20... Step: 2080... Loss: 1.2992... Val Loss: 1.3379\n",
      "Epoch: 16/20... Step: 2090... Loss: 1.3041... Val Loss: 1.3418\n",
      "Epoch: 16/20... Step: 2100... Loss: 1.2856... Val Loss: 1.3353\n",
      "Epoch: 16/20... Step: 2110... Loss: 1.2780... Val Loss: 1.3329\n",
      "Epoch: 16/20... Step: 2120... Loss: 1.2861... Val Loss: 1.3369\n",
      "Epoch: 16/20... Step: 2130... Loss: 1.2662... Val Loss: 1.3326\n",
      "Epoch: 16/20... Step: 2140... Loss: 1.2779... Val Loss: 1.3316\n",
      "Epoch: 16/20... Step: 2150... Loss: 1.2956... Val Loss: 1.3275\n",
      "Epoch: 16/20... Step: 2160... Loss: 1.2708... Val Loss: 1.3337\n",
      "Epoch: 16/20... Step: 2170... Loss: 1.2776... Val Loss: 1.3313\n",
      "Epoch: 16/20... Step: 2180... Loss: 1.2639... Val Loss: 1.3276\n",
      "Epoch: 16/20... Step: 2190... Loss: 1.2994... Val Loss: 1.3270\n",
      "Epoch: 16/20... Step: 2200... Loss: 1.2688... Val Loss: 1.3286\n",
      "Epoch: 16/20... Step: 2210... Loss: 1.2276... Val Loss: 1.3249\n",
      "Epoch: 16/20... Step: 2220... Loss: 1.2840... Val Loss: 1.3260\n",
      "Epoch: 17/20... Step: 2230... Loss: 1.2579... Val Loss: 1.3252\n",
      "Epoch: 17/20... Step: 2240... Loss: 1.2648... Val Loss: 1.3237\n",
      "Epoch: 17/20... Step: 2250... Loss: 1.2572... Val Loss: 1.3235\n",
      "Epoch: 17/20... Step: 2260... Loss: 1.2624... Val Loss: 1.3269\n",
      "Epoch: 17/20... Step: 2270... Loss: 1.2717... Val Loss: 1.3256\n",
      "Epoch: 17/20... Step: 2280... Loss: 1.2761... Val Loss: 1.3231\n",
      "Epoch: 17/20... Step: 2290... Loss: 1.2719... Val Loss: 1.3222\n",
      "Epoch: 17/20... Step: 2300... Loss: 1.2514... Val Loss: 1.3229\n",
      "Epoch: 17/20... Step: 2310... Loss: 1.2633... Val Loss: 1.3222\n",
      "Epoch: 17/20... Step: 2320... Loss: 1.2508... Val Loss: 1.3176\n",
      "Epoch: 17/20... Step: 2330... Loss: 1.2473... Val Loss: 1.3190\n",
      "Epoch: 17/20... Step: 2340... Loss: 1.2611... Val Loss: 1.3200\n",
      "Epoch: 17/20... Step: 2350... Loss: 1.2743... Val Loss: 1.3193\n",
      "Epoch: 17/20... Step: 2360... Loss: 1.2851... Val Loss: 1.3219\n",
      "Epoch: 18/20... Step: 2370... Loss: 1.2436... Val Loss: 1.3147\n",
      "Epoch: 18/20... Step: 2380... Loss: 1.2490... Val Loss: 1.3178\n",
      "Epoch: 18/20... Step: 2390... Loss: 1.2588... Val Loss: 1.3165\n",
      "Epoch: 18/20... Step: 2400... Loss: 1.2736... Val Loss: 1.3160\n",
      "Epoch: 18/20... Step: 2410... Loss: 1.2748... Val Loss: 1.3159\n",
      "Epoch: 18/20... Step: 2420... Loss: 1.2464... Val Loss: 1.3167\n",
      "Epoch: 18/20... Step: 2430... Loss: 1.2600... Val Loss: 1.3143\n",
      "Epoch: 18/20... Step: 2440... Loss: 1.2401... Val Loss: 1.3159\n",
      "Epoch: 18/20... Step: 2450... Loss: 1.2376... Val Loss: 1.3137\n",
      "Epoch: 18/20... Step: 2460... Loss: 1.2565... Val Loss: 1.3092\n",
      "Epoch: 18/20... Step: 2470... Loss: 1.2428... Val Loss: 1.3096\n",
      "Epoch: 18/20... Step: 2480... Loss: 1.2440... Val Loss: 1.3111\n",
      "Epoch: 18/20... Step: 2490... Loss: 1.2328... Val Loss: 1.3054\n",
      "Epoch: 18/20... Step: 2500... Loss: 1.2393... Val Loss: 1.3109\n",
      "Epoch: 19/20... Step: 2510... Loss: 1.2472... Val Loss: 1.3087\n",
      "Epoch: 19/20... Step: 2520... Loss: 1.2521... Val Loss: 1.3073\n",
      "Epoch: 19/20... Step: 2530... Loss: 1.2617... Val Loss: 1.3138\n",
      "Epoch: 19/20... Step: 2540... Loss: 1.2648... Val Loss: 1.3107\n",
      "Epoch: 19/20... Step: 2550... Loss: 1.2392... Val Loss: 1.3111\n",
      "Epoch: 19/20... Step: 2560... Loss: 1.2482... Val Loss: 1.3077\n",
      "Epoch: 19/20... Step: 2570... Loss: 1.2291... Val Loss: 1.3075\n",
      "Epoch: 19/20... Step: 2580... Loss: 1.2641... Val Loss: 1.3069\n",
      "Epoch: 19/20... Step: 2590... Loss: 1.2322... Val Loss: 1.3066\n",
      "Epoch: 19/20... Step: 2600... Loss: 1.2291... Val Loss: 1.3050\n",
      "Epoch: 19/20... Step: 2610... Loss: 1.2423... Val Loss: 1.3060\n",
      "Epoch: 19/20... Step: 2620... Loss: 1.2217... Val Loss: 1.3029\n",
      "Epoch: 19/20... Step: 2630... Loss: 1.2327... Val Loss: 1.2984\n",
      "Epoch: 19/20... Step: 2640... Loss: 1.2390... Val Loss: 1.3003\n",
      "Epoch: 20/20... Step: 2650... Loss: 1.2447... Val Loss: 1.3016\n",
      "Epoch: 20/20... Step: 2660... Loss: 1.2441... Val Loss: 1.3048\n",
      "Epoch: 20/20... Step: 2670... Loss: 1.2513... Val Loss: 1.3027\n",
      "Epoch: 20/20... Step: 2680... Loss: 1.2457... Val Loss: 1.3022\n",
      "Epoch: 20/20... Step: 2690... Loss: 1.2285... Val Loss: 1.3036\n",
      "Epoch: 20/20... Step: 2700... Loss: 1.2399... Val Loss: 1.3047\n",
      "Epoch: 20/20... Step: 2710... Loss: 1.2175... Val Loss: 1.3028\n",
      "Epoch: 20/20... Step: 2720... Loss: 1.2137... Val Loss: 1.3012\n",
      "Epoch: 20/20... Step: 2730... Loss: 1.2064... Val Loss: 1.3035\n",
      "Epoch: 20/20... Step: 2740... Loss: 1.2066... Val Loss: 1.3019\n",
      "Epoch: 20/20... Step: 2750... Loss: 1.2124... Val Loss: 1.3019\n",
      "Epoch: 20/20... Step: 2760... Loss: 1.2102... Val Loss: 1.2997\n",
      "Epoch: 20/20... Step: 2770... Loss: 1.2481... Val Loss: 1.2967\n",
      "Epoch: 20/20... Step: 2780... Loss: 1.2754... Val Loss: 1.2982\n"
     ]
    }
   ],
   "source": [
    "batch_size=128 \n",
    "seq_length=100\n",
    "n_epochs=20  # start small if you are just testing initial behavior\n",
    "\n",
    "#Train the model\n",
    "train(net,encoded,epochs=n_epochs,batch_size=batch_size,seq_length=seq_length,lr=0.001,print_every=10)"
   ]
  },
  {
   "cell_type": "markdown",
   "metadata": {
    "colab_type": "text",
    "id": "hhAyTpVgdUtk"
   },
   "source": [
    "##### Getting the best model\n",
    "\n",
    "To set your hyperparameters to get the best performance, you'll want to watch the training and validation losses. If your training loss is much lower than the validation loss, you're overfitting. Increase regularization (more dropout) or use a smaller network. If the training and validation losses are close, you're underfitting so you can increase the size of the network."
   ]
  },
  {
   "cell_type": "markdown",
   "metadata": {
    "colab_type": "text",
    "id": "kE8FVhzhdUtl"
   },
   "source": [
    "###### Hyperparameters\n",
    "\n",
    "Here are the hyperparameters for the network.\n",
    "\n",
    "In defining the model:\n",
    "* `n_hidden` - The number of units in the hidden layers.\n",
    "* `n_layers` - Number of hidden LSTM layers to use.\n",
    "\n",
    "We assume that dropout probability and learning rate will be kept at the default, in this example.\n",
    "\n",
    "And in training:\n",
    "* `batch_size` - Number of sequences running through the network in one pass.\n",
    "* `seq_length` - Number of characters in the sequence the network is trained on. Larger is better typically, the network will learn more long range dependencies. But it takes longer to train. 100 is typically a good number here.\n",
    "* `lr` - Learning rate for training\n",
    "\n",
    "Here's some good advice from Andrej Karpathy on training the network. I'm going to copy it in here for your benefit, but also link to [where it originally came from](https://github.com/karpathy/char-rnn#tips-and-tricks).\n",
    "\n",
    "> ## Tips and Tricks\n",
    "\n",
    ">### Monitoring Validation Loss vs. Training Loss\n",
    ">If you're somewhat new to Machine Learning or Neural Networks it can take a bit of expertise to get good models. The most important quantity to keep track of is the difference between your training loss (printed during training) and the validation loss (printed once in a while when the RNN is run on the validation data (by default every 1000 iterations)). In particular:\n",
    "\n",
    "> - If your training loss is much lower than validation loss then this means the network might be **overfitting**. Solutions to this are to decrease your network size, or to increase dropout. For example you could try dropout of 0.5 and so on.\n",
    "> - If your training/validation loss are about equal then your model is **underfitting**. Increase the size of your model (either number of layers or the raw number of neurons per layer)\n",
    "\n",
    "> ### Approximate number of parameters\n",
    "\n",
    "> The two most important parameters that control the model are `n_hidden` and `n_layers`. I would advise that you always use `n_layers` of either 2/3. The `n_hidden` can be adjusted based on how much data you have. The two important quantities to keep track of here are:\n",
    "\n",
    "> - The number of parameters in your model. This is printed when you start training.\n",
    "> - The size of your dataset. 1MB file is approximately 1 million characters.\n",
    "\n",
    ">These two should be about the same order of magnitude. It's a little tricky to tell. Here are some examples:\n",
    "\n",
    "> - I have a 100MB dataset and I'm using the default parameter settings (which currently print 150K parameters). My data size is significantly larger (100 mil >> 0.15 mil), so I expect to heavily underfit. I am thinking I can comfortably afford to make `n_hidden` larger.\n",
    "> - I have a 10MB dataset and running a 10 million parameter model. I'm slightly nervous and I'm carefully monitoring my validation loss. If it's larger than my training loss then I may want to try to increase dropout a bit and see if that helps the validation loss.\n",
    "\n",
    "> ### Best models strategy\n",
    "\n",
    ">The winning strategy to obtaining very good models (if you have the compute time) is to always err on making the network larger (as large as you're willing to wait for it to compute) and then try different dropout values (between 0,1). Whatever model has the best validation performance (the loss, written in the checkpoint filename, low is good) is the one you should use in the end.\n",
    "\n",
    ">It is very common in deep learning to run many different models with many different hyperparameter settings, and in the end take whatever checkpoint gave the best validation performance.\n",
    "\n",
    ">By the way, the size of your training and validation splits are also parameters. Make sure you have a decent amount of data in your validation set or otherwise the validation performance will be noisy and not very informative."
   ]
  },
  {
   "cell_type": "markdown",
   "metadata": {
    "colab_type": "text",
    "id": "c-qcVA7OdUtm"
   },
   "source": [
    "###### Checkpoint\n",
    "\n",
    "After training, we'll save the model so we can load it again later if we need too. Here I'm saving the parameters needed to create the same architecture, the hidden layer hyperparameters and the text characters."
   ]
  },
  {
   "cell_type": "code",
   "execution_count": 0,
   "metadata": {
    "colab": {},
    "colab_type": "code",
    "id": "IzZXvEx-dUtn"
   },
   "outputs": [],
   "source": [
    "#Change the name, for saving multiple files\n",
    "model_name='rnn_x_epoch.net'\n",
    "\n",
    "checkpoint={'n_hidden':net.n_hidden,'n_layers':net.n_layers,'state_dict':net.state_dict(),'tokens':net.chars}\n",
    "\n",
    "with open(model_name,'wb') as f:\n",
    "    torch.save(checkpoint,f)"
   ]
  },
  {
   "cell_type": "markdown",
   "metadata": {
    "colab_type": "text",
    "id": "ogXjo5n2dUtq"
   },
   "source": [
    "###### Making Predictions\n",
    "\n",
    "Now that the model is trained, we'll want to sample from it and make predictions about next characters! To sample, we pass in a character and have the network predict the next character. Then we take that character, pass it back in, and get another predicted character. Just keep doing this and you'll generate a bunch of text!\n",
    "\n",
    "###### A note on the `predict`  function\n",
    "\n",
    "The output of our RNN is from a fully-connected layer and it outputs a **distribution of next-character scores**.\n",
    "\n",
    "> To actually get the next character, we apply a softmax function, which gives us a *probability* distribution that we can then sample to predict the next character.\n",
    "\n",
    "###### Top K sampling\n",
    "\n",
    "Our predictions come from a categorical probability distribution over all the possible characters. We can make the sample text and make it more reasonable to handle (with less variables) by only considering some $K$ most probable characters. This will prevent the network from giving us completely absurd characters while allowing it to introduce some noise and randomness into the sampled text. Read more about [topk, here](https://pytorch.org/docs/stable/torch.html#torch.topk)."
   ]
  },
  {
   "cell_type": "code",
   "execution_count": 0,
   "metadata": {
    "colab": {},
    "colab_type": "code",
    "id": "9rDIUug_dUtr"
   },
   "outputs": [],
   "source": [
    "def predict(net,char,h=None,top_k=None):\n",
    "        ''' Given a character, predict the next character.\n",
    "            Returns the predicted character and the hidden state.\n",
    "        '''\n",
    "        #Tensor inputs\n",
    "        x=np.array([[net.char2int[char]]])\n",
    "        x=one_hot_encode(x,len(net.chars))\n",
    "        inputs=torch.from_numpy(x)\n",
    "        \n",
    "        if(train_on_gpu):\n",
    "            inputs=inputs.cuda()\n",
    "        \n",
    "        #Detach hidden state from history\n",
    "        h=tuple([each.data for each in h])\n",
    "        #Get the output of the model\n",
    "        out,h=net(inputs,h)\n",
    "\n",
    "        #Get the character probabilities\n",
    "        p=F.softmax(out,dim=1).data\n",
    "        if(train_on_gpu):\n",
    "            p=p.cpu() # move to cpu\n",
    "        \n",
    "        #Get top characters\n",
    "        if top_k is None:\n",
    "            top_ch=np.arange(len(net.chars))\n",
    "        else:\n",
    "            p,top_ch=p.topk(top_k)\n",
    "            top_ch=top_ch.numpy().squeeze()\n",
    "        \n",
    "        #Select the likely next character with some element of randomness\n",
    "        p=p.numpy().squeeze()\n",
    "        char=np.random.choice(top_ch,p=p/p.sum())\n",
    "        \n",
    "        #Return the encoded value of the predicted char and the hidden state\n",
    "        return net.int2char[char],h"
   ]
  },
  {
   "cell_type": "markdown",
   "metadata": {
    "colab_type": "text",
    "id": "qpuCONBpdUtw"
   },
   "source": [
    "###### Priming and generating text \n",
    "\n",
    "Typically We'll want to prime the network so you can build up a hidden state. Otherwise the network will start out generating characters at random. In general the first bunch of characters will be a little rough since it hasn't built up a long history of characters to predict from."
   ]
  },
  {
   "cell_type": "code",
   "execution_count": 0,
   "metadata": {
    "colab": {},
    "colab_type": "code",
    "id": "wiwp6me9dUtx"
   },
   "outputs": [],
   "source": [
    "def sample(net,size,prime='The',top_k=None):\n",
    "        \n",
    "    if(train_on_gpu):\n",
    "        net.cuda()\n",
    "    else:\n",
    "        net.cpu()\n",
    "    \n",
    "    net.eval() # eval mode\n",
    "    \n",
    "    #First off,run through the prime characters\n",
    "    chars=[ch for ch in prime]\n",
    "    h=net.init_hidden(1)\n",
    "    for ch in prime:\n",
    "        char,h=predict(net,ch,h,top_k=top_k)\n",
    "\n",
    "    chars.append(char)\n",
    "    \n",
    "    #Now pass in the previous character and get a new one\n",
    "    for ii in range(size):\n",
    "        char,h=predict(net,chars[-1],h,top_k=top_k)\n",
    "        chars.append(char)\n",
    "\n",
    "    return ''.join(chars)"
   ]
  },
  {
   "cell_type": "code",
   "execution_count": 24,
   "metadata": {
    "colab": {
     "base_uri": "https://localhost:8080/",
     "height": 258
    },
    "colab_type": "code",
    "id": "Yht71L3UdUt2",
    "outputId": "47eed3ae-7ef5-4b3c-a999-174e8e820abd"
   },
   "outputs": [
    {
     "name": "stdout",
     "output_type": "stream",
     "text": [
      "Anna Alexey Alexandrovitch arrived, he was asking that\n",
      "all his heart, and she was not in some\n",
      "singlance. But those had been doing the samp subster, he would see all\n",
      "these senses three womon where he was anyone, and went turning at her, shirts of the profeed common, with his face at the time to showed the provorce\n",
      "and standing the princess, and he saw his breath, and at the carriage too, the same at almost interests, which will stepped to a subject. But he felt that it were to say in the party that steps were friendly, and with the side\n",
      "of his whole passing of a strange. The same side of his\n",
      "house. \"I'll be saying if you should show? If the secretary to her,\" said Stepan Arkadyevitch. \"I am not simply in this morning.\"\n",
      "\n",
      "\"I am glad in his heart; but I've seen it, and I don't conceal me for the candlame, that there's so son to\n",
      "the conversation of the means. Three\n",
      "morning I shall come better he cannot be said,\" said Levin, with her finseral as it had not to go to the right along her.\n",
      "\n",
      "\"Well, we\n"
     ]
    }
   ],
   "source": [
    "print(sample(net,1000,prime='Anna',top_k=5))"
   ]
  },
  {
   "cell_type": "markdown",
   "metadata": {
    "colab_type": "text",
    "id": "APX6QZWtdUt5"
   },
   "source": [
    "###### Loading a checkpoint"
   ]
  },
  {
   "cell_type": "code",
   "execution_count": 25,
   "metadata": {
    "colab": {
     "base_uri": "https://localhost:8080/",
     "height": 34
    },
    "colab_type": "code",
    "id": "pMSrOwfFdUt6",
    "outputId": "563f4a62-4389-4007-b4b4-576d86051b8b"
   },
   "outputs": [
    {
     "data": {
      "text/plain": [
       "<All keys matched successfully>"
      ]
     },
     "execution_count": 25,
     "metadata": {
      "tags": []
     },
     "output_type": "execute_result"
    }
   ],
   "source": [
    "#Here we have loaded in a model that trained over 20 epochs `rnn_20_epoch.net`\n",
    "with open('rnn_x_epoch.net','rb') as f:\n",
    "    checkpoint=torch.load(f)\n",
    "    \n",
    "loaded=CharRNN(checkpoint['tokens'],n_hidden=checkpoint['n_hidden'],n_layers=checkpoint['n_layers'])\n",
    "loaded.load_state_dict(checkpoint['state_dict'])"
   ]
  },
  {
   "cell_type": "code",
   "execution_count": 26,
   "metadata": {
    "colab": {
     "base_uri": "https://localhost:8080/",
     "height": 836
    },
    "colab_type": "code",
    "id": "NBqUqegDdUt9",
    "outputId": "abc13b73-8a59-427c-fa98-dda4317541a8"
   },
   "outputs": [
    {
     "name": "stdout",
     "output_type": "stream",
     "text": [
      "And Levin said in the stock. He saw that an earth and the\n",
      "party had always tried to have her thoughts of, and taking into this carriage. \"I do in spring an invited than she's such a lawyer, and I would say that you\n",
      "have nothing to be some and that\n",
      "you're been in the stall,\" said Stepan Arkadyevitch to himself, smiling.\n",
      "\n",
      "\"You're there is time to step to that, I\n",
      "could soul see\n",
      "him to the little\n",
      "articularistic\n",
      "life.\" And though he\n",
      "ceated to be sure of him.\n",
      "\n",
      "\"What's shared to\n",
      "be a little bust at the society?\"\n",
      "\n",
      "\"Yes, I was anyone, that's them when she would be not to be saying.\"\n",
      "\n",
      "\"Well, you didn't. I were to say, but I have thought of\n",
      "you.\"\n",
      "\n",
      "\"Well, then, and was in a colmerty of state.\"\n",
      "\n",
      "She said that they could never have asked her but it, and that it walked always attacking that the\n",
      "mushroum of his boy time as\n",
      "it were seen and some sense. She was not in a such a\n",
      "people, and she heard a\n",
      "principal answer. And was the commission and her, who was at our freedom of him would be thinking, and tratter to his successful saying, and shining her head, and tried to get a stranger of some peasants,\n",
      "and she flung in and said surpessed.\n",
      "\n",
      "\"I am so difficult that I'll say it with him,\" the countes then was at\n",
      "the summer which he had been standing too them, as though already had already considered him, but this was so matters, but she\n",
      "could not take about\n",
      "it.\n",
      "\n",
      "\"I suppose I would be timided. Why is it it there's nothing in her all the\n",
      "can and be sent to tall it,\" she added hears. Anna saw nothing and at a place--what\n",
      "in her soul, went into the crowd, and always asked all the stairs.\n",
      "\n",
      "\"What she was?\" said Sergey\n",
      "Ivanovitch, and he went out of\n",
      "the same sister. He had to be saying a lust\n",
      "and teacher were some subject that he was the country which steps in that touching some word and to their\n",
      "signifes of her, and she sat for sure the streng and taken, was said in the well-caperal people trying\n",
      "to tend it\n",
      "off. \"And you can\n",
      "be so superforing? And I have not since her, and I should have seen it\n",
      "all. I am not\n"
     ]
    }
   ],
   "source": [
    "#Sample using a loaded model\n",
    "print(sample(loaded,2000,top_k=5,prime=\"And Levin said\"))"
   ]
  },
  {
   "cell_type": "code",
   "execution_count": 0,
   "metadata": {
    "colab": {},
    "colab_type": "code",
    "id": "hwneSA1pgpDr"
   },
   "outputs": [],
   "source": []
  }
 ],
 "metadata": {
  "accelerator": "GPU",
  "colab": {
   "include_colab_link": true,
   "name": "Character Level RNN.ipynb",
   "provenance": []
  },
  "kernelspec": {
   "display_name": "Python 3",
   "language": "python",
   "name": "python3"
  },
  "language_info": {
   "codemirror_mode": {
    "name": "ipython",
    "version": 3
   },
   "file_extension": ".py",
   "mimetype": "text/x-python",
   "name": "python",
   "nbconvert_exporter": "python",
   "pygments_lexer": "ipython3",
   "version": "3.7.4"
  }
 },
 "nbformat": 4,
 "nbformat_minor": 1
}
