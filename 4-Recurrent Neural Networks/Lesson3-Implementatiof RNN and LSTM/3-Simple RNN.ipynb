{
 "cells": [
  {
   "cell_type": "markdown",
   "metadata": {},
   "source": [
    "#### Simple RNN\n",
    "\n",
    "We're going to train a simple RNN to do **time-series prediction**. Given some set of input data, it should be able to generate a prediction for the next time step!\n",
    "\n",
    "> * First, we'll create our data\n",
    "* Then, define an RNN in PyTorch\n",
    "* Finally, we'll train our network and see how it performs"
   ]
  },
  {
   "cell_type": "code",
   "execution_count": 1,
   "metadata": {},
   "outputs": [],
   "source": [
    "#Import resources\n",
    "import torch\n",
    "import numpy as np\n",
    "from torch import nn\n",
    "import matplotlib.pyplot as plt\n",
    "%matplotlib inline"
   ]
  },
  {
   "cell_type": "code",
   "execution_count": 2,
   "metadata": {},
   "outputs": [
    {
     "data": {
      "image/png": "[encoded data removed]",
      "text/plain": [
       "<Figure size 576x360 with 1 Axes>"
      ]
     },
     "metadata": {
      "needs_background": "light"
     },
     "output_type": "display_data"
    }
   ],
   "source": [
    "#Create data\n",
    "plt.figure(figsize=(8,5))\n",
    "#DEfine how many times steps/data pts are in one batch of data\n",
    "seq_length=20\n",
    "#Generate evenly spaced data pts\n",
    "time_steps=np.linspace(0,np.pi,seq_length+1)\n",
    "data=np.sin(time_steps)\n",
    "data.resize((seq_length+1,1))\n",
    "#All except last pice of data\n",
    "y=data[:-1]\n",
    "#All excepte first\n",
    "x=data[1:]\n",
    "#Show  x data\n",
    "plt.plot(time_steps[1:],x,'r.',label='input,x')\n",
    "#Show y data\n",
    "plt.plot(time_steps[1:],y,'b.',label='target,y')\n",
    "plt.legend(loc='best')\n",
    "plt.show()"
   ]
  },
  {
   "cell_type": "markdown",
   "metadata": {},
   "source": [
    "###### Define the RNN\n",
    "\n",
    "We define an RNN in PyTorch. We'll use `nn.RNN` to create an RNN layer, then we'll add a last, fully-connected layer to get the output size that we want. An RNN takes in a number of parameters:\n",
    "* **input_size** - the size of the input\n",
    "* **hidden_dim** - the number of features in the RNN output and in the hidden state\n",
    "* **n_layers** - the number of layers that make up the RNN, typically 1-3; greater than 1 means that you'll create a stacked RNN\n",
    "* **batch_first** - whether or not the input/output of the RNN will have the batch_size as the first dimension (batch_size, seq_length, hidden_dim)\n",
    "\n",
    "Take a look at the [RNN documentation](https://pytorch.org/docs/stable/nn.html#rnn) to read more about recurrent layers."
   ]
  },
  {
   "cell_type": "code",
   "execution_count": 3,
   "metadata": {},
   "outputs": [],
   "source": [
    "class RNN(nn.Module):\n",
    "    def __init__(self,input_size,output_size,hidden_dim,n_layers):\n",
    "        super(RNN,self).__init__()\n",
    "        \n",
    "        self.hidden_dim=hidden_dim\n",
    "        \n",
    "        #Define RNN with parameters(batch_first means first dim of input & output will be batch_size)\n",
    "        self.rnn=nn.RNN(input_size,hidden_dim,n_layers,batch_first=True)\n",
    "        \n",
    "        #Define last,fully-connected layer\n",
    "        self.fc=nn.Linear(hidden_dim,output_size)\n",
    "    \n",
    "    def forward(self,x,hidden):\n",
    "        #x(batch_size,seq_lenght,input_size)\n",
    "        #Hidden(n_layers,batch_size,hidden_size)\n",
    "        #r_out(batch_+size,time_step,hidden_size)\n",
    "        batch_size=x.size(0)\n",
    "        \n",
    "        #Get RNN outputs\n",
    "        r_out,hidden=self.rnn(x,hidden)\n",
    "        \n",
    "        #Shape output to be (batch_size*seq_lenght,hidden_dim)\n",
    "        r_out=r_out.view(-1,self.hidden_dim)\n",
    "        \n",
    "        #Get final output\n",
    "        output=self.fc(r_out)\n",
    "        \n",
    "        return output,hidden"
   ]
  },
  {
   "cell_type": "markdown",
   "metadata": {},
   "source": [
    "###### Check the input and output dimensions"
   ]
  },
  {
   "cell_type": "code",
   "execution_count": 4,
   "metadata": {},
   "outputs": [
    {
     "name": "stdout",
     "output_type": "stream",
     "text": [
      "input size:  torch.Size([1, 20, 1])\n",
      "Output size:  torch.Size([20, 1])\n",
      "Hidden state size:  torch.Size([2, 1, 10])\n"
     ]
    }
   ],
   "source": [
    "#Test dimension as expected\n",
    "test_rnn=RNN(input_size=1,output_size=1,hidden_dim=10,n_layers=2)\n",
    "#Generate evenly spaced, test data pts\n",
    "time_steps=np.linspace(0,np.pi,seq_length)\n",
    "data=np.sin(time_steps)\n",
    "data.resize((seq_length,1))\n",
    "#Give batch_size of 1 as first dimension\n",
    "test_input=torch.Tensor(data).unsqueeze(0)\n",
    "print('input size: ',test_input.size())\n",
    "#Test out rnn size\n",
    "test_out,test_h=test_rnn(test_input,None)\n",
    "print('Output size: ',test_out.size())\n",
    "print('Hidden state size: ',test_h.size())"
   ]
  },
  {
   "cell_type": "markdown",
   "metadata": {},
   "source": [
    "###### Training the RNN"
   ]
  },
  {
   "cell_type": "code",
   "execution_count": 5,
   "metadata": {},
   "outputs": [
    {
     "name": "stdout",
     "output_type": "stream",
     "text": [
      "RNN(\n",
      "  (rnn): RNN(1, 32, batch_first=True)\n",
      "  (fc): Linear(in_features=32, out_features=1, bias=True)\n",
      ")\n"
     ]
    }
   ],
   "source": [
    "#DEfine hyperparameters\n",
    "input_size=1 \n",
    "output_size=1\n",
    "hidden_dim=32\n",
    "n_layers=1\n",
    "#Instance RNN\n",
    "rnn=RNN(input_size, output_size, hidden_dim, n_layers)\n",
    "print(rnn)"
   ]
  },
  {
   "cell_type": "markdown",
   "metadata": {},
   "source": [
    "###### Loss and Optimization\n",
    "\n",
    "This is a regression problem: can we train an RNN to accurately predict the next data point, given a current data point?\n",
    "\n",
    ">* The data points are coordinate values, so to compare a predicted and ground_truth point, we'll use a regression loss: the mean squared error.\n",
    "* It's typical to use an Adam optimizer for recurrent models."
   ]
  },
  {
   "cell_type": "code",
   "execution_count": 6,
   "metadata": {},
   "outputs": [],
   "source": [
    "#MSE loss\n",
    "criterion=nn.MSELoss()\n",
    "#Adam optimizer with learning rate 0.01\n",
    "optimizer=torch.optim.Adam(rnn.parameters(),lr=0.01)"
   ]
  },
  {
   "cell_type": "markdown",
   "metadata": {},
   "source": [
    "###### Defining the training function\n",
    "\n",
    "This function takes in an rnn, a number of steps to train for, and returns a trained rnn. This function is also responsible for displaying the loss and the predictions, every so often.\n",
    "\n",
    "###### Hidden State\n",
    "\n",
    "Pay close attention to the hidden state, here:\n",
    "* Before looping over a batch of training data, the hidden state is initialized\n",
    "* After a new hidden state is generated by the rnn, we get the latest hidden state, and use that as input to the rnn for the following steps"
   ]
  },
  {
   "cell_type": "code",
   "execution_count": 7,
   "metadata": {
    "scrolled": true
   },
   "outputs": [],
   "source": [
    "#TRain RNN\n",
    "def train(rnn,n_steps,print_every):\n",
    "    #Define hidden state\n",
    "    hidden=None\n",
    "    for batch_i,step in enumerate(range(n_steps)):\n",
    "        #Define training data\n",
    "        time_steps=np.linspace(step*np.pi,(step+1)*np.pi,seq_length+1)\n",
    "        data=np.sin(time_steps)\n",
    "        data.resize((seq_length+1,1))\n",
    "        x=data[:-1]\n",
    "        y=data[1:]\n",
    "        #Conver data to Tensors\n",
    "        x_tensor=torch.Tensor(x).unsqueeze(0)\n",
    "        y_tensor=torch.Tensor(y)\n",
    "        #Output from run rnn\n",
    "        prediction,hidden=rnn(x_tensor,hidden)\n",
    "        #Representing Memory,making new var for hiddden &detach hidden state from its history, So no need backprogagate throug histiry\n",
    "        hidden=hidden.data\n",
    "        #Calculate loss\n",
    "        loss=criterion(prediction,y_tensor)\n",
    "        #Zero gradienrs\n",
    "        optimizer.zero_grad()\n",
    "        #Perform backprop & predictions\n",
    "        loss.backward()\n",
    "        optimizer.step()\n",
    "        \n",
    "        #Display loss & predictions\n",
    "        if batch_i%print_every==0:\n",
    "            print('Loss',loss.item())\n",
    "            plt.plot(time_steps[1:],x,'r.') # input\n",
    "            plt.plot(time_steps[1:],prediction.data.numpy().flatten(),'b.') # predictions\n",
    "            plt.show()\n",
    "            \n",
    "    return rnn"
   ]
  },
  {
   "cell_type": "code",
   "execution_count": 8,
   "metadata": {},
   "outputs": [
    {
     "name": "stdout",
     "output_type": "stream",
     "text": [
      "Loss 0.25670096278190613\n"
     ]
    },
    {
     "data": {
      "image/png": "[encoded data removed]",
      "text/plain": [
       "<Figure size 432x288 with 1 Axes>"
      ]
     },
     "metadata": {
      "needs_background": "light"
     },
     "output_type": "display_data"
    },
    {
     "name": "stdout",
     "output_type": "stream",
     "text": [
      "Loss 0.03250117599964142\n"
     ]
    },
    {
     "data": {
      "image/png": "[encoded data removed]",
      "text/plain": [
       "<Figure size 432x288 with 1 Axes>"
      ]
     },
     "metadata": {
      "needs_background": "light"
     },
     "output_type": "display_data"
    },
    {
     "name": "stdout",
     "output_type": "stream",
     "text": [
      "Loss 0.0008951702038757503\n"
     ]
    },
    {
     "data": {
      "image/png": "[encoded data removed]",
      "text/plain": [
       "<Figure size 432x288 with 1 Axes>"
      ]
     },
     "metadata": {
      "needs_background": "light"
     },
     "output_type": "display_data"
    },
    {
     "name": "stdout",
     "output_type": "stream",
     "text": [
      "Loss 0.000688716652803123\n"
     ]
    },
    {
     "data": {
      "image/png": "[encoded data removed]",
      "text/plain": [
       "<Figure size 432x288 with 1 Axes>"
      ]
     },
     "metadata": {
      "needs_background": "light"
     },
     "output_type": "display_data"
    },
    {
     "name": "stdout",
     "output_type": "stream",
     "text": [
      "Loss 0.0003866695915348828\n"
     ]
    },
    {
     "data": {
      "image/png": "[encoded data removed]",
      "text/plain": [
       "<Figure size 432x288 with 1 Axes>"
      ]
     },
     "metadata": {
      "needs_background": "light"
     },
     "output_type": "display_data"
    }
   ],
   "source": [
    "#Train rnn & monitor results\n",
    "n_steps=75\n",
    "print_every=15\n",
    "trained_rnn=train(rnn,n_steps,print_every)"
   ]
  },
  {
   "cell_type": "code",
   "execution_count": null,
   "metadata": {},
   "outputs": [],
   "source": []
  }
 ],
 "metadata": {
  "kernelspec": {
   "display_name": "Python 3",
   "language": "python",
   "name": "python3"
  },
  "language_info": {
   "codemirror_mode": {
    "name": "ipython",
    "version": 3
   },
   "file_extension": ".py",
   "mimetype": "text/x-python",
   "name": "python",
   "nbconvert_exporter": "python",
   "pygments_lexer": "ipython3",
   "version": "3.7.4"
  }
 },
 "nbformat": 4,
 "nbformat_minor": 2
}
